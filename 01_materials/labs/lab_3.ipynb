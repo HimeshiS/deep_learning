{
 "cells": [
  {
   "cell_type": "markdown",
   "metadata": {},
   "source": [
    "# Recommender Systems\n",
    "\n",
    "In this lab, we'll be using Keras to build a recommender system. We'll be using the MovieLens dataset, a common benchmark dataset for recommender systems. \n",
    "\n",
    "MovieLens is a web-based recommender system and virtual community that recommends movies for its users to watch, based on their film preferences using collaborative filtering of members' movie ratings and movie reviews. You can check out the website here: https://movielens.org/\n",
    "\n",
    "We will download a subset of the dataset containing 100k ratings. There are tens of millions of ratings in the full dataset, spanning hundreds of thousands of users and movies. The subset we'll be using is a good example to demonstrate the concepts in this lab."
   ]
  },
  {
   "cell_type": "code",
   "execution_count": 1,
   "metadata": {},
   "outputs": [],
   "source": [
    "%matplotlib inline\n",
    "import matplotlib.pyplot as plt\n",
    "import numpy as np\n",
    "from zipfile import ZipFile\n",
    "from urllib.request import urlretrieve\n",
    "from pathlib import Path\n",
    "\n",
    "ML_100K_URL = \"http://files.grouplens.org/datasets/movielens/ml-100k.zip\"\n",
    "ML_100K_FILENAME = Path(\"ml-100k.zip\")\n",
    "ML_100K_FOLDER = Path(\"ml-100k\")\n",
    "\n",
    "if not ML_100K_FOLDER.exists():\n",
    "    if not ML_100K_FILENAME.exists():\n",
    "        urlretrieve(ML_100K_URL, ML_100K_FILENAME.name)\n",
    "    with ZipFile(ML_100K_FILENAME.name) as zip:\n",
    "        zip.extractall()"
   ]
  },
  {
   "cell_type": "markdown",
   "metadata": {},
   "source": [
    "The goal of MovieLens is to enable models to predict the rating a user would give to a movie they have not yet watched. This is a classic example of a recommendation system. The dataset is huge, and contains many parts giving information about the movies, the users, and the ratings. To begin with, we will look at the ratings file. Each line in the ratings file (u.data) is formatted as:\n",
    "\n",
    "`user_id, item_id, rating, timestamp`\n",
    "\n",
    "Which tells us a single user's rating of a single movie.\n",
    "\n",
    "We will start by loading the ratings data into a pandas dataframe and then take a look at the first few rows. If you haven't used Pandas before, it's an extremely powerful library for dealing with tabular data. You can think of it as a Python version of Excel."
   ]
  },
  {
   "cell_type": "code",
   "execution_count": 2,
   "metadata": {},
   "outputs": [
    {
     "data": {
      "text/html": [
       "<div>\n",
       "<style scoped>\n",
       "    .dataframe tbody tr th:only-of-type {\n",
       "        vertical-align: middle;\n",
       "    }\n",
       "\n",
       "    .dataframe tbody tr th {\n",
       "        vertical-align: top;\n",
       "    }\n",
       "\n",
       "    .dataframe thead th {\n",
       "        text-align: right;\n",
       "    }\n",
       "</style>\n",
       "<table border=\"1\" class=\"dataframe\">\n",
       "  <thead>\n",
       "    <tr style=\"text-align: right;\">\n",
       "      <th></th>\n",
       "      <th>user_id</th>\n",
       "      <th>item_id</th>\n",
       "      <th>rating</th>\n",
       "      <th>timestamp</th>\n",
       "    </tr>\n",
       "  </thead>\n",
       "  <tbody>\n",
       "    <tr>\n",
       "      <th>0</th>\n",
       "      <td>196</td>\n",
       "      <td>242</td>\n",
       "      <td>3</td>\n",
       "      <td>881250949</td>\n",
       "    </tr>\n",
       "    <tr>\n",
       "      <th>1</th>\n",
       "      <td>186</td>\n",
       "      <td>302</td>\n",
       "      <td>3</td>\n",
       "      <td>891717742</td>\n",
       "    </tr>\n",
       "    <tr>\n",
       "      <th>2</th>\n",
       "      <td>22</td>\n",
       "      <td>377</td>\n",
       "      <td>1</td>\n",
       "      <td>878887116</td>\n",
       "    </tr>\n",
       "    <tr>\n",
       "      <th>3</th>\n",
       "      <td>244</td>\n",
       "      <td>51</td>\n",
       "      <td>2</td>\n",
       "      <td>880606923</td>\n",
       "    </tr>\n",
       "    <tr>\n",
       "      <th>4</th>\n",
       "      <td>166</td>\n",
       "      <td>346</td>\n",
       "      <td>1</td>\n",
       "      <td>886397596</td>\n",
       "    </tr>\n",
       "    <tr>\n",
       "      <th>...</th>\n",
       "      <td>...</td>\n",
       "      <td>...</td>\n",
       "      <td>...</td>\n",
       "      <td>...</td>\n",
       "    </tr>\n",
       "    <tr>\n",
       "      <th>99995</th>\n",
       "      <td>880</td>\n",
       "      <td>476</td>\n",
       "      <td>3</td>\n",
       "      <td>880175444</td>\n",
       "    </tr>\n",
       "    <tr>\n",
       "      <th>99996</th>\n",
       "      <td>716</td>\n",
       "      <td>204</td>\n",
       "      <td>5</td>\n",
       "      <td>879795543</td>\n",
       "    </tr>\n",
       "    <tr>\n",
       "      <th>99997</th>\n",
       "      <td>276</td>\n",
       "      <td>1090</td>\n",
       "      <td>1</td>\n",
       "      <td>874795795</td>\n",
       "    </tr>\n",
       "    <tr>\n",
       "      <th>99998</th>\n",
       "      <td>13</td>\n",
       "      <td>225</td>\n",
       "      <td>2</td>\n",
       "      <td>882399156</td>\n",
       "    </tr>\n",
       "    <tr>\n",
       "      <th>99999</th>\n",
       "      <td>12</td>\n",
       "      <td>203</td>\n",
       "      <td>3</td>\n",
       "      <td>879959583</td>\n",
       "    </tr>\n",
       "  </tbody>\n",
       "</table>\n",
       "<p>100000 rows × 4 columns</p>\n",
       "</div>"
      ],
      "text/plain": [
       "       user_id  item_id  rating  timestamp\n",
       "0          196      242       3  881250949\n",
       "1          186      302       3  891717742\n",
       "2           22      377       1  878887116\n",
       "3          244       51       2  880606923\n",
       "4          166      346       1  886397596\n",
       "...        ...      ...     ...        ...\n",
       "99995      880      476       3  880175444\n",
       "99996      716      204       5  879795543\n",
       "99997      276     1090       1  874795795\n",
       "99998       13      225       2  882399156\n",
       "99999       12      203       3  879959583\n",
       "\n",
       "[100000 rows x 4 columns]"
      ]
     },
     "execution_count": 2,
     "metadata": {},
     "output_type": "execute_result"
    }
   ],
   "source": [
    "import pandas as pd\n",
    "\n",
    "raw_ratings = pd.read_csv(ML_100K_FOLDER / \"u.data\", sep='\\t',\n",
    "                          names=[\"user_id\", \"item_id\", \"rating\", \"timestamp\"])\n",
    "raw_ratings"
   ]
  },
  {
   "cell_type": "markdown",
   "metadata": {},
   "source": [
    "The second file we'll look at is the movie metadata. This file (u.item) contains information about each movie, including the title and release date. Each line in the file is formatted as:\n",
    "\n",
    "`movie_id | movie_title | release_date | video_release_date | IMDb_URL | unknown | Action | Adventure | Animation | Children's | Comedy | Crime | Documentary | Drama | Fantasy | Film-Noir | Horror | Musical | Mystery | Romance | Sci-Fi | Thriller | War | Western`\n",
    "\n",
    "As you can see, the genres are binary variables. As with one-hot encoding, a 1 indicates that the movie is of that genre, and a 0 indicates that it is not. We aren't going to work with the genre data in this lab, but it's easy to imagine that it could be useful in a real-world recommendation system."
   ]
  },
  {
   "cell_type": "code",
   "execution_count": 3,
   "metadata": {},
   "outputs": [
    {
     "data": {
      "text/html": [
       "<div>\n",
       "<style scoped>\n",
       "    .dataframe tbody tr th:only-of-type {\n",
       "        vertical-align: middle;\n",
       "    }\n",
       "\n",
       "    .dataframe tbody tr th {\n",
       "        vertical-align: top;\n",
       "    }\n",
       "\n",
       "    .dataframe thead th {\n",
       "        text-align: right;\n",
       "    }\n",
       "</style>\n",
       "<table border=\"1\" class=\"dataframe\">\n",
       "  <thead>\n",
       "    <tr style=\"text-align: right;\">\n",
       "      <th></th>\n",
       "      <th>item_id</th>\n",
       "      <th>title</th>\n",
       "      <th>release_date</th>\n",
       "      <th>video_release_date</th>\n",
       "      <th>imdb_url</th>\n",
       "    </tr>\n",
       "  </thead>\n",
       "  <tbody>\n",
       "    <tr>\n",
       "      <th>0</th>\n",
       "      <td>1</td>\n",
       "      <td>Toy Story (1995)</td>\n",
       "      <td>01-Jan-1995</td>\n",
       "      <td>NaN</td>\n",
       "      <td>http://us.imdb.com/M/title-exact?Toy%20Story%2...</td>\n",
       "    </tr>\n",
       "    <tr>\n",
       "      <th>1</th>\n",
       "      <td>2</td>\n",
       "      <td>GoldenEye (1995)</td>\n",
       "      <td>01-Jan-1995</td>\n",
       "      <td>NaN</td>\n",
       "      <td>http://us.imdb.com/M/title-exact?GoldenEye%20(...</td>\n",
       "    </tr>\n",
       "    <tr>\n",
       "      <th>2</th>\n",
       "      <td>3</td>\n",
       "      <td>Four Rooms (1995)</td>\n",
       "      <td>01-Jan-1995</td>\n",
       "      <td>NaN</td>\n",
       "      <td>http://us.imdb.com/M/title-exact?Four%20Rooms%...</td>\n",
       "    </tr>\n",
       "    <tr>\n",
       "      <th>3</th>\n",
       "      <td>4</td>\n",
       "      <td>Get Shorty (1995)</td>\n",
       "      <td>01-Jan-1995</td>\n",
       "      <td>NaN</td>\n",
       "      <td>http://us.imdb.com/M/title-exact?Get%20Shorty%...</td>\n",
       "    </tr>\n",
       "    <tr>\n",
       "      <th>4</th>\n",
       "      <td>5</td>\n",
       "      <td>Copycat (1995)</td>\n",
       "      <td>01-Jan-1995</td>\n",
       "      <td>NaN</td>\n",
       "      <td>http://us.imdb.com/M/title-exact?Copycat%20(1995)</td>\n",
       "    </tr>\n",
       "    <tr>\n",
       "      <th>...</th>\n",
       "      <td>...</td>\n",
       "      <td>...</td>\n",
       "      <td>...</td>\n",
       "      <td>...</td>\n",
       "      <td>...</td>\n",
       "    </tr>\n",
       "    <tr>\n",
       "      <th>1677</th>\n",
       "      <td>1678</td>\n",
       "      <td>Mat' i syn (1997)</td>\n",
       "      <td>06-Feb-1998</td>\n",
       "      <td>NaN</td>\n",
       "      <td>http://us.imdb.com/M/title-exact?Mat%27+i+syn+...</td>\n",
       "    </tr>\n",
       "    <tr>\n",
       "      <th>1678</th>\n",
       "      <td>1679</td>\n",
       "      <td>B. Monkey (1998)</td>\n",
       "      <td>06-Feb-1998</td>\n",
       "      <td>NaN</td>\n",
       "      <td>http://us.imdb.com/M/title-exact?B%2E+Monkey+(...</td>\n",
       "    </tr>\n",
       "    <tr>\n",
       "      <th>1679</th>\n",
       "      <td>1680</td>\n",
       "      <td>Sliding Doors (1998)</td>\n",
       "      <td>01-Jan-1998</td>\n",
       "      <td>NaN</td>\n",
       "      <td>http://us.imdb.com/Title?Sliding+Doors+(1998)</td>\n",
       "    </tr>\n",
       "    <tr>\n",
       "      <th>1680</th>\n",
       "      <td>1681</td>\n",
       "      <td>You So Crazy (1994)</td>\n",
       "      <td>01-Jan-1994</td>\n",
       "      <td>NaN</td>\n",
       "      <td>http://us.imdb.com/M/title-exact?You%20So%20Cr...</td>\n",
       "    </tr>\n",
       "    <tr>\n",
       "      <th>1681</th>\n",
       "      <td>1682</td>\n",
       "      <td>Scream of Stone (Schrei aus Stein) (1991)</td>\n",
       "      <td>08-Mar-1996</td>\n",
       "      <td>NaN</td>\n",
       "      <td>http://us.imdb.com/M/title-exact?Schrei%20aus%...</td>\n",
       "    </tr>\n",
       "  </tbody>\n",
       "</table>\n",
       "<p>1682 rows × 5 columns</p>\n",
       "</div>"
      ],
      "text/plain": [
       "      item_id                                      title release_date  \\\n",
       "0           1                           Toy Story (1995)  01-Jan-1995   \n",
       "1           2                           GoldenEye (1995)  01-Jan-1995   \n",
       "2           3                          Four Rooms (1995)  01-Jan-1995   \n",
       "3           4                          Get Shorty (1995)  01-Jan-1995   \n",
       "4           5                             Copycat (1995)  01-Jan-1995   \n",
       "...       ...                                        ...          ...   \n",
       "1677     1678                          Mat' i syn (1997)  06-Feb-1998   \n",
       "1678     1679                           B. Monkey (1998)  06-Feb-1998   \n",
       "1679     1680                       Sliding Doors (1998)  01-Jan-1998   \n",
       "1680     1681                        You So Crazy (1994)  01-Jan-1994   \n",
       "1681     1682  Scream of Stone (Schrei aus Stein) (1991)  08-Mar-1996   \n",
       "\n",
       "      video_release_date                                           imdb_url  \n",
       "0                    NaN  http://us.imdb.com/M/title-exact?Toy%20Story%2...  \n",
       "1                    NaN  http://us.imdb.com/M/title-exact?GoldenEye%20(...  \n",
       "2                    NaN  http://us.imdb.com/M/title-exact?Four%20Rooms%...  \n",
       "3                    NaN  http://us.imdb.com/M/title-exact?Get%20Shorty%...  \n",
       "4                    NaN  http://us.imdb.com/M/title-exact?Copycat%20(1995)  \n",
       "...                  ...                                                ...  \n",
       "1677                 NaN  http://us.imdb.com/M/title-exact?Mat%27+i+syn+...  \n",
       "1678                 NaN  http://us.imdb.com/M/title-exact?B%2E+Monkey+(...  \n",
       "1679                 NaN      http://us.imdb.com/Title?Sliding+Doors+(1998)  \n",
       "1680                 NaN  http://us.imdb.com/M/title-exact?You%20So%20Cr...  \n",
       "1681                 NaN  http://us.imdb.com/M/title-exact?Schrei%20aus%...  \n",
       "\n",
       "[1682 rows x 5 columns]"
      ]
     },
     "execution_count": 3,
     "metadata": {},
     "output_type": "execute_result"
    }
   ],
   "source": [
    "columns_to_keep = ['item_id', 'title', 'release_date', 'video_release_date', 'imdb_url']\n",
    "items = pd.read_csv(ML_100K_FOLDER / \"u.item\", sep='|', names=columns_to_keep,\n",
    "                    encoding='latin-1', usecols=range(5))\n",
    "items"
   ]
  },
  {
   "cell_type": "markdown",
   "metadata": {},
   "source": [
    "By default, the `release_date` column is a string. We can convert it to a `datetime` object using the `pd.to_datetime` function. This will make it easier to work with in the future (if we want to do things like check which date came first, for example).\n",
    " \n",
    "We can also extract the year from the date and store it in a separate column. This will make it easier to do things like plot the number of movies released each year."
   ]
  },
  {
   "cell_type": "code",
   "execution_count": 4,
   "metadata": {},
   "outputs": [],
   "source": [
    "items['release_date'] = pd.to_datetime(items['release_date']) # Pandas makes this easy!\n",
    "items['release_year'] = items['release_date'].dt.year # For later use"
   ]
  },
  {
   "cell_type": "markdown",
   "metadata": {},
   "source": [
    "For our purposes, it will be easier to work with the data if we merge our two dataframes into a single dataframe. We can do this using the `merge` method. We'll merge the `items` dataframe into the `raw_ratings` dataframe, using the `item_id` column as the key. This will add the movie title and release year to each rating."
   ]
  },
  {
   "cell_type": "code",
   "execution_count": 5,
   "metadata": {},
   "outputs": [],
   "source": [
    "all_ratings = pd.merge(items, raw_ratings)"
   ]
  },
  {
   "cell_type": "code",
   "execution_count": 6,
   "metadata": {},
   "outputs": [
    {
     "data": {
      "text/html": [
       "<div>\n",
       "<style scoped>\n",
       "    .dataframe tbody tr th:only-of-type {\n",
       "        vertical-align: middle;\n",
       "    }\n",
       "\n",
       "    .dataframe tbody tr th {\n",
       "        vertical-align: top;\n",
       "    }\n",
       "\n",
       "    .dataframe thead th {\n",
       "        text-align: right;\n",
       "    }\n",
       "</style>\n",
       "<table border=\"1\" class=\"dataframe\">\n",
       "  <thead>\n",
       "    <tr style=\"text-align: right;\">\n",
       "      <th></th>\n",
       "      <th>item_id</th>\n",
       "      <th>title</th>\n",
       "      <th>release_date</th>\n",
       "      <th>video_release_date</th>\n",
       "      <th>imdb_url</th>\n",
       "      <th>release_year</th>\n",
       "      <th>user_id</th>\n",
       "      <th>rating</th>\n",
       "      <th>timestamp</th>\n",
       "    </tr>\n",
       "  </thead>\n",
       "  <tbody>\n",
       "    <tr>\n",
       "      <th>0</th>\n",
       "      <td>1</td>\n",
       "      <td>Toy Story (1995)</td>\n",
       "      <td>1995-01-01</td>\n",
       "      <td>NaN</td>\n",
       "      <td>http://us.imdb.com/M/title-exact?Toy%20Story%2...</td>\n",
       "      <td>1995.0</td>\n",
       "      <td>308</td>\n",
       "      <td>4</td>\n",
       "      <td>887736532</td>\n",
       "    </tr>\n",
       "    <tr>\n",
       "      <th>1</th>\n",
       "      <td>1</td>\n",
       "      <td>Toy Story (1995)</td>\n",
       "      <td>1995-01-01</td>\n",
       "      <td>NaN</td>\n",
       "      <td>http://us.imdb.com/M/title-exact?Toy%20Story%2...</td>\n",
       "      <td>1995.0</td>\n",
       "      <td>287</td>\n",
       "      <td>5</td>\n",
       "      <td>875334088</td>\n",
       "    </tr>\n",
       "    <tr>\n",
       "      <th>2</th>\n",
       "      <td>1</td>\n",
       "      <td>Toy Story (1995)</td>\n",
       "      <td>1995-01-01</td>\n",
       "      <td>NaN</td>\n",
       "      <td>http://us.imdb.com/M/title-exact?Toy%20Story%2...</td>\n",
       "      <td>1995.0</td>\n",
       "      <td>148</td>\n",
       "      <td>4</td>\n",
       "      <td>877019411</td>\n",
       "    </tr>\n",
       "    <tr>\n",
       "      <th>3</th>\n",
       "      <td>1</td>\n",
       "      <td>Toy Story (1995)</td>\n",
       "      <td>1995-01-01</td>\n",
       "      <td>NaN</td>\n",
       "      <td>http://us.imdb.com/M/title-exact?Toy%20Story%2...</td>\n",
       "      <td>1995.0</td>\n",
       "      <td>280</td>\n",
       "      <td>4</td>\n",
       "      <td>891700426</td>\n",
       "    </tr>\n",
       "    <tr>\n",
       "      <th>4</th>\n",
       "      <td>1</td>\n",
       "      <td>Toy Story (1995)</td>\n",
       "      <td>1995-01-01</td>\n",
       "      <td>NaN</td>\n",
       "      <td>http://us.imdb.com/M/title-exact?Toy%20Story%2...</td>\n",
       "      <td>1995.0</td>\n",
       "      <td>66</td>\n",
       "      <td>3</td>\n",
       "      <td>883601324</td>\n",
       "    </tr>\n",
       "  </tbody>\n",
       "</table>\n",
       "</div>"
      ],
      "text/plain": [
       "   item_id             title release_date  video_release_date  \\\n",
       "0        1  Toy Story (1995)   1995-01-01                 NaN   \n",
       "1        1  Toy Story (1995)   1995-01-01                 NaN   \n",
       "2        1  Toy Story (1995)   1995-01-01                 NaN   \n",
       "3        1  Toy Story (1995)   1995-01-01                 NaN   \n",
       "4        1  Toy Story (1995)   1995-01-01                 NaN   \n",
       "\n",
       "                                            imdb_url  release_year  user_id  \\\n",
       "0  http://us.imdb.com/M/title-exact?Toy%20Story%2...        1995.0      308   \n",
       "1  http://us.imdb.com/M/title-exact?Toy%20Story%2...        1995.0      287   \n",
       "2  http://us.imdb.com/M/title-exact?Toy%20Story%2...        1995.0      148   \n",
       "3  http://us.imdb.com/M/title-exact?Toy%20Story%2...        1995.0      280   \n",
       "4  http://us.imdb.com/M/title-exact?Toy%20Story%2...        1995.0       66   \n",
       "\n",
       "   rating  timestamp  \n",
       "0       4  887736532  \n",
       "1       5  875334088  \n",
       "2       4  877019411  \n",
       "3       4  891700426  \n",
       "4       3  883601324  "
      ]
     },
     "execution_count": 6,
     "metadata": {},
     "output_type": "execute_result"
    }
   ],
   "source": [
    "all_ratings.head()"
   ]
  },
  {
   "cell_type": "markdown",
   "metadata": {},
   "source": [
    "### Data preprocessing\n",
    "\n",
    "It's always important to understand the data you've collected. Thankfully, Pandas continues to make this easy for us. Using the `describe` method, we can get a quick statistical summary of the data."
   ]
  },
  {
   "cell_type": "code",
   "execution_count": 7,
   "metadata": {},
   "outputs": [
    {
     "data": {
      "text/html": [
       "<div>\n",
       "<style scoped>\n",
       "    .dataframe tbody tr th:only-of-type {\n",
       "        vertical-align: middle;\n",
       "    }\n",
       "\n",
       "    .dataframe tbody tr th {\n",
       "        vertical-align: top;\n",
       "    }\n",
       "\n",
       "    .dataframe thead th {\n",
       "        text-align: right;\n",
       "    }\n",
       "</style>\n",
       "<table border=\"1\" class=\"dataframe\">\n",
       "  <thead>\n",
       "    <tr style=\"text-align: right;\">\n",
       "      <th></th>\n",
       "      <th>item_id</th>\n",
       "      <th>release_date</th>\n",
       "      <th>video_release_date</th>\n",
       "      <th>release_year</th>\n",
       "      <th>user_id</th>\n",
       "      <th>rating</th>\n",
       "      <th>timestamp</th>\n",
       "    </tr>\n",
       "  </thead>\n",
       "  <tbody>\n",
       "    <tr>\n",
       "      <th>count</th>\n",
       "      <td>100000.000000</td>\n",
       "      <td>99991</td>\n",
       "      <td>0.0</td>\n",
       "      <td>99991.000000</td>\n",
       "      <td>100000.00000</td>\n",
       "      <td>100000.000000</td>\n",
       "      <td>1.000000e+05</td>\n",
       "    </tr>\n",
       "    <tr>\n",
       "      <th>mean</th>\n",
       "      <td>425.530130</td>\n",
       "      <td>1988-02-09 00:43:11.369223296</td>\n",
       "      <td>NaN</td>\n",
       "      <td>1987.956216</td>\n",
       "      <td>462.48475</td>\n",
       "      <td>3.529860</td>\n",
       "      <td>8.835289e+08</td>\n",
       "    </tr>\n",
       "    <tr>\n",
       "      <th>min</th>\n",
       "      <td>1.000000</td>\n",
       "      <td>1922-01-01 00:00:00</td>\n",
       "      <td>NaN</td>\n",
       "      <td>1922.000000</td>\n",
       "      <td>1.00000</td>\n",
       "      <td>1.000000</td>\n",
       "      <td>8.747247e+08</td>\n",
       "    </tr>\n",
       "    <tr>\n",
       "      <th>25%</th>\n",
       "      <td>175.000000</td>\n",
       "      <td>1986-01-01 00:00:00</td>\n",
       "      <td>NaN</td>\n",
       "      <td>1986.000000</td>\n",
       "      <td>254.00000</td>\n",
       "      <td>3.000000</td>\n",
       "      <td>8.794487e+08</td>\n",
       "    </tr>\n",
       "    <tr>\n",
       "      <th>50%</th>\n",
       "      <td>322.000000</td>\n",
       "      <td>1994-01-01 00:00:00</td>\n",
       "      <td>NaN</td>\n",
       "      <td>1994.000000</td>\n",
       "      <td>447.00000</td>\n",
       "      <td>4.000000</td>\n",
       "      <td>8.828269e+08</td>\n",
       "    </tr>\n",
       "    <tr>\n",
       "      <th>75%</th>\n",
       "      <td>631.000000</td>\n",
       "      <td>1996-09-28 00:00:00</td>\n",
       "      <td>NaN</td>\n",
       "      <td>1996.000000</td>\n",
       "      <td>682.00000</td>\n",
       "      <td>4.000000</td>\n",
       "      <td>8.882600e+08</td>\n",
       "    </tr>\n",
       "    <tr>\n",
       "      <th>max</th>\n",
       "      <td>1682.000000</td>\n",
       "      <td>1998-10-23 00:00:00</td>\n",
       "      <td>NaN</td>\n",
       "      <td>1998.000000</td>\n",
       "      <td>943.00000</td>\n",
       "      <td>5.000000</td>\n",
       "      <td>8.932866e+08</td>\n",
       "    </tr>\n",
       "    <tr>\n",
       "      <th>std</th>\n",
       "      <td>330.798356</td>\n",
       "      <td>NaN</td>\n",
       "      <td>NaN</td>\n",
       "      <td>14.155523</td>\n",
       "      <td>266.61442</td>\n",
       "      <td>1.125674</td>\n",
       "      <td>5.343856e+06</td>\n",
       "    </tr>\n",
       "  </tbody>\n",
       "</table>\n",
       "</div>"
      ],
      "text/plain": [
       "             item_id                   release_date  video_release_date  \\\n",
       "count  100000.000000                          99991                 0.0   \n",
       "mean      425.530130  1988-02-09 00:43:11.369223296                 NaN   \n",
       "min         1.000000            1922-01-01 00:00:00                 NaN   \n",
       "25%       175.000000            1986-01-01 00:00:00                 NaN   \n",
       "50%       322.000000            1994-01-01 00:00:00                 NaN   \n",
       "75%       631.000000            1996-09-28 00:00:00                 NaN   \n",
       "max      1682.000000            1998-10-23 00:00:00                 NaN   \n",
       "std       330.798356                            NaN                 NaN   \n",
       "\n",
       "       release_year       user_id         rating     timestamp  \n",
       "count  99991.000000  100000.00000  100000.000000  1.000000e+05  \n",
       "mean    1987.956216     462.48475       3.529860  8.835289e+08  \n",
       "min     1922.000000       1.00000       1.000000  8.747247e+08  \n",
       "25%     1986.000000     254.00000       3.000000  8.794487e+08  \n",
       "50%     1994.000000     447.00000       4.000000  8.828269e+08  \n",
       "75%     1996.000000     682.00000       4.000000  8.882600e+08  \n",
       "max     1998.000000     943.00000       5.000000  8.932866e+08  \n",
       "std       14.155523     266.61442       1.125674  5.343856e+06  "
      ]
     },
     "execution_count": 7,
     "metadata": {},
     "output_type": "execute_result"
    }
   ],
   "source": [
    "all_ratings.describe()"
   ]
  },
  {
   "cell_type": "markdown",
   "metadata": {},
   "source": [
    "Let's do a bit more pandas magic to compute the popularity of each movie (number of ratings). We will use the `groupby` method to group the dataframe by the `item_id` column and then use the `size` method to compute the number of ratings for each movie. We will use the `reset_index` method to convert the resulting Series into a dataframe with an `item_id` column."
   ]
  },
  {
   "cell_type": "code",
   "execution_count": 8,
   "metadata": {},
   "outputs": [],
   "source": [
    "popularity = all_ratings.groupby('item_id').size().reset_index(name='popularity')\n",
    "items = pd.merge(popularity, items)"
   ]
  },
  {
   "cell_type": "code",
   "execution_count": 9,
   "metadata": {},
   "outputs": [
    {
     "data": {
      "image/png": "[encoded data removed]",
      "text/plain": [
       "<Figure size 640x480 with 1 Axes>"
      ]
     },
     "metadata": {},
     "output_type": "display_data"
    }
   ],
   "source": [
    "items['popularity'].plot.hist(bins=30);"
   ]
  },
  {
   "cell_type": "code",
   "execution_count": 10,
   "metadata": {},
   "outputs": [
    {
     "data": {
      "text/plain": [
       "141"
      ]
     },
     "execution_count": 10,
     "metadata": {},
     "output_type": "execute_result"
    }
   ],
   "source": [
    "(items['popularity'] == 1).sum() # Number of movies with only one rating"
   ]
  },
  {
   "cell_type": "code",
   "execution_count": 11,
   "metadata": {},
   "outputs": [
    {
     "data": {
      "text/plain": [
       "49                  Star Wars (1977)\n",
       "257                   Contact (1997)\n",
       "99                      Fargo (1996)\n",
       "180        Return of the Jedi (1983)\n",
       "293                 Liar Liar (1997)\n",
       "285      English Patient, The (1996)\n",
       "287                    Scream (1996)\n",
       "0                   Toy Story (1995)\n",
       "299             Air Force One (1997)\n",
       "120    Independence Day (ID4) (1996)\n",
       "Name: title, dtype: object"
      ]
     },
     "execution_count": 11,
     "metadata": {},
     "output_type": "execute_result"
    }
   ],
   "source": [
    "items.nlargest(10, 'popularity')['title'] # Get the 10 most popular movies"
   ]
  },
  {
   "cell_type": "code",
   "execution_count": 12,
   "metadata": {},
   "outputs": [
    {
     "data": {
      "text/html": [
       "<div>\n",
       "<style scoped>\n",
       "    .dataframe tbody tr th:only-of-type {\n",
       "        vertical-align: middle;\n",
       "    }\n",
       "\n",
       "    .dataframe tbody tr th {\n",
       "        vertical-align: top;\n",
       "    }\n",
       "\n",
       "    .dataframe thead th {\n",
       "        text-align: right;\n",
       "    }\n",
       "</style>\n",
       "<table border=\"1\" class=\"dataframe\">\n",
       "  <thead>\n",
       "    <tr style=\"text-align: right;\">\n",
       "      <th></th>\n",
       "      <th>item_id</th>\n",
       "      <th>popularity</th>\n",
       "      <th>release_date</th>\n",
       "      <th>video_release_date</th>\n",
       "      <th>release_year</th>\n",
       "      <th>user_id</th>\n",
       "      <th>rating</th>\n",
       "      <th>timestamp</th>\n",
       "    </tr>\n",
       "  </thead>\n",
       "  <tbody>\n",
       "    <tr>\n",
       "      <th>count</th>\n",
       "      <td>100000.000000</td>\n",
       "      <td>100000.000000</td>\n",
       "      <td>99991</td>\n",
       "      <td>0.0</td>\n",
       "      <td>99991.000000</td>\n",
       "      <td>100000.00000</td>\n",
       "      <td>100000.000000</td>\n",
       "      <td>1.000000e+05</td>\n",
       "    </tr>\n",
       "    <tr>\n",
       "      <th>mean</th>\n",
       "      <td>425.530130</td>\n",
       "      <td>168.071900</td>\n",
       "      <td>1988-02-09 00:43:11.369223296</td>\n",
       "      <td>NaN</td>\n",
       "      <td>1987.956216</td>\n",
       "      <td>462.48475</td>\n",
       "      <td>3.529860</td>\n",
       "      <td>8.835289e+08</td>\n",
       "    </tr>\n",
       "    <tr>\n",
       "      <th>min</th>\n",
       "      <td>1.000000</td>\n",
       "      <td>1.000000</td>\n",
       "      <td>1922-01-01 00:00:00</td>\n",
       "      <td>NaN</td>\n",
       "      <td>1922.000000</td>\n",
       "      <td>1.00000</td>\n",
       "      <td>1.000000</td>\n",
       "      <td>8.747247e+08</td>\n",
       "    </tr>\n",
       "    <tr>\n",
       "      <th>25%</th>\n",
       "      <td>175.000000</td>\n",
       "      <td>71.000000</td>\n",
       "      <td>1986-01-01 00:00:00</td>\n",
       "      <td>NaN</td>\n",
       "      <td>1986.000000</td>\n",
       "      <td>254.00000</td>\n",
       "      <td>3.000000</td>\n",
       "      <td>8.794487e+08</td>\n",
       "    </tr>\n",
       "    <tr>\n",
       "      <th>50%</th>\n",
       "      <td>322.000000</td>\n",
       "      <td>145.000000</td>\n",
       "      <td>1994-01-01 00:00:00</td>\n",
       "      <td>NaN</td>\n",
       "      <td>1994.000000</td>\n",
       "      <td>447.00000</td>\n",
       "      <td>4.000000</td>\n",
       "      <td>8.828269e+08</td>\n",
       "    </tr>\n",
       "    <tr>\n",
       "      <th>75%</th>\n",
       "      <td>631.000000</td>\n",
       "      <td>239.000000</td>\n",
       "      <td>1996-09-28 00:00:00</td>\n",
       "      <td>NaN</td>\n",
       "      <td>1996.000000</td>\n",
       "      <td>682.00000</td>\n",
       "      <td>4.000000</td>\n",
       "      <td>8.882600e+08</td>\n",
       "    </tr>\n",
       "    <tr>\n",
       "      <th>max</th>\n",
       "      <td>1682.000000</td>\n",
       "      <td>583.000000</td>\n",
       "      <td>1998-10-23 00:00:00</td>\n",
       "      <td>NaN</td>\n",
       "      <td>1998.000000</td>\n",
       "      <td>943.00000</td>\n",
       "      <td>5.000000</td>\n",
       "      <td>8.932866e+08</td>\n",
       "    </tr>\n",
       "    <tr>\n",
       "      <th>std</th>\n",
       "      <td>330.798356</td>\n",
       "      <td>121.784558</td>\n",
       "      <td>NaN</td>\n",
       "      <td>NaN</td>\n",
       "      <td>14.155523</td>\n",
       "      <td>266.61442</td>\n",
       "      <td>1.125674</td>\n",
       "      <td>5.343856e+06</td>\n",
       "    </tr>\n",
       "  </tbody>\n",
       "</table>\n",
       "</div>"
      ],
      "text/plain": [
       "             item_id     popularity                   release_date  \\\n",
       "count  100000.000000  100000.000000                          99991   \n",
       "mean      425.530130     168.071900  1988-02-09 00:43:11.369223296   \n",
       "min         1.000000       1.000000            1922-01-01 00:00:00   \n",
       "25%       175.000000      71.000000            1986-01-01 00:00:00   \n",
       "50%       322.000000     145.000000            1994-01-01 00:00:00   \n",
       "75%       631.000000     239.000000            1996-09-28 00:00:00   \n",
       "max      1682.000000     583.000000            1998-10-23 00:00:00   \n",
       "std       330.798356     121.784558                            NaN   \n",
       "\n",
       "       video_release_date  release_year       user_id         rating  \\\n",
       "count                 0.0  99991.000000  100000.00000  100000.000000   \n",
       "mean                  NaN   1987.956216     462.48475       3.529860   \n",
       "min                   NaN   1922.000000       1.00000       1.000000   \n",
       "25%                   NaN   1986.000000     254.00000       3.000000   \n",
       "50%                   NaN   1994.000000     447.00000       4.000000   \n",
       "75%                   NaN   1996.000000     682.00000       4.000000   \n",
       "max                   NaN   1998.000000     943.00000       5.000000   \n",
       "std                   NaN     14.155523     266.61442       1.125674   \n",
       "\n",
       "          timestamp  \n",
       "count  1.000000e+05  \n",
       "mean   8.835289e+08  \n",
       "min    8.747247e+08  \n",
       "25%    8.794487e+08  \n",
       "50%    8.828269e+08  \n",
       "75%    8.882600e+08  \n",
       "max    8.932866e+08  \n",
       "std    5.343856e+06  "
      ]
     },
     "execution_count": 12,
     "metadata": {},
     "output_type": "execute_result"
    }
   ],
   "source": [
    "all_ratings = pd.merge(popularity, all_ratings)\n",
    "all_ratings.describe()"
   ]
  },
  {
   "cell_type": "code",
   "execution_count": 13,
   "metadata": {
    "collapsed": false
   },
   "outputs": [],
   "source": [
    "indexed_items = items.set_index('item_id')"
   ]
  },
  {
   "cell_type": "code",
   "execution_count": 14,
   "metadata": {},
   "outputs": [
    {
     "data": {
      "text/html": [
       "<div>\n",
       "<style scoped>\n",
       "    .dataframe tbody tr th:only-of-type {\n",
       "        vertical-align: middle;\n",
       "    }\n",
       "\n",
       "    .dataframe tbody tr th {\n",
       "        vertical-align: top;\n",
       "    }\n",
       "\n",
       "    .dataframe thead th {\n",
       "        text-align: right;\n",
       "    }\n",
       "</style>\n",
       "<table border=\"1\" class=\"dataframe\">\n",
       "  <thead>\n",
       "    <tr style=\"text-align: right;\">\n",
       "      <th></th>\n",
       "      <th>item_id</th>\n",
       "      <th>popularity</th>\n",
       "      <th>title</th>\n",
       "      <th>release_date</th>\n",
       "      <th>video_release_date</th>\n",
       "      <th>imdb_url</th>\n",
       "      <th>release_year</th>\n",
       "      <th>user_id</th>\n",
       "      <th>rating</th>\n",
       "      <th>timestamp</th>\n",
       "    </tr>\n",
       "  </thead>\n",
       "  <tbody>\n",
       "    <tr>\n",
       "      <th>0</th>\n",
       "      <td>1</td>\n",
       "      <td>452</td>\n",
       "      <td>Toy Story (1995)</td>\n",
       "      <td>1995-01-01</td>\n",
       "      <td>NaN</td>\n",
       "      <td>http://us.imdb.com/M/title-exact?Toy%20Story%2...</td>\n",
       "      <td>1995.0</td>\n",
       "      <td>308</td>\n",
       "      <td>4</td>\n",
       "      <td>887736532</td>\n",
       "    </tr>\n",
       "    <tr>\n",
       "      <th>1</th>\n",
       "      <td>1</td>\n",
       "      <td>452</td>\n",
       "      <td>Toy Story (1995)</td>\n",
       "      <td>1995-01-01</td>\n",
       "      <td>NaN</td>\n",
       "      <td>http://us.imdb.com/M/title-exact?Toy%20Story%2...</td>\n",
       "      <td>1995.0</td>\n",
       "      <td>287</td>\n",
       "      <td>5</td>\n",
       "      <td>875334088</td>\n",
       "    </tr>\n",
       "    <tr>\n",
       "      <th>2</th>\n",
       "      <td>1</td>\n",
       "      <td>452</td>\n",
       "      <td>Toy Story (1995)</td>\n",
       "      <td>1995-01-01</td>\n",
       "      <td>NaN</td>\n",
       "      <td>http://us.imdb.com/M/title-exact?Toy%20Story%2...</td>\n",
       "      <td>1995.0</td>\n",
       "      <td>148</td>\n",
       "      <td>4</td>\n",
       "      <td>877019411</td>\n",
       "    </tr>\n",
       "    <tr>\n",
       "      <th>3</th>\n",
       "      <td>1</td>\n",
       "      <td>452</td>\n",
       "      <td>Toy Story (1995)</td>\n",
       "      <td>1995-01-01</td>\n",
       "      <td>NaN</td>\n",
       "      <td>http://us.imdb.com/M/title-exact?Toy%20Story%2...</td>\n",
       "      <td>1995.0</td>\n",
       "      <td>280</td>\n",
       "      <td>4</td>\n",
       "      <td>891700426</td>\n",
       "    </tr>\n",
       "    <tr>\n",
       "      <th>4</th>\n",
       "      <td>1</td>\n",
       "      <td>452</td>\n",
       "      <td>Toy Story (1995)</td>\n",
       "      <td>1995-01-01</td>\n",
       "      <td>NaN</td>\n",
       "      <td>http://us.imdb.com/M/title-exact?Toy%20Story%2...</td>\n",
       "      <td>1995.0</td>\n",
       "      <td>66</td>\n",
       "      <td>3</td>\n",
       "      <td>883601324</td>\n",
       "    </tr>\n",
       "  </tbody>\n",
       "</table>\n",
       "</div>"
      ],
      "text/plain": [
       "   item_id  popularity             title release_date  video_release_date  \\\n",
       "0        1         452  Toy Story (1995)   1995-01-01                 NaN   \n",
       "1        1         452  Toy Story (1995)   1995-01-01                 NaN   \n",
       "2        1         452  Toy Story (1995)   1995-01-01                 NaN   \n",
       "3        1         452  Toy Story (1995)   1995-01-01                 NaN   \n",
       "4        1         452  Toy Story (1995)   1995-01-01                 NaN   \n",
       "\n",
       "                                            imdb_url  release_year  user_id  \\\n",
       "0  http://us.imdb.com/M/title-exact?Toy%20Story%2...        1995.0      308   \n",
       "1  http://us.imdb.com/M/title-exact?Toy%20Story%2...        1995.0      287   \n",
       "2  http://us.imdb.com/M/title-exact?Toy%20Story%2...        1995.0      148   \n",
       "3  http://us.imdb.com/M/title-exact?Toy%20Story%2...        1995.0      280   \n",
       "4  http://us.imdb.com/M/title-exact?Toy%20Story%2...        1995.0       66   \n",
       "\n",
       "   rating  timestamp  \n",
       "0       4  887736532  \n",
       "1       5  875334088  \n",
       "2       4  877019411  \n",
       "3       4  891700426  \n",
       "4       3  883601324  "
      ]
     },
     "execution_count": 14,
     "metadata": {},
     "output_type": "execute_result"
    }
   ],
   "source": [
    "all_ratings.head()"
   ]
  },
  {
   "cell_type": "markdown",
   "metadata": {
    "collapsed": false
   },
   "source": [
    "**Quick Exercise**:\n",
    "\n",
    "As we have seen, the `groupby` method is a powerful tool to quickly compute statistics on the data. Use it to compute the average rating for each movie.\n",
    "\n",
    "**Hint**: you can use the `mean` method after the `groupby` method."
   ]
  },
  {
   "cell_type": "code",
   "execution_count": 15,
   "metadata": {
    "collapsed": false
   },
   "outputs": [
    {
     "name": "stdout",
     "output_type": "stream",
     "text": [
      "title\n",
      "'Til There Was You (1997)                2.333333\n",
      "1-900 (1994)                             2.600000\n",
      "101 Dalmatians (1996)                    2.908257\n",
      "12 Angry Men (1957)                      4.344000\n",
      "187 (1997)                               3.024390\n",
      "                                           ...   \n",
      "Young Guns II (1990)                     2.772727\n",
      "Young Poisoner's Handbook, The (1995)    3.341463\n",
      "Zeus and Roxanne (1997)                  2.166667\n",
      "unknown                                  3.444444\n",
      "Á köldum klaka (Cold Fever) (1994)       3.000000\n",
      "Name: rating, Length: 1664, dtype: float64\n"
     ]
    }
   ],
   "source": [
    "average_ratings = all_ratings.groupby('title')['rating'].mean()\n",
    "\n",
    "print(average_ratings)\n"
   ]
  },
  {
   "cell_type": "markdown",
   "metadata": {},
   "source": [
    "Let's split the enriched data in a train / test split to make it possible to do predictive modeling:"
   ]
  },
  {
   "cell_type": "code",
   "execution_count": 16,
   "metadata": {},
   "outputs": [],
   "source": [
    "from sklearn.model_selection import train_test_split\n",
    "\n",
    "ratings_train, ratings_test = train_test_split(\n",
    "    all_ratings, test_size=0.2, random_state=0)\n",
    "\n",
    "user_id_train = np.array(ratings_train['user_id'])\n",
    "item_id_train = np.array(ratings_train['item_id'])\n",
    "rating_train = np.array(ratings_train['rating'])\n",
    "\n",
    "user_id_test = np.array(ratings_test['user_id'])\n",
    "item_id_test = np.array(ratings_test['item_id'])\n",
    "rating_test = np.array(ratings_test['rating'])"
   ]
  },
  {
   "cell_type": "markdown",
   "metadata": {},
   "source": [
    "# Explicit feedback: supervised ratings prediction\n",
    "\n",
    "Now let's begin to do some recommendation! We will build a model that takes a user and a movie as input and outputs a predicted rating. We will be taking advantage of embeddings to represent users and movies. That means that each movie and user will have an abstract representation in a continuous vector space. The model will learn these representations based on the ratings."
   ]
  },
  {
   "cell_type": "markdown",
   "metadata": {},
   "source": [
    "## Predictive ratings  as a regression problem\n",
    "\n",
    "The following code implements the following architecture:\n",
    "\n",
    "<img src=\"https://raw.githubusercontent.com/UofT-DSI/deep_learning/main/notebooks/images/rec_archi_1.svg\" style=\"width: 600px;\" />"
   ]
  },
  {
   "cell_type": "code",
   "execution_count": 17,
   "metadata": {},
   "outputs": [],
   "source": [
    "from tensorflow.keras.layers import Embedding, Flatten, Dense, Dropout\n",
    "from tensorflow.keras.layers import Dot\n",
    "from tensorflow.keras.models import Model"
   ]
  },
  {
   "cell_type": "code",
   "execution_count": 18,
   "metadata": {},
   "outputs": [],
   "source": [
    "# For each sample we input the integer identifiers\n",
    "# of a single user and a single item\n",
    "class RegressionModel(Model):\n",
    "    def __init__(self, embedding_size, max_user_id, max_item_id):\n",
    "        super().__init__()\n",
    "        \n",
    "        self.user_embedding = Embedding(output_dim=embedding_size,\n",
    "                                        input_dim=max_user_id + 1,\n",
    "                                        input_length=1,\n",
    "                                        name='user_embedding')\n",
    "        self.item_embedding = Embedding(output_dim=embedding_size,\n",
    "                                        input_dim=max_item_id + 1,\n",
    "                                        input_length=1,\n",
    "                                        name='item_embedding')\n",
    "        \n",
    "        # The following two layers don't have parameters.\n",
    "        self.flatten = Flatten()\n",
    "        self.dot = Dot(axes=1)\n",
    "        \n",
    "    def call(self, inputs):\n",
    "        user_inputs = inputs[0]\n",
    "        item_inputs = inputs[1]\n",
    "        \n",
    "        user_vecs = self.flatten(self.user_embedding(user_inputs))\n",
    "        item_vecs = self.flatten(self.item_embedding(item_inputs))\n",
    "        \n",
    "        y = self.dot([user_vecs, item_vecs])\n",
    "        return y\n",
    "\n",
    "\n",
    "model = RegressionModel(embedding_size=64, max_user_id=all_ratings['user_id'].max(), max_item_id=all_ratings['item_id'].max())\n",
    "model.compile(optimizer=\"adam\", loss='mae')"
   ]
  },
  {
   "cell_type": "markdown",
   "metadata": {},
   "source": [
    "### Monitoring runs\n",
    "\n",
    "When training a model with Keras, we get a `history` object back that contains lots of information about the training run. We can use this to plot the training and validation loss to see how the model has improved during training."
   ]
  },
  {
   "cell_type": "code",
   "execution_count": 19,
   "metadata": {},
   "outputs": [
    {
     "name": "stdout",
     "output_type": "stream",
     "text": [
      "Epoch 1/10\n",
      "1125/1125 [==============================] - 6s 4ms/step - loss: 2.6037 - val_loss: 1.0220\n",
      "Epoch 2/10\n",
      "1125/1125 [==============================] - 4s 3ms/step - loss: 0.8463 - val_loss: 0.7938\n",
      "Epoch 3/10\n",
      "1125/1125 [==============================] - 4s 3ms/step - loss: 0.7592 - val_loss: 0.7710\n",
      "Epoch 4/10\n",
      "1125/1125 [==============================] - 4s 3ms/step - loss: 0.7361 - val_loss: 0.7579\n",
      "Epoch 5/10\n",
      "1125/1125 [==============================] - 4s 4ms/step - loss: 0.7176 - val_loss: 0.7520\n",
      "Epoch 6/10\n",
      "1125/1125 [==============================] - 5s 4ms/step - loss: 0.6993 - val_loss: 0.7445\n",
      "Epoch 7/10\n",
      "1125/1125 [==============================] - 4s 4ms/step - loss: 0.6816 - val_loss: 0.7412\n",
      "Epoch 8/10\n",
      "1125/1125 [==============================] - 4s 3ms/step - loss: 0.6616 - val_loss: 0.7398\n",
      "Epoch 9/10\n",
      "1125/1125 [==============================] - 4s 3ms/step - loss: 0.6390 - val_loss: 0.7377\n",
      "Epoch 10/10\n",
      "1125/1125 [==============================] - 4s 3ms/step - loss: 0.6149 - val_loss: 0.7383\n",
      "CPU times: total: 3min 26s\n",
      "Wall time: 42.5 s\n"
     ]
    }
   ],
   "source": [
    "%%time\n",
    "\n",
    "# Training the model\n",
    "history = model.fit([user_id_train, item_id_train], rating_train,\n",
    "                    batch_size=64, epochs=10, validation_split=0.1,\n",
    "                    shuffle=True)"
   ]
  },
  {
   "cell_type": "code",
   "execution_count": 20,
   "metadata": {},
   "outputs": [
    {
     "data": {
      "image/png": "[encoded data removed]",
      "text/plain": [
       "<Figure size 640x480 with 1 Axes>"
      ]
     },
     "metadata": {},
     "output_type": "display_data"
    }
   ],
   "source": [
    "plt.plot(history.history['loss'], label='train')\n",
    "plt.plot(history.history['val_loss'], label='validation')\n",
    "plt.ylim(0, 2)\n",
    "plt.legend(loc='best')\n",
    "plt.title('Loss');"
   ]
  },
  {
   "cell_type": "markdown",
   "metadata": {},
   "source": [
    "**Questions**:\n",
    "\n",
    "- Does it look like our model has overfit? Why or why not?\n",
    "The training loss continues to decrease steadily, while the validation loss plateaus and doesn't decrease as much after a few epochs.This is a sign that the model is not overfitting which would be indicated by validation loss increasing or diverging significantly from the train loss graph. \n",
    "- Suggest something we could do to prevent overfitting.\n",
    "One thing we can do is to stop training once the validation loss stops improving to prevent overfitting on the training data.\n",
    "\n",
    "\n",
    "Now that the model is trained, let's check out the quality of predictions:"
   ]
  },
  {
   "cell_type": "code",
   "execution_count": 21,
   "metadata": {},
   "outputs": [],
   "source": [
    "def plot_predictions(y_true, y_pred):\n",
    "    plt.figure(figsize=(4, 4))\n",
    "    plt.xlim(-1, 6)\n",
    "    plt.xlabel(\"True rating\")\n",
    "    plt.ylim(-1, 6)\n",
    "    plt.ylabel(\"Predicted rating\")\n",
    "    plt.scatter(y_true, y_pred, s=60, alpha=0.01)"
   ]
  },
  {
   "cell_type": "code",
   "execution_count": 22,
   "metadata": {},
   "outputs": [
    {
     "name": "stdout",
     "output_type": "stream",
     "text": [
      "625/625 [==============================] - 1s 2ms/step\n",
      "Final test MSE: 0.895\n",
      "Final test MAE: 0.728\n"
     ]
    },
    {
     "data": {
      "image/png": "[encoded data removed]",
      "text/plain": [
       "<Figure size 400x400 with 1 Axes>"
      ]
     },
     "metadata": {},
     "output_type": "display_data"
    }
   ],
   "source": [
    "from sklearn.metrics import mean_squared_error\n",
    "from sklearn.metrics import mean_absolute_error\n",
    "\n",
    "test_preds = model.predict([user_id_test, item_id_test])\n",
    "print(\"Final test MSE: %0.3f\" % mean_squared_error(test_preds, rating_test))\n",
    "print(\"Final test MAE: %0.3f\" % mean_absolute_error(test_preds, rating_test))\n",
    "plot_predictions(rating_test, test_preds)"
   ]
  },
  {
   "cell_type": "markdown",
   "metadata": {
    "collapsed": false
   },
   "source": [
    "This graph shows us the range of predicted ratings our model gives, organized by the true rating. We can see that generally, the higher the true rating the higher the predicted rating, although there is quite a range of predictions for each instance. That's okay - our model is very simple, and human preferences are very complex!\n",
    "\n",
    "Taking a look at the Mean Absolute Error, hopefully you got something around 0.75. This means that, on average, our predicted ratings are about 0.75 stars off from the true ratings. This is a pretty good result for a first attempt. We could probably do better with a more complex model, but we'll leave that for another time."
   ]
  },
  {
   "cell_type": "markdown",
   "metadata": {},
   "source": [
    "### Model Embeddings\n",
    "\n",
    "Our model was built with two embedding layers. These layers have learned a representation of both the users and the movies in our dataset. We can extract these representations and use them to find similar movies or users. We can also do interesting exploratory analysis, like finding the most popular movies among our users, or finding the users that are most interested in a given movie."
   ]
  },
  {
   "cell_type": "code",
   "execution_count": 23,
   "metadata": {},
   "outputs": [
    {
     "data": {
      "text/plain": [
       "[(944, 64), (1683, 64)]"
      ]
     },
     "execution_count": 23,
     "metadata": {},
     "output_type": "execute_result"
    }
   ],
   "source": [
    "# weights and shape\n",
    "weights = model.get_weights()\n",
    "[w.shape for w in weights]"
   ]
  },
  {
   "cell_type": "code",
   "execution_count": 24,
   "metadata": {},
   "outputs": [],
   "source": [
    "user_embeddings = weights[0]\n",
    "item_embeddings = weights[1]"
   ]
  },
  {
   "cell_type": "code",
   "execution_count": 25,
   "metadata": {},
   "outputs": [
    {
     "name": "stdout",
     "output_type": "stream",
     "text": [
      "Title for item_id=181: Return of the Jedi (1983)\n"
     ]
    }
   ],
   "source": [
    "item_id = 181\n",
    "print(f\"Title for item_id={item_id}: {indexed_items['title'][item_id]}\")"
   ]
  },
  {
   "cell_type": "code",
   "execution_count": 26,
   "metadata": {},
   "outputs": [
    {
     "name": "stdout",
     "output_type": "stream",
     "text": [
      "Embedding vector for item_id=181\n",
      "[-0.38185263 -0.35892734 -0.52593523  0.5497896  -0.26763308 -0.10728676\n",
      "  0.52987695 -0.4954818  -0.16923708 -0.2570638   0.26873866  0.29423362\n",
      " -0.18482827 -0.3972573  -0.17784864  0.44386977 -0.08947155  0.38629347\n",
      "  0.25551483 -0.28495088  0.35156658 -0.29644653 -0.08602426  0.29445428\n",
      " -0.4184071  -0.21429323 -0.21244389  0.04446934  0.08412942 -0.58447963\n",
      "  0.3210774   0.2072438  -0.29524326 -0.27971888  0.20238812 -0.27467388\n",
      " -0.46640405  0.3305607  -0.26788542  0.09185494 -0.26465234  0.3754558\n",
      "  0.37097207 -0.40837362  0.15853103  0.2086686   0.4228045   0.16118653\n",
      " -0.12251984  0.5096287  -0.27420554 -0.21788786 -0.33916172 -0.14924596\n",
      "  0.23385455 -0.28454936  0.47042993  0.19856857 -0.58901924  0.29750746\n",
      " -0.13971211 -0.41657054  0.33497566  0.2047417 ]\n",
      "shape: (64,)\n"
     ]
    }
   ],
   "source": [
    "print(f\"Embedding vector for item_id={item_id}\")\n",
    "print(item_embeddings[item_id])\n",
    "print(\"shape:\", item_embeddings[item_id].shape)"
   ]
  },
  {
   "cell_type": "markdown",
   "metadata": {
    "collapsed": false
   },
   "source": [
    "As we discussed in lecture, our embeddings are not directly interpretable - we can't look at, say, a value of 0.297 in the embedding vector and say \"this means that the movie is a drama\". As an aside, there is a field of research dedicated to making _interpretable_ embeddings, but it's not something we'll cover in this course. "
   ]
  },
  {
   "cell_type": "markdown",
   "metadata": {},
   "source": [
    "### Finding our most similar items\n",
    "\n",
    "Now we can have some fun, investigating the embeddings we've learned. We can start by finding the most similar items to a given item. We can do this by computing the cosine similarity between the item's embedding and the embedding of every other item. We can use the `cosine_similarity` function from `sklearn` to do this."
   ]
  },
  {
   "cell_type": "code",
   "execution_count": 27,
   "metadata": {
    "collapsed": false
   },
   "outputs": [],
   "source": [
    "from sklearn.metrics.pairwise import cosine_similarity\n",
    "\n",
    "def cosine(a, b):\n",
    "    # Reshape to the shape our function expects\n",
    "    a = a.reshape(1, -1)\n",
    "    b = b.reshape(1, -1)\n",
    "    return cosine_similarity(a, b)[0, 0]"
   ]
  },
  {
   "cell_type": "code",
   "execution_count": 28,
   "metadata": {},
   "outputs": [
    {
     "name": "stdout",
     "output_type": "stream",
     "text": [
      "Star Wars (1977)\n",
      "Return of the Jedi (1983)\n",
      "Cosine similarity: 0.921\n"
     ]
    }
   ],
   "source": [
    "def print_similarity(item_a, item_b, item_embeddings, titles):\n",
    "    print(titles[item_a])\n",
    "    print(titles[item_b])\n",
    "    similarity = cosine(item_embeddings[item_a],\n",
    "                        item_embeddings[item_b])\n",
    "    print(f\"Cosine similarity: {similarity:.3}\")\n",
    "    \n",
    "print_similarity(50, 181, item_embeddings, indexed_items[\"title\"])"
   ]
  },
  {
   "cell_type": "markdown",
   "metadata": {
    "collapsed": false
   },
   "source": [
    "It makes sense that the original Star Wars, and its later sequel Return of the Jedi have a high similarity. Let's try some other examples:"
   ]
  },
  {
   "cell_type": "code",
   "execution_count": 29,
   "metadata": {},
   "outputs": [
    {
     "name": "stdout",
     "output_type": "stream",
     "text": [
      "Return of the Jedi (1983)\n",
      "Scream (1996)\n",
      "Cosine similarity: 0.763\n"
     ]
    }
   ],
   "source": [
    "print_similarity(181, 288, item_embeddings, indexed_items[\"title\"])"
   ]
  },
  {
   "cell_type": "code",
   "execution_count": 30,
   "metadata": {},
   "outputs": [
    {
     "name": "stdout",
     "output_type": "stream",
     "text": [
      "Return of the Jedi (1983)\n",
      "Toy Story (1995)\n",
      "Cosine similarity: 0.834\n"
     ]
    }
   ],
   "source": [
    "print_similarity(181, 1, item_embeddings, indexed_items[\"title\"])"
   ]
  },
  {
   "cell_type": "code",
   "execution_count": 31,
   "metadata": {},
   "outputs": [
    {
     "name": "stdout",
     "output_type": "stream",
     "text": [
      "Return of the Jedi (1983)\n",
      "Return of the Jedi (1983)\n",
      "Cosine similarity: 1.0\n"
     ]
    }
   ],
   "source": [
    "print_similarity(181, 181, item_embeddings, indexed_items[\"title\"])"
   ]
  },
  {
   "cell_type": "markdown",
   "metadata": {
    "collapsed": false
   },
   "source": [
    "*Quick Exercise*:\n",
    "\n",
    "- Find some other films and compare their similarity. Do the results make sense to you? Can you find a pair of films that are very _dissimilar_?"
   ]
  },
  {
   "cell_type": "code",
   "execution_count": 32,
   "metadata": {
    "collapsed": false
   },
   "outputs": [
    {
     "name": "stdout",
     "output_type": "stream",
     "text": [
      "Mad Love (1995)\n",
      "Love Bug, The (1969)\n",
      "Cosine similarity: 0.677\n",
      "Mad Love (1995)\n",
      "Fargo (1996)\n",
      "Cosine similarity: 0.704\n"
     ]
    }
   ],
   "source": [
    "# Search for a movie with \"love\" in its title, the search returned only one movie with \"Jedi\" in title, comparisons weren't possible.\n",
    "partial_title = \"love\"\n",
    "search_results = indexed_items[indexed_items['title'].str.contains(partial_title, case=False)]\n",
    "\n",
    "# Check how many results are found\n",
    "if len(search_results) < 2:\n",
    "    print(f\"Found less than 2 results for the search '{partial_title}'. Try another search.\")\n",
    "else:\n",
    "    # Pick two items to compare\n",
    "    item_a = search_results.index[0]  # First matching movie\n",
    "    item_b = search_results.index[1]  # Second matching movie\n",
    "\n",
    "    # Compare their similarity\n",
    "    print_similarity(item_a, item_b, item_embeddings, indexed_items[\"title\"])\n",
    "\n",
    "    # Find a dissimilar pair\n",
    "    random_item = 100  # Assume item ID 100 is a very different movie\n",
    "    print_similarity(item_a, random_item, item_embeddings, indexed_items[\"title\"])\n"
   ]
  },
  {
   "cell_type": "markdown",
   "metadata": {
    "collapsed": false
   },
   "source": [
    "Sometimes, even without knowing anything about a user, we can recommend films by asking them about a film that they do like. The code below compares the similarity of a given film to all others, and returns the most similar films."
   ]
  },
  {
   "cell_type": "code",
   "execution_count": 33,
   "metadata": {},
   "outputs": [
    {
     "data": {
      "text/plain": [
       "[(50, 'Star Wars (1977)', 1.0),\n",
       " (181, 'Return of the Jedi (1983)', 0.9210893),\n",
       " (172, 'Empire Strikes Back, The (1980)', 0.9172512),\n",
       " (174, 'Raiders of the Lost Ark (1981)', 0.90770304),\n",
       " (1550, 'Destiny Turns on the Radio (1995)', 0.89872515),\n",
       " (257, 'Men in Black (1997)', 0.88697493),\n",
       " (1587, 'Terror in a Texas Town (1958)', 0.87736344),\n",
       " (173, 'Princess Bride, The (1987)', 0.87575465),\n",
       " (1681, 'You So Crazy (1994)', 0.874903),\n",
       " (1027, 'Shooter, The (1995)', 0.87401146)]"
      ]
     },
     "execution_count": 33,
     "metadata": {},
     "output_type": "execute_result"
    }
   ],
   "source": [
    "def most_similar(item_id, item_embeddings, titles,\n",
    "                 top_n=30):\n",
    "    # Compute the cosine similarity between the item and all other items\n",
    "    sims = cosine_similarity(item_embeddings[item_id].reshape(1, -1),\n",
    "                             item_embeddings).ravel()\n",
    "    \n",
    "    # [::-1] makes it possible to reverse the order of a numpy\n",
    "    # array, this is required because most similar items have\n",
    "    # a larger cosine similarity value\n",
    "    sorted_indexes = np.argsort(sims)[::-1]\n",
    "    idxs = sorted_indexes[0:top_n]\n",
    "    return list(zip(idxs, titles[idxs], sims[idxs]))\n",
    "\n",
    "# Find the most similar films to \"Star Wars\"\n",
    "most_similar(50, item_embeddings, indexed_items[\"title\"], top_n=10)"
   ]
  },
  {
   "cell_type": "code",
   "execution_count": 34,
   "metadata": {},
   "outputs": [
    {
     "data": {
      "text/plain": [
       "[(227, 'Star Trek VI: The Undiscovered Country (1991)', 0.9999999),\n",
       " (230, 'Star Trek IV: The Voyage Home (1986)', 0.90330607),\n",
       " (228, 'Star Trek: The Wrath of Khan (1982)', 0.90317667),\n",
       " (1076, 'Pagemaster, The (1994)', 0.8951035),\n",
       " (290, 'Fierce Creatures (1997)', 0.8893642),\n",
       " (1490, 'Fausto (1993)', 0.88418156),\n",
       " (195, 'Terminator, The (1984)', 0.88295525),\n",
       " (1552, 'Hunted, The (1995)', 0.8816874),\n",
       " (1519, 'New Jersey Drive (1995)', 0.8795365),\n",
       " (432, 'Fantasia (1940)', 0.8749088)]"
      ]
     },
     "execution_count": 34,
     "metadata": {},
     "output_type": "execute_result"
    }
   ],
   "source": [
    "# Find the most similar films to \"Star Trek VI: The Undiscovered Country\"\n",
    "most_similar(227, item_embeddings, indexed_items[\"title\"], top_n=10)"
   ]
  },
  {
   "cell_type": "markdown",
   "metadata": {},
   "source": [
    "The similarities do not always make sense: the number of ratings is low and the embedding  does not automatically capture semantic relationships in that context. Better representations arise with higher number of ratings, and less overfitting  in models or maybe better loss function, such as those based on implicit feedback."
   ]
  },
  {
   "cell_type": "markdown",
   "metadata": {},
   "source": [
    "### Visualizing embeddings using TSNE\n",
    "\n",
    "The [t-SNE](https://en.wikipedia.org/wiki/T-distributed_stochastic_neighbor_embedding) algorithm enables us to visualize high dimensional vectors in a 2D space by preserving local neighborhoods. We can use it to get a 2D visualization of the item embeddings and see if similar items are close in the embedding space."
   ]
  },
  {
   "cell_type": "code",
   "execution_count": 35,
   "metadata": {},
   "outputs": [
    {
     "name": "stderr",
     "output_type": "stream",
     "text": [
      "c:\\Users\\Himeshi II\\miniconda3\\envs\\dsi_participant\\lib\\site-packages\\joblib\\externals\\loky\\backend\\context.py:136: UserWarning: Could not find the number of physical cores for the following reason:\n",
      "found 0 physical cores < 1\n",
      "Returning the number of logical cores instead. You can silence this warning by setting LOKY_MAX_CPU_COUNT to the number of cores you want to use.\n",
      "  warnings.warn(\n",
      "  File \"c:\\Users\\Himeshi II\\miniconda3\\envs\\dsi_participant\\lib\\site-packages\\joblib\\externals\\loky\\backend\\context.py\", line 282, in _count_physical_cores\n",
      "    raise ValueError(f\"found {cpu_count_physical} physical cores < 1\")\n"
     ]
    }
   ],
   "source": [
    "from sklearn.manifold import TSNE\n",
    "\n",
    "item_tsne = TSNE(learning_rate=\"auto\", init=\"pca\", perplexity=30).fit_transform(item_embeddings)"
   ]
  },
  {
   "cell_type": "code",
   "execution_count": 36,
   "metadata": {},
   "outputs": [
    {
     "data": {
      "image/png": "[encoded data removed]",
      "text/plain": [
       "<Figure size 1000x1000 with 1 Axes>"
      ]
     },
     "metadata": {},
     "output_type": "display_data"
    }
   ],
   "source": [
    "import matplotlib.pyplot as plt\n",
    "\n",
    "plt.figure(figsize=(10, 10))\n",
    "plt.scatter(item_tsne[:, 0], item_tsne[:, 1]);\n",
    "plt.xticks(()); plt.yticks(());\n",
    "plt.show()"
   ]
  },
  {
   "cell_type": "code",
   "execution_count": 37,
   "metadata": {
    "tags": []
   },
   "outputs": [
    {
     "data": {
      "application/vnd.plotly.v1+json": {
       "config": {
        "plotlyServerURL": "https://plot.ly"
       },
       "data": [
        {
         "customdata": [
          [
           1,
           "Toy Story (1995)",
           452
          ],
          [
           2,
           "GoldenEye (1995)",
           131
          ],
          [
           3,
           "Four Rooms (1995)",
           90
          ],
          [
           4,
           "Get Shorty (1995)",
           209
          ],
          [
           5,
           "Copycat (1995)",
           86
          ],
          [
           6,
           "Shanghai Triad (Yao a yao yao dao waipo qiao) (1995)",
           26
          ],
          [
           7,
           "Twelve Monkeys (1995)",
           392
          ],
          [
           8,
           "Babe (1995)",
           219
          ],
          [
           9,
           "Dead Man Walking (1995)",
           299
          ],
          [
           10,
           "Richard III (1995)",
           89
          ],
          [
           11,
           "Seven (Se7en) (1995)",
           236
          ],
          [
           12,
           "Usual Suspects, The (1995)",
           267
          ],
          [
           13,
           "Mighty Aphrodite (1995)",
           184
          ],
          [
           14,
           "Postino, Il (1994)",
           183
          ],
          [
           15,
           "Mr. Holland's Opus (1995)",
           293
          ],
          [
           16,
           "French Twist (Gazon maudit) (1995)",
           39
          ],
          [
           17,
           "From Dusk Till Dawn (1996)",
           92
          ],
          [
           18,
           "White Balloon, The (1995)",
           10
          ],
          [
           19,
           "Antonia's Line (1995)",
           69
          ],
          [
           20,
           "Angels and Insects (1995)",
           72
          ],
          [
           21,
           "Muppet Treasure Island (1996)",
           84
          ],
          [
           22,
           "Braveheart (1995)",
           297
          ],
          [
           23,
           "Taxi Driver (1976)",
           182
          ],
          [
           24,
           "Rumble in the Bronx (1995)",
           174
          ],
          [
           25,
           "Birdcage, The (1996)",
           293
          ],
          [
           26,
           "Brothers McMullen, The (1995)",
           73
          ],
          [
           27,
           "Bad Boys (1995)",
           57
          ],
          [
           28,
           "Apollo 13 (1995)",
           276
          ],
          [
           29,
           "Batman Forever (1995)",
           114
          ],
          [
           30,
           "Belle de jour (1967)",
           37
          ],
          [
           31,
           "Crimson Tide (1995)",
           154
          ],
          [
           32,
           "Crumb (1994)",
           81
          ],
          [
           33,
           "Desperado (1995)",
           97
          ],
          [
           34,
           "Doom Generation, The (1995)",
           7
          ],
          [
           35,
           "Free Willy 2: The Adventure Home (1995)",
           11
          ],
          [
           36,
           "Mad Love (1995)",
           13
          ],
          [
           37,
           "Nadja (1994)",
           8
          ],
          [
           38,
           "Net, The (1995)",
           120
          ],
          [
           39,
           "Strange Days (1995)",
           87
          ],
          [
           40,
           "To Wong Foo, Thanks for Everything! Julie Newmar (1995)",
           57
          ],
          [
           41,
           "Billy Madison (1995)",
           37
          ],
          [
           42,
           "Clerks (1994)",
           148
          ],
          [
           43,
           "Disclosure (1994)",
           40
          ],
          [
           44,
           "Dolores Claiborne (1994)",
           79
          ],
          [
           45,
           "Eat Drink Man Woman (1994)",
           80
          ],
          [
           46,
           "Exotica (1994)",
           27
          ],
          [
           47,
           "Ed Wood (1994)",
           133
          ],
          [
           48,
           "Hoop Dreams (1994)",
           117
          ],
          [
           49,
           "I.Q. (1994)",
           81
          ],
          [
           50,
           "Star Wars (1977)",
           583
          ],
          [
           51,
           "Legends of the Fall (1994)",
           81
          ],
          [
           52,
           "Madness of King George, The (1994)",
           91
          ],
          [
           53,
           "Natural Born Killers (1994)",
           128
          ],
          [
           54,
           "Outbreak (1995)",
           104
          ],
          [
           55,
           "Professional, The (1994)",
           149
          ],
          [
           56,
           "Pulp Fiction (1994)",
           394
          ],
          [
           57,
           "Priest (1994)",
           40
          ],
          [
           58,
           "Quiz Show (1994)",
           175
          ],
          [
           59,
           "Three Colors: Red (1994)",
           83
          ],
          [
           60,
           "Three Colors: Blue (1993)",
           64
          ],
          [
           61,
           "Three Colors: White (1994)",
           59
          ],
          [
           62,
           "Stargate (1994)",
           127
          ],
          [
           63,
           "Santa Clause, The (1994)",
           82
          ],
          [
           64,
           "Shawshank Redemption, The (1994)",
           283
          ],
          [
           65,
           "What's Eating Gilbert Grape (1993)",
           115
          ],
          [
           66,
           "While You Were Sleeping (1995)",
           162
          ],
          [
           67,
           "Ace Ventura: Pet Detective (1994)",
           103
          ],
          [
           68,
           "Crow, The (1994)",
           134
          ],
          [
           69,
           "Forrest Gump (1994)",
           321
          ],
          [
           70,
           "Four Weddings and a Funeral (1994)",
           251
          ],
          [
           71,
           "Lion King, The (1994)",
           220
          ],
          [
           72,
           "Mask, The (1994)",
           129
          ],
          [
           73,
           "Maverick (1994)",
           128
          ],
          [
           74,
           "Faster Pussycat! Kill! Kill! (1965)",
           7
          ],
          [
           75,
           "Brother Minister: The Assassination of Malcolm X (1994)",
           5
          ],
          [
           76,
           "Carlito's Way (1993)",
           54
          ],
          [
           77,
           "Firm, The (1993)",
           151
          ],
          [
           78,
           "Free Willy (1993)",
           33
          ],
          [
           79,
           "Fugitive, The (1993)",
           336
          ],
          [
           80,
           "Hot Shots! Part Deux (1993)",
           68
          ],
          [
           81,
           "Hudsucker Proxy, The (1994)",
           110
          ],
          [
           82,
           "Jurassic Park (1993)",
           261
          ],
          [
           83,
           "Much Ado About Nothing (1993)",
           176
          ],
          [
           84,
           "Robert A. Heinlein's The Puppet Masters (1994)",
           18
          ],
          [
           85,
           "Ref, The (1994)",
           58
          ],
          [
           86,
           "Remains of the Day, The (1993)",
           150
          ],
          [
           87,
           "Searching for Bobby Fischer (1993)",
           138
          ],
          [
           88,
           "Sleepless in Seattle (1993)",
           213
          ],
          [
           89,
           "Blade Runner (1982)",
           275
          ],
          [
           90,
           "So I Married an Axe Murderer (1993)",
           95
          ],
          [
           91,
           "Nightmare Before Christmas, The (1993)",
           143
          ],
          [
           92,
           "True Romance (1993)",
           104
          ],
          [
           93,
           "Welcome to the Dollhouse (1995)",
           112
          ],
          [
           94,
           "Home Alone (1990)",
           137
          ],
          [
           95,
           "Aladdin (1992)",
           219
          ],
          [
           96,
           "Terminator 2: Judgment Day (1991)",
           295
          ],
          [
           97,
           "Dances with Wolves (1990)",
           256
          ],
          [
           98,
           "Silence of the Lambs, The (1991)",
           390
          ],
          [
           99,
           "Snow White and the Seven Dwarfs (1937)",
           172
          ],
          [
           100,
           "Fargo (1996)",
           508
          ],
          [
           101,
           "Heavy Metal (1981)",
           73
          ],
          [
           102,
           "Aristocats, The (1970)",
           54
          ],
          [
           103,
           "All Dogs Go to Heaven 2 (1996)",
           15
          ],
          [
           104,
           "Theodore Rex (1995)",
           5
          ],
          [
           105,
           "Sgt. Bilko (1996)",
           74
          ],
          [
           106,
           "Diabolique (1996)",
           71
          ],
          [
           107,
           "Moll Flanders (1996)",
           42
          ],
          [
           108,
           "Kids in the Hall: Brain Candy (1996)",
           65
          ],
          [
           109,
           "Mystery Science Theater 3000: The Movie (1996)",
           130
          ],
          [
           110,
           "Operation Dumbo Drop (1995)",
           31
          ],
          [
           111,
           "Truth About Cats & Dogs, The (1996)",
           272
          ],
          [
           112,
           "Flipper (1996)",
           20
          ],
          [
           113,
           "Horseman on the Roof, The (Hussard sur le toit, Le) (1995)",
           9
          ],
          [
           114,
           "Wallace & Gromit: The Best of Aardman Animation (1996)",
           67
          ],
          [
           115,
           "Haunted World of Edward D. Wood Jr., The (1995)",
           15
          ],
          [
           116,
           "Cold Comfort Farm (1995)",
           125
          ],
          [
           117,
           "Rock, The (1996)",
           378
          ],
          [
           118,
           "Twister (1996)",
           293
          ],
          [
           119,
           "Maya Lin: A Strong Clear Vision (1994)",
           4
          ],
          [
           120,
           "Striptease (1996)",
           67
          ],
          [
           121,
           "Independence Day (ID4) (1996)",
           429
          ],
          [
           122,
           "Cable Guy, The (1996)",
           106
          ],
          [
           123,
           "Frighteners, The (1996)",
           115
          ],
          [
           124,
           "Lone Star (1996)",
           187
          ],
          [
           125,
           "Phenomenon (1996)",
           244
          ],
          [
           126,
           "Spitfire Grill, The (1996)",
           97
          ],
          [
           127,
           "Godfather, The (1972)",
           413
          ],
          [
           128,
           "Supercop (1992)",
           65
          ],
          [
           129,
           "Bound (1996)",
           129
          ],
          [
           130,
           "Kansas City (1996)",
           23
          ],
          [
           131,
           "Breakfast at Tiffany's (1961)",
           95
          ],
          [
           132,
           "Wizard of Oz, The (1939)",
           246
          ],
          [
           133,
           "Gone with the Wind (1939)",
           171
          ],
          [
           134,
           "Citizen Kane (1941)",
           198
          ],
          [
           135,
           "2001: A Space Odyssey (1968)",
           259
          ],
          [
           136,
           "Mr. Smith Goes to Washington (1939)",
           105
          ],
          [
           137,
           "Big Night (1996)",
           171
          ],
          [
           138,
           "D3: The Mighty Ducks (1996)",
           19
          ],
          [
           139,
           "Love Bug, The (1969)",
           50
          ],
          [
           140,
           "Homeward Bound: The Incredible Journey (1993)",
           61
          ],
          [
           141,
           "20,000 Leagues Under the Sea (1954)",
           72
          ],
          [
           142,
           "Bedknobs and Broomsticks (1971)",
           57
          ],
          [
           143,
           "Sound of Music, The (1965)",
           222
          ],
          [
           144,
           "Die Hard (1988)",
           243
          ],
          [
           145,
           "Lawnmower Man, The (1992)",
           65
          ],
          [
           146,
           "Unhook the Stars (1996)",
           10
          ],
          [
           147,
           "Long Kiss Goodnight, The (1996)",
           185
          ],
          [
           148,
           "Ghost and the Darkness, The (1996)",
           128
          ],
          [
           149,
           "Jude (1996)",
           23
          ],
          [
           150,
           "Swingers (1996)",
           157
          ],
          [
           151,
           "Willy Wonka and the Chocolate Factory (1971)",
           326
          ],
          [
           152,
           "Sleeper (1973)",
           82
          ],
          [
           153,
           "Fish Called Wanda, A (1988)",
           247
          ],
          [
           154,
           "Monty Python's Life of Brian (1979)",
           174
          ],
          [
           155,
           "Dirty Dancing (1987)",
           98
          ],
          [
           156,
           "Reservoir Dogs (1992)",
           148
          ],
          [
           157,
           "Platoon (1986)",
           127
          ],
          [
           158,
           "Weekend at Bernie's (1989)",
           60
          ],
          [
           159,
           "Basic Instinct (1992)",
           101
          ],
          [
           160,
           "Glengarry Glen Ross (1992)",
           69
          ],
          [
           161,
           "Top Gun (1986)",
           220
          ],
          [
           162,
           "On Golden Pond (1981)",
           106
          ],
          [
           163,
           "Return of the Pink Panther, The (1974)",
           92
          ],
          [
           164,
           "Abyss, The (1989)",
           151
          ],
          [
           165,
           "Jean de Florette (1986)",
           64
          ],
          [
           166,
           "Manon of the Spring (Manon des sources) (1986)",
           58
          ],
          [
           167,
           "Private Benjamin (1980)",
           67
          ],
          [
           168,
           "Monty Python and the Holy Grail (1974)",
           316
          ],
          [
           169,
           "Wrong Trousers, The (1993)",
           118
          ],
          [
           170,
           "Cinema Paradiso (1988)",
           121
          ],
          [
           171,
           "Delicatessen (1991)",
           65
          ],
          [
           172,
           "Empire Strikes Back, The (1980)",
           367
          ],
          [
           173,
           "Princess Bride, The (1987)",
           324
          ],
          [
           174,
           "Raiders of the Lost Ark (1981)",
           420
          ],
          [
           175,
           "Brazil (1985)",
           208
          ],
          [
           176,
           "Aliens (1986)",
           284
          ],
          [
           177,
           "Good, The Bad and The Ugly, The (1966)",
           137
          ],
          [
           178,
           "12 Angry Men (1957)",
           125
          ],
          [
           179,
           "Clockwork Orange, A (1971)",
           221
          ],
          [
           180,
           "Apocalypse Now (1979)",
           221
          ],
          [
           181,
           "Return of the Jedi (1983)",
           507
          ],
          [
           182,
           "GoodFellas (1990)",
           226
          ],
          [
           183,
           "Alien (1979)",
           291
          ],
          [
           184,
           "Army of Darkness (1993)",
           116
          ],
          [
           185,
           "Psycho (1960)",
           239
          ],
          [
           186,
           "Blues Brothers, The (1980)",
           251
          ],
          [
           187,
           "Godfather: Part II, The (1974)",
           209
          ],
          [
           188,
           "Full Metal Jacket (1987)",
           170
          ],
          [
           189,
           "Grand Day Out, A (1992)",
           66
          ],
          [
           190,
           "Henry V (1989)",
           124
          ],
          [
           191,
           "Amadeus (1984)",
           276
          ],
          [
           192,
           "Raging Bull (1980)",
           116
          ],
          [
           193,
           "Right Stuff, The (1983)",
           157
          ],
          [
           194,
           "Sting, The (1973)",
           241
          ],
          [
           195,
           "Terminator, The (1984)",
           301
          ],
          [
           196,
           "Dead Poets Society (1989)",
           251
          ],
          [
           197,
           "Graduate, The (1967)",
           239
          ],
          [
           198,
           "Nikita (La Femme Nikita) (1990)",
           127
          ],
          [
           199,
           "Bridge on the River Kwai, The (1957)",
           165
          ],
          [
           200,
           "Shining, The (1980)",
           206
          ],
          [
           201,
           "Evil Dead II (1987)",
           89
          ],
          [
           202,
           "Groundhog Day (1993)",
           280
          ],
          [
           203,
           "Unforgiven (1992)",
           182
          ],
          [
           204,
           "Back to the Future (1985)",
           350
          ],
          [
           205,
           "Patton (1970)",
           136
          ],
          [
           206,
           "Akira (1988)",
           50
          ],
          [
           207,
           "Cyrano de Bergerac (1990)",
           66
          ],
          [
           208,
           "Young Frankenstein (1974)",
           200
          ],
          [
           209,
           "This Is Spinal Tap (1984)",
           191
          ],
          [
           210,
           "Indiana Jones and the Last Crusade (1989)",
           331
          ],
          [
           211,
           "M*A*S*H (1970)",
           206
          ],
          [
           212,
           "Unbearable Lightness of Being, The (1988)",
           92
          ],
          [
           213,
           "Room with a View, A (1986)",
           134
          ],
          [
           214,
           "Pink Floyd - The Wall (1982)",
           114
          ],
          [
           215,
           "Field of Dreams (1989)",
           212
          ],
          [
           216,
           "When Harry Met Sally... (1989)",
           290
          ],
          [
           217,
           "Bram Stoker's Dracula (1992)",
           120
          ],
          [
           218,
           "Cape Fear (1991)",
           171
          ],
          [
           219,
           "Nightmare on Elm Street, A (1984)",
           111
          ],
          [
           220,
           "Mirror Has Two Faces, The (1996)",
           66
          ],
          [
           221,
           "Breaking the Waves (1996)",
           74
          ],
          [
           222,
           "Star Trek: First Contact (1996)",
           365
          ],
          [
           223,
           "Sling Blade (1996)",
           136
          ],
          [
           224,
           "Ridicule (1996)",
           44
          ],
          [
           225,
           "101 Dalmatians (1996)",
           109
          ],
          [
           226,
           "Die Hard 2 (1990)",
           166
          ],
          [
           227,
           "Star Trek VI: The Undiscovered Country (1991)",
           161
          ],
          [
           228,
           "Star Trek: The Wrath of Khan (1982)",
           244
          ],
          [
           229,
           "Star Trek III: The Search for Spock (1984)",
           171
          ],
          [
           230,
           "Star Trek IV: The Voyage Home (1986)",
           199
          ],
          [
           231,
           "Batman Returns (1992)",
           142
          ],
          [
           232,
           "Young Guns (1988)",
           101
          ],
          [
           233,
           "Under Siege (1992)",
           124
          ],
          [
           234,
           "Jaws (1975)",
           280
          ],
          [
           235,
           "Mars Attacks! (1996)",
           217
          ],
          [
           236,
           "Citizen Ruth (1996)",
           45
          ],
          [
           237,
           "Jerry Maguire (1996)",
           384
          ],
          [
           238,
           "Raising Arizona (1987)",
           256
          ],
          [
           239,
           "Sneakers (1992)",
           150
          ],
          [
           240,
           "Beavis and Butt-head Do America (1996)",
           156
          ],
          [
           241,
           "Last of the Mohicans, The (1992)",
           128
          ],
          [
           242,
           "Kolya (1996)",
           117
          ],
          [
           243,
           "Jungle2Jungle (1997)",
           132
          ],
          [
           244,
           "Smilla's Sense of Snow (1997)",
           48
          ],
          [
           245,
           "Devil's Own, The (1997)",
           240
          ],
          [
           246,
           "Chasing Amy (1997)",
           124
          ],
          [
           247,
           "Turbo: A Power Rangers Movie (1997)",
           5
          ],
          [
           248,
           "Grosse Pointe Blank (1997)",
           160
          ],
          [
           249,
           "Austin Powers: International Man of Mystery (1997)",
           130
          ],
          [
           250,
           "Fifth Element, The (1997)",
           197
          ],
          [
           251,
           "Shall We Dance? (1996)",
           46
          ],
          [
           252,
           "Lost World: Jurassic Park, The (1997)",
           158
          ],
          [
           253,
           "Pillow Book, The (1995)",
           26
          ],
          [
           254,
           "Batman & Robin (1997)",
           62
          ],
          [
           255,
           "My Best Friend's Wedding (1997)",
           172
          ],
          [
           256,
           "When the Cats Away (Chacun cherche son chat) (1996)",
           16
          ],
          [
           257,
           "Men in Black (1997)",
           303
          ],
          [
           258,
           "Contact (1997)",
           509
          ],
          [
           259,
           "George of the Jungle (1997)",
           162
          ],
          [
           260,
           "Event Horizon (1997)",
           127
          ],
          [
           261,
           "Air Bud (1997)",
           43
          ],
          [
           262,
           "In the Company of Men (1997)",
           66
          ],
          [
           263,
           "Steel (1997)",
           19
          ],
          [
           264,
           "Mimic (1997)",
           101
          ],
          [
           265,
           "Hunt for Red October, The (1990)",
           227
          ],
          [
           266,
           "Kull the Conqueror (1997)",
           35
          ],
          [
           267,
           "unknown",
           9
          ],
          [
           268,
           "Chasing Amy (1997)",
           255
          ],
          [
           269,
           "Full Monty, The (1997)",
           315
          ],
          [
           270,
           "Gattaca (1997)",
           136
          ],
          [
           271,
           "Starship Troopers (1997)",
           211
          ],
          [
           272,
           "Good Will Hunting (1997)",
           198
          ],
          [
           273,
           "Heat (1995)",
           223
          ],
          [
           274,
           "Sabrina (1995)",
           190
          ],
          [
           275,
           "Sense and Sensibility (1995)",
           268
          ],
          [
           276,
           "Leaving Las Vegas (1995)",
           298
          ],
          [
           277,
           "Restoration (1995)",
           71
          ],
          [
           278,
           "Bed of Roses (1996)",
           60
          ],
          [
           279,
           "Once Upon a Time... When We Were Colored (1995)",
           28
          ],
          [
           280,
           "Up Close and Personal (1996)",
           85
          ],
          [
           281,
           "River Wild, The (1994)",
           146
          ],
          [
           282,
           "Time to Kill, A (1996)",
           232
          ],
          [
           283,
           "Emma (1996)",
           177
          ],
          [
           284,
           "Tin Cup (1996)",
           193
          ],
          [
           285,
           "Secrets & Lies (1996)",
           162
          ],
          [
           286,
           "English Patient, The (1996)",
           481
          ],
          [
           287,
           "Marvin's Room (1996)",
           78
          ],
          [
           288,
           "Scream (1996)",
           478
          ],
          [
           289,
           "Evita (1996)",
           259
          ],
          [
           290,
           "Fierce Creatures (1997)",
           96
          ],
          [
           291,
           "Absolute Power (1997)",
           127
          ],
          [
           292,
           "Rosewood (1997)",
           114
          ],
          [
           293,
           "Donnie Brasco (1997)",
           147
          ],
          [
           294,
           "Liar Liar (1997)",
           485
          ],
          [
           295,
           "Breakdown (1997)",
           77
          ],
          [
           296,
           "Promesse, La (1996)",
           6
          ],
          [
           297,
           "Ulee's Gold (1997)",
           50
          ],
          [
           298,
           "Face/Off (1997)",
           194
          ],
          [
           299,
           "Hoodlum (1997)",
           73
          ],
          [
           300,
           "Air Force One (1997)",
           431
          ],
          [
           301,
           "In & Out (1997)",
           230
          ],
          [
           302,
           "L.A. Confidential (1997)",
           297
          ],
          [
           303,
           "Ulee's Gold (1997)",
           134
          ],
          [
           304,
           "Fly Away Home (1996)",
           149
          ],
          [
           305,
           "Ice Storm, The (1997)",
           87
          ],
          [
           306,
           "Mrs. Brown (Her Majesty, Mrs. Brown) (1997)",
           96
          ],
          [
           307,
           "Devil's Advocate, The (1997)",
           188
          ],
          [
           308,
           "FairyTale: A True Story (1997)",
           30
          ],
          [
           309,
           "Deceiver (1997)",
           28
          ],
          [
           310,
           "Rainmaker, The (1997)",
           145
          ],
          [
           311,
           "Wings of the Dove, The (1997)",
           75
          ],
          [
           312,
           "Midnight in the Garden of Good and Evil (1997)",
           80
          ],
          [
           313,
           "Titanic (1997)",
           350
          ],
          [
           314,
           "3 Ninjas: High Noon At Mega Mountain (1998)",
           5
          ],
          [
           315,
           "Apt Pupil (1998)",
           160
          ],
          [
           316,
           "As Good As It Gets (1997)",
           112
          ],
          [
           317,
           "In the Name of the Father (1993)",
           102
          ],
          [
           318,
           "Schindler's List (1993)",
           298
          ],
          [
           319,
           "Everyone Says I Love You (1996)",
           168
          ],
          [
           320,
           "Paradise Lost: The Child Murders at Robin Hood Hills (1996)",
           20
          ],
          [
           321,
           "Mother (1996)",
           169
          ],
          [
           322,
           "Murder at 1600 (1997)",
           218
          ],
          [
           323,
           "Dante's Peak (1997)",
           240
          ],
          [
           324,
           "Lost Highway (1997)",
           125
          ],
          [
           325,
           "Crash (1996)",
           128
          ],
          [
           326,
           "G.I. Jane (1997)",
           175
          ],
          [
           327,
           "Cop Land (1997)",
           175
          ],
          [
           328,
           "Conspiracy Theory (1997)",
           295
          ],
          [
           329,
           "Desperate Measures (1998)",
           45
          ],
          [
           330,
           "187 (1997)",
           41
          ],
          [
           331,
           "Edge, The (1997)",
           113
          ],
          [
           332,
           "Kiss the Girls (1997)",
           143
          ],
          [
           333,
           "Game, The (1997)",
           251
          ],
          [
           334,
           "U Turn (1997)",
           64
          ],
          [
           335,
           "How to Be a Player (1997)",
           21
          ],
          [
           336,
           "Playing God (1997)",
           43
          ],
          [
           337,
           "House of Yes, The (1997)",
           18
          ],
          [
           338,
           "Bean (1997)",
           91
          ],
          [
           339,
           "Mad City (1997)",
           47
          ],
          [
           340,
           "Boogie Nights (1997)",
           189
          ],
          [
           341,
           "Critical Care (1997)",
           11
          ],
          [
           342,
           "Man Who Knew Too Little, The (1997)",
           52
          ],
          [
           343,
           "Alien: Resurrection (1997)",
           124
          ],
          [
           344,
           "Apostle, The (1997)",
           55
          ],
          [
           345,
           "Deconstructing Harry (1997)",
           65
          ],
          [
           346,
           "Jackie Brown (1997)",
           126
          ],
          [
           347,
           "Wag the Dog (1997)",
           137
          ],
          [
           348,
           "Desperate Measures (1998)",
           27
          ],
          [
           349,
           "Hard Rain (1998)",
           31
          ],
          [
           350,
           "Fallen (1998)",
           41
          ],
          [
           351,
           "Prophecy II, The (1998)",
           20
          ],
          [
           352,
           "Spice World (1997)",
           26
          ],
          [
           353,
           "Deep Rising (1998)",
           14
          ],
          [
           354,
           "Wedding Singer, The (1998)",
           72
          ],
          [
           355,
           "Sphere (1998)",
           41
          ],
          [
           356,
           "Client, The (1994)",
           97
          ],
          [
           357,
           "One Flew Over the Cuckoo's Nest (1975)",
           264
          ],
          [
           358,
           "Spawn (1997)",
           143
          ],
          [
           359,
           "Assignment, The (1997)",
           18
          ],
          [
           360,
           "Wonderland (1997)",
           10
          ],
          [
           361,
           "Incognito (1997)",
           10
          ],
          [
           362,
           "Blues Brothers 2000 (1998)",
           28
          ],
          [
           363,
           "Sudden Death (1995)",
           47
          ],
          [
           364,
           "Ace Ventura: When Nature Calls (1995)",
           37
          ],
          [
           365,
           "Powder (1995)",
           48
          ],
          [
           366,
           "Dangerous Minds (1995)",
           47
          ],
          [
           367,
           "Clueless (1995)",
           170
          ],
          [
           368,
           "Bio-Dome (1996)",
           31
          ],
          [
           369,
           "Black Sheep (1996)",
           55
          ],
          [
           370,
           "Mary Reilly (1996)",
           39
          ],
          [
           371,
           "Bridges of Madison County, The (1995)",
           67
          ],
          [
           372,
           "Jeffrey (1995)",
           34
          ],
          [
           373,
           "Judge Dredd (1995)",
           39
          ],
          [
           374,
           "Mighty Morphin Power Rangers: The Movie (1995)",
           11
          ],
          [
           375,
           "Showgirls (1995)",
           23
          ],
          [
           376,
           "Houseguest (1994)",
           24
          ],
          [
           377,
           "Heavyweights (1994)",
           13
          ],
          [
           378,
           "Miracle on 34th Street (1994)",
           101
          ],
          [
           379,
           "Tales From the Crypt Presents: Demon Knight (1995)",
           43
          ],
          [
           380,
           "Star Trek: Generations (1994)",
           116
          ],
          [
           381,
           "Muriel's Wedding (1994)",
           100
          ],
          [
           382,
           "Adventures of Priscilla, Queen of the Desert, The (1994)",
           111
          ],
          [
           383,
           "Flintstones, The (1994)",
           31
          ],
          [
           384,
           "Naked Gun 33 1/3: The Final Insult (1994)",
           69
          ],
          [
           385,
           "True Lies (1994)",
           208
          ],
          [
           386,
           "Addams Family Values (1993)",
           87
          ],
          [
           387,
           "Age of Innocence, The (1993)",
           65
          ],
          [
           388,
           "Beverly Hills Cop III (1994)",
           28
          ],
          [
           389,
           "Black Beauty (1994)",
           27
          ],
          [
           390,
           "Fear of a Black Hat (1993)",
           10
          ],
          [
           391,
           "Last Action Hero (1993)",
           59
          ],
          [
           392,
           "Man Without a Face, The (1993)",
           68
          ],
          [
           393,
           "Mrs. Doubtfire (1993)",
           192
          ],
          [
           394,
           "Radioland Murders (1994)",
           12
          ],
          [
           395,
           "Robin Hood: Men in Tights (1993)",
           56
          ],
          [
           396,
           "Serial Mom (1994)",
           54
          ],
          [
           397,
           "Striking Distance (1993)",
           12
          ],
          [
           398,
           "Super Mario Bros. (1993)",
           26
          ],
          [
           399,
           "Three Musketeers, The (1993)",
           89
          ],
          [
           400,
           "Little Rascals, The (1994)",
           18
          ],
          [
           401,
           "Brady Bunch Movie, The (1995)",
           76
          ],
          [
           402,
           "Ghost (1990)",
           170
          ],
          [
           403,
           "Batman (1989)",
           201
          ],
          [
           404,
           "Pinocchio (1940)",
           101
          ],
          [
           405,
           "Mission: Impossible (1996)",
           344
          ],
          [
           406,
           "Thinner (1996)",
           49
          ],
          [
           407,
           "Spy Hard (1996)",
           43
          ],
          [
           408,
           "Close Shave, A (1995)",
           112
          ],
          [
           409,
           "Jack (1996)",
           70
          ],
          [
           410,
           "Kingpin (1996)",
           162
          ],
          [
           411,
           "Nutty Professor, The (1996)",
           163
          ],
          [
           412,
           "Very Brady Sequel, A (1996)",
           93
          ],
          [
           413,
           "Tales from the Crypt Presents: Bordello of Blood (1996)",
           55
          ],
          [
           414,
           "My Favorite Year (1982)",
           62
          ],
          [
           415,
           "Apple Dumpling Gang, The (1975)",
           25
          ],
          [
           416,
           "Old Yeller (1957)",
           64
          ],
          [
           417,
           "Parent Trap, The (1961)",
           73
          ],
          [
           418,
           "Cinderella (1950)",
           129
          ],
          [
           419,
           "Mary Poppins (1964)",
           178
          ],
          [
           420,
           "Alice in Wonderland (1951)",
           81
          ],
          [
           421,
           "William Shakespeare's Romeo and Juliet (1996)",
           106
          ],
          [
           422,
           "Aladdin and the King of Thieves (1996)",
           26
          ],
          [
           423,
           "E.T. the Extra-Terrestrial (1982)",
           300
          ],
          [
           424,
           "Children of the Corn: The Gathering (1996)",
           19
          ],
          [
           425,
           "Bob Roberts (1992)",
           85
          ],
          [
           426,
           "Transformers: The Movie, The (1986)",
           32
          ],
          [
           427,
           "To Kill a Mockingbird (1962)",
           219
          ],
          [
           428,
           "Harold and Maude (1971)",
           121
          ],
          [
           429,
           "Day the Earth Stood Still, The (1951)",
           97
          ],
          [
           430,
           "Duck Soup (1933)",
           93
          ],
          [
           431,
           "Highlander (1986)",
           153
          ],
          [
           432,
           "Fantasia (1940)",
           174
          ],
          [
           433,
           "Heathers (1989)",
           171
          ],
          [
           434,
           "Forbidden Planet (1956)",
           67
          ],
          [
           435,
           "Butch Cassidy and the Sundance Kid (1969)",
           216
          ],
          [
           436,
           "American Werewolf in London, An (1981)",
           99
          ],
          [
           437,
           "Amityville 1992: It's About Time (1992)",
           5
          ],
          [
           438,
           "Amityville 3-D (1983)",
           6
          ],
          [
           439,
           "Amityville: A New Generation (1993)",
           5
          ],
          [
           440,
           "Amityville II: The Possession (1982)",
           14
          ],
          [
           441,
           "Amityville Horror, The (1979)",
           53
          ],
          [
           442,
           "Amityville Curse, The (1990)",
           4
          ],
          [
           443,
           "Birds, The (1963)",
           162
          ],
          [
           444,
           "Blob, The (1958)",
           46
          ],
          [
           445,
           "Body Snatcher, The (1945)",
           22
          ],
          [
           446,
           "Burnt Offerings (1976)",
           9
          ],
          [
           447,
           "Carrie (1976)",
           121
          ],
          [
           448,
           "Omen, The (1976)",
           85
          ],
          [
           449,
           "Star Trek: The Motion Picture (1979)",
           117
          ],
          [
           450,
           "Star Trek V: The Final Frontier (1989)",
           63
          ],
          [
           451,
           "Grease (1978)",
           170
          ],
          [
           452,
           "Jaws 2 (1978)",
           66
          ],
          [
           453,
           "Jaws 3-D (1983)",
           16
          ],
          [
           454,
           "Bastard Out of Carolina (1996)",
           16
          ],
          [
           455,
           "Jackie Chan's First Strike (1996)",
           145
          ],
          [
           456,
           "Beverly Hills Ninja (1997)",
           48
          ],
          [
           457,
           "Free Willy 3: The Rescue (1997)",
           27
          ],
          [
           458,
           "Nixon (1995)",
           90
          ],
          [
           459,
           "Cry, the Beloved Country (1995)",
           24
          ],
          [
           460,
           "Crossing Guard, The (1995)",
           28
          ],
          [
           461,
           "Smoke (1995)",
           74
          ],
          [
           462,
           "Like Water For Chocolate (Como agua para chocolate) (1992)",
           148
          ],
          [
           463,
           "Secret of Roan Inish, The (1994)",
           71
          ],
          [
           464,
           "Vanya on 42nd Street (1994)",
           27
          ],
          [
           465,
           "Jungle Book, The (1994)",
           85
          ],
          [
           466,
           "Red Rock West (1992)",
           52
          ],
          [
           467,
           "Bronx Tale, A (1993)",
           48
          ],
          [
           468,
           "Rudy (1993)",
           64
          ],
          [
           469,
           "Short Cuts (1993)",
           67
          ],
          [
           470,
           "Tombstone (1993)",
           108
          ],
          [
           471,
           "Courage Under Fire (1996)",
           221
          ],
          [
           472,
           "Dragonheart (1996)",
           158
          ],
          [
           473,
           "James and the Giant Peach (1996)",
           126
          ],
          [
           474,
           "Dr. Strangelove or: How I Learned to Stop Worrying and Love the Bomb (1963)",
           194
          ],
          [
           475,
           "Trainspotting (1996)",
           250
          ],
          [
           476,
           "First Wives Club, The (1996)",
           160
          ],
          [
           477,
           "Matilda (1996)",
           95
          ],
          [
           478,
           "Philadelphia Story, The (1940)",
           104
          ],
          [
           479,
           "Vertigo (1958)",
           179
          ],
          [
           480,
           "North by Northwest (1959)",
           179
          ],
          [
           481,
           "Apartment, The (1960)",
           63
          ],
          [
           482,
           "Some Like It Hot (1959)",
           128
          ],
          [
           483,
           "Casablanca (1942)",
           243
          ],
          [
           484,
           "Maltese Falcon, The (1941)",
           138
          ],
          [
           485,
           "My Fair Lady (1964)",
           125
          ],
          [
           486,
           "Sabrina (1954)",
           64
          ],
          [
           487,
           "Roman Holiday (1953)",
           68
          ],
          [
           488,
           "Sunset Blvd. (1950)",
           65
          ],
          [
           489,
           "Notorious (1946)",
           52
          ],
          [
           490,
           "To Catch a Thief (1955)",
           50
          ],
          [
           491,
           "Adventures of Robin Hood, The (1938)",
           67
          ],
          [
           492,
           "East of Eden (1955)",
           59
          ],
          [
           493,
           "Thin Man, The (1934)",
           60
          ],
          [
           494,
           "His Girl Friday (1940)",
           56
          ],
          [
           495,
           "Around the World in 80 Days (1956)",
           59
          ],
          [
           496,
           "It's a Wonderful Life (1946)",
           231
          ],
          [
           497,
           "Bringing Up Baby (1938)",
           68
          ],
          [
           498,
           "African Queen, The (1951)",
           152
          ],
          [
           499,
           "Cat on a Hot Tin Roof (1958)",
           62
          ],
          [
           500,
           "Fly Away Home (1996)",
           31
          ],
          [
           501,
           "Dumbo (1941)",
           123
          ],
          [
           502,
           "Bananas (1971)",
           57
          ],
          [
           503,
           "Candidate, The (1972)",
           39
          ],
          [
           504,
           "Bonnie and Clyde (1967)",
           122
          ],
          [
           505,
           "Dial M for Murder (1954)",
           68
          ],
          [
           506,
           "Rebel Without a Cause (1955)",
           90
          ],
          [
           507,
           "Streetcar Named Desire, A (1951)",
           98
          ],
          [
           508,
           "People vs. Larry Flynt, The (1996)",
           215
          ],
          [
           509,
           "My Left Foot (1989)",
           121
          ],
          [
           510,
           "Magnificent Seven, The (1954)",
           121
          ],
          [
           511,
           "Lawrence of Arabia (1962)",
           173
          ],
          [
           512,
           "Wings of Desire (1987)",
           57
          ],
          [
           513,
           "Third Man, The (1949)",
           72
          ],
          [
           514,
           "Annie Hall (1977)",
           180
          ],
          [
           515,
           "Boot, Das (1981)",
           201
          ],
          [
           516,
           "Local Hero (1983)",
           63
          ],
          [
           517,
           "Manhattan (1979)",
           91
          ],
          [
           518,
           "Miller's Crossing (1990)",
           89
          ],
          [
           519,
           "Treasure of the Sierra Madre, The (1948)",
           80
          ],
          [
           520,
           "Great Escape, The (1963)",
           124
          ],
          [
           521,
           "Deer Hunter, The (1978)",
           120
          ],
          [
           522,
           "Down by Law (1986)",
           35
          ],
          [
           523,
           "Cool Hand Luke (1967)",
           164
          ],
          [
           524,
           "Great Dictator, The (1940)",
           46
          ],
          [
           525,
           "Big Sleep, The (1946)",
           73
          ],
          [
           526,
           "Ben-Hur (1959)",
           124
          ],
          [
           527,
           "Gandhi (1982)",
           195
          ],
          [
           528,
           "Killing Fields, The (1984)",
           121
          ],
          [
           529,
           "My Life as a Dog (Mitt liv som hund) (1985)",
           93
          ],
          [
           530,
           "Man Who Would Be King, The (1975)",
           80
          ],
          [
           531,
           "Shine (1996)",
           129
          ],
          [
           532,
           "Kama Sutra: A Tale of Love (1996)",
           22
          ],
          [
           533,
           "Daytrippers, The (1996)",
           15
          ],
          [
           534,
           "Traveller (1997)",
           13
          ],
          [
           535,
           "Addicted to Love (1997)",
           54
          ],
          [
           536,
           "Ponette (1996)",
           10
          ],
          [
           537,
           "My Own Private Idaho (1991)",
           30
          ],
          [
           538,
           "Anastasia (1997)",
           66
          ],
          [
           539,
           "Mouse Hunt (1997)",
           44
          ],
          [
           540,
           "Money Train (1995)",
           43
          ],
          [
           541,
           "Mortal Kombat (1995)",
           49
          ],
          [
           542,
           "Pocahontas (1995)",
           51
          ],
          [
           543,
           "Misérables, Les (1995)",
           21
          ],
          [
           544,
           "Things to Do in Denver when You're Dead (1995)",
           71
          ],
          [
           545,
           "Vampire in Brooklyn (1995)",
           12
          ],
          [
           546,
           "Broken Arrow (1996)",
           254
          ],
          [
           547,
           "Young Poisoner's Handbook, The (1995)",
           41
          ],
          [
           548,
           "NeverEnding Story III, The (1994)",
           12
          ],
          [
           549,
           "Rob Roy (1995)",
           92
          ],
          [
           550,
           "Die Hard: With a Vengeance (1995)",
           151
          ],
          [
           551,
           "Lord of Illusions (1995)",
           24
          ],
          [
           552,
           "Species (1995)",
           45
          ],
          [
           553,
           "Walk in the Clouds, A (1995)",
           63
          ],
          [
           554,
           "Waterworld (1995)",
           102
          ],
          [
           555,
           "White Man's Burden (1995)",
           10
          ],
          [
           556,
           "Wild Bill (1995)",
           12
          ],
          [
           557,
           "Farinelli: il castrato (1994)",
           17
          ],
          [
           558,
           "Heavenly Creatures (1994)",
           70
          ],
          [
           559,
           "Interview with the Vampire (1994)",
           137
          ],
          [
           560,
           "Kid in King Arthur's Court, A (1995)",
           22
          ],
          [
           561,
           "Mary Shelley's Frankenstein (1994)",
           59
          ],
          [
           562,
           "Quick and the Dead, The (1995)",
           48
          ],
          [
           563,
           "Stephen King's The Langoliers (1995)",
           29
          ],
          [
           564,
           "Tales from the Hood (1995)",
           27
          ],
          [
           565,
           "Village of the Damned (1995)",
           22
          ],
          [
           566,
           "Clear and Present Danger (1994)",
           179
          ],
          [
           567,
           "Wes Craven's New Nightmare (1994)",
           35
          ],
          [
           568,
           "Speed (1994)",
           230
          ],
          [
           569,
           "Wolf (1994)",
           67
          ],
          [
           570,
           "Wyatt Earp (1994)",
           50
          ],
          [
           571,
           "Another Stakeout (1993)",
           28
          ],
          [
           572,
           "Blown Away (1994)",
           29
          ],
          [
           573,
           "Body Snatchers (1993)",
           33
          ],
          [
           574,
           "Boxing Helena (1993)",
           15
          ],
          [
           575,
           "City Slickers II: The Legend of Curly's Gold (1994)",
           44
          ],
          [
           576,
           "Cliffhanger (1993)",
           93
          ],
          [
           577,
           "Coneheads (1993)",
           41
          ],
          [
           578,
           "Demolition Man (1993)",
           92
          ],
          [
           579,
           "Fatal Instinct (1993)",
           19
          ],
          [
           580,
           "Englishman Who Went Up a Hill, But Came Down a Mountain, The (1995)",
           32
          ],
          [
           581,
           "Kalifornia (1993)",
           59
          ],
          [
           582,
           "Piano, The (1993)",
           168
          ],
          [
           583,
           "Romeo Is Bleeding (1993)",
           37
          ],
          [
           584,
           "Secret Garden, The (1993)",
           79
          ],
          [
           585,
           "Son in Law (1993)",
           39
          ],
          [
           586,
           "Terminal Velocity (1994)",
           34
          ],
          [
           587,
           "Hour of the Pig, The (1993)",
           14
          ],
          [
           588,
           "Beauty and the Beast (1991)",
           202
          ],
          [
           589,
           "Wild Bunch, The (1969)",
           43
          ],
          [
           590,
           "Hellraiser: Bloodline (1996)",
           18
          ],
          [
           591,
           "Primal Fear (1996)",
           178
          ],
          [
           592,
           "True Crime (1995)",
           9
          ],
          [
           593,
           "Stalingrad (1993)",
           12
          ],
          [
           594,
           "Heavy (1995)",
           5
          ],
          [
           595,
           "Fan, The (1996)",
           64
          ],
          [
           596,
           "Hunchback of Notre Dame, The (1996)",
           127
          ],
          [
           597,
           "Eraser (1996)",
           206
          ],
          [
           598,
           "Big Squeeze, The (1996)",
           4
          ],
          [
           599,
           "Police Story 4: Project S (Chao ji ji hua) (1993)",
           1
          ],
          [
           600,
           "Daniel Defoe's Robinson Crusoe (1996)",
           2
          ],
          [
           601,
           "For Whom the Bell Tolls (1943)",
           20
          ],
          [
           602,
           "American in Paris, An (1951)",
           50
          ],
          [
           603,
           "Rear Window (1954)",
           209
          ],
          [
           604,
           "It Happened One Night (1934)",
           81
          ],
          [
           605,
           "Meet Me in St. Louis (1944)",
           31
          ],
          [
           606,
           "All About Eve (1950)",
           66
          ],
          [
           607,
           "Rebecca (1940)",
           66
          ],
          [
           608,
           "Spellbound (1945)",
           30
          ],
          [
           609,
           "Father of the Bride (1950)",
           60
          ],
          [
           610,
           "Gigi (1958)",
           41
          ],
          [
           611,
           "Laura (1944)",
           40
          ],
          [
           612,
           "Lost Horizon (1937)",
           34
          ],
          [
           613,
           "My Man Godfrey (1936)",
           27
          ],
          [
           614,
           "Giant (1956)",
           51
          ],
          [
           615,
           "39 Steps, The (1935)",
           59
          ],
          [
           616,
           "Night of the Living Dead (1968)",
           64
          ],
          [
           617,
           "Blue Angel, The (Blaue Engel, Der) (1930)",
           18
          ],
          [
           618,
           "Picnic (1955)",
           18
          ],
          [
           619,
           "Extreme Measures (1996)",
           64
          ],
          [
           620,
           "Chamber, The (1996)",
           43
          ],
          [
           621,
           "Davy Crockett, King of the Wild Frontier (1955)",
           11
          ],
          [
           622,
           "Swiss Family Robinson (1960)",
           39
          ],
          [
           623,
           "Angels in the Outfield (1994)",
           39
          ],
          [
           624,
           "Three Caballeros, The (1945)",
           22
          ],
          [
           625,
           "Sword in the Stone, The (1963)",
           82
          ],
          [
           626,
           "So Dear to My Heart (1949)",
           4
          ],
          [
           627,
           "Robin Hood: Prince of Thieves (1991)",
           75
          ],
          [
           628,
           "Sleepers (1996)",
           169
          ],
          [
           629,
           "Victor/Victoria (1982)",
           77
          ],
          [
           630,
           "Great Race, The (1965)",
           31
          ],
          [
           631,
           "Crying Game, The (1992)",
           119
          ],
          [
           632,
           "Sophie's Choice (1982)",
           58
          ],
          [
           633,
           "Christmas Carol, A (1938)",
           69
          ],
          [
           634,
           "Microcosmos: Le peuple de l'herbe (1996)",
           24
          ],
          [
           635,
           "Fog, The (1980)",
           23
          ],
          [
           636,
           "Escape from New York (1981)",
           91
          ],
          [
           637,
           "Howling, The (1981)",
           38
          ],
          [
           638,
           "Return of Martin Guerre, The (Retour de Martin Guerre, Le) (1982)",
           44
          ],
          [
           639,
           "Tin Drum, The (Blechtrommel, Die) (1979)",
           40
          ],
          [
           640,
           "Cook the Thief His Wife & Her Lover, The (1989)",
           82
          ],
          [
           641,
           "Paths of Glory (1957)",
           33
          ],
          [
           642,
           "Grifters, The (1990)",
           89
          ],
          [
           643,
           "The Innocent (1994)",
           4
          ],
          [
           644,
           "Thin Blue Line, The (1988)",
           35
          ],
          [
           645,
           "Paris Is Burning (1990)",
           27
          ],
          [
           646,
           "Once Upon a Time in the West (1969)",
           38
          ],
          [
           647,
           "Ran (1985)",
           70
          ],
          [
           648,
           "Quiet Man, The (1952)",
           67
          ],
          [
           649,
           "Once Upon a Time in America (1984)",
           50
          ],
          [
           650,
           "Seventh Seal, The (Sjunde inseglet, Det) (1957)",
           72
          ],
          [
           651,
           "Glory (1989)",
           171
          ],
          [
           652,
           "Rosencrantz and Guildenstern Are Dead (1990)",
           90
          ],
          [
           653,
           "Touch of Evil (1958)",
           34
          ],
          [
           654,
           "Chinatown (1974)",
           147
          ],
          [
           655,
           "Stand by Me (1986)",
           227
          ],
          [
           656,
           "M (1931)",
           44
          ],
          [
           657,
           "Manchurian Candidate, The (1962)",
           131
          ],
          [
           658,
           "Pump Up the Volume (1990)",
           79
          ],
          [
           659,
           "Arsenic and Old Lace (1944)",
           115
          ],
          [
           660,
           "Fried Green Tomatoes (1991)",
           153
          ],
          [
           661,
           "High Noon (1952)",
           88
          ],
          [
           662,
           "Somewhere in Time (1980)",
           82
          ],
          [
           663,
           "Being There (1979)",
           116
          ],
          [
           664,
           "Paris, Texas (1984)",
           46
          ],
          [
           665,
           "Alien 3 (1992)",
           100
          ],
          [
           666,
           "Blood For Dracula (Andy Warhol's Dracula) (1974)",
           5
          ],
          [
           667,
           "Audrey Rose (1977)",
           12
          ],
          [
           668,
           "Blood Beach (1981)",
           6
          ],
          [
           669,
           "Body Parts (1991)",
           13
          ],
          [
           670,
           "Body Snatchers (1993)",
           36
          ],
          [
           671,
           "Bride of Frankenstein (1935)",
           46
          ],
          [
           672,
           "Candyman (1992)",
           65
          ],
          [
           673,
           "Cape Fear (1962)",
           86
          ],
          [
           674,
           "Cat People (1982)",
           48
          ],
          [
           675,
           "Nosferatu (Nosferatu, eine Symphonie des Grauens) (1922)",
           54
          ],
          [
           676,
           "Crucible, The (1996)",
           77
          ],
          [
           677,
           "Fire on the Mountain (1996)",
           1
          ],
          [
           678,
           "Volcano (1997)",
           219
          ],
          [
           679,
           "Conan the Barbarian (1981)",
           107
          ],
          [
           680,
           "Kull the Conqueror (1997)",
           34
          ],
          [
           681,
           "Wishmaster (1997)",
           27
          ],
          [
           682,
           "I Know What You Did Last Summer (1997)",
           100
          ],
          [
           683,
           "Rocket Man (1997)",
           49
          ],
          [
           684,
           "In the Line of Fire (1993)",
           169
          ],
          [
           685,
           "Executive Decision (1996)",
           157
          ],
          [
           686,
           "Perfect World, A (1993)",
           50
          ],
          [
           687,
           "McHale's Navy (1997)",
           69
          ],
          [
           688,
           "Leave It to Beaver (1997)",
           44
          ],
          [
           689,
           "Jackal, The (1997)",
           87
          ],
          [
           690,
           "Seven Years in Tibet (1997)",
           155
          ],
          [
           691,
           "Dark City (1998)",
           16
          ],
          [
           692,
           "American President, The (1995)",
           164
          ],
          [
           693,
           "Casino (1995)",
           91
          ],
          [
           694,
           "Persuasion (1995)",
           44
          ],
          [
           695,
           "Kicking and Screaming (1995)",
           13
          ],
          [
           696,
           "City Hall (1996)",
           79
          ],
          [
           697,
           "Basketball Diaries, The (1995)",
           40
          ],
          [
           698,
           "Browning Version, The (1994)",
           10
          ],
          [
           699,
           "Little Women (1994)",
           102
          ],
          [
           700,
           "Miami Rhapsody (1995)",
           15
          ],
          [
           701,
           "Wonderful, Horrible Life of Leni Riefenstahl, The (1993)",
           10
          ],
          [
           702,
           "Barcelona (1994)",
           53
          ],
          [
           703,
           "Widows' Peak (1994)",
           19
          ],
          [
           704,
           "House of the Spirits, The (1993)",
           24
          ],
          [
           705,
           "Singin' in the Rain (1952)",
           137
          ],
          [
           706,
           "Bad Moon (1996)",
           6
          ],
          [
           707,
           "Enchanted April (1991)",
           70
          ],
          [
           708,
           "Sex, Lies, and Videotape (1989)",
           101
          ],
          [
           709,
           "Strictly Ballroom (1992)",
           104
          ],
          [
           710,
           "Better Off Dead... (1985)",
           79
          ],
          [
           711,
           "Substance of Fire, The (1996)",
           1
          ],
          [
           712,
           "Tin Men (1987)",
           51
          ],
          [
           713,
           "Othello (1995)",
           72
          ],
          [
           714,
           "Carrington (1995)",
           13
          ],
          [
           715,
           "To Die For (1995)",
           87
          ],
          [
           716,
           "Home for the Holidays (1995)",
           58
          ],
          [
           717,
           "Juror, The (1996)",
           82
          ],
          [
           718,
           "In the Bleak Midwinter (1995)",
           16
          ],
          [
           719,
           "Canadian Bacon (1994)",
           29
          ],
          [
           720,
           "First Knight (1995)",
           86
          ],
          [
           721,
           "Mallrats (1995)",
           54
          ],
          [
           722,
           "Nine Months (1995)",
           58
          ],
          [
           723,
           "Boys on the Side (1995)",
           34
          ],
          [
           724,
           "Circle of Friends (1995)",
           76
          ],
          [
           725,
           "Exit to Eden (1994)",
           16
          ],
          [
           726,
           "Fluke (1995)",
           14
          ],
          [
           727,
           "Immortal Beloved (1994)",
           63
          ],
          [
           728,
           "Junior (1994)",
           45
          ],
          [
           729,
           "Nell (1994)",
           81
          ],
          [
           730,
           "Queen Margot (Reine Margot, La) (1994)",
           24
          ],
          [
           731,
           "Corrina, Corrina (1994)",
           39
          ],
          [
           732,
           "Dave (1993)",
           180
          ],
          [
           733,
           "Go Fish (1994)",
           15
          ],
          [
           734,
           "Made in America (1993)",
           27
          ],
          [
           735,
           "Philadelphia (1993)",
           137
          ],
          [
           736,
           "Shadowlands (1993)",
           78
          ],
          [
           737,
           "Sirens (1994)",
           59
          ],
          [
           738,
           "Threesome (1994)",
           31
          ],
          [
           739,
           "Pretty Woman (1990)",
           164
          ],
          [
           740,
           "Jane Eyre (1996)",
           63
          ],
          [
           741,
           "Last Supper, The (1995)",
           58
          ],
          [
           742,
           "Ransom (1996)",
           267
          ],
          [
           743,
           "Crow: City of Angels, The (1996)",
           39
          ],
          [
           744,
           "Michael Collins (1996)",
           92
          ],
          [
           745,
           "Ruling Class, The (1972)",
           16
          ],
          [
           746,
           "Real Genius (1985)",
           119
          ],
          [
           747,
           "Benny & Joon (1993)",
           102
          ],
          [
           748,
           "Saint, The (1997)",
           316
          ],
          [
           749,
           "MatchMaker, The (1997)",
           51
          ],
          [
           750,
           "Amistad (1997)",
           124
          ],
          [
           751,
           "Tomorrow Never Dies (1997)",
           180
          ],
          [
           752,
           "Replacement Killers, The (1998)",
           39
          ],
          [
           753,
           "Burnt By the Sun (1994)",
           24
          ],
          [
           754,
           "Red Corner (1997)",
           57
          ],
          [
           755,
           "Jumanji (1995)",
           96
          ],
          [
           756,
           "Father of the Bride Part II (1995)",
           128
          ],
          [
           757,
           "Across the Sea of Time (1995)",
           4
          ],
          [
           758,
           "Lawnmower Man 2: Beyond Cyberspace (1996)",
           21
          ],
          [
           759,
           "Fair Game (1995)",
           11
          ],
          [
           760,
           "Screamers (1995)",
           46
          ],
          [
           761,
           "Nick of Time (1995)",
           44
          ],
          [
           762,
           "Beautiful Girls (1996)",
           115
          ],
          [
           763,
           "Happy Gilmore (1996)",
           149
          ],
          [
           764,
           "If Lucy Fell (1996)",
           29
          ],
          [
           765,
           "Boomerang (1992)",
           32
          ],
          [
           766,
           "Man of the Year (1995)",
           9
          ],
          [
           767,
           "Addiction, The (1995)",
           11
          ],
          [
           768,
           "Casper (1995)",
           52
          ],
          [
           769,
           "Congo (1995)",
           42
          ],
          [
           770,
           "Devil in a Blue Dress (1995)",
           57
          ],
          [
           771,
           "Johnny Mnemonic (1995)",
           41
          ],
          [
           772,
           "Kids (1995)",
           49
          ],
          [
           773,
           "Mute Witness (1994)",
           17
          ],
          [
           774,
           "Prophecy, The (1995)",
           32
          ],
          [
           775,
           "Something to Talk About (1995)",
           26
          ],
          [
           776,
           "Three Wishes (1995)",
           9
          ],
          [
           777,
           "Castle Freak (1995)",
           4
          ],
          [
           778,
           "Don Juan DeMarco (1995)",
           76
          ],
          [
           779,
           "Drop Zone (1994)",
           31
          ],
          [
           780,
           "Dumb & Dumber (1994)",
           69
          ],
          [
           781,
           "French Kiss (1995)",
           84
          ],
          [
           782,
           "Little Odessa (1994)",
           10
          ],
          [
           783,
           "Milk Money (1994)",
           37
          ],
          [
           784,
           "Beyond Bedlam (1993)",
           2
          ],
          [
           785,
           "Only You (1994)",
           39
          ],
          [
           786,
           "Perez Family, The (1995)",
           14
          ],
          [
           787,
           "Roommates (1995)",
           13
          ],
          [
           788,
           "Relative Fear (1994)",
           3
          ],
          [
           789,
           "Swimming with Sharks (1995)",
           47
          ],
          [
           790,
           "Tommy Boy (1995)",
           66
          ],
          [
           791,
           "Baby-Sitters Club, The (1995)",
           10
          ],
          [
           792,
           "Bullets Over Broadway (1994)",
           86
          ],
          [
           793,
           "Crooklyn (1994)",
           10
          ],
          [
           794,
           "It Could Happen to You (1994)",
           46
          ],
          [
           795,
           "Richie Rich (1994)",
           21
          ],
          [
           796,
           "Speechless (1994)",
           36
          ],
          [
           797,
           "Timecop (1994)",
           31
          ],
          [
           798,
           "Bad Company (1995)",
           9
          ],
          [
           799,
           "Boys Life (1995)",
           5
          ],
          [
           800,
           "In the Mouth of Madness (1995)",
           26
          ],
          [
           801,
           "Air Up There, The (1994)",
           16
          ],
          [
           802,
           "Hard Target (1993)",
           40
          ],
          [
           803,
           "Heaven & Earth (1993)",
           9
          ],
          [
           804,
           "Jimmy Hollywood (1994)",
           8
          ],
          [
           805,
           "Manhattan Murder Mystery (1993)",
           27
          ],
          [
           806,
           "Menace II Society (1993)",
           50
          ],
          [
           807,
           "Poetic Justice (1993)",
           9
          ],
          [
           808,
           "Program, The (1993)",
           31
          ],
          [
           809,
           "Rising Sun (1993)",
           43
          ],
          [
           810,
           "Shadow, The (1994)",
           45
          ],
          [
           811,
           "Thirty-Two Short Films About Glenn Gould (1993)",
           18
          ],
          [
           812,
           "Andre (1994)",
           18
          ],
          [
           813,
           "Celluloid Closet, The (1995)",
           56
          ],
          [
           814,
           "Great Day in Harlem, A (1994)",
           1
          ],
          [
           815,
           "One Fine Day (1996)",
           112
          ],
          [
           816,
           "Candyman: Farewell to the Flesh (1995)",
           21
          ],
          [
           817,
           "Frisk (1995)",
           3
          ],
          [
           818,
           "Girl 6 (1996)",
           25
          ],
          [
           819,
           "Eddie (1996)",
           40
          ],
          [
           820,
           "Space Jam (1996)",
           93
          ],
          [
           821,
           "Mrs. Winterbourne (1996)",
           22
          ],
          [
           822,
           "Faces (1968)",
           4
          ],
          [
           823,
           "Mulholland Falls (1996)",
           82
          ],
          [
           824,
           "Great White Hype, The (1996)",
           49
          ],
          [
           825,
           "Arrival, The (1996)",
           83
          ],
          [
           826,
           "Phantom, The (1996)",
           80
          ],
          [
           827,
           "Daylight (1996)",
           57
          ],
          [
           828,
           "Alaska (1996)",
           13
          ],
          [
           829,
           "Fled (1996)",
           34
          ],
          [
           830,
           "Power 98 (1995)",
           1
          ],
          [
           831,
           "Escape from L.A. (1996)",
           91
          ],
          [
           832,
           "Bogus (1996)",
           22
          ],
          [
           833,
           "Bulletproof (1996)",
           49
          ],
          [
           834,
           "Halloween: The Curse of Michael Myers (1995)",
           25
          ],
          [
           835,
           "Gay Divorcee, The (1934)",
           15
          ],
          [
           836,
           "Ninotchka (1939)",
           26
          ],
          [
           837,
           "Meet John Doe (1941)",
           25
          ],
          [
           838,
           "In the Line of Duty 2 (1987)",
           4
          ],
          [
           839,
           "Loch Ness (1995)",
           4
          ],
          [
           840,
           "Last Man Standing (1996)",
           53
          ],
          [
           841,
           "Glimmer Man, The (1996)",
           48
          ],
          [
           842,
           "Pollyanna (1960)",
           27
          ],
          [
           843,
           "Shaggy Dog, The (1959)",
           30
          ],
          [
           844,
           "Freeway (1996)",
           42
          ],
          [
           845,
           "That Thing You Do! (1996)",
           176
          ],
          [
           846,
           "To Gillian on Her 37th Birthday (1996)",
           44
          ],
          [
           847,
           "Looking for Richard (1996)",
           55
          ],
          [
           848,
           "Murder, My Sweet (1944)",
           9
          ],
          [
           849,
           "Days of Thunder (1990)",
           53
          ],
          [
           850,
           "Perfect Candidate, A (1996)",
           4
          ],
          [
           851,
           "Two or Three Things I Know About Her (1966)",
           4
          ],
          [
           852,
           "Bloody Child, The (1996)",
           1
          ],
          [
           853,
           "Braindead (1992)",
           14
          ],
          [
           854,
           "Bad Taste (1987)",
           16
          ],
          [
           855,
           "Diva (1981)",
           66
          ],
          [
           856,
           "Night on Earth (1991)",
           36
          ],
          [
           857,
           "Paris Was a Woman (1995)",
           1
          ],
          [
           858,
           "Amityville: Dollhouse (1996)",
           3
          ],
          [
           859,
           "April Fool's Day (1986)",
           15
          ],
          [
           860,
           "Believers, The (1987)",
           16
          ],
          [
           861,
           "Nosferatu a Venezia (1986)",
           3
          ],
          [
           862,
           "Jingle All the Way (1996)",
           18
          ],
          [
           863,
           "Garden of Finzi-Contini, The (Giardino dei Finzi-Contini, Il) (1970)",
           24
          ],
          [
           864,
           "My Fellow Americans (1996)",
           86
          ],
          [
           865,
           "Ice Storm, The (1997)",
           21
          ],
          [
           866,
           "Michael (1996)",
           119
          ],
          [
           867,
           "Whole Wide World, The (1996)",
           6
          ],
          [
           868,
           "Hearts and Minds (1996)",
           5
          ],
          [
           869,
           "Fools Rush In (1997)",
           24
          ],
          [
           870,
           "Touch (1997)",
           9
          ],
          [
           871,
           "Vegas Vacation (1997)",
           75
          ],
          [
           872,
           "Love Jones (1997)",
           42
          ],
          [
           873,
           "Picture Perfect (1997)",
           81
          ],
          [
           874,
           "Career Girls (1997)",
           39
          ],
          [
           875,
           "She's So Lovely (1997)",
           53
          ],
          [
           876,
           "Money Talks (1997)",
           47
          ],
          [
           877,
           "Excess Baggage (1997)",
           52
          ],
          [
           878,
           "That Darn Cat! (1997)",
           33
          ],
          [
           879,
           "Peacemaker, The (1997)",
           136
          ],
          [
           880,
           "Soul Food (1997)",
           59
          ],
          [
           881,
           "Money Talks (1997)",
           45
          ],
          [
           882,
           "Washington Square (1997)",
           34
          ],
          [
           883,
           "Telling Lies in America (1997)",
           13
          ],
          [
           884,
           "Year of the Horse (1997)",
           7
          ],
          [
           885,
           "Phantoms (1998)",
           13
          ],
          [
           886,
           "Life Less Ordinary, A (1997)",
           53
          ],
          [
           887,
           "Eve's Bayou (1997)",
           64
          ],
          [
           888,
           "One Night Stand (1997)",
           15
          ],
          [
           889,
           "Tango Lesson, The (1997)",
           13
          ],
          [
           890,
           "Mortal Kombat: Annihilation (1997)",
           43
          ],
          [
           891,
           "Bent (1997)",
           6
          ],
          [
           892,
           "Flubber (1997)",
           53
          ],
          [
           893,
           "For Richer or Poorer (1997)",
           14
          ],
          [
           894,
           "Home Alone 3 (1997)",
           19
          ],
          [
           895,
           "Scream 2 (1997)",
           106
          ],
          [
           896,
           "Sweet Hereafter, The (1997)",
           44
          ],
          [
           897,
           "Time Tracers (1995)",
           2
          ],
          [
           898,
           "Postman, The (1997)",
           58
          ],
          [
           899,
           "Winter Guest, The (1997)",
           9
          ],
          [
           900,
           "Kundun (1997)",
           42
          ],
          [
           901,
           "Mr. Magoo (1997)",
           12
          ],
          [
           902,
           "Big Lebowski, The (1998)",
           42
          ],
          [
           903,
           "Afterglow (1997)",
           18
          ],
          [
           904,
           "Ma vie en rose (My Life in Pink) (1997)",
           20
          ],
          [
           905,
           "Great Expectations (1998)",
           27
          ],
          [
           906,
           "Oscar & Lucinda (1997)",
           21
          ],
          [
           907,
           "Vermin (1998)",
           2
          ],
          [
           908,
           "Half Baked (1998)",
           20
          ],
          [
           909,
           "Dangerous Beauty (1998)",
           13
          ],
          [
           910,
           "Nil By Mouth (1997)",
           4
          ],
          [
           911,
           "Twilight (1998)",
           4
          ],
          [
           912,
           "U.S. Marshalls (1998)",
           9
          ],
          [
           913,
           "Love and Death on Long Island (1997)",
           2
          ],
          [
           914,
           "Wild Things (1998)",
           11
          ],
          [
           915,
           "Primary Colors (1998)",
           13
          ],
          [
           916,
           "Lost in Space (1998)",
           18
          ],
          [
           917,
           "Mercury Rising (1998)",
           7
          ],
          [
           918,
           "City of Angels (1998)",
           8
          ],
          [
           919,
           "City of Lost Children, The (1995)",
           96
          ],
          [
           920,
           "Two Bits (1995)",
           5
          ],
          [
           921,
           "Farewell My Concubine (1993)",
           46
          ],
          [
           922,
           "Dead Man (1995)",
           34
          ],
          [
           923,
           "Raise the Red Lantern (1991)",
           58
          ],
          [
           924,
           "White Squall (1996)",
           85
          ],
          [
           925,
           "Unforgettable (1996)",
           34
          ],
          [
           926,
           "Down Periscope (1996)",
           101
          ],
          [
           927,
           "Flower of My Secret, The (Flor de mi secreto, La) (1995)",
           6
          ],
          [
           928,
           "Craft, The (1996)",
           104
          ],
          [
           929,
           "Harriet the Spy (1996)",
           40
          ],
          [
           930,
           "Chain Reaction (1996)",
           80
          ],
          [
           931,
           "Island of Dr. Moreau, The (1996)",
           57
          ],
          [
           932,
           "First Kid (1996)",
           40
          ],
          [
           933,
           "Funeral, The (1996)",
           21
          ],
          [
           934,
           "Preacher's Wife, The (1996)",
           68
          ],
          [
           935,
           "Paradise Road (1997)",
           7
          ],
          [
           936,
           "Brassed Off (1996)",
           32
          ],
          [
           937,
           "Thousand Acres, A (1997)",
           37
          ],
          [
           938,
           "Smile Like Yours, A (1997)",
           25
          ],
          [
           939,
           "Murder in the First (1995)",
           60
          ],
          [
           940,
           "Airheads (1994)",
           32
          ],
          [
           941,
           "With Honors (1994)",
           46
          ],
          [
           942,
           "What's Love Got to Do with It (1993)",
           45
          ],
          [
           943,
           "Killing Zoe (1994)",
           40
          ],
          [
           944,
           "Renaissance Man (1994)",
           43
          ],
          [
           945,
           "Charade (1963)",
           40
          ],
          [
           946,
           "Fox and the Hound, The (1981)",
           61
          ],
          [
           947,
           "Big Blue, The (Grand bleu, Le) (1988)",
           17
          ],
          [
           948,
           "Booty Call (1997)",
           48
          ],
          [
           949,
           "How to Make an American Quilt (1995)",
           71
          ],
          [
           950,
           "Georgia (1995)",
           30
          ],
          [
           951,
           "Indian in the Cupboard, The (1995)",
           39
          ],
          [
           952,
           "Blue in the Face (1995)",
           45
          ],
          [
           953,
           "Unstrung Heroes (1995)",
           22
          ],
          [
           954,
           "Unzipped (1995)",
           11
          ],
          [
           955,
           "Before Sunrise (1995)",
           49
          ],
          [
           956,
           "Nobody's Fool (1994)",
           46
          ],
          [
           957,
           "Pushing Hands (1992)",
           2
          ],
          [
           958,
           "To Live (Huozhe) (1994)",
           14
          ],
          [
           959,
           "Dazed and Confused (1993)",
           64
          ],
          [
           960,
           "Naked (1993)",
           25
          ],
          [
           961,
           "Orlando (1993)",
           34
          ],
          [
           962,
           "Ruby in Paradise (1993)",
           23
          ],
          [
           963,
           "Some Folks Call It a Sling Blade (1993)",
           41
          ],
          [
           964,
           "Month by the Lake, A (1995)",
           9
          ],
          [
           965,
           "Funny Face (1957)",
           21
          ],
          [
           966,
           "Affair to Remember, An (1957)",
           26
          ],
          [
           967,
           "Little Lord Fauntleroy (1936)",
           12
          ],
          [
           968,
           "Inspector General, The (1949)",
           18
          ],
          [
           969,
           "Winnie the Pooh and the Blustery Day (1968)",
           75
          ],
          [
           970,
           "Hear My Song (1991)",
           8
          ],
          [
           971,
           "Mediterraneo (1991)",
           34
          ],
          [
           972,
           "Passion Fish (1992)",
           28
          ],
          [
           973,
           "Grateful Dead (1995)",
           4
          ],
          [
           974,
           "Eye for an Eye (1996)",
           32
          ],
          [
           975,
           "Fear (1996)",
           44
          ],
          [
           976,
           "Solo (1996)",
           12
          ],
          [
           977,
           "Substitute, The (1996)",
           49
          ],
          [
           978,
           "Heaven's Prisoners (1996)",
           27
          ],
          [
           979,
           "Trigger Effect, The (1996)",
           35
          ],
          [
           980,
           "Mother Night (1996)",
           22
          ],
          [
           981,
           "Dangerous Ground (1997)",
           8
          ],
          [
           982,
           "Maximum Risk (1996)",
           20
          ],
          [
           983,
           "Rich Man's Wife, The (1996)",
           15
          ],
          [
           984,
           "Shadow Conspiracy (1997)",
           44
          ],
          [
           985,
           "Blood & Wine (1997)",
           22
          ],
          [
           986,
           "Turbulence (1997)",
           23
          ],
          [
           987,
           "Underworld (1997)",
           4
          ],
          [
           988,
           "Beautician and the Beast, The (1997)",
           86
          ],
          [
           989,
           "Cats Don't Dance (1997)",
           32
          ],
          [
           990,
           "Anna Karenina (1997)",
           33
          ],
          [
           991,
           "Keys to Tulsa (1997)",
           25
          ],
          [
           992,
           "Head Above Water (1996)",
           4
          ],
          [
           993,
           "Hercules (1997)",
           66
          ],
          [
           994,
           "Last Time I Committed Suicide, The (1997)",
           7
          ],
          [
           995,
           "Kiss Me, Guido (1997)",
           31
          ],
          [
           996,
           "Big Green, The (1995)",
           14
          ],
          [
           997,
           "Stuart Saves His Family (1995)",
           16
          ],
          [
           998,
           "Cabin Boy (1994)",
           16
          ],
          [
           999,
           "Clean Slate (1994)",
           10
          ],
          [
           1000,
           "Lightning Jack (1994)",
           10
          ],
          [
           1001,
           "Stupids, The (1996)",
           17
          ],
          [
           1002,
           "Pest, The (1997)",
           8
          ],
          [
           1003,
           "That Darn Cat! (1997)",
           8
          ],
          [
           1004,
           "Geronimo: An American Legend (1993)",
           9
          ],
          [
           1005,
           "Double vie de Véronique, La (Double Life of Veronique, The) (1991)",
           22
          ],
          [
           1006,
           "Until the End of the World (Bis ans Ende der Welt) (1991)",
           23
          ],
          [
           1007,
           "Waiting for Guffman (1996)",
           47
          ],
          [
           1008,
           "I Shot Andy Warhol (1996)",
           37
          ],
          [
           1009,
           "Stealing Beauty (1996)",
           64
          ],
          [
           1010,
           "Basquiat (1996)",
           44
          ],
          [
           1011,
           "2 Days in the Valley (1996)",
           93
          ],
          [
           1012,
           "Private Parts (1997)",
           100
          ],
          [
           1013,
           "Anaconda (1997)",
           38
          ],
          [
           1014,
           "Romy and Michele's High School Reunion (1997)",
           98
          ],
          [
           1015,
           "Shiloh (1997)",
           12
          ],
          [
           1016,
           "Con Air (1997)",
           137
          ],
          [
           1017,
           "Trees Lounge (1996)",
           50
          ],
          [
           1018,
           "Tie Me Up! Tie Me Down! (1990)",
           32
          ],
          [
           1019,
           "Die xue shuang xiong (Killer, The) (1989)",
           31
          ],
          [
           1020,
           "Gaslight (1944)",
           35
          ],
          [
           1021,
           "8 1/2 (1963)",
           38
          ],
          [
           1022,
           "Fast, Cheap & Out of Control (1997)",
           32
          ],
          [
           1023,
           "Fathers' Day (1997)",
           31
          ],
          [
           1024,
           "Mrs. Dalloway (1997)",
           15
          ],
          [
           1025,
           "Fire Down Below (1997)",
           44
          ],
          [
           1026,
           "Lay of the Land, The (1997)",
           4
          ],
          [
           1027,
           "Shooter, The (1995)",
           3
          ],
          [
           1028,
           "Grumpier Old Men (1995)",
           148
          ],
          [
           1029,
           "Jury Duty (1995)",
           14
          ],
          [
           1030,
           "Beverly Hillbillies, The (1993)",
           20
          ],
          [
           1031,
           "Lassie (1994)",
           7
          ],
          [
           1032,
           "Little Big League (1994)",
           16
          ],
          [
           1033,
           "Homeward Bound II: Lost in San Francisco (1996)",
           32
          ],
          [
           1034,
           "Quest, The (1996)",
           27
          ],
          [
           1035,
           "Cool Runnings (1993)",
           68
          ],
          [
           1036,
           "Drop Dead Fred (1991)",
           24
          ],
          [
           1037,
           "Grease 2 (1982)",
           24
          ],
          [
           1038,
           "Switchback (1997)",
           17
          ],
          [
           1039,
           "Hamlet (1996)",
           90
          ],
          [
           1040,
           "Two if by Sea (1996)",
           25
          ],
          [
           1041,
           "Forget Paris (1995)",
           62
          ],
          [
           1042,
           "Just Cause (1995)",
           28
          ],
          [
           1043,
           "Rent-a-Kid (1995)",
           8
          ],
          [
           1044,
           "Paper, The (1994)",
           40
          ],
          [
           1045,
           "Fearless (1993)",
           25
          ],
          [
           1046,
           "Malice (1993)",
           46
          ],
          [
           1047,
           "Multiplicity (1996)",
           134
          ],
          [
           1048,
           "She's the One (1996)",
           73
          ],
          [
           1049,
           "House Arrest (1996)",
           25
          ],
          [
           1050,
           "Ghost and Mrs. Muir, The (1947)",
           43
          ],
          [
           1051,
           "Associate, The (1996)",
           41
          ],
          [
           1052,
           "Dracula: Dead and Loving It (1995)",
           25
          ],
          [
           1053,
           "Now and Then (1995)",
           24
          ],
          [
           1054,
           "Mr. Wrong (1996)",
           23
          ],
          [
           1055,
           "Simple Twist of Fate, A (1994)",
           10
          ],
          [
           1056,
           "Cronos (1992)",
           10
          ],
          [
           1057,
           "Pallbearer, The (1996)",
           22
          ],
          [
           1058,
           "War, The (1994)",
           15
          ],
          [
           1059,
           "Don't Be a Menace to South Central While Drinking Your Juice in the Hood (1996)",
           35
          ],
          [
           1060,
           "Adventures of Pinocchio, The (1996)",
           39
          ],
          [
           1061,
           "Evening Star, The (1996)",
           29
          ],
          [
           1062,
           "Four Days in September (1997)",
           12
          ],
          [
           1063,
           "Little Princess, A (1995)",
           41
          ],
          [
           1064,
           "Crossfire (1947)",
           4
          ],
          [
           1065,
           "Koyaanisqatsi (1983)",
           53
          ],
          [
           1066,
           "Balto (1995)",
           16
          ],
          [
           1067,
           "Bottle Rocket (1996)",
           44
          ],
          [
           1068,
           "Star Maker, The (Uomo delle stelle, L') (1995)",
           12
          ],
          [
           1069,
           "Amateur (1994)",
           18
          ],
          [
           1070,
           "Living in Oblivion (1995)",
           27
          ],
          [
           1071,
           "Party Girl (1995)",
           16
          ],
          [
           1072,
           "Pyromaniac's Love Story, A (1995)",
           7
          ],
          [
           1073,
           "Shallow Grave (1994)",
           66
          ],
          [
           1074,
           "Reality Bites (1994)",
           77
          ],
          [
           1075,
           "Man of No Importance, A (1994)",
           7
          ],
          [
           1076,
           "Pagemaster, The (1994)",
           12
          ],
          [
           1077,
           "Love and a .45 (1994)",
           8
          ],
          [
           1078,
           "Oliver & Company (1988)",
           22
          ],
          [
           1079,
           "Joe's Apartment (1996)",
           45
          ],
          [
           1080,
           "Celestial Clockwork (1994)",
           2
          ],
          [
           1081,
           "Curdled (1996)",
           8
          ],
          [
           1082,
           "Female Perversions (1996)",
           8
          ],
          [
           1083,
           "Albino Alligator (1996)",
           6
          ],
          [
           1084,
           "Anne Frank Remembered (1995)",
           21
          ],
          [
           1085,
           "Carried Away (1996)",
           11
          ],
          [
           1086,
           "It's My Party (1995)",
           21
          ],
          [
           1087,
           "Bloodsport 2 (1995)",
           10
          ],
          [
           1088,
           "Double Team (1997)",
           13
          ],
          [
           1089,
           "Speed 2: Cruise Control (1997)",
           38
          ],
          [
           1090,
           "Sliver (1993)",
           37
          ],
          [
           1091,
           "Pete's Dragon (1977)",
           43
          ],
          [
           1092,
           "Dear God (1996)",
           12
          ],
          [
           1093,
           "Live Nude Girls (1995)",
           23
          ],
          [
           1094,
           "Thin Line Between Love and Hate, A (1996)",
           12
          ],
          [
           1095,
           "High School High (1996)",
           29
          ],
          [
           1096,
           "Commandments (1997)",
           3
          ],
          [
           1097,
           "Hate (Haine, La) (1995)",
           18
          ],
          [
           1098,
           "Flirting With Disaster (1996)",
           42
          ],
          [
           1099,
           "Red Firecracker, Green Firecracker (1994)",
           13
          ],
          [
           1100,
           "What Happened Was... (1994)",
           8
          ],
          [
           1101,
           "Six Degrees of Separation (1993)",
           74
          ],
          [
           1102,
           "Two Much (1996)",
           7
          ],
          [
           1103,
           "Trust (1990)",
           19
          ],
          [
           1104,
           "C'est arrivé près de chez vous (1992)",
           4
          ],
          [
           1105,
           "Firestorm (1998)",
           18
          ],
          [
           1106,
           "Newton Boys, The (1998)",
           4
          ],
          [
           1107,
           "Beyond Rangoon (1995)",
           18
          ],
          [
           1108,
           "Feast of July (1995)",
           5
          ],
          [
           1109,
           "Death and the Maiden (1994)",
           28
          ],
          [
           1110,
           "Tank Girl (1995)",
           41
          ],
          [
           1111,
           "Double Happiness (1994)",
           7
          ],
          [
           1112,
           "Cobb (1994)",
           15
          ],
          [
           1113,
           "Mrs. Parker and the Vicious Circle (1994)",
           22
          ],
          [
           1114,
           "Faithful (1996)",
           10
          ],
          [
           1115,
           "Twelfth Night (1996)",
           29
          ],
          [
           1116,
           "Mark of Zorro, The (1940)",
           13
          ],
          [
           1117,
           "Surviving Picasso (1996)",
           19
          ],
          [
           1118,
           "Up in Smoke (1978)",
           47
          ],
          [
           1119,
           "Some Kind of Wonderful (1987)",
           59
          ],
          [
           1120,
           "I'm Not Rappaport (1996)",
           17
          ],
          [
           1121,
           "Umbrellas of Cherbourg, The (Parapluies de Cherbourg, Les) (1964)",
           21
          ],
          [
           1122,
           "They Made Me a Criminal (1939)",
           1
          ],
          [
           1123,
           "Last Time I Saw Paris, The (1954)",
           3
          ],
          [
           1124,
           "Farewell to Arms, A (1932)",
           12
          ],
          [
           1125,
           "Innocents, The (1961)",
           4
          ],
          [
           1126,
           "Old Man and the Sea, The (1958)",
           32
          ],
          [
           1127,
           "Truman Show, The (1998)",
           11
          ],
          [
           1128,
           "Heidi Fleiss: Hollywood Madam (1995) ",
           13
          ],
          [
           1129,
           "Chungking Express (1994)",
           28
          ],
          [
           1130,
           "Jupiter's Wife (1994)",
           1
          ],
          [
           1131,
           "Safe (1995)",
           13
          ],
          [
           1132,
           "Feeling Minnesota (1996)",
           32
          ],
          [
           1133,
           "Escape to Witch Mountain (1975)",
           30
          ],
          [
           1134,
           "Get on the Bus (1996)",
           38
          ],
          [
           1135,
           "Doors, The (1991)",
           46
          ],
          [
           1136,
           "Ghosts of Mississippi (1996)",
           29
          ],
          [
           1137,
           "Beautiful Thing (1996)",
           29
          ],
          [
           1138,
           "Best Men (1997)",
           5
          ],
          [
           1139,
           "Hackers (1995)",
           33
          ],
          [
           1140,
           "Road to Wellville, The (1994)",
           17
          ],
          [
           1141,
           "War Room, The (1993)",
           9
          ],
          [
           1142,
           "When We Were Kings (1996)",
           44
          ],
          [
           1143,
           "Hard Eight (1996)",
           15
          ],
          [
           1144,
           "Quiet Room, The (1996)",
           3
          ],
          [
           1145,
           "Blue Chips (1994)",
           9
          ],
          [
           1146,
           "Calendar Girl (1993)",
           3
          ],
          [
           1147,
           "My Family (1995)",
           21
          ],
          [
           1148,
           "Tom & Viv (1994)",
           9
          ],
          [
           1149,
           "Walkabout (1971)",
           26
          ],
          [
           1150,
           "Last Dance (1996)",
           9
          ],
          [
           1151,
           "Original Gangstas (1996)",
           7
          ],
          [
           1152,
           "In Love and War (1996)",
           28
          ],
          [
           1153,
           "Backbeat (1993)",
           19
          ],
          [
           1154,
           "Alphaville (1965)",
           12
          ],
          [
           1155,
           "Rendezvous in Paris (Rendez-vous de Paris, Les) (1995)",
           3
          ],
          [
           1156,
           "Cyclo (1995)",
           1
          ],
          [
           1157,
           "Relic, The (1997)",
           25
          ],
          [
           1158,
           "Fille seule, La (A Single Girl) (1995)",
           4
          ],
          [
           1159,
           "Stalker (1979)",
           11
          ],
          [
           1160,
           "Love! Valour! Compassion! (1997)",
           26
          ],
          [
           1161,
           "Palookaville (1996)",
           13
          ],
          [
           1162,
           "Phat Beach (1996)",
           5
          ],
          [
           1163,
           "Portrait of a Lady, The (1996)",
           25
          ],
          [
           1164,
           "Zeus and Roxanne (1997)",
           6
          ],
          [
           1165,
           "Big Bully (1996)",
           14
          ],
          [
           1166,
           "Love & Human Remains (1993)",
           12
          ],
          [
           1167,
           "Sum of Us, The (1994)",
           11
          ],
          [
           1168,
           "Little Buddha (1993)",
           22
          ],
          [
           1169,
           "Fresh (1994)",
           10
          ],
          [
           1170,
           "Spanking the Monkey (1994)",
           27
          ],
          [
           1171,
           "Wild Reeds (1994)",
           14
          ],
          [
           1172,
           "Women, The (1939)",
           15
          ],
          [
           1173,
           "Bliss (1997)",
           7
          ],
          [
           1174,
           "Caught (1996)",
           8
          ],
          [
           1175,
           "Hugo Pool (1997)",
           5
          ],
          [
           1176,
           "Welcome To Sarajevo (1997)",
           22
          ],
          [
           1177,
           "Dunston Checks In (1996)",
           7
          ],
          [
           1178,
           "Major Payne (1994)",
           19
          ],
          [
           1179,
           "Man of the House (1995)",
           9
          ],
          [
           1180,
           "I Love Trouble (1994)",
           10
          ],
          [
           1181,
           "Low Down Dirty Shame, A (1994)",
           10
          ],
          [
           1182,
           "Cops and Robbersons (1994)",
           13
          ],
          [
           1183,
           "Cowboy Way, The (1994)",
           19
          ],
          [
           1184,
           "Endless Summer 2, The (1994)",
           10
          ],
          [
           1185,
           "In the Army Now (1994)",
           18
          ],
          [
           1186,
           "Inkwell, The (1994)",
           3
          ],
          [
           1187,
           "Switchblade Sisters (1975)",
           13
          ],
          [
           1188,
           "Young Guns II (1990)",
           44
          ],
          [
           1189,
           "Prefontaine (1997)",
           3
          ],
          [
           1190,
           "That Old Feeling (1997)",
           11
          ],
          [
           1191,
           "Letter From Death Row, A (1998)",
           3
          ],
          [
           1192,
           "Boys of St. Vincent, The (1993)",
           13
          ],
          [
           1193,
           "Before the Rain (Pred dozhdot) (1994)",
           10
          ],
          [
           1194,
           "Once Were Warriors (1994)",
           31
          ],
          [
           1195,
           "Strawberry and Chocolate (Fresa y chocolate) (1993)",
           11
          ],
          [
           1196,
           "Savage Nights (Nuits fauves, Les) (1992)",
           3
          ],
          [
           1197,
           "Family Thing, A (1996)",
           45
          ],
          [
           1198,
           "Purple Noon (1960)",
           7
          ],
          [
           1199,
           "Cemetery Man (Dellamorte Dellamore) (1994)",
           23
          ],
          [
           1200,
           "Kim (1950)",
           7
          ],
          [
           1201,
           "Marlene Dietrich: Shadow and Light (1996) ",
           1
          ],
          [
           1202,
           "Maybe, Maybe Not (Bewegte Mann, Der) (1994)",
           8
          ],
          [
           1203,
           "Top Hat (1935)",
           21
          ],
          [
           1204,
           "To Be or Not to Be (1942)",
           18
          ],
          [
           1205,
           "Secret Agent, The (1996)",
           6
          ],
          [
           1206,
           "Amos & Andrew (1993)",
           19
          ],
          [
           1207,
           "Jade (1995)",
           17
          ],
          [
           1208,
           "Kiss of Death (1995)",
           20
          ],
          [
           1209,
           "Mixed Nuts (1994)",
           15
          ],
          [
           1210,
           "Virtuosity (1995)",
           38
          ],
          [
           1211,
           "Blue Sky (1994)",
           12
          ],
          [
           1212,
           "Flesh and Bone (1993)",
           6
          ],
          [
           1213,
           "Guilty as Sin (1993)",
           6
          ],
          [
           1214,
           "In the Realm of the Senses (Ai no corrida) (1976)",
           9
          ],
          [
           1215,
           "Barb Wire (1996)",
           30
          ],
          [
           1216,
           "Kissed (1996)",
           6
          ],
          [
           1217,
           "Assassins (1995)",
           39
          ],
          [
           1218,
           "Friday (1995)",
           26
          ],
          [
           1219,
           "Goofy Movie, A (1995)",
           20
          ],
          [
           1220,
           "Higher Learning (1995)",
           30
          ],
          [
           1221,
           "When a Man Loves a Woman (1994)",
           39
          ],
          [
           1222,
           "Judgment Night (1993)",
           25
          ],
          [
           1223,
           "King of the Hill (1993)",
           4
          ],
          [
           1224,
           "Scout, The (1994)",
           12
          ],
          [
           1225,
           "Angus (1995)",
           14
          ],
          [
           1226,
           "Night Falls on Manhattan (1997)",
           32
          ],
          [
           1227,
           "Awfully Big Adventure, An (1995)",
           8
          ],
          [
           1228,
           "Under Siege 2: Dark Territory (1995)",
           48
          ],
          [
           1229,
           "Poison Ivy II (1995)",
           13
          ],
          [
           1230,
           "Ready to Wear (Pret-A-Porter) (1994)",
           18
          ],
          [
           1231,
           "Marked for Death (1990)",
           22
          ],
          [
           1232,
           "Madonna: Truth or Dare (1991)",
           17
          ],
          [
           1233,
           "Nénette et Boni (1996)",
           6
          ],
          [
           1234,
           "Chairman of the Board (1998)",
           8
          ],
          [
           1235,
           "Big Bang Theory, The (1994)",
           1
          ],
          [
           1236,
           "Other Voices, Other Rooms (1997)",
           1
          ],
          [
           1237,
           "Twisted (1996)",
           6
          ],
          [
           1238,
           "Full Speed (1996)",
           8
          ],
          [
           1239,
           "Cutthroat Island (1995)",
           18
          ],
          [
           1240,
           "Ghost in the Shell (Kokaku kidotai) (1995)",
           26
          ],
          [
           1241,
           "Van, The (1996)",
           6
          ],
          [
           1242,
           "Old Lady Who Walked in the Sea, The (Vieille qui marchait dans la mer, La) (1991)",
           5
          ],
          [
           1243,
           "Night Flier (1997)",
           7
          ],
          [
           1244,
           "Metro (1997)",
           36
          ],
          [
           1245,
           "Gridlock'd (1997)",
           19
          ],
          [
           1246,
           "Bushwhacked (1995)",
           7
          ],
          [
           1247,
           "Bad Girls (1994)",
           6
          ],
          [
           1248,
           "Blink (1994)",
           19
          ],
          [
           1249,
           "For Love or Money (1993)",
           12
          ],
          [
           1250,
           "Best of the Best 3: No Turning Back (1995)",
           6
          ],
          [
           1251,
           "A Chef in Love (1996)",
           8
          ],
          [
           1252,
           "Contempt (Mépris, Le) (1963)",
           9
          ],
          [
           1253,
           "Tie That Binds, The (1995)",
           7
          ],
          [
           1254,
           "Gone Fishin' (1997)",
           11
          ],
          [
           1255,
           "Broken English (1996)",
           8
          ],
          [
           1256,
           "Designated Mourner, The (1997)",
           3
          ],
          [
           1257,
           "Designated Mourner, The (1997)",
           4
          ],
          [
           1258,
           "Trial and Error (1997)",
           23
          ],
          [
           1259,
           "Pie in the Sky (1995)",
           4
          ],
          [
           1260,
           "Total Eclipse (1995)",
           4
          ],
          [
           1261,
           "Run of the Country, The (1995)",
           4
          ],
          [
           1262,
           "Walking and Talking (1996)",
           8
          ],
          [
           1263,
           "Foxfire (1996)",
           15
          ],
          [
           1264,
           "Nothing to Lose (1994)",
           7
          ],
          [
           1265,
           "Star Maps (1997)",
           19
          ],
          [
           1266,
           "Bread and Chocolate (Pane e cioccolata) (1973)",
           12
          ],
          [
           1267,
           "Clockers (1995)",
           33
          ],
          [
           1268,
           "Bitter Moon (1992)",
           10
          ],
          [
           1269,
           "Love in the Afternoon (1957)",
           10
          ],
          [
           1270,
           "Life with Mikey (1993)",
           7
          ],
          [
           1271,
           "North (1994)",
           7
          ],
          [
           1272,
           "Talking About Sex (1994)",
           5
          ],
          [
           1273,
           "Color of Night (1994)",
           15
          ],
          [
           1274,
           "Robocop 3 (1993)",
           11
          ],
          [
           1275,
           "Killer (Bulletproof Heart) (1994)",
           4
          ],
          [
           1276,
           "Sunset Park (1996)",
           8
          ],
          [
           1277,
           "Set It Off (1996)",
           19
          ],
          [
           1278,
           "Selena (1997)",
           16
          ],
          [
           1279,
           "Wild America (1997)",
           9
          ],
          [
           1280,
           "Gang Related (1997)",
           16
          ],
          [
           1281,
           "Manny & Lo (1996)",
           13
          ],
          [
           1282,
           "Grass Harp, The (1995)",
           9
          ],
          [
           1283,
           "Out to Sea (1997)",
           19
          ],
          [
           1284,
           "Before and After (1996)",
           26
          ],
          [
           1285,
           "Princess Caraboo (1994)",
           15
          ],
          [
           1286,
           "Shall We Dance? (1937)",
           17
          ],
          [
           1287,
           "Ed (1996)",
           6
          ],
          [
           1288,
           "Denise Calls Up (1995)",
           7
          ],
          [
           1289,
           "Jack and Sarah (1995)",
           7
          ],
          [
           1290,
           "Country Life (1994)",
           2
          ],
          [
           1291,
           "Celtic Pride (1996)",
           15
          ],
          [
           1292,
           "Simple Wish, A (1997)",
           3
          ],
          [
           1293,
           "Star Kid (1997)",
           3
          ],
          [
           1294,
           "Ayn Rand: A Sense of Life (1997)",
           7
          ],
          [
           1295,
           "Kicked in the Head (1997)",
           7
          ],
          [
           1296,
           "Indian Summer (1996)",
           20
          ],
          [
           1297,
           "Love Affair (1994)",
           12
          ],
          [
           1298,
           "Band Wagon, The (1953)",
           9
          ],
          [
           1299,
           "Penny Serenade (1941)",
           8
          ],
          [
           1300,
           "'Til There Was You (1997)",
           9
          ],
          [
           1301,
           "Stripes (1981)",
           5
          ],
          [
           1302,
           "Late Bloomers (1996)",
           5
          ],
          [
           1303,
           "Getaway, The (1994)",
           18
          ],
          [
           1304,
           "New York Cop (1996)",
           2
          ],
          [
           1305,
           "National Lampoon's Senior Trip (1995)",
           7
          ],
          [
           1306,
           "Delta of Venus (1994)",
           2
          ],
          [
           1307,
           "Carmen Miranda: Bananas Is My Business (1994)",
           2
          ],
          [
           1308,
           "Babyfever (1994)",
           2
          ],
          [
           1309,
           "Very Natural Thing, A (1974)",
           1
          ],
          [
           1310,
           "Walk in the Sun, A (1945)",
           1
          ],
          [
           1311,
           "Waiting to Exhale (1995)",
           16
          ],
          [
           1312,
           "Pompatus of Love, The (1996)",
           7
          ],
          [
           1313,
           "Palmetto (1998)",
           14
          ],
          [
           1314,
           "Surviving the Game (1994)",
           11
          ],
          [
           1315,
           "Inventing the Abbotts (1997)",
           23
          ],
          [
           1316,
           "Horse Whisperer, The (1998)",
           7
          ],
          [
           1317,
           "Journey of August King, The (1995)",
           4
          ],
          [
           1318,
           "Catwalk (1995)",
           3
          ],
          [
           1319,
           "Neon Bible, The (1995)",
           4
          ],
          [
           1320,
           "Homage (1995)",
           1
          ],
          [
           1321,
           "Open Season (1996)",
           2
          ],
          [
           1322,
           "Metisse (Café au Lait) (1993)",
           6
          ],
          [
           1323,
           "Wooden Man's Bride, The (Wu Kui) (1994)",
           3
          ],
          [
           1324,
           "Loaded (1994)",
           5
          ],
          [
           1325,
           "August (1996)",
           1
          ],
          [
           1326,
           "Boys (1996)",
           6
          ],
          [
           1327,
           "Captives (1994)",
           3
          ],
          [
           1328,
           "Of Love and Shadows (1994)",
           6
          ],
          [
           1329,
           "Low Life, The (1994)",
           1
          ],
          [
           1330,
           "An Unforgettable Summer (1994)",
           4
          ],
          [
           1331,
           "Last Klezmer: Leopold Kozlowski, His Life and Music, The (1995)",
           4
          ],
          [
           1332,
           "My Life and Times With Antonin Artaud (En compagnie d'Antonin Artaud) (1993)",
           2
          ],
          [
           1333,
           "Midnight Dancers (Sibak) (1994)",
           5
          ],
          [
           1334,
           "Somebody to Love (1994)",
           2
          ],
          [
           1335,
           "American Buffalo (1996)",
           11
          ],
          [
           1336,
           "Kazaam (1996)",
           10
          ],
          [
           1337,
           "Larger Than Life (1996)",
           9
          ],
          [
           1338,
           "Two Deaths (1995)",
           4
          ],
          [
           1339,
           "Stefano Quantestorie (1993)",
           1
          ],
          [
           1340,
           "Crude Oasis, The (1995)",
           1
          ],
          [
           1341,
           "Hedd Wyn (1992)",
           1
          ],
          [
           1342,
           "Convent, The (Convento, O) (1995)",
           2
          ],
          [
           1343,
           "Lotto Land (1995)",
           1
          ],
          [
           1344,
           "Story of Xinghua, The (1993)",
           5
          ],
          [
           1345,
           "Day the Sun Turned Cold, The (Tianguo niezi) (1994)",
           2
          ],
          [
           1346,
           "Dingo (1992)",
           5
          ],
          [
           1347,
           "Ballad of Narayama, The (Narayama Bushiko) (1958)",
           4
          ],
          [
           1348,
           "Every Other Weekend (1990)",
           1
          ],
          [
           1349,
           "Mille bolle blu (1993)",
           1
          ],
          [
           1350,
           "Crows and Sparrows (1949)",
           2
          ],
          [
           1351,
           "Lover's Knot (1996)",
           3
          ],
          [
           1352,
           "Shadow of Angels (Schatten der Engel) (1976)",
           1
          ],
          [
           1353,
           "1-900 (1994)",
           5
          ],
          [
           1354,
           "Venice/Venice (1992)",
           2
          ],
          [
           1355,
           "Infinity (1996)",
           6
          ],
          [
           1356,
           "Ed's Next Move (1996)",
           3
          ],
          [
           1357,
           "For the Moment (1994)",
           3
          ],
          [
           1358,
           "The Deadly Cure (1996)",
           2
          ],
          [
           1359,
           "Boys in Venice (1996)",
           2
          ],
          [
           1360,
           "Sexual Life of the Belgians, The (1994)",
           2
          ],
          [
           1361,
           "Search for One-eye Jimmy, The (1996)",
           3
          ],
          [
           1362,
           "American Strays (1996)",
           2
          ],
          [
           1363,
           "Leopard Son, The (1996)",
           1
          ],
          [
           1364,
           "Bird of Prey (1996)",
           1
          ],
          [
           1365,
           "Johnny 100 Pesos (1993)",
           2
          ],
          [
           1366,
           "JLG/JLG - autoportrait de décembre (1994)",
           1
          ],
          [
           1367,
           "Faust (1994)",
           5
          ],
          [
           1368,
           "Mina Tannenbaum (1994)",
           6
          ],
          [
           1369,
           "Forbidden Christ, The (Cristo proibito, Il) (1950)",
           4
          ],
          [
           1370,
           "I Can't Sleep (J'ai pas sommeil) (1994)",
           3
          ],
          [
           1371,
           "Machine, The (1994)",
           2
          ],
          [
           1372,
           "Stranger, The (1994)",
           3
          ],
          [
           1373,
           "Good Morning (1971)",
           1
          ],
          [
           1374,
           "Falling in Love Again (1980)",
           2
          ],
          [
           1375,
           "Cement Garden, The (1993)",
           10
          ],
          [
           1376,
           "Meet Wally Sparks (1997)",
           7
          ],
          [
           1377,
           "Hotel de Love (1996)",
           4
          ],
          [
           1378,
           "Rhyme & Reason (1997)",
           5
          ],
          [
           1379,
           "Love and Other Catastrophes (1996)",
           7
          ],
          [
           1380,
           "Hollow Reed (1996)",
           6
          ],
          [
           1381,
           "Losing Chase (1996)",
           8
          ],
          [
           1382,
           "Bonheur, Le (1965)",
           4
          ],
          [
           1383,
           "Second Jungle Book: Mowgli & Baloo, The (1997)",
           6
          ],
          [
           1384,
           "Squeeze (1996)",
           3
          ],
          [
           1385,
           "Roseanna's Grave (For Roseanna) (1997)",
           5
          ],
          [
           1386,
           "Tetsuo II: Body Hammer (1992)",
           6
          ],
          [
           1387,
           "Fall (1997)",
           3
          ],
          [
           1388,
           "Gabbeh (1996)",
           6
          ],
          [
           1389,
           "Mondo (1996)",
           3
          ],
          [
           1390,
           "Innocent Sleep, The (1995)",
           2
          ],
          [
           1391,
           "For Ever Mozart (1996)",
           3
          ],
          [
           1392,
           "Locusts, The (1997)",
           5
          ],
          [
           1393,
           "Stag (1997)",
           9
          ],
          [
           1394,
           "Swept from the Sea (1997)",
           7
          ],
          [
           1395,
           "Hurricane Streets (1998)",
           6
          ],
          [
           1396,
           "Stonewall (1995)",
           5
          ],
          [
           1397,
           "Of Human Bondage (1934)",
           5
          ],
          [
           1398,
           "Anna (1996)",
           2
          ],
          [
           1399,
           "Stranger in the House (1997)",
           7
          ],
          [
           1400,
           "Picture Bride (1995)",
           10
          ],
          [
           1401,
           "M. Butterfly (1993)",
           18
          ],
          [
           1402,
           "Ciao, Professore! (1993)",
           4
          ],
          [
           1403,
           "Caro Diario (Dear Diary) (1994)",
           4
          ],
          [
           1404,
           "Withnail and I (1987)",
           13
          ],
          [
           1405,
           "Boy's Life 2 (1997)",
           6
          ],
          [
           1406,
           "When Night Is Falling (1995)",
           5
          ],
          [
           1407,
           "Specialist, The (1994)",
           20
          ],
          [
           1408,
           "Gordy (1995)",
           3
          ],
          [
           1409,
           "Swan Princess, The (1994)",
           7
          ],
          [
           1410,
           "Harlem (1993)",
           4
          ],
          [
           1411,
           "Barbarella (1968)",
           28
          ],
          [
           1412,
           "Land Before Time III: The Time of the Great Giving (1995) (V)",
           6
          ],
          [
           1413,
           "Street Fighter (1994)",
           8
          ],
          [
           1414,
           "Coldblooded (1995)",
           1
          ],
          [
           1415,
           "Next Karate Kid, The (1994)",
           9
          ],
          [
           1416,
           "No Escape (1994)",
           5
          ],
          [
           1417,
           "Turning, The (1992)",
           2
          ],
          [
           1418,
           "Joy Luck Club, The (1993)",
           3
          ],
          [
           1419,
           "Highlander III: The Sorcerer (1994)",
           16
          ],
          [
           1420,
           "Gilligan's Island: The Movie (1998)",
           3
          ],
          [
           1421,
           "My Crazy Life (Mi vida loca) (1993)",
           11
          ],
          [
           1422,
           "Suture (1993)",
           4
          ],
          [
           1423,
           "Walking Dead, The (1995)",
           4
          ],
          [
           1424,
           "I Like It Like That (1994)",
           3
          ],
          [
           1425,
           "I'll Do Anything (1994)",
           10
          ],
          [
           1426,
           "Grace of My Heart (1996)",
           8
          ],
          [
           1427,
           "Drunks (1995)",
           5
          ],
          [
           1428,
           "SubUrbia (1997)",
           12
          ],
          [
           1429,
           "Sliding Doors (1998)",
           4
          ],
          [
           1430,
           "Ill Gotten Gains (1997)",
           3
          ],
          [
           1431,
           "Legal Deceit (1997)",
           5
          ],
          [
           1432,
           "Mighty, The (1998)",
           3
          ],
          [
           1433,
           "Men of Means (1998)",
           2
          ],
          [
           1434,
           "Shooting Fish (1997)",
           10
          ],
          [
           1435,
           "Steal Big, Steal Little (1995)",
           7
          ],
          [
           1436,
           "Mr. Jones (1993)",
           2
          ],
          [
           1437,
           "House Party 3 (1994)",
           9
          ],
          [
           1438,
           "Panther (1995)",
           5
          ],
          [
           1439,
           "Jason's Lyric (1994)",
           8
          ],
          [
           1440,
           "Above the Rim (1994)",
           5
          ],
          [
           1441,
           "Moonlight and Valentino (1995)",
           7
          ],
          [
           1442,
           "Scarlet Letter, The (1995)",
           5
          ],
          [
           1443,
           "8 Seconds (1994)",
           4
          ],
          [
           1444,
           "That Darn Cat! (1965)",
           19
          ],
          [
           1445,
           "Ladybird Ladybird (1994)",
           4
          ],
          [
           1446,
           "Bye Bye, Love (1995)",
           15
          ],
          [
           1447,
           "Century (1993)",
           1
          ],
          [
           1448,
           "My Favorite Season (1993)",
           3
          ],
          [
           1449,
           "Pather Panchali (1955)",
           8
          ],
          [
           1450,
           "Golden Earrings (1947)",
           2
          ],
          [
           1451,
           "Foreign Correspondent (1940)",
           15
          ],
          [
           1452,
           "Lady of Burlesque (1943)",
           1
          ],
          [
           1453,
           "Angel on My Shoulder (1946)",
           1
          ],
          [
           1454,
           "Angel and the Badman (1947)",
           6
          ],
          [
           1455,
           "Outlaw, The (1943)",
           2
          ],
          [
           1456,
           "Beat the Devil (1954)",
           7
          ],
          [
           1457,
           "Love Is All There Is (1996)",
           1
          ],
          [
           1458,
           "Damsel in Distress, A (1937)",
           1
          ],
          [
           1459,
           "Madame Butterfly (1995)",
           7
          ],
          [
           1460,
           "Sleepover (1995)",
           1
          ],
          [
           1461,
           "Here Comes Cookie (1935)",
           1
          ],
          [
           1462,
           "Thieves (Voleurs, Les) (1996)",
           7
          ],
          [
           1463,
           "Boys, Les (1997)",
           3
          ],
          [
           1464,
           "Stars Fell on Henrietta, The (1995)",
           3
          ],
          [
           1465,
           "Last Summer in the Hamptons (1995)",
           3
          ],
          [
           1466,
           "Margaret's Museum (1995)",
           6
          ],
          [
           1467,
           "Saint of Fort Washington, The (1993)",
           2
          ],
          [
           1468,
           "Cure, The (1995)",
           6
          ],
          [
           1469,
           "Tom and Huck (1995)",
           12
          ],
          [
           1470,
           "Gumby: The Movie (1995)",
           5
          ],
          [
           1471,
           "Hideaway (1995)",
           9
          ],
          [
           1472,
           "Visitors, The (Visiteurs, Les) (1993)",
           2
          ],
          [
           1473,
           "Little Princess, The (1939)",
           9
          ],
          [
           1474,
           "Nina Takes a Lover (1994)",
           6
          ],
          [
           1475,
           "Bhaji on the Beach (1993)",
           8
          ],
          [
           1476,
           "Raw Deal (1948)",
           1
          ],
          [
           1477,
           "Nightwatch (1997)",
           2
          ],
          [
           1478,
           "Dead Presidents (1995)",
           18
          ],
          [
           1479,
           "Reckless (1995)",
           8
          ],
          [
           1480,
           "Herbie Rides Again (1974)",
           11
          ],
          [
           1481,
           "S.F.W. (1994)",
           2
          ],
          [
           1482,
           "Gate of Heavenly Peace, The (1995)",
           1
          ],
          [
           1483,
           "Man in the Iron Mask, The (1998)",
           12
          ],
          [
           1484,
           "Jerky Boys, The (1994)",
           3
          ],
          [
           1485,
           "Colonel Chabert, Le (1994)",
           4
          ],
          [
           1486,
           "Girl in the Cadillac (1995)",
           1
          ],
          [
           1487,
           "Even Cowgirls Get the Blues (1993)",
           5
          ],
          [
           1488,
           "Germinal (1993)",
           4
          ],
          [
           1489,
           "Chasers (1994)",
           5
          ],
          [
           1490,
           "Fausto (1993)",
           3
          ],
          [
           1491,
           "Tough and Deadly (1995)",
           2
          ],
          [
           1492,
           "Window to Paris (1994)",
           1
          ],
          [
           1493,
           "Modern Affair, A (1995)",
           1
          ],
          [
           1494,
           "Mostro, Il (1994)",
           1
          ],
          [
           1495,
           "Flirt (1995)",
           5
          ],
          [
           1496,
           "Carpool (1996)",
           5
          ],
          [
           1497,
           "Line King: Al Hirschfeld, The (1996)",
           2
          ],
          [
           1498,
           "Farmer & Chase (1995)",
           1
          ],
          [
           1499,
           "Grosse Fatigue (1994)",
           4
          ],
          [
           1500,
           "Santa with Muscles (1996)",
           2
          ],
          [
           1501,
           "Prisoner of the Mountains (Kavkazsky Plennik) (1996)",
           5
          ],
          [
           1502,
           "Naked in New York (1994)",
           2
          ],
          [
           1503,
           "Gold Diggers: The Secret of Bear Mountain (1995)",
           10
          ],
          [
           1504,
           "Bewegte Mann, Der (1994)",
           3
          ],
          [
           1505,
           "Killer: A Journal of Murder (1995)",
           1
          ],
          [
           1506,
           "Nelly & Monsieur Arnaud (1995)",
           3
          ],
          [
           1507,
           "Three Lives and Only One Death (1996)",
           1
          ],
          [
           1508,
           "Babysitter, The (1995)",
           3
          ],
          [
           1509,
           "Getting Even with Dad (1994)",
           5
          ],
          [
           1510,
           "Mad Dog Time (1996)",
           1
          ],
          [
           1511,
           "Children of the Revolution (1996)",
           5
          ],
          [
           1512,
           "World of Apu, The (Apur Sansar) (1959)",
           6
          ],
          [
           1513,
           "Sprung (1997)",
           3
          ],
          [
           1514,
           "Dream With the Fishes (1997)",
           7
          ],
          [
           1515,
           "Wings of Courage (1995)",
           1
          ],
          [
           1516,
           "Wedding Gift, The (1994)",
           3
          ],
          [
           1517,
           "Race the Sun (1996)",
           5
          ],
          [
           1518,
           "Losing Isaiah (1995)",
           12
          ],
          [
           1519,
           "New Jersey Drive (1995)",
           2
          ],
          [
           1520,
           "Fear, The (1995)",
           1
          ],
          [
           1521,
           "Mr. Wonderful (1993)",
           4
          ],
          [
           1522,
           "Trial by Jury (1994)",
           7
          ],
          [
           1523,
           "Good Man in Africa, A (1994)",
           2
          ],
          [
           1524,
           "Kaspar Hauser (1993)",
           8
          ],
          [
           1525,
           "Object of My Affection, The (1998)",
           1
          ],
          [
           1526,
           "Witness (1985)",
           1
          ],
          [
           1527,
           "Senseless (1998)",
           7
          ],
          [
           1528,
           "Nowhere (1997)",
           3
          ],
          [
           1529,
           "Underground (1995)",
           5
          ],
          [
           1530,
           "Jefferson in Paris (1995)",
           5
          ],
          [
           1531,
           "Far From Home: The Adventures of Yellow Dog (1995)",
           7
          ],
          [
           1532,
           "Foreign Student (1994)",
           2
          ],
          [
           1533,
           "I Don't Want to Talk About It (De eso no se habla) (1993)",
           1
          ],
          [
           1534,
           "Twin Town (1997)",
           6
          ],
          [
           1535,
           "Enfer, L' (1994)",
           4
          ],
          [
           1536,
           "Aiqing wansui (1994)",
           1
          ],
          [
           1537,
           "Cosi (1996)",
           4
          ],
          [
           1538,
           "All Over Me (1997)",
           3
          ],
          [
           1539,
           "Being Human (1993)",
           4
          ],
          [
           1540,
           "Amazing Panda Adventure, The (1995)",
           10
          ],
          [
           1541,
           "Beans of Egypt, Maine, The (1994)",
           2
          ],
          [
           1542,
           "Scarlet Letter, The (1926)",
           2
          ],
          [
           1543,
           "Johns (1996)",
           1
          ],
          [
           1544,
           "It Takes Two (1995)",
           3
          ],
          [
           1545,
           "Frankie Starlight (1995)",
           4
          ],
          [
           1546,
           "Shadows (Cienie) (1988)",
           1
          ],
          [
           1547,
           "Show, The (1995)",
           2
          ],
          [
           1548,
           "The Courtyard (1995)",
           1
          ],
          [
           1549,
           "Dream Man (1995)",
           2
          ],
          [
           1550,
           "Destiny Turns on the Radio (1995)",
           2
          ],
          [
           1551,
           "Glass Shield, The (1994)",
           2
          ],
          [
           1552,
           "Hunted, The (1995)",
           3
          ],
          [
           1553,
           "Underneath, The (1995)",
           4
          ],
          [
           1554,
           "Safe Passage (1994)",
           2
          ],
          [
           1555,
           "Secret Adventures of Tom Thumb, The (1993)",
           5
          ],
          [
           1556,
           "Condition Red (1995)",
           2
          ],
          [
           1557,
           "Yankee Zulu (1994)",
           1
          ],
          [
           1558,
           "Aparajito (1956)",
           7
          ],
          [
           1559,
           "Hostile Intentions (1994)",
           1
          ],
          [
           1560,
           "Clean Slate (Coup de Torchon) (1981)",
           4
          ],
          [
           1561,
           "Tigrero: A Film That Was Never Made (1994)",
           1
          ],
          [
           1562,
           "Eye of Vichy, The (Oeil de Vichy, L') (1993)",
           1
          ],
          [
           1563,
           "Promise, The (Versprechen, Das) (1994)",
           1
          ],
          [
           1564,
           "To Cross the Rubicon (1991)",
           1
          ],
          [
           1565,
           "Daens (1992)",
           1
          ],
          [
           1566,
           "Man from Down Under, The (1943)",
           1
          ],
          [
           1567,
           "Careful (1992)",
           1
          ],
          [
           1568,
           "Vermont Is For Lovers (1992)",
           1
          ],
          [
           1569,
           "Vie est belle, La (Life is Rosey) (1987)",
           1
          ],
          [
           1570,
           "Quartier Mozart (1992)",
           1
          ],
          [
           1571,
           "Touki Bouki (Journey of the Hyena) (1973)",
           1
          ],
          [
           1572,
           "Wend Kuuni (God's Gift) (1982)",
           1
          ],
          [
           1573,
           "Spirits of the Dead (Tre passi nel delirio) (1968)",
           2
          ],
          [
           1574,
           "Pharaoh's Army (1995)",
           1
          ],
          [
           1575,
           "I, Worst of All (Yo, la peor de todas) (1990)",
           1
          ],
          [
           1576,
           "Hungarian Fairy Tale, A (1987)",
           1
          ],
          [
           1577,
           "Death in the Garden (Mort en ce jardin, La) (1956)",
           1
          ],
          [
           1578,
           "Collectionneuse, La (1967)",
           2
          ],
          [
           1579,
           "Baton Rouge (1988)",
           1
          ],
          [
           1580,
           "Liebelei (1933)",
           1
          ],
          [
           1581,
           "Woman in Question, The (1950)",
           1
          ],
          [
           1582,
           "T-Men (1947)",
           1
          ],
          [
           1583,
           "Invitation, The (Zaproszenie) (1986)",
           1
          ],
          [
           1584,
           "Symphonie pastorale, La (1946)",
           1
          ],
          [
           1585,
           "American Dream (1990)",
           2
          ],
          [
           1586,
           "Lashou shentan (1992)",
           1
          ],
          [
           1587,
           "Terror in a Texas Town (1958)",
           1
          ],
          [
           1588,
           "Salut cousin! (1996)",
           2
          ],
          [
           1589,
           "Schizopolis (1996)",
           4
          ],
          [
           1590,
           "To Have, or Not (1995)",
           2
          ],
          [
           1591,
           "Duoluo tianshi (1995)",
           6
          ],
          [
           1592,
           "Magic Hour, The (1998)",
           5
          ],
          [
           1593,
           "Death in Brunswick (1991)",
           1
          ],
          [
           1594,
           "Everest (1998)",
           2
          ],
          [
           1595,
           "Shopping (1994)",
           1
          ],
          [
           1596,
           "Nemesis 2: Nebula (1995)",
           1
          ],
          [
           1597,
           "Romper Stomper (1992)",
           5
          ],
          [
           1598,
           "City of Industry (1997)",
           6
          ],
          [
           1599,
           "Someone Else's America (1995)",
           1
          ],
          [
           1600,
           "Guantanamera (1994)",
           4
          ],
          [
           1601,
           "Office Killer (1997)",
           1
          ],
          [
           1602,
           "Price Above Rubies, A (1998)",
           3
          ],
          [
           1603,
           "Angela (1995)",
           1
          ],
          [
           1604,
           "He Walked by Night (1948)",
           1
          ],
          [
           1605,
           "Love Serenade (1996)",
           4
          ],
          [
           1606,
           "Deceiver (1997)",
           1
          ],
          [
           1607,
           "Hurricane Streets (1998)",
           3
          ],
          [
           1608,
           "Buddy (1997)",
           4
          ],
          [
           1609,
           "B*A*P*S (1997)",
           3
          ],
          [
           1610,
           "Truth or Consequences, N.M. (1997)",
           3
          ],
          [
           1611,
           "Intimate Relations (1996)",
           2
          ],
          [
           1612,
           "Leading Man, The (1996)",
           4
          ],
          [
           1613,
           "Tokyo Fist (1995)",
           1
          ],
          [
           1614,
           "Reluctant Debutante, The (1958)",
           1
          ],
          [
           1615,
           "Warriors of Virtue (1997)",
           10
          ],
          [
           1616,
           "Desert Winds (1995)",
           1
          ],
          [
           1617,
           "Hugo Pool (1997)",
           2
          ],
          [
           1618,
           "King of New York (1990)",
           1
          ],
          [
           1619,
           "All Things Fair (1996)",
           1
          ],
          [
           1620,
           "Sixth Man, The (1997)",
           9
          ],
          [
           1621,
           "Butterfly Kiss (1995)",
           1
          ],
          [
           1622,
           "Paris, France (1993)",
           3
          ],
          [
           1623,
           "Cérémonie, La (1995)",
           3
          ],
          [
           1624,
           "Hush (1998)",
           1
          ],
          [
           1625,
           "Nightwatch (1997)",
           1
          ],
          [
           1626,
           "Nobody Loves Me (Keiner liebt mich) (1994)",
           1
          ],
          [
           1627,
           "Wife, The (1995)",
           1
          ],
          [
           1628,
           "Lamerica (1994)",
           4
          ],
          [
           1629,
           "Nico Icon (1995)",
           2
          ],
          [
           1630,
           "Silence of the Palace, The (Saimt el Qusur) (1994)",
           1
          ],
          [
           1631,
           "Slingshot, The (1993)",
           2
          ],
          [
           1632,
           "Land and Freedom (Tierra y libertad) (1995)",
           1
          ],
          [
           1633,
           "Á köldum klaka (Cold Fever) (1994)",
           1
          ],
          [
           1634,
           "Etz Hadomim Tafus (Under the Domin Tree) (1994)",
           1
          ],
          [
           1635,
           "Two Friends (1986) ",
           1
          ],
          [
           1636,
           "Brothers in Trouble (1995)",
           1
          ],
          [
           1637,
           "Girls Town (1996)",
           1
          ],
          [
           1638,
           "Normal Life (1996)",
           1
          ],
          [
           1639,
           "Bitter Sugar (Azucar Amargo) (1996)",
           3
          ],
          [
           1640,
           "Eighth Day, The (1996)",
           1
          ],
          [
           1641,
           "Dadetown (1995)",
           1
          ],
          [
           1642,
           "Some Mother's Son (1996)",
           2
          ],
          [
           1643,
           "Angel Baby (1995)",
           4
          ],
          [
           1644,
           "Sudden Manhattan (1996)",
           2
          ],
          [
           1645,
           "Butcher Boy, The (1998)",
           1
          ],
          [
           1646,
           "Men With Guns (1997)",
           2
          ],
          [
           1647,
           "Hana-bi (1997)",
           1
          ],
          [
           1648,
           "Niagara, Niagara (1997)",
           1
          ],
          [
           1649,
           "Big One, The (1997)",
           1
          ],
          [
           1650,
           "Butcher Boy, The (1998)",
           1
          ],
          [
           1651,
           "Spanish Prisoner, The (1997)",
           1
          ],
          [
           1652,
           "Temptress Moon (Feng Yue) (1996)",
           3
          ],
          [
           1653,
           "Entertaining Angels: The Dorothy Day Story (1996)",
           1
          ],
          [
           1654,
           "Chairman of the Board (1998)",
           1
          ],
          [
           1655,
           "Favor, The (1994)",
           1
          ],
          [
           1656,
           "Little City (1998)",
           2
          ],
          [
           1657,
           "Target (1995)",
           1
          ],
          [
           1658,
           "Substance of Fire, The (1996)",
           3
          ],
          [
           1659,
           "Getting Away With Murder (1996)",
           1
          ],
          [
           1660,
           "Small Faces (1995)",
           1
          ],
          [
           1661,
           "New Age, The (1994)",
           1
          ],
          [
           1662,
           "Rough Magic (1995)",
           2
          ],
          [
           1663,
           "Nothing Personal (1995)",
           1
          ],
          [
           1664,
           "8 Heads in a Duffel Bag (1997)",
           4
          ],
          [
           1665,
           "Brother's Kiss, A (1997)",
           1
          ],
          [
           1666,
           "Ripe (1996)",
           1
          ],
          [
           1667,
           "Next Step, The (1995)",
           1
          ],
          [
           1668,
           "Wedding Bell Blues (1996)",
           1
          ],
          [
           1669,
           "MURDER and murder (1996)",
           1
          ],
          [
           1670,
           "Tainted (1998)",
           1
          ],
          [
           1671,
           "Further Gesture, A (1996)",
           1
          ],
          [
           1672,
           "Kika (1993)",
           2
          ],
          [
           1673,
           "Mirage (1995)",
           1
          ],
          [
           1674,
           "Mamma Roma (1962)",
           1
          ],
          [
           1675,
           "Sunchaser, The (1996)",
           1
          ],
          [
           1676,
           "War at Home, The (1996)",
           1
          ],
          [
           1677,
           "Sweet Nothing (1995)",
           1
          ],
          [
           1678,
           "Mat' i syn (1997)",
           1
          ],
          [
           1679,
           "B. Monkey (1998)",
           1
          ],
          [
           1680,
           "Sliding Doors (1998)",
           1
          ],
          [
           1681,
           "You So Crazy (1994)",
           1
          ],
          [
           1682,
           "Scream of Stone (Schrei aus Stein) (1991)",
           1
          ]
         ],
         "hovertemplate": "tsne_1=%{x}<br>tsne_2=%{y}<br>item_id=%{customdata[0]}<br>title=%{customdata[1]}<br>popularity=%{marker.color}<extra></extra>",
         "legendgroup": "",
         "marker": {
          "color": [
           452,
           131,
           90,
           209,
           86,
           26,
           392,
           219,
           299,
           89,
           236,
           267,
           184,
           183,
           293,
           39,
           92,
           10,
           69,
           72,
           84,
           297,
           182,
           174,
           293,
           73,
           57,
           276,
           114,
           37,
           154,
           81,
           97,
           7,
           11,
           13,
           8,
           120,
           87,
           57,
           37,
           148,
           40,
           79,
           80,
           27,
           133,
           117,
           81,
           583,
           81,
           91,
           128,
           104,
           149,
           394,
           40,
           175,
           83,
           64,
           59,
           127,
           82,
           283,
           115,
           162,
           103,
           134,
           321,
           251,
           220,
           129,
           128,
           7,
           5,
           54,
           151,
           33,
           336,
           68,
           110,
           261,
           176,
           18,
           58,
           150,
           138,
           213,
           275,
           95,
           143,
           104,
           112,
           137,
           219,
           295,
           256,
           390,
           172,
           508,
           73,
           54,
           15,
           5,
           74,
           71,
           42,
           65,
           130,
           31,
           272,
           20,
           9,
           67,
           15,
           125,
           378,
           293,
           4,
           67,
           429,
           106,
           115,
           187,
           244,
           97,
           413,
           65,
           129,
           23,
           95,
           246,
           171,
           198,
           259,
           105,
           171,
           19,
           50,
           61,
           72,
           57,
           222,
           243,
           65,
           10,
           185,
           128,
           23,
           157,
           326,
           82,
           247,
           174,
           98,
           148,
           127,
           60,
           101,
           69,
           220,
           106,
           92,
           151,
           64,
           58,
           67,
           316,
           118,
           121,
           65,
           367,
           324,
           420,
           208,
           284,
           137,
           125,
           221,
           221,
           507,
           226,
           291,
           116,
           239,
           251,
           209,
           170,
           66,
           124,
           276,
           116,
           157,
           241,
           301,
           251,
           239,
           127,
           165,
           206,
           89,
           280,
           182,
           350,
           136,
           50,
           66,
           200,
           191,
           331,
           206,
           92,
           134,
           114,
           212,
           290,
           120,
           171,
           111,
           66,
           74,
           365,
           136,
           44,
           109,
           166,
           161,
           244,
           171,
           199,
           142,
           101,
           124,
           280,
           217,
           45,
           384,
           256,
           150,
           156,
           128,
           117,
           132,
           48,
           240,
           124,
           5,
           160,
           130,
           197,
           46,
           158,
           26,
           62,
           172,
           16,
           303,
           509,
           162,
           127,
           43,
           66,
           19,
           101,
           227,
           35,
           9,
           255,
           315,
           136,
           211,
           198,
           223,
           190,
           268,
           298,
           71,
           60,
           28,
           85,
           146,
           232,
           177,
           193,
           162,
           481,
           78,
           478,
           259,
           96,
           127,
           114,
           147,
           485,
           77,
           6,
           50,
           194,
           73,
           431,
           230,
           297,
           134,
           149,
           87,
           96,
           188,
           30,
           28,
           145,
           75,
           80,
           350,
           5,
           160,
           112,
           102,
           298,
           168,
           20,
           169,
           218,
           240,
           125,
           128,
           175,
           175,
           295,
           45,
           41,
           113,
           143,
           251,
           64,
           21,
           43,
           18,
           91,
           47,
           189,
           11,
           52,
           124,
           55,
           65,
           126,
           137,
           27,
           31,
           41,
           20,
           26,
           14,
           72,
           41,
           97,
           264,
           143,
           18,
           10,
           10,
           28,
           47,
           37,
           48,
           47,
           170,
           31,
           55,
           39,
           67,
           34,
           39,
           11,
           23,
           24,
           13,
           101,
           43,
           116,
           100,
           111,
           31,
           69,
           208,
           87,
           65,
           28,
           27,
           10,
           59,
           68,
           192,
           12,
           56,
           54,
           12,
           26,
           89,
           18,
           76,
           170,
           201,
           101,
           344,
           49,
           43,
           112,
           70,
           162,
           163,
           93,
           55,
           62,
           25,
           64,
           73,
           129,
           178,
           81,
           106,
           26,
           300,
           19,
           85,
           32,
           219,
           121,
           97,
           93,
           153,
           174,
           171,
           67,
           216,
           99,
           5,
           6,
           5,
           14,
           53,
           4,
           162,
           46,
           22,
           9,
           121,
           85,
           117,
           63,
           170,
           66,
           16,
           16,
           145,
           48,
           27,
           90,
           24,
           28,
           74,
           148,
           71,
           27,
           85,
           52,
           48,
           64,
           67,
           108,
           221,
           158,
           126,
           194,
           250,
           160,
           95,
           104,
           179,
           179,
           63,
           128,
           243,
           138,
           125,
           64,
           68,
           65,
           52,
           50,
           67,
           59,
           60,
           56,
           59,
           231,
           68,
           152,
           62,
           31,
           123,
           57,
           39,
           122,
           68,
           90,
           98,
           215,
           121,
           121,
           173,
           57,
           72,
           180,
           201,
           63,
           91,
           89,
           80,
           124,
           120,
           35,
           164,
           46,
           73,
           124,
           195,
           121,
           93,
           80,
           129,
           22,
           15,
           13,
           54,
           10,
           30,
           66,
           44,
           43,
           49,
           51,
           21,
           71,
           12,
           254,
           41,
           12,
           92,
           151,
           24,
           45,
           63,
           102,
           10,
           12,
           17,
           70,
           137,
           22,
           59,
           48,
           29,
           27,
           22,
           179,
           35,
           230,
           67,
           50,
           28,
           29,
           33,
           15,
           44,
           93,
           41,
           92,
           19,
           32,
           59,
           168,
           37,
           79,
           39,
           34,
           14,
           202,
           43,
           18,
           178,
           9,
           12,
           5,
           64,
           127,
           206,
           4,
           1,
           2,
           20,
           50,
           209,
           81,
           31,
           66,
           66,
           30,
           60,
           41,
           40,
           34,
           27,
           51,
           59,
           64,
           18,
           18,
           64,
           43,
           11,
           39,
           39,
           22,
           82,
           4,
           75,
           169,
           77,
           31,
           119,
           58,
           69,
           24,
           23,
           91,
           38,
           44,
           40,
           82,
           33,
           89,
           4,
           35,
           27,
           38,
           70,
           67,
           50,
           72,
           171,
           90,
           34,
           147,
           227,
           44,
           131,
           79,
           115,
           153,
           88,
           82,
           116,
           46,
           100,
           5,
           12,
           6,
           13,
           36,
           46,
           65,
           86,
           48,
           54,
           77,
           1,
           219,
           107,
           34,
           27,
           100,
           49,
           169,
           157,
           50,
           69,
           44,
           87,
           155,
           16,
           164,
           91,
           44,
           13,
           79,
           40,
           10,
           102,
           15,
           10,
           53,
           19,
           24,
           137,
           6,
           70,
           101,
           104,
           79,
           1,
           51,
           72,
           13,
           87,
           58,
           82,
           16,
           29,
           86,
           54,
           58,
           34,
           76,
           16,
           14,
           63,
           45,
           81,
           24,
           39,
           180,
           15,
           27,
           137,
           78,
           59,
           31,
           164,
           63,
           58,
           267,
           39,
           92,
           16,
           119,
           102,
           316,
           51,
           124,
           180,
           39,
           24,
           57,
           96,
           128,
           4,
           21,
           11,
           46,
           44,
           115,
           149,
           29,
           32,
           9,
           11,
           52,
           42,
           57,
           41,
           49,
           17,
           32,
           26,
           9,
           4,
           76,
           31,
           69,
           84,
           10,
           37,
           2,
           39,
           14,
           13,
           3,
           47,
           66,
           10,
           86,
           10,
           46,
           21,
           36,
           31,
           9,
           5,
           26,
           16,
           40,
           9,
           8,
           27,
           50,
           9,
           31,
           43,
           45,
           18,
           18,
           56,
           1,
           112,
           21,
           3,
           25,
           40,
           93,
           22,
           4,
           82,
           49,
           83,
           80,
           57,
           13,
           34,
           1,
           91,
           22,
           49,
           25,
           15,
           26,
           25,
           4,
           4,
           53,
           48,
           27,
           30,
           42,
           176,
           44,
           55,
           9,
           53,
           4,
           4,
           1,
           14,
           16,
           66,
           36,
           1,
           3,
           15,
           16,
           3,
           18,
           24,
           86,
           21,
           119,
           6,
           5,
           24,
           9,
           75,
           42,
           81,
           39,
           53,
           47,
           52,
           33,
           136,
           59,
           45,
           34,
           13,
           7,
           13,
           53,
           64,
           15,
           13,
           43,
           6,
           53,
           14,
           19,
           106,
           44,
           2,
           58,
           9,
           42,
           12,
           42,
           18,
           20,
           27,
           21,
           2,
           20,
           13,
           4,
           4,
           9,
           2,
           11,
           13,
           18,
           7,
           8,
           96,
           5,
           46,
           34,
           58,
           85,
           34,
           101,
           6,
           104,
           40,
           80,
           57,
           40,
           21,
           68,
           7,
           32,
           37,
           25,
           60,
           32,
           46,
           45,
           40,
           43,
           40,
           61,
           17,
           48,
           71,
           30,
           39,
           45,
           22,
           11,
           49,
           46,
           2,
           14,
           64,
           25,
           34,
           23,
           41,
           9,
           21,
           26,
           12,
           18,
           75,
           8,
           34,
           28,
           4,
           32,
           44,
           12,
           49,
           27,
           35,
           22,
           8,
           20,
           15,
           44,
           22,
           23,
           4,
           86,
           32,
           33,
           25,
           4,
           66,
           7,
           31,
           14,
           16,
           16,
           10,
           10,
           17,
           8,
           8,
           9,
           22,
           23,
           47,
           37,
           64,
           44,
           93,
           100,
           38,
           98,
           12,
           137,
           50,
           32,
           31,
           35,
           38,
           32,
           31,
           15,
           44,
           4,
           3,
           148,
           14,
           20,
           7,
           16,
           32,
           27,
           68,
           24,
           24,
           17,
           90,
           25,
           62,
           28,
           8,
           40,
           25,
           46,
           134,
           73,
           25,
           43,
           41,
           25,
           24,
           23,
           10,
           10,
           22,
           15,
           35,
           39,
           29,
           12,
           41,
           4,
           53,
           16,
           44,
           12,
           18,
           27,
           16,
           7,
           66,
           77,
           7,
           12,
           8,
           22,
           45,
           2,
           8,
           8,
           6,
           21,
           11,
           21,
           10,
           13,
           38,
           37,
           43,
           12,
           23,
           12,
           29,
           3,
           18,
           42,
           13,
           8,
           74,
           7,
           19,
           4,
           18,
           4,
           18,
           5,
           28,
           41,
           7,
           15,
           22,
           10,
           29,
           13,
           19,
           47,
           59,
           17,
           21,
           1,
           3,
           12,
           4,
           32,
           11,
           13,
           28,
           1,
           13,
           32,
           30,
           38,
           46,
           29,
           29,
           5,
           33,
           17,
           9,
           44,
           15,
           3,
           9,
           3,
           21,
           9,
           26,
           9,
           7,
           28,
           19,
           12,
           3,
           1,
           25,
           4,
           11,
           26,
           13,
           5,
           25,
           6,
           14,
           12,
           11,
           22,
           10,
           27,
           14,
           15,
           7,
           8,
           5,
           22,
           7,
           19,
           9,
           10,
           10,
           13,
           19,
           10,
           18,
           3,
           13,
           44,
           3,
           11,
           3,
           13,
           10,
           31,
           11,
           3,
           45,
           7,
           23,
           7,
           1,
           8,
           21,
           18,
           6,
           19,
           17,
           20,
           15,
           38,
           12,
           6,
           6,
           9,
           30,
           6,
           39,
           26,
           20,
           30,
           39,
           25,
           4,
           12,
           14,
           32,
           8,
           48,
           13,
           18,
           22,
           17,
           6,
           8,
           1,
           1,
           6,
           8,
           18,
           26,
           6,
           5,
           7,
           36,
           19,
           7,
           6,
           19,
           12,
           6,
           8,
           9,
           7,
           11,
           8,
           3,
           4,
           23,
           4,
           4,
           4,
           8,
           15,
           7,
           19,
           12,
           33,
           10,
           10,
           7,
           7,
           5,
           15,
           11,
           4,
           8,
           19,
           16,
           9,
           16,
           13,
           9,
           19,
           26,
           15,
           17,
           6,
           7,
           7,
           2,
           15,
           3,
           3,
           7,
           7,
           20,
           12,
           9,
           8,
           9,
           5,
           5,
           18,
           2,
           7,
           2,
           2,
           2,
           1,
           1,
           16,
           7,
           14,
           11,
           23,
           7,
           4,
           3,
           4,
           1,
           2,
           6,
           3,
           5,
           1,
           6,
           3,
           6,
           1,
           4,
           4,
           2,
           5,
           2,
           11,
           10,
           9,
           4,
           1,
           1,
           1,
           2,
           1,
           5,
           2,
           5,
           4,
           1,
           1,
           2,
           3,
           1,
           5,
           2,
           6,
           3,
           3,
           2,
           2,
           2,
           3,
           2,
           1,
           1,
           2,
           1,
           5,
           6,
           4,
           3,
           2,
           3,
           1,
           2,
           10,
           7,
           4,
           5,
           7,
           6,
           8,
           4,
           6,
           3,
           5,
           6,
           3,
           6,
           3,
           2,
           3,
           5,
           9,
           7,
           6,
           5,
           5,
           2,
           7,
           10,
           18,
           4,
           4,
           13,
           6,
           5,
           20,
           3,
           7,
           4,
           28,
           6,
           8,
           1,
           9,
           5,
           2,
           3,
           16,
           3,
           11,
           4,
           4,
           3,
           10,
           8,
           5,
           12,
           4,
           3,
           5,
           3,
           2,
           10,
           7,
           2,
           9,
           5,
           8,
           5,
           7,
           5,
           4,
           19,
           4,
           15,
           1,
           3,
           8,
           2,
           15,
           1,
           1,
           6,
           2,
           7,
           1,
           1,
           7,
           1,
           1,
           7,
           3,
           3,
           3,
           6,
           2,
           6,
           12,
           5,
           9,
           2,
           9,
           6,
           8,
           1,
           2,
           18,
           8,
           11,
           2,
           1,
           12,
           3,
           4,
           1,
           5,
           4,
           5,
           3,
           2,
           1,
           1,
           1,
           5,
           5,
           2,
           1,
           4,
           2,
           5,
           2,
           10,
           3,
           1,
           3,
           1,
           3,
           5,
           1,
           5,
           6,
           3,
           7,
           1,
           3,
           5,
           12,
           2,
           1,
           4,
           7,
           2,
           8,
           1,
           1,
           7,
           3,
           5,
           5,
           7,
           2,
           1,
           6,
           4,
           1,
           4,
           3,
           4,
           10,
           2,
           2,
           1,
           3,
           4,
           1,
           2,
           1,
           2,
           2,
           2,
           3,
           4,
           2,
           5,
           2,
           1,
           7,
           1,
           4,
           1,
           1,
           1,
           1,
           1,
           1,
           1,
           1,
           1,
           1,
           1,
           1,
           2,
           1,
           1,
           1,
           1,
           2,
           1,
           1,
           1,
           1,
           1,
           1,
           2,
           1,
           1,
           2,
           4,
           2,
           6,
           5,
           1,
           2,
           1,
           1,
           5,
           6,
           1,
           4,
           1,
           3,
           1,
           1,
           4,
           1,
           3,
           4,
           3,
           3,
           2,
           4,
           1,
           1,
           10,
           1,
           2,
           1,
           1,
           9,
           1,
           3,
           3,
           1,
           1,
           1,
           1,
           4,
           2,
           1,
           2,
           1,
           1,
           1,
           1,
           1,
           1,
           1,
           3,
           1,
           1,
           2,
           4,
           2,
           1,
           2,
           1,
           1,
           1,
           1,
           1,
           3,
           1,
           1,
           1,
           2,
           1,
           3,
           1,
           1,
           1,
           2,
           1,
           4,
           1,
           1,
           1,
           1,
           1,
           1,
           1,
           2,
           1,
           1,
           1,
           1,
           1,
           1,
           1,
           1,
           1,
           1
          ],
          "coloraxis": "coloraxis",
          "symbol": "circle"
         },
         "mode": "markers",
         "name": "",
         "showlegend": false,
         "type": "scattergl",
         "x": [
          10.404224395751953,
          20.552724838256836,
          -0.8342658877372742,
          -17.362131118774414,
          17.257617950439453,
          -15.428966522216797,
          -32.847347259521484,
          -18.400392532348633,
          -29.72399139404297,
          -13.28701114654541,
          -11.330748558044434,
          -32.73805618286133,
          -21.60738754272461,
          -25.13013458251953,
          7.244121551513672,
          -12.275979995727539,
          2.956620216369629,
          -8.979138374328613,
          -16.28642463684082,
          -22.86309814453125,
          16.180482864379883,
          8.645262718200684,
          -30.31184959411621,
          -5.013460159301758,
          4.129228115081787,
          -16.705053329467773,
          0.046293508261442184,
          3.0600147247314453,
          24.434736251831055,
          -18.451019287109375,
          16.117469787597656,
          -22.91428565979004,
          2.4790544509887695,
          9.319417953491211,
          22.382299423217773,
          9.930561065673828,
          -10.159895896911621,
          19.229148864746094,
          -7.455038547515869,
          3.540693759918213,
          3.3135719299316406,
          -20.346923828125,
          5.932450771331787,
          -14.775362968444824,
          -19.362443923950195,
          -25.194337844848633,
          -29.43488121032715,
          -15.471187591552734,
          0.25016504526138306,
          -7.097291946411133,
          0.5041019320487976,
          -12.902616500854492,
          -13.552614212036133,
          9.175561904907227,
          -18.303674697875977,
          -29.878925323486328,
          -13.145224571228027,
          -15.50931167602539,
          -15.118439674377441,
          -14.790831565856934,
          -18.68331527709961,
          22.120746612548828,
          21.425355911254883,
          -33.12146759033203,
          -15.788530349731445,
          17.297061920166016,
          14.499682426452637,
          -0.11798645555973053,
          2.2391200065612793,
          -13.732852935791016,
          3.006427049636841,
          11.640189170837402,
          17.500083923339844,
          -16.063777923583984,
          1.9454123973846436,
          -4.741909027099609,
          18.490610122680664,
          18.386552810668945,
          12.596190452575684,
          10.842007637023926,
          -25.84440803527832,
          14.910686492919922,
          -4.2376627922058105,
          1.7444757223129272,
          11.987176895141602,
          -25.75531768798828,
          2.993307113647461,
          12.474752426147461,
          -28.691436767578125,
          -1.8515437841415405,
          -5.67139196395874,
          -18.529205322265625,
          -18.261821746826172,
          18.993608474731445,
          12.56104564666748,
          12.561662673950195,
          4.5601959228515625,
          -34.51899719238281,
          -33.459381103515625,
          -29.587623596191406,
          3.543360471725464,
          7.075608253479004,
          22.85880470275879,
          25.575244903564453,
          15.916687965393066,
          15.222360610961914,
          -6.436668872833252,
          -4.752997398376465,
          -4.826845169067383,
          16.853185653686523,
          -0.6688099503517151,
          16.92857551574707,
          -8.767485618591309,
          -20.436901092529297,
          10.808759689331055,
          -26.685916900634766,
          17.989898681640625,
          21.766878128051758,
          -16.920564651489258,
          21.518362045288086,
          19.201946258544922,
          8.626930236816406,
          -3.4066526889801025,
          -27.23040008544922,
          20.243906021118164,
          -0.7110931873321533,
          -31.98090171813965,
          -4.437710762023926,
          -11.304183006286621,
          12.652623176574707,
          -24.942106246948242,
          -31.771596908569336,
          -32.3005485534668,
          -29.07600212097168,
          -29.46321678161621,
          -9.814306259155273,
          -28.978147506713867,
          23.991342544555664,
          11.329070091247559,
          11.631621360778809,
          -16.0709285736084,
          7.556294918060303,
          10.363213539123535,
          -9.319787979125977,
          19.062053680419922,
          5.680387020111084,
          15.935405731201172,
          20.976831436157227,
          -21.471920013427734,
          -23.91634178161621,
          -27.722698211669922,
          -19.612451553344727,
          -18.718923568725586,
          -26.608139038085938,
          18.530052185058594,
          -26.69413185119629,
          -17.76854705810547,
          11.974288940429688,
          1.778279185295105,
          -28.533220291137695,
          19.391735076904297,
          -19.145076751708984,
          3.9171957969665527,
          7.437191009521484,
          -14.458970069885254,
          -11.935277938842773,
          4.04454231262207,
          -27.610462188720703,
          -20.19349479675293,
          -11.51484203338623,
          -25.176424026489258,
          -7.139690399169922,
          12.634495735168457,
          12.450967788696289,
          -23.92070960998535,
          -10.923479080200195,
          -14.63748836517334,
          -28.43480110168457,
          -30.445207595825195,
          -30.3712100982666,
          -7.100273609161377,
          -31.13173484802246,
          -9.97070026397705,
          -3.1408329010009766,
          -30.579910278320312,
          -7.550069332122803,
          -32.03534698486328,
          -12.07875919342041,
          -9.135660171508789,
          -19.598974227905273,
          -32.585514068603516,
          -19.215089797973633,
          -34.13945007324219,
          -16.144084930419922,
          -7.933907985687256,
          -14.098501205444336,
          -31.244102478027344,
          -15.484248161315918,
          -30.131195068359375,
          -27.271595001220703,
          -20.84832000732422,
          -0.2572190463542938,
          -19.342435836791992,
          13.348800659179688,
          -34.27328109741211,
          -23.958057403564453,
          -10.745429992675781,
          -14.910690307617188,
          -27.376636505126953,
          11.92916202545166,
          -30.735733032226562,
          -24.7513484954834,
          -18.95207405090332,
          -8.875080108642578,
          13.135271072387695,
          -32.376953125,
          -0.2850258946418762,
          12.336822509765625,
          13.943577766418457,
          5.081259250640869,
          -26.283214569091797,
          10.730215072631836,
          -20.63193130493164,
          -9.401971817016602,
          9.899415969848633,
          17.17803955078125,
          9.62686538696289,
          9.479107856750488,
          1.2317259311676025,
          10.103527069091797,
          14.284199714660645,
          9.007217407226562,
          16.417245864868164,
          -30.065996170043945,
          -8.226375579833984,
          -9.200872421264648,
          7.881191730499268,
          -29.6234073638916,
          9.645503044128418,
          -8.027653694152832,
          1.6473240852355957,
          -26.278263092041016,
          24.745983123779297,
          0.929248571395874,
          19.326936721801758,
          -29.388898849487305,
          22.208637237548828,
          -2.1367127895355225,
          -19.133331298828125,
          8.051862716674805,
          -12.311578750610352,
          19.501094818115234,
          -4.732388496398926,
          24.207605361938477,
          20.326581954956055,
          -20.403064727783203,
          10.976258277893066,
          6.323707580566406,
          24.98122787475586,
          4.59446907043457,
          16.750856399536133,
          -25.893138885498047,
          24.374122619628906,
          2.0854508876800537,
          12.107345581054688,
          2.385359764099121,
          -1.0284091234207153,
          -29.39020538330078,
          -27.101043701171875,
          -3.3026134967803955,
          1.3124061822891235,
          -29.72325325012207,
          -12.666149139404297,
          12.777791976928711,
          -23.34739875793457,
          -27.253768920898438,
          -11.024140357971191,
          11.932313919067383,
          -20.679912567138672,
          17.37373924255371,
          17.688491821289062,
          21.277135848999023,
          -13.535443305969238,
          7.386606216430664,
          -27.69818878173828,
          -17.081958770751953,
          -7.442880630493164,
          26.367673873901367,
          -0.1581297516822815,
          -5.37498140335083,
          13.411046981811523,
          -13.09477710723877,
          -18.674793243408203,
          24.775293350219727,
          0.2564234435558319,
          1.4786328077316284,
          -4.082788467407227,
          -13.714070320129395,
          -11.345975875854492,
          21.15754508972168,
          -3.2006049156188965,
          -28.817947387695312,
          -24.712560653686523,
          5.313427925109863,
          -28.522459030151367,
          -13.315463066101074,
          0.3810473084449768,
          -8.852673530578613,
          26.005512237548828,
          5.746060848236084,
          -16.60005760192871,
          2.0718560218811035,
          6.480541229248047,
          21.291790008544922,
          -14.566323280334473,
          -29.401329040527344,
          -16.983966827392578,
          -34.525146484375,
          -21.961030960083008,
          -15.765880584716797,
          -21.69939613342285,
          23.910219192504883,
          24.09263801574707,
          -8.295957565307617,
          7.769193649291992,
          23.894094467163086,
          -3.7018189430236816,
          24.585939407348633,
          0.8764430284500122,
          -1.3838127851486206,
          -1.4050158262252808,
          26.481067657470703,
          24.782123565673828,
          -6.299172878265381,
          -6.214031219482422,
          11.32044506072998,
          -4.761537551879883,
          7.681373596191406,
          0.9378166198730469,
          -27.972898483276367,
          0.797783374786377,
          2.9689362049102783,
          1.3940562009811401,
          -15.004961967468262,
          -25.47030258178711,
          -23.740386962890625,
          -15.380633354187012,
          -0.2837858498096466,
          26.377498626708984,
          -1.0283323526382446,
          1.905695915222168,
          11.491700172424316,
          18.263641357421875,
          12.42250919342041,
          -3.1762075424194336,
          12.662470817565918,
          -32.45240020751953,
          4.788755416870117,
          -7.138453960418701,
          -19.028676986694336,
          -4.0039849281311035,
          -9.159149169921875,
          5.845441818237305,
          7.1512956619262695,
          8.971281051635742,
          10.199360847473145,
          -2.5669896602630615,
          20.057809829711914,
          1.2917519807815552,
          18.07699203491211,
          -8.598169326782227,
          -22.4011287689209,
          14.787781715393066,
          23.552051544189453,
          11.509974479675293,
          10.72475814819336,
          20.14419174194336,
          4.858942031860352,
          -8.402132034301758,
          21.56790542602539,
          -11.958996772766113,
          -19.952157974243164,
          21.531484603881836,
          1.8848878145217896,
          17.501909255981445,
          -11.968738555908203,
          -11.484185218811035,
          14.515082359313965,
          11.68482780456543,
          -12.333467483520508,
          9.932551383972168,
          5.967494487762451,
          5.269676208496094,
          6.529973983764648,
          16.448715209960938,
          -14.195673942565918,
          8.949239730834961,
          22.083593368530273,
          13.442238807678223,
          7.220096588134766,
          -11.563597679138184,
          16.465538024902344,
          8.94192886352539,
          -34.170284271240234,
          21.870420455932617,
          7.936006546020508,
          12.183767318725586,
          -19.699901580810547,
          1.9198777675628662,
          10.619552612304688,
          14.765267372131348,
          9.182107925415039,
          9.420957565307617,
          -25.411718368530273,
          6.9159321784973145,
          -16.16490936279297,
          4.461433410644531,
          1.8216397762298584,
          -13.147078514099121,
          -30.938535690307617,
          -3.71586012840271,
          5.928865909576416,
          -34.3114128112793,
          21.965673446655273,
          -24.064746856689453,
          4.432433605194092,
          -31.777080535888672,
          -26.8877010345459,
          -1.9995347261428833,
          -12.785508155822754,
          11.532464981079102,
          -27.258955001831055,
          -27.312170028686523,
          -1.704702615737915,
          -17.897050857543945,
          -5.2103071212768555,
          22.216785430908203,
          19.900978088378906,
          22.63310432434082,
          24.173322677612305,
          7.159860134124756,
          23.890153884887695,
          -27.127342224121094,
          -17.237058639526367,
          -9.637053489685059,
          20.67007064819336,
          -17.75459098815918,
          5.263837814331055,
          -8.435458183288574,
          9.51045036315918,
          21.294696807861328,
          8.191519737243652,
          19.050615310668945,
          21.234189987182617,
          -3.993842840194702,
          22.79520606994629,
          16.245014190673828,
          -19.895856857299805,
          -3.4379680156707764,
          2.706186294555664,
          -15.687634468078613,
          -21.86187744140625,
          -12.819144248962402,
          -9.620360374450684,
          2.959676742553711,
          -8.358521461486816,
          -8.214864730834961,
          15.714339256286621,
          -22.0480899810791,
          -3.3181846141815186,
          6.608176231384277,
          13.928577423095703,
          -7.446155071258545,
          -29.595653533935547,
          -24.016841888427734,
          18.190528869628906,
          -10.372077941894531,
          -17.893800735473633,
          -27.798095703125,
          -29.120277404785156,
          -22.513288497924805,
          -32.012596130371094,
          -27.837936401367188,
          -29.400968551635742,
          -11.765109062194824,
          -16.919071197509766,
          -32.0089111328125,
          -23.26932144165039,
          -7.443728446960449,
          -25.13837242126465,
          -27.926698684692383,
          -23.63278579711914,
          -28.6263370513916,
          -31.897615432739258,
          -16.439210891723633,
          -16.52263069152832,
          -17.053268432617188,
          -19.601696014404297,
          -24.440481185913086,
          5.285193920135498,
          -34.10474395751953,
          -14.122495651245117,
          -15.924256324768066,
          -31.117795944213867,
          -18.558963775634766,
          -29.602764129638672,
          -26.916898727416992,
          -13.945191383361816,
          -28.23857307434082,
          -12.66143798828125,
          -32.241310119628906,
          -17.669145584106445,
          -12.985281944274902,
          -25.886341094970703,
          -29.186256408691406,
          -10.277425765991211,
          -25.248865127563477,
          -21.394304275512695,
          -28.77958869934082,
          -17.63582420349121,
          -34.0777702331543,
          -30.19296646118164,
          -31.570907592773438,
          -15.20313835144043,
          -29.076522827148438,
          -16.709232330322266,
          -33.08780288696289,
          -32.048622131347656,
          -22.98304557800293,
          -17.627511978149414,
          -4.759538173675537,
          -4.213549613952637,
          -22.212007522583008,
          -14.762982368469238,
          8.352090835571289,
          -10.214773178100586,
          -16.82051658630371,
          19.906286239624023,
          20.51093864440918,
          11.272544860839844,
          5.224655628204346,
          18.851482391357422,
          -16.97089195251465,
          -3.728971004486084,
          18.045007705688477,
          15.945830345153809,
          -2.662062406539917,
          12.054141998291016,
          -5.459316253662109,
          17.275304794311523,
          13.571032524108887,
          5.4457621574401855,
          6.073335647583008,
          18.482980728149414,
          19.44266128540039,
          -15.65756893157959,
          -11.581809043884277,
          -17.818235397338867,
          11.02188491821289,
          8.167634963989258,
          6.336789131164551,
          4.191307544708252,
          9.059212684631348,
          16.529245376586914,
          12.617286682128906,
          16.757646560668945,
          7.4829888343811035,
          12.087249755859375,
          2.247339963912964,
          -0.999135434627533,
          18.38129234313965,
          2.3323843479156494,
          7.2245259284973145,
          16.99898338317871,
          14.134479522705078,
          9.90242862701416,
          21.889841079711914,
          19.52647590637207,
          19.018672943115234,
          -12.776601791381836,
          -13.582676887512207,
          -26.19913673400879,
          -7.416130542755127,
          -6.264591693878174,
          15.351458549499512,
          13.772433280944824,
          -8.698829650878906,
          -3.4827566146850586,
          -20.099565505981445,
          19.63665771484375,
          7.310219764709473,
          -5.668026924133301,
          -12.492935180664062,
          -20.64620018005371,
          20.607423782348633,
          3.9983949661254883,
          19.465673446655273,
          11.273634910583496,
          22.175704956054688,
          -15.10378360748291,
          -14.8968505859375,
          -23.179317474365234,
          -28.27580451965332,
          -14.522317886352539,
          -21.742454528808594,
          -26.196657180786133,
          -26.618915557861328,
          -9.574681282043457,
          -18.033533096313477,
          -23.555233001708984,
          -11.481585502624512,
          -15.638411521911621,
          -3.7678585052490234,
          0.3882323205471039,
          -23.222734451293945,
          -17.774879455566406,
          -17.713340759277344,
          -20.155641555786133,
          1.8452831506729126,
          -1.8202869892120361,
          -16.04669189453125,
          3.5143067836761475,
          14.259638786315918,
          -16.770709991455078,
          -0.5630159378051758,
          -19.418506622314453,
          8.335516929626465,
          12.418683052062988,
          2.452244281768799,
          10.908119201660156,
          -13.37420654296875,
          -19.812843322753906,
          -29.667987823486328,
          -10.91496467590332,
          -10.501028060913086,
          -4.9824395179748535,
          -15.730712890625,
          -24.628679275512695,
          -9.889588356018066,
          -17.533218383789062,
          -25.360567092895508,
          -19.448760986328125,
          -11.963885307312012,
          -30.309581756591797,
          -10.284527778625488,
          -25.90513801574707,
          -28.825063705444336,
          -16.692838668823242,
          -20.36663818359375,
          -21.61432456970215,
          -26.981355667114258,
          -25.189138412475586,
          -23.033872604370117,
          -29.729928970336914,
          -17.121259689331055,
          -25.33197593688965,
          -26.50946807861328,
          0.6755163073539734,
          -17.316457748413086,
          -9.373517990112305,
          -29.707857131958008,
          6.961276054382324,
          -10.968153953552246,
          -22.64974594116211,
          0.05152187496423721,
          10.75716495513916,
          9.50655460357666,
          -14.402950286865234,
          22.173067092895508,
          2.707923650741577,
          -22.328170776367188,
          2.7842090129852295,
          10.423975944519043,
          4.639549732208252,
          -22.7824764251709,
          0.10980232059955597,
          53.760982513427734,
          23.843612670898438,
          4.921226501464844,
          2.34165620803833,
          14.7169189453125,
          26.18968963623047,
          10.595826148986816,
          0.50674968957901,
          14.3495512008667,
          -5.249721527099609,
          22.87952995300293,
          17.408735275268555,
          26.011249542236328,
          6.037403583526611,
          -15.340217590332031,
          13.354857444763184,
          -15.681778907775879,
          -20.826828002929688,
          -9.600506782531738,
          9.787656784057617,
          -3.8369691371917725,
          -3.1713497638702393,
          -5.295832633972168,
          -3.661120653152466,
          -10.395496368408203,
          0.4486673176288605,
          -0.12106722593307495,
          -14.604976654052734,
          -23.669527053833008,
          5.216958522796631,
          -8.62851619720459,
          -23.605632781982422,
          -22.414636611938477,
          -2.1751301288604736,
          55.92911911010742,
          -14.957886695861816,
          -23.10302734375,
          -9.240674018859863,
          -23.85770606994629,
          0.41873958706855774,
          21.13228988647461,
          -14.123181343078613,
          5.416370868682861,
          21.6319637298584,
          -0.5599139332771301,
          5.5127081871032715,
          1.7470752000808716,
          -19.816043853759766,
          3.740893602371216,
          7.3642988204956055,
          -2.2201037406921387,
          15.140213966369629,
          16.60668182373047,
          -6.579144477844238,
          13.72944164276123,
          13.087904930114746,
          -7.155163288116455,
          10.798297882080078,
          -9.94394588470459,
          -10.924713134765625,
          -14.195831298828125,
          0.6792364120483398,
          18.95194435119629,
          -4.849392414093018,
          -16.893695831298828,
          21.41836166381836,
          19.178016662597656,
          -2.242466926574707,
          -8.091147422790527,
          -0.532929003238678,
          -4.7629241943359375,
          24.3055419921875,
          -16.051651000976562,
          -11.278026580810547,
          -2.2533185482025146,
          -1.628867506980896,
          -11.587754249572754,
          -0.2347654551267624,
          20.920997619628906,
          21.510623931884766,
          -3.8970608711242676,
          18.076805114746094,
          14.683197021484375,
          1.8005340099334717,
          7.274654865264893,
          -6.622882843017578,
          10.93110179901123,
          5.205114841461182,
          3.41369891166687,
          -17.067928314208984,
          9.65042495727539,
          9.744226455688477,
          21.69161033630371,
          -23.426124572753906,
          13.11032772064209,
          -15.695804595947266,
          -17.125486373901367,
          20.623144149780273,
          10.893535614013672,
          5.359782695770264,
          13.443519592285156,
          -14.476162910461426,
          15.128830909729004,
          3.0520846843719482,
          15.904030799865723,
          6.125985622406006,
          17.394908905029297,
          54.924991607666016,
          1.025293231010437,
          -11.47849178314209,
          12.577110290527344,
          53.8741340637207,
          -19.209924697875977,
          3.269843339920044,
          15.509289741516113,
          -26.107248306274414,
          -19.211999893188477,
          14.730009078979492,
          20.59488296508789,
          15.022383689880371,
          9.707719802856445,
          14.216535568237305,
          -10.29964828491211,
          8.161750793457031,
          10.077251434326172,
          17.951549530029297,
          -19.31020736694336,
          1.3724991083145142,
          -17.47916603088379,
          -17.354904174804688,
          5.653107166290283,
          20.272489547729492,
          19.496129989624023,
          8.107880592346191,
          -18.716176986694336,
          6.8397698402404785,
          -8.573718070983887,
          55.54563522338867,
          13.627814292907715,
          11.257083892822266,
          17.406436920166016,
          -17.884239196777344,
          21.183982849121094,
          5.287003040313721,
          14.801417350769043,
          -12.644674301147461,
          11.841316223144531,
          -5.262292385101318,
          10.473160743713379,
          12.634294509887695,
          23.134931564331055,
          18.015213012695312,
          16.974018096923828,
          20.631103515625,
          10.216390609741211,
          -13.338030815124512,
          3.7544784545898438,
          22.462478637695312,
          -6.5495429039001465,
          -6.555771350860596,
          -15.317523002624512,
          15.932049751281738,
          22.231489181518555,
          6.050158977508545,
          16.793119430541992,
          -10.10194206237793,
          -13.140896797180176,
          -6.826976299285889,
          -0.4045701324939728,
          21.173368453979492,
          -3.1923227310180664,
          -17.818561553955078,
          13.600086212158203,
          -16.567489624023438,
          -19.496475219726562,
          19.94135093688965,
          -18.478015899658203,
          -3.669205665588379,
          -7.63649845123291,
          -20.87444496154785,
          -14.362021446228027,
          22.481536865234375,
          -2.4688947200775146,
          15.95021915435791,
          -14.325128555297852,
          24.534570693969727,
          -13.972981452941895,
          6.569802284240723,
          -21.77574920654297,
          18.953460693359375,
          -27.01681137084961,
          -29.554189682006836,
          14.422154426574707,
          11.136900901794434,
          21.125680923461914,
          -13.471399307250977,
          5.488790988922119,
          -8.721617698669434,
          -4.842122554779053,
          0.27300602197647095,
          4.188389778137207,
          14.203948020935059,
          26.999841690063477,
          -11.167947769165039,
          0.37956488132476807,
          -5.091516494750977,
          -5.631990909576416,
          -9.344351768493652,
          18.157766342163086,
          4.290587425231934,
          -7.267353057861328,
          -2.635296583175659,
          -4.229881763458252,
          20.976259231567383,
          5.18904972076416,
          16.150407791137695,
          1.3408844470977783,
          18.20176887512207,
          26.58940887451172,
          -22.41970443725586,
          16.229576110839844,
          -9.16236686706543,
          -2.6252152919769287,
          -16.7993106842041,
          20.114458084106445,
          -8.434720039367676,
          -20.423559188842773,
          -4.057613849639893,
          3.2273266315460205,
          1.0920048952102661,
          14.779362678527832,
          -1.4557608366012573,
          -4.50919246673584,
          9.85270881652832,
          10.909125328063965,
          -6.0419487953186035,
          19.886850357055664,
          -3.8773386478424072,
          -26.619369506835938,
          3.1578621864318848,
          -21.805164337158203,
          9.820531845092773,
          -13.610931396484375,
          -16.585886001586914,
          -12.444113731384277,
          -21.590187072753906,
          -13.356518745422363,
          9.442858695983887,
          19.838315963745117,
          19.153423309326172,
          26.146730422973633,
          17.936975479125977,
          5.00314474105835,
          19.946544647216797,
          16.66826629638672,
          16.144287109375,
          6.119750499725342,
          22.8632869720459,
          -10.900896072387695,
          -7.2369065284729,
          -18.824871063232422,
          -1.636962890625,
          -2.2769124507904053,
          7.799490451812744,
          7.926364898681641,
          -21.765249252319336,
          -4.171241283416748,
          15.921990394592285,
          -6.655900478363037,
          2.936438798904419,
          -11.450727462768555,
          7.639023780822754,
          -5.0851311683654785,
          -18.001190185546875,
          11.110651016235352,
          -9.580276489257812,
          -5.180730819702148,
          -11.275213241577148,
          -8.546058654785156,
          -19.174312591552734,
          0.7393869757652283,
          -8.104157447814941,
          -16.54894256591797,
          -19.39752960205078,
          -10.777290344238281,
          -18.683040618896484,
          -6.42489767074585,
          -23.776525497436523,
          -14.050040245056152,
          -5.3398661613464355,
          -8.84488582611084,
          -7.470667839050293,
          -7.029345989227295,
          -23.518529891967773,
          -8.58521556854248,
          -21.910255432128906,
          2.7441465854644775,
          14.764166831970215,
          -15.379286766052246,
          17.12708282470703,
          17.757396697998047,
          7.494123458862305,
          5.477789402008057,
          -14.049999237060547,
          18.160287857055664,
          2.91853928565979,
          22.430500030517578,
          24.38526725769043,
          -5.88277530670166,
          17.622793197631836,
          19.29617691040039,
          18.739036560058594,
          -2.1264841556549072,
          -1.8773751258850098,
          6.090893745422363,
          11.906091690063477,
          7.486104965209961,
          0.6547883152961731,
          -20.9224796295166,
          18.925201416015625,
          9.626816749572754,
          2.822303056716919,
          9.418463706970215,
          1.6853705644607544,
          26.400428771972656,
          5.650113582611084,
          16.867610931396484,
          6.817539691925049,
          -19.492433547973633,
          -5.933235168457031,
          -6.375856399536133,
          -6.733969688415527,
          -3.2701685428619385,
          -12.542428016662598,
          -21.15904998779297,
          -12.626428604125977,
          5.29801607131958,
          0.8070805072784424,
          4.055132865905762,
          24.46646499633789,
          -13.19705581665039,
          -16.883865356445312,
          -10.633711814880371,
          -24.3723087310791,
          -22.951656341552734,
          -2.1198205947875977,
          16.2808837890625,
          -11.511375427246094,
          1.5098867416381836,
          -5.6661224365234375,
          20.942026138305664,
          22.92245101928711,
          17.318843841552734,
          15.076936721801758,
          14.90997314453125,
          9.642215728759766,
          16.878087997436523,
          15.577573776245117,
          11.339832305908203,
          16.294841766357422,
          24.51116180419922,
          0.04448045417666435,
          -18.33167839050293,
          21.247243881225586,
          15.976821899414062,
          -2.6845152378082275,
          4.067893028259277,
          -0.21653449535369873,
          -23.061656951904297,
          8.242884635925293,
          19.39310646057129,
          -7.415858268737793,
          18.03117561340332,
          -6.118440628051758,
          5.30133581161499,
          14.123832702636719,
          12.525988578796387,
          14.888307571411133,
          7.141157150268555,
          -4.629958629608154,
          9.681270599365234,
          -3.3107056617736816,
          -10.128670692443848,
          -12.071406364440918,
          17.282512664794922,
          -12.323665618896484,
          2.7199363708496094,
          -26.27777862548828,
          -5.078826904296875,
          -9.549673080444336,
          -6.139171123504639,
          -15.882701873779297,
          -0.6784757971763611,
          -25.099918365478516,
          -2.456712007522583,
          1.6189780235290527,
          -11.801397323608398,
          12.31427001953125,
          -0.3831317722797394,
          12.516231536865234,
          -10.341259956359863,
          8.152887344360352,
          16.88275718688965,
          -18.128028869628906,
          -0.7047750949859619,
          -2.602015733718872,
          -8.46847152709961,
          -12.290605545043945,
          -15.553645133972168,
          4.2512688636779785,
          27.15068817138672,
          10.42355728149414,
          22.246477127075195,
          19.82540512084961,
          -1.5206148624420166,
          13.38267993927002,
          -8.648911476135254,
          14.722847938537598,
          8.308650970458984,
          10.423303604125977,
          -12.612768173217773,
          -18.330171585083008,
          -20.80085563659668,
          9.155521392822266,
          -6.595779895782471,
          22.670236587524414,
          -16.490535736083984,
          12.788233757019043,
          18.630451202392578,
          -0.048866577446460724,
          7.524516582489014,
          -12.479564666748047,
          0.46724990010261536,
          4.6245551109313965,
          -9.541659355163574,
          7.063194274902344,
          -16.36606216430664,
          -2.169400691986084,
          -13.312835693359375,
          -15.553414344787598,
          1.5408273935317993,
          -12.188204765319824,
          4.455459117889404,
          1.9333769083023071,
          -6.365324974060059,
          -6.150770664215088,
          -18.929718017578125,
          3.8218367099761963,
          -6.872613430023193,
          -10.607999801635742,
          -4.768003463745117,
          -16.100749969482422,
          -7.49453067779541,
          -18.721757888793945,
          -25.81815528869629,
          2.140977144241333,
          -1.7110460996627808,
          -14.748629570007324,
          9.182526588439941,
          -3.315854787826538,
          -8.569626808166504,
          2.5484180450439453,
          13.3906831741333,
          13.974246978759766,
          -19.71072006225586,
          -19.94671630859375,
          -24.946533203125,
          -18.284534454345703,
          12.258340835571289,
          22.070186614990234,
          -16.976669311523438,
          -21.09328842163086,
          -15.596494674682617,
          -13.599955558776855,
          7.641651153564453,
          5.054440021514893,
          -20.083030700683594,
          -0.06627675890922546,
          56.72828674316406,
          -11.854924201965332,
          13.370559692382812,
          -14.410757064819336,
          -14.197809219360352,
          -0.7409189343452454,
          -20.882102966308594,
          19.20106315612793,
          14.908970832824707,
          7.840493202209473,
          15.743416786193848,
          -9.425220489501953,
          -1.3242394924163818,
          -0.7787548899650574,
          -16.112937927246094,
          -25.913354873657227,
          -7.236221790313721,
          -17.355634689331055,
          7.0274658203125,
          -19.92083168029785,
          -14.537620544433594,
          -17.651958465576172,
          13.936196327209473,
          9.602958679199219,
          21.148096084594727,
          12.140713691711426,
          19.220041275024414,
          12.511934280395508,
          13.223698616027832,
          -7.42136812210083,
          17.62514877319336,
          -22.753360748291016,
          -24.513961791992188,
          -7.086050987243652,
          -5.294711589813232,
          13.165976524353027,
          -9.1961030960083,
          -18.603418350219727,
          -8.204350471496582,
          -8.678229331970215,
          -21.586719512939453,
          -21.12152099609375,
          -9.507386207580566,
          -21.684789657592773,
          -11.15516471862793,
          -3.4157400131225586,
          54.53749465942383,
          -12.61740779876709,
          -25.20697021484375,
          -22.656261444091797,
          1.7160881757736206,
          9.402107238769531,
          11.804388999938965,
          -9.541266441345215,
          17.19036865234375,
          5.7004313468933105,
          -20.71181869506836,
          -1.2420871257781982,
          4.883622646331787,
          14.373146057128906,
          16.6510066986084,
          -14.06332015991211,
          21.282075881958008,
          0.2676919102668762,
          8.497038841247559,
          17.452102661132812,
          4.779582500457764,
          -17.288110733032227,
          -20.46017837524414,
          9.158597946166992,
          13.252266883850098,
          -19.211563110351562,
          -7.447558403015137,
          20.805051803588867,
          21.74555206298828,
          20.240983963012695,
          10.80097770690918,
          -19.2869873046875,
          -20.58696937561035,
          4.096902847290039,
          -2.9142863750457764,
          53.56568908691406,
          0.24182336032390594,
          13.102465629577637,
          18.83572769165039,
          -9.663061141967773,
          -4.474608898162842,
          7.178251266479492,
          6.1768975257873535,
          14.434053421020508,
          -20.65821647644043,
          21.610342025756836,
          12.529500007629395,
          -7.2528228759765625,
          4.046755313873291,
          23.58145523071289,
          -11.568479537963867,
          -7.062328815460205,
          4.993498802185059,
          13.614312171936035,
          -21.40334701538086,
          9.113603591918945,
          14.841349601745605,
          8.582100868225098,
          6.974678039550781,
          14.138784408569336,
          -10.307975769042969,
          -19.098535537719727,
          -22.43648338317871,
          -5.485923767089844,
          0.5614955425262451,
          -14.315169334411621,
          -11.566702842712402,
          -19.736373901367188,
          12.237504959106445,
          22.00602149963379,
          12.314468383789062,
          16.41507911682129,
          15.244758605957031,
          12.618913650512695,
          8.681225776672363,
          22.488313674926758,
          3.48433518409729,
          1.4458928108215332,
          12.620582580566406,
          -10.19391918182373,
          8.069169998168945,
          -10.423600196838379,
          20.10175895690918,
          9.14527702331543,
          15.786287307739258,
          -23.515342712402344,
          26.649389266967773,
          -13.845026969909668,
          15.120084762573242,
          54.81143569946289,
          -11.134195327758789,
          17.33072853088379,
          -3.589101552963257,
          6.254476070404053,
          11.422390937805176,
          -7.441715240478516,
          6.438081741333008,
          -10.21799373626709,
          -11.225566864013672,
          19.347322463989258,
          3.6613266468048096,
          -17.150039672851562,
          10.571295738220215,
          54.414405822753906,
          0.5633967518806458,
          -3.361393928527832,
          14.364233016967773,
          22.541831970214844,
          55.43309020996094,
          3.065157651901245,
          10.221406936645508,
          0.3914479613304138,
          -13.577168464660645,
          9.632793426513672,
          4.019887924194336,
          0.821627676486969,
          24.02303123474121,
          13.050703048706055,
          9.230019569396973,
          25.33620262145996,
          -13.448493003845215,
          -9.275449752807617,
          -7.191258430480957,
          9.389357566833496,
          26.654630661010742,
          -6.299532890319824,
          15.187649726867676,
          -7.649320602416992,
          56.88313674926758,
          -22.262866973876953,
          -16.12736701965332,
          12.205517768859863,
          -11.917379379272461,
          26.422409057617188,
          -12.52545166015625,
          22.948589324951172,
          19.28233528137207,
          -11.016888618469238,
          26.164077758789062,
          25.64043617248535,
          26.227863311767578,
          -5.385284423828125,
          26.156124114990234,
          -5.499722957611084,
          3.820255994796753,
          -2.272442579269409,
          11.199481964111328,
          25.576223373413086,
          55.147647857666016,
          25.771812438964844,
          -21.120813369750977,
          26.076555252075195,
          -0.6492614150047302,
          25.820791244506836,
          17.187864303588867,
          -21.2469425201416,
          24.727800369262695,
          -6.615135669708252,
          24.862045288085938,
          13.308409690856934,
          -26.051067352294922,
          25.617921829223633,
          26.45848846435547,
          55.63330078125,
          14.718199729919434,
          25.82704734802246,
          -16.496707916259766,
          -26.461137771606445,
          -22.21132469177246,
          -5.907341957092285,
          14.842970848083496,
          -17.550432205200195,
          25.020557403564453,
          25.16486167907715,
          -7.98689079284668,
          19.431121826171875,
          -7.125528335571289,
          -21.06604766845703,
          -16.946311950683594,
          -20.973827362060547,
          -5.252321720123291,
          -11.5790433883667,
          4.144503593444824,
          20.62940788269043,
          -9.72710132598877,
          21.05984878540039,
          -0.5124708414077759,
          -15.981748580932617,
          -0.9217290282249451,
          -0.9874013066291809,
          -0.8242983818054199,
          14.573705673217773,
          17.494388580322266,
          -14.539369583129883,
          -20.62152099609375,
          -5.936508655548096,
          -26.478849411010742,
          -17.908203125,
          11.739620208740234,
          -1.0924737453460693,
          1.2634353637695312,
          8.209782600402832,
          -21.68229866027832,
          -20.351953506469727,
          -10.956280708312988,
          -18.22320556640625,
          13.414080619812012,
          20.810680389404297,
          3.5217232704162598,
          7.6127824783325195,
          -3.052515983581543,
          12.456218719482422,
          11.873417854309082,
          12.652528762817383,
          20.42548942565918,
          9.332178115844727,
          -17.936281204223633,
          -25.278522491455078,
          12.566887855529785,
          21.46390724182129,
          -1.0672950744628906,
          6.226900100708008,
          12.439664840698242,
          -17.487926483154297,
          -16.903013229370117,
          -2.8562490940093994,
          -13.3668212890625,
          -21.504709243774414,
          -1.9486140012741089,
          2.854445457458496,
          -4.485952854156494,
          17.53742218017578,
          3.9197800159454346,
          -8.4165620803833,
          -3.851015567779541,
          11.097175598144531,
          2.417658805847168,
          -12.416986465454102,
          5.748725414276123,
          -5.471061706542969,
          0.5226064324378967,
          11.55875015258789,
          -2.055480718612671,
          4.03896427154541,
          -23.509098052978516,
          13.183598518371582,
          -17.250173568725586,
          57.460113525390625,
          -28.327232360839844,
          -17.232807159423828,
          -9.245219230651855,
          -26.413835525512695,
          56.44757843017578,
          -12.026140213012695,
          11.786879539489746,
          -23.23454475402832,
          -17.208847045898438,
          -26.463125228881836,
          -11.128662109375,
          56.786556243896484,
          11.244402885437012,
          -21.19161033630371,
          15.713838577270508,
          -11.869651794433594,
          8.48686408996582,
          -18.667753219604492,
          -10.610918045043945,
          -2.7361347675323486,
          4.616142749786377,
          12.274619102478027,
          2.6484901905059814,
          54.638771057128906,
          -17.328519821166992,
          -4.086743354797363,
          -9.856112480163574,
          56.70849609375,
          -0.06739073246717453,
          -0.8306503295898438,
          9.47484016418457,
          15.559574127197266,
          2.5140585899353027,
          -26.079423904418945,
          4.742780685424805,
          -3.3731091022491455,
          -13.281062126159668,
          20.52737045288086,
          11.516647338867188,
          -17.574378967285156,
          14.722234725952148,
          1.1837376356124878,
          57.2115364074707,
          -13.483953475952148,
          54.513458251953125,
          20.467876434326172,
          -14.116175651550293,
          19.0202579498291,
          13.054781913757324,
          -13.444519996643066,
          -18.674896240234375,
          -16.639081954956055,
          -22.530858993530273,
          22.268157958984375,
          -17.745058059692383,
          -1.735565185546875,
          55.55900573730469,
          -19.31405258178711,
          -11.026679039001465,
          17.711977005004883,
          15.910755157470703,
          11.618985176086426,
          -7.205937385559082,
          -28.28647804260254,
          11.930363655090332,
          -4.751381874084473,
          -19.71364974975586,
          -11.292769432067871,
          12.748982429504395,
          7.5471415519714355,
          12.698861122131348,
          11.207643508911133,
          -13.698594093322754,
          9.46839427947998,
          10.825000762939453,
          -18.141809463500977,
          -16.976747512817383,
          54.74650192260742,
          15.27996826171875,
          -17.108293533325195,
          -11.01571273803711,
          14.50950813293457,
          -7.120050430297852,
          9.713591575622559,
          -18.2189884185791,
          8.250823974609375,
          -11.851787567138672,
          -21.05942726135254,
          -17.250476837158203,
          -17.368680953979492,
          12.681482315063477,
          13.066417694091797,
          -16.695043563842773,
          5.249264240264893,
          54.355377197265625,
          2.1438562870025635,
          2.2405402660369873,
          20.1635684967041,
          53.87521743774414,
          20.459888458251953,
          19.92388153076172,
          -9.146047592163086,
          54.45741653442383,
          13.17104434967041,
          0.4116685092449188,
          -9.159711837768555,
          -22.534465789794922,
          6.3075737953186035,
          21.815101623535156,
          -11.79240894317627,
          20.38541603088379,
          -13.28935718536377,
          21.001081466674805,
          19.833925247192383,
          19.975765228271484,
          55.668399810791016,
          20.87472915649414,
          56.0123291015625,
          55.68013000488281,
          22.309566497802734,
          21.25193214416504,
          56.583736419677734,
          21.545238494873047,
          21.515640258789062,
          20.687305450439453,
          21.305307388305664,
          20.927398681640625,
          21.94170570373535,
          21.283140182495117,
          -20.104843139648438,
          20.97693634033203,
          21.20564842224121,
          57.43523406982422,
          20.516862869262695,
          54.28742218017578,
          56.425601959228516,
          -20.309520721435547,
          20.444917678833008,
          21.46599006652832,
          -1.3654052019119263,
          -1.6067111492156982,
          -0.34994813799858093,
          -7.682261943817139,
          -10.23776626586914,
          56.825923919677734,
          -6.871649265289307,
          53.3372802734375,
          10.863296508789062,
          -9.439510345458984,
          13.021795272827148,
          -20.0877685546875,
          -3.4051802158355713,
          19.841655731201172,
          -18.98912811279297,
          56.36079406738281,
          -17.283170700073242,
          9.271149635314941,
          12.35978889465332,
          -13.493688583374023,
          16.902565002441406,
          21.264135360717773,
          13.157114028930664,
          5.262781143188477,
          -6.731713771820068,
          3.4193060398101807,
          53.363182067871094,
          14.523329734802246,
          55.5107421875,
          -10.86783504486084,
          56.60282516479492,
          -11.020459175109863,
          5.996793270111084,
          22.17276382446289,
          11.175141334533691,
          -16.48940086364746,
          10.552356719970703,
          -14.022687911987305,
          21.883636474609375,
          -9.263267517089844,
          0.14743736386299133,
          -19.453441619873047,
          -19.114871978759766,
          -11.287595748901367,
          -18.531551361083984,
          -18.914377212524414,
          10.680978775024414,
          -19.13083267211914,
          54.486019134521484,
          -18.87080192565918,
          53.837284088134766,
          -20.868730545043945,
          -19.29645538330078,
          56.25952911376953,
          -9.460649490356445,
          -3.8536102771759033,
          53.78860092163086,
          55.60566711425781,
          -18.706666946411133,
          -19.145381927490234,
          55.397377014160156,
          -18.767414093017578,
          54.152008056640625,
          55.52671813964844,
          13.044659614562988,
          55.369850158691406,
          55.843650817871094,
          54.13947296142578,
          11.712323188781738,
          13.110136985778809,
          -13.940608024597168,
          21.960803985595703,
          14.338394165039062,
          21.949813842773438,
          17.211244583129883,
          10.486577987670898,
          -29.640336990356445,
          55.719757080078125,
          10.64707088470459,
          -1.0444704294204712,
          -0.7913973331451416,
          10.88606071472168,
          -0.7060369849205017,
          20.558393478393555,
          13.767191886901855,
          5.943778991699219,
          -17.597505569458008,
          55.70984649658203,
          14.330251693725586,
          -16.83781623840332,
          20.67000961303711,
          5.3126606941223145,
          19.674022674560547,
          5.548105239868164,
          -11.78227710723877
         ],
         "xaxis": "x",
         "y": [
          19.51734733581543,
          11.5416841506958,
          6.786492824554443,
          -3.833617925643921,
          11.48132610321045,
          16.443344116210938,
          8.735217094421387,
          -2.5411441326141357,
          7.538126468658447,
          7.9113969802856445,
          -3.3848063945770264,
          8.71336555480957,
          -1.6260615587234497,
          9.44096565246582,
          18.78911590576172,
          -7.799918174743652,
          10.293342590332031,
          -13.821788787841797,
          19.37774658203125,
          3.154447317123413,
          5.142909049987793,
          14.051126480102539,
          -6.422945976257324,
          -6.968461990356445,
          12.972712516784668,
          -5.353893756866455,
          17.16635513305664,
          18.760168075561523,
          -0.23967516422271729,
          4.8973708152771,
          17.87872886657715,
          6.740182399749756,
          9.69238567352295,
          9.521190643310547,
          -11.92790412902832,
          -10.497413635253906,
          -9.873655319213867,
          4.938297271728516,
          2.0960962772369385,
          -3.6008710861206055,
          2.3809754848480225,
          -0.9144106507301331,
          4.262039661407471,
          4.547383785247803,
          16.08431053161621,
          5.83321475982666,
          -9.30444049835205,
          9.655400276184082,
          4.294891357421875,
          -2.588033437728882,
          12.371520042419434,
          13.27656364440918,
          -6.9065842628479,
          9.332627296447754,
          6.459670066833496,
          -8.940130233764648,
          18.52332878112793,
          -6.161161422729492,
          17.613739013671875,
          17.7125301361084,
          16.433603286743164,
          2.6429929733276367,
          12.134387016296387,
          5.113090515136719,
          8.002960205078125,
          10.454378128051758,
          8.111466407775879,
          -10.702183723449707,
          21.595983505249023,
          9.26232624053955,
          16.079753875732422,
          11.53846263885498,
          14.201295852661133,
          -12.75496768951416,
          11.80087661743164,
          14.920668601989746,
          13.833683013916016,
          -2.954718828201294,
          17.800495147705078,
          -0.00495358370244503,
          -4.534235954284668,
          15.191014289855957,
          20.719995498657227,
          3.857440233230591,
          7.454675197601318,
          6.766936779022217,
          18.70058250427246,
          15.591841697692871,
          -1.428192138671875,
          -9.613164901733398,
          -5.262260437011719,
          8.590422630310059,
          10.633599281311035,
          10.17074966430664,
          16.9628963470459,
          18.541484832763672,
          20.458192825317383,
          0.46147212386131287,
          -2.855318307876587,
          0.9819568395614624,
          8.923876762390137,
          4.191575527191162,
          -19.783039093017578,
          -20.380403518676758,
          2.047605514526367,
          -0.6433278918266296,
          10.379952430725098,
          4.131188869476318,
          -9.3236722946167,
          -13.860477447509766,
          22.178768157958984,
          -5.0084943771362305,
          14.818310737609863,
          19.1401424407959,
          13.630599975585938,
          8.097623825073242,
          12.011056900024414,
          8.213613510131836,
          13.250203132629395,
          -6.870066165924072,
          13.08658504486084,
          -17.56174659729004,
          -8.7827730178833,
          5.93037748336792,
          9.487370491027832,
          22.177337646484375,
          -5.393765449523926,
          -7.379767417907715,
          -2.1422479152679443,
          -16.838632583618164,
          2.969292640686035,
          -1.1763153076171875,
          -1.92445969581604,
          0.25556862354278564,
          -5.268271446228027,
          10.54534912109375,
          3.9197421073913574,
          -0.027087530121207237,
          8.275890350341797,
          0.8411966562271118,
          -1.1500270366668701,
          3.9323318004608154,
          19.761503219604492,
          -3.818267583847046,
          -4.88093900680542,
          -1.7721039056777954,
          17.966060638427734,
          1.623321294784546,
          -12.471842765808105,
          4.784160137176514,
          -7.99679708480835,
          -2.4935905933380127,
          -3.5080082416534424,
          -7.171847343444824,
          8.612086296081543,
          -6.996585845947266,
          -4.461629390716553,
          -3.875138759613037,
          5.750789165496826,
          12.94375991821289,
          8.99380111694336,
          -5.458645820617676,
          16.888328552246094,
          15.917170524597168,
          15.20775032043457,
          12.595165252685547,
          -7.127997875213623,
          -7.935944080352783,
          19.13397979736328,
          13.81167984008789,
          9.306994438171387,
          -2.670685052871704,
          18.62513542175293,
          17.44417953491211,
          11.986472129821777,
          -2.530782461166382,
          -5.299811363220215,
          -3.9186863899230957,
          -5.9106669425964355,
          -5.791224002838135,
          -2.6644506454467773,
          -6.663022041320801,
          -2.0665950775146484,
          -9.914091110229492,
          -5.101219654083252,
          -4.153143882751465,
          -4.7135491371154785,
          -3.4224636554718018,
          17.010114669799805,
          -4.382390975952148,
          1.3732002973556519,
          11.393291473388672,
          -4.7343621253967285,
          -0.34776702523231506,
          -3.703247308731079,
          10.077129364013672,
          2.433967351913452,
          11.019787788391113,
          -3.0228095054626465,
          -10.264324188232422,
          14.97658920288086,
          14.595674514770508,
          0.4208393096923828,
          16.703216552734375,
          -4.8650946617126465,
          -3.7910380363464355,
          5.5646891593933105,
          13.514059066772461,
          -0.11063732206821442,
          16.360618591308594,
          -3.0734829902648926,
          5.909523963928223,
          2.418186902999878,
          -4.014090538024902,
          15.301847457885742,
          5.6586995124816895,
          -5.622899532318115,
          1.7523794174194336,
          8.071460723876953,
          6.126276016235352,
          10.073330879211426,
          16.486099243164062,
          -0.16093452274799347,
          15.414984703063965,
          10.345144271850586,
          17.737071990966797,
          16.069128036499023,
          16.157686233520508,
          6.988750457763672,
          15.963899612426758,
          3.5325584411621094,
          12.41971206665039,
          17.819543838500977,
          -3.81447434425354,
          -17.85433006286621,
          20.069210052490234,
          18.387027740478516,
          -9.193709373474121,
          14.7844877243042,
          -15.485840797424316,
          16.281749725341797,
          10.054971694946289,
          1.7205297946929932,
          3.268264055252075,
          1.0334471464157104,
          14.985194206237793,
          -11.508346557617188,
          14.464396476745605,
          -15.897387504577637,
          12.578731536865234,
          16.2642879486084,
          11.825130462646484,
          10.957063674926758,
          -0.957068681716919,
          8.536904335021973,
          10.79745864868164,
          17.405813217163086,
          12.842700004577637,
          2.635159492492676,
          -10.063834190368652,
          -6.074390888214111,
          3.3725087642669678,
          -21.352622985839844,
          -12.480311393737793,
          16.855358123779297,
          -19.96723747253418,
          13.347845077514648,
          14.932319641113281,
          12.599376678466797,
          -8.857747077941895,
          -11.18543815612793,
          11.571389198303223,
          -1.3540000915527344,
          13.152813911437988,
          17.302783966064453,
          8.079968452453613,
          -0.028570665046572685,
          9.737990379333496,
          -3.072955846786499,
          6.908532619476318,
          3.1076509952545166,
          7.321705341339111,
          4.194132328033447,
          10.820456504821777,
          5.324197769165039,
          2.7470948696136475,
          8.290633201599121,
          8.153197288513184,
          3.542379856109619,
          -10.183106422424316,
          11.3725004196167,
          7.027301788330078,
          -7.622856616973877,
          6.948228359222412,
          19.38419532775879,
          -0.5434685945510864,
          12.91321086883545,
          0.9459438920021057,
          -8.04808521270752,
          9.380934715270996,
          -10.433345794677734,
          13.12412166595459,
          1.6857945919036865,
          11.637579917907715,
          11.762823104858398,
          11.843097686767578,
          -12.115367889404297,
          8.247002601623535,
          4.103525161743164,
          12.450492858886719,
          8.837355613708496,
          8.158909797668457,
          12.913065910339355,
          -21.582172393798828,
          11.858379364013672,
          11.43127155303955,
          7.052156448364258,
          0.3747800290584564,
          -15.44102954864502,
          7.443564414978027,
          -15.510048866271973,
          2.9161477088928223,
          2.167860984802246,
          -10.320359230041504,
          -1.4915465116500854,
          6.243031978607178,
          -8.29161548614502,
          5.7779765129089355,
          -18.207015991210938,
          9.76518440246582,
          11.286718368530273,
          6.417586803436279,
          6.353028297424316,
          -14.765035629272461,
          -14.813720703125,
          -2.468928575515747,
          9.35922908782959,
          -6.152081489562988,
          -17.015522003173828,
          11.450579643249512,
          -16.903831481933594,
          -11.110593795776367,
          -11.316197395324707,
          3.151315450668335,
          7.558338642120361,
          -11.05927562713623,
          -4.178332805633545,
          -12.610295295715332,
          3.2162771224975586,
          -3.4432365894317627,
          -15.969717979431152,
          -16.3865909576416,
          -12.090087890625,
          10.330421447753906,
          -14.173868179321289,
          14.27720832824707,
          3.4176130294799805,
          -12.16804313659668,
          5.154172420501709,
          9.502009391784668,
          18.44789695739746,
          -11.590387344360352,
          -4.657106399536133,
          -7.885249137878418,
          0.44907960295677185,
          5.475487232208252,
          13.2047700881958,
          -5.719602584838867,
          2.598759174346924,
          2.5761847496032715,
          3.063302993774414,
          12.752827644348145,
          5.882505893707275,
          -0.3859001696109772,
          -19.66684341430664,
          2.9332828521728516,
          -5.3394598960876465,
          20.132877349853516,
          6.993282318115234,
          11.540868759155273,
          5.585586071014404,
          8.831671714782715,
          -14.4581298828125,
          -7.118894100189209,
          14.402782440185547,
          -10.54996109008789,
          8.722804069519043,
          4.691318035125732,
          14.748994827270508,
          -8.66483211517334,
          -1.6288646459579468,
          6.128357887268066,
          20.22113609313965,
          7.371297359466553,
          5.156975746154785,
          -12.174562454223633,
          7.9169464111328125,
          -5.227810382843018,
          9.622064590454102,
          -1.7492514848709106,
          -16.164955139160156,
          13.094921112060547,
          12.424677848815918,
          -2.9864442348480225,
          11.47014045715332,
          -16.196273803710938,
          -11.316832542419434,
          19.034969329833984,
          3.266561269760132,
          7.780135631561279,
          1.380772590637207,
          -20.837230682373047,
          -6.523386001586914,
          -6.586540222167969,
          6.9656291007995605,
          -1.7144712209701538,
          0.062346044927835464,
          13.090328216552734,
          -4.372802734375,
          -2.311001777648926,
          11.701869010925293,
          -4.921170234680176,
          -0.40075209736824036,
          -18.71505355834961,
          11.258064270019531,
          4.531580448150635,
          1.7819901704788208,
          5.417294025421143,
          18.183931350708008,
          -0.07899600267410278,
          12.520505905151367,
          -5.3980841636657715,
          -10.390654563903809,
          17.987499237060547,
          -1.1345337629318237,
          -6.659658908843994,
          -24.95526885986328,
          -20.911449432373047,
          -24.214019775390625,
          -23.406749725341797,
          1.7510547637939453,
          -23.65386390686035,
          3.216858386993408,
          -14.654443740844727,
          -1.2581158876419067,
          2.0842344760894775,
          -2.8888509273529053,
          15.484358787536621,
          -18.340286254882812,
          -11.602002143859863,
          4.106150150299072,
          -3.685213565826416,
          -8.315040588378906,
          6.9878997802734375,
          -4.872515678405762,
          -5.073711395263672,
          -10.198897361755371,
          5.035018444061279,
          13.865911483764648,
          0.9034975171089172,
          -8.361113548278809,
          10.09448528289795,
          13.38428783416748,
          7.758798599243164,
          -0.2744758427143097,
          12.29331111907959,
          9.983322143554688,
          12.928876876831055,
          11.874058723449707,
          10.575834274291992,
          17.88979148864746,
          13.35013484954834,
          -12.362650871276855,
          1.810560941696167,
          11.744544982910156,
          2.3957793712615967,
          -6.109948635101318,
          7.137466907501221,
          -2.6532726287841797,
          -4.475776672363281,
          0.4055301547050476,
          -3.534825086593628,
          1.6771798133850098,
          -2.68601393699646,
          18.24944496154785,
          4.236221790313721,
          5.65798282623291,
          1.5181100368499756,
          11.81075382232666,
          14.702696800231934,
          -4.521106719970703,
          0.40882062911987305,
          3.9311230182647705,
          -2.340977430343628,
          -1.3361408710479736,
          0.16266922652721405,
          -1.7539407014846802,
          -4.392608642578125,
          15.7064208984375,
          16.994104385375977,
          -2.9127941131591797,
          -1.4880989789962769,
          4.226727485656738,
          -0.08054284751415253,
          0.1584218293428421,
          3.051187515258789,
          -2.190131664276123,
          1.0210180282592773,
          0.5005492568016052,
          10.74007511138916,
          1.5026781558990479,
          13.528154373168945,
          17.566884994506836,
          3.916447639465332,
          5.488679885864258,
          19.880163192749023,
          0.4781845808029175,
          2.1661527156829834,
          2.5613536834716797,
          22.218639373779297,
          -0.6004360914230347,
          4.053621768951416,
          3.6517772674560547,
          13.416738510131836,
          -2.4086413383483887,
          -0.42979493737220764,
          0.9764298796653748,
          -3.3114113807678223,
          9.632499694824219,
          22.186979293823242,
          15.103903770446777,
          10.55393123626709,
          7.775060653686523,
          6.7556986808776855,
          6.335330009460449,
          2.708620548248291,
          6.251801013946533,
          1.9548746347427368,
          -7.4025959968566895,
          -1.5580058097839355,
          -10.055486679077148,
          -2.817322015762329,
          2.8788394927978516,
          4.715356826782227,
          -23.775087356567383,
          1.9101982116699219,
          -2.096862554550171,
          -19.11517906188965,
          10.65496826171875,
          17.71270751953125,
          -12.95848560333252,
          -11.384350776672363,
          5.18874454498291,
          -0.7411161661148071,
          -20.66412925720215,
          -11.389667510986328,
          8.918785095214844,
          10.023609161376953,
          11.189742088317871,
          -7.7735419273376465,
          3.4126033782958984,
          10.122363090515137,
          -5.284224987030029,
          -6.5596513748168945,
          3.8552229404449463,
          14.356171607971191,
          -5.811914920806885,
          14.631871223449707,
          -5.332540512084961,
          5.551708698272705,
          -16.496723175048828,
          -4.123911380767822,
          0.24859251081943512,
          -9.81723403930664,
          5.05888032913208,
          -4.273838996887207,
          -14.721129417419434,
          8.980010032653809,
          5.183081150054932,
          14.876965522766113,
          -6.525872230529785,
          6.803427696228027,
          1.571033239364624,
          8.142696380615234,
          6.68703556060791,
          3.417661428451538,
          11.41119384765625,
          21.62015724182129,
          11.988722801208496,
          -14.43489933013916,
          18.325828552246094,
          -0.8804441094398499,
          10.441471099853516,
          -11.846359252929688,
          3.0989151000976562,
          11.258966445922852,
          7.287026405334473,
          -14.082480430603027,
          -21.525522232055664,
          -3.45385479927063,
          11.663535118103027,
          -7.888774871826172,
          -2.9895005226135254,
          8.001941680908203,
          -8.858577728271484,
          -2.3435816764831543,
          1.8480685949325562,
          16.269105911254883,
          -6.063920497894287,
          -1.908105492591858,
          10.294071197509766,
          5.5171308517456055,
          21.3524112701416,
          19.232004165649414,
          15.457398414611816,
          1.404991865158081,
          -0.6459718942642212,
          -7.065789222717285,
          14.658798217773438,
          -5.312305927276611,
          -2.6620614528656006,
          7.267270565032959,
          -3.2192203998565674,
          -13.977312088012695,
          4.677430152893066,
          13.05391788482666,
          3.7119715213775635,
          11.47977352142334,
          6.984150409698486,
          14.672698020935059,
          6.195377826690674,
          6.613229274749756,
          3.454395055770874,
          14.942113876342773,
          -15.813544273376465,
          -12.555549621582031,
          -10.526250839233398,
          -1.9003366231918335,
          9.587665557861328,
          -7.467817783355713,
          -2.872288942337036,
          7.521430015563965,
          -8.155872344970703,
          -1.6324270963668823,
          8.95337200164795,
          -8.269491195678711,
          3.0201539993286133,
          10.271355628967285,
          7.834695816040039,
          9.236608505249023,
          -3.9152889251708984,
          11.587793350219727,
          9.769729614257812,
          1.8451924324035645,
          -2.9032678604125977,
          -1.081676721572876,
          -1.0681134462356567,
          9.866357803344727,
          17.40887451171875,
          12.751444816589355,
          -5.270681381225586,
          14.691097259521484,
          15.236556053161621,
          3.0385448932647705,
          0.8208383917808533,
          -14.360980033874512,
          -0.25869905948638916,
          -10.77253532409668,
          -8.586244583129883,
          9.795265197753906,
          -0.09711191803216934,
          -2.3228824138641357,
          18.661577224731445,
          -3.906930685043335,
          -3.614837884902954,
          -2.7950966358184814,
          -7.211507320404053,
          1.9484148025512695,
          -17.74259376525879,
          -19.890897750854492,
          -4.9480061531066895,
          5.026570796966553,
          -7.587897777557373,
          19.258764266967773,
          11.8470458984375,
          12.987961769104004,
          -10.521055221557617,
          -19.401264190673828,
          4.258447170257568,
          11.249576568603516,
          -3.4393160343170166,
          15.333910942077637,
          1.3139065504074097,
          11.178868293762207,
          -7.4968461990356445,
          5.329968452453613,
          16.818140029907227,
          6.171173095703125,
          7.876463890075684,
          3.7102460861206055,
          16.145706176757812,
          -8.985580444335938,
          17.1297607421875,
          -13.056126594543457,
          -8.041969299316406,
          1.7480372190475464,
          17.306201934814453,
          7.874914646148682,
          13.338395118713379,
          -6.9052886962890625,
          -3.400831937789917,
          -7.3208136558532715,
          14.670354843139648,
          1.7469252347946167,
          7.7934889793396,
          5.569157123565674,
          -3.808971643447876,
          17.007667541503906,
          -11.340680122375488,
          4.683919429779053,
          -7.659574508666992,
          -3.476180076599121,
          -1.343105435371399,
          -1.7357919216156006,
          -4.0031232833862305,
          -4.607766628265381,
          5.636443614959717,
          7.475154876708984,
          13.709736824035645,
          15.098657608032227,
          7.159128189086914,
          15.507365226745605,
          10.511422157287598,
          -3.4044222831726074,
          13.658483505249023,
          10.670010566711426,
          -13.805521965026855,
          8.412160873413086,
          10.495805740356445,
          2.7456061840057373,
          15.648336410522461,
          7.954686641693115,
          -15.88569450378418,
          12.009520530700684,
          16.321075439453125,
          15.870664596557617,
          7.452267169952393,
          5.316701889038086,
          -15.74868392944336,
          13.513346672058105,
          -7.14144229888916,
          -0.3871316611766815,
          20.169857025146484,
          9.52128791809082,
          11.585829734802246,
          0.13095343112945557,
          5.37102746963501,
          -15.120405197143555,
          -7.99540901184082,
          -2.6377625465393066,
          -0.8779681921005249,
          -11.1516695022583,
          9.390907287597656,
          1.5800738334655762,
          3.6100051403045654,
          -5.35944938659668,
          -10.383045196533203,
          6.970768928527832,
          -3.9277758598327637,
          4.544121265411377,
          -6.692834377288818,
          -9.029570579528809,
          -11.296630859375,
          2.115828514099121,
          4.165394306182861,
          8.092708587646484,
          -15.84382438659668,
          -2.587693691253662,
          -0.030585339292883873,
          0.934002161026001,
          10.082554817199707,
          -19.00421142578125,
          6.657242298126221,
          -6.483541965484619,
          4.732506275177002,
          -7.255672931671143,
          8.160468101501465,
          -5.9618659019470215,
          9.592903137207031,
          1.2991195917129517,
          -21.53369903564453,
          -3.567577838897705,
          -15.308024406433105,
          10.679224967956543,
          -9.38903522491455,
          7.204568386077881,
          1.9028762578964233,
          -15.974555969238281,
          13.261615753173828,
          4.5881123542785645,
          -3.0241172313690186,
          0.17211787402629852,
          -14.107069969177246,
          -8.733550071716309,
          5.53466272354126,
          8.604851722717285,
          2.1338119506835938,
          -0.3431965112686157,
          9.817111015319824,
          -2.7878289222717285,
          14.54944896697998,
          6.562737464904785,
          22.216188430786133,
          -6.132918834686279,
          6.5007853507995605,
          -10.34101390838623,
          -1.9886094331741333,
          -12.28874397277832,
          -0.8126354217529297,
          -5.3393449783325195,
          9.780590057373047,
          -9.644235610961914,
          6.471042156219482,
          -3.6131515502929688,
          12.264025688171387,
          -0.2837526500225067,
          0.055422257632017136,
          -5.473931789398193,
          -0.014132075943052769,
          -22.284988403320312,
          -9.22469425201416,
          -14.163121223449707,
          5.497434616088867,
          -1.4593254327774048,
          3.4878509044647217,
          7.3264875411987305,
          -0.9004073739051819,
          -12.598360061645508,
          -21.273231506347656,
          0.5840615034103394,
          -0.9119164347648621,
          3.534555196762085,
          -12.77686882019043,
          11.502431869506836,
          13.597044944763184,
          2.4141669273376465,
          12.421836853027344,
          4.4365434646606445,
          -1.3785951137542725,
          5.88203239440918,
          13.317280769348145,
          -22.010713577270508,
          6.147294998168945,
          -3.9233973026275635,
          12.948208808898926,
          10.2422513961792,
          -13.251581192016602,
          -23.56111717224121,
          -2.013671636581421,
          -1.5664843320846558,
          -13.039711952209473,
          -15.561137199401855,
          9.390046119689941,
          -4.110637187957764,
          7.226866245269775,
          14.205924987792969,
          1.4828592538833618,
          -1.4495084285736084,
          10.082094192504883,
          2.9855523109436035,
          -1.231859564781189,
          -15.564861297607422,
          -8.206847190856934,
          -6.386369705200195,
          -19.49383544921875,
          -18.596477508544922,
          -15.044116020202637,
          -9.778929710388184,
          3.8478891849517822,
          -11.756243705749512,
          -18.489606857299805,
          5.488356590270996,
          5.229702949523926,
          6.6949028968811035,
          -12.055010795593262,
          -2.513753890991211,
          13.852314949035645,
          8.765423774719238,
          -0.3902445137500763,
          -15.714134216308594,
          -9.472819328308105,
          8.1578950881958,
          -11.770060539245605,
          -19.822607040405273,
          7.926427364349365,
          8.591231346130371,
          -10.72842788696289,
          4.8383941650390625,
          11.33970832824707,
          11.55288314819336,
          -19.2015438079834,
          13.613649368286133,
          -13.929512977600098,
          0.28011655807495117,
          5.823399066925049,
          0.7301246523857117,
          -10.089834213256836,
          -13.989822387695312,
          9.214361190795898,
          -20.393043518066406,
          -18.175851821899414,
          3.1526379585266113,
          -21.437517166137695,
          -1.051425576210022,
          1.613093376159668,
          -4.897505283355713,
          -5.824732303619385,
          13.190168380737305,
          16.33475112915039,
          -4.564713478088379,
          19.631513595581055,
          6.388950824737549,
          13.79692268371582,
          10.184101104736328,
          1.7855318784713745,
          6.913141250610352,
          -18.688093185424805,
          9.668667793273926,
          1.8217018842697144,
          3.8895554542541504,
          -7.391465187072754,
          8.8970947265625,
          -6.589902400970459,
          -2.466732978820801,
          14.940155982971191,
          16.22774887084961,
          -9.411835670471191,
          -12.655882835388184,
          15.915846824645996,
          -14.32861328125,
          3.3057639598846436,
          -4.852933406829834,
          8.957377433776855,
          6.024419784545898,
          18.466524124145508,
          -0.40454530715942383,
          7.063445568084717,
          -14.415459632873535,
          -12.556620597839355,
          -10.895270347595215,
          -1.9189131259918213,
          -15.370464324951172,
          7.554892539978027,
          -0.7688749432563782,
          4.1548943519592285,
          2.291461944580078,
          -1.1737098693847656,
          18.896623611450195,
          13.641544342041016,
          5.933088779449463,
          4.314507484436035,
          -12.687172889709473,
          17.275108337402344,
          -2.127213716506958,
          7.767100811004639,
          17.394094467163086,
          -0.40718987584114075,
          6.627929210662842,
          12.408529281616211,
          -2.2303102016448975,
          8.536349296569824,
          4.478262901306152,
          4.1056809425354,
          0.8589960932731628,
          -14.377447128295898,
          -10.7964506149292,
          0.06382853537797928,
          -11.262544631958008,
          14.832894325256348,
          -9.63702392578125,
          -14.168492317199707,
          -9.170082092285156,
          1.244964599609375,
          2.5055768489837646,
          3.310011148452759,
          -2.0160677433013916,
          -26.094104766845703,
          -4.580570220947266,
          2.9293317794799805,
          0.2812723219394684,
          -15.424063682556152,
          -14.045400619506836,
          8.46788501739502,
          -3.8888354301452637,
          3.447279691696167,
          -6.519750118255615,
          -14.800243377685547,
          -6.653433799743652,
          3.544664144515991,
          -7.834295272827148,
          -21.37215805053711,
          0.8877274990081787,
          -13.932446479797363,
          4.842403411865234,
          10.374730110168457,
          0.9440510869026184,
          12.964466094970703,
          6.35506534576416,
          1.9366157054901123,
          5.579724311828613,
          4.40000057220459,
          -1.30125892162323,
          -14.150224685668945,
          -6.530460834503174,
          4.576791286468506,
          4.291280746459961,
          -10.539769172668457,
          -9.364103317260742,
          17.818010330200195,
          -4.6409101486206055,
          6.2348127365112305,
          10.037978172302246,
          -12.040084838867188,
          6.8539557456970215,
          -18.43501091003418,
          5.228674411773682,
          -25.704524993896484,
          11.27379035949707,
          -15.589492797851562,
          -7.824764251708984,
          -3.885225296020508,
          -6.842012882232666,
          -4.00693416595459,
          -8.436480522155762,
          0.4434875249862671,
          -4.780965328216553,
          -15.532140731811523,
          -16.395751953125,
          3.364936590194702,
          -4.129129886627197,
          10.17318058013916,
          4.57598876953125,
          2.1774215698242188,
          8.30409049987793,
          4.744431495666504,
          10.18930721282959,
          7.271764755249023,
          -12.185844421386719,
          -7.403079509735107,
          9.209306716918945,
          3.2417829036712646,
          -11.400198936462402,
          5.598391532897949,
          -12.861048698425293,
          7.942587375640869,
          13.684747695922852,
          -13.62618350982666,
          7.986680030822754,
          -8.926011085510254,
          3.7450196743011475,
          8.590544700622559,
          19.651229858398438,
          17.970413208007812,
          -0.9583424925804138,
          11.77492904663086,
          4.881713390350342,
          11.673415184020996,
          9.22824764251709,
          12.037748336791992,
          2.5264720916748047,
          0.7922835946083069,
          -8.258668899536133,
          6.197853088378906,
          1.7387058734893799,
          9.98613166809082,
          8.22308349609375,
          6.809946060180664,
          1.9859650135040283,
          -16.012937545776367,
          7.935964107513428,
          -3.038348436355591,
          -15.303412437438965,
          -8.539375305175781,
          7.5709757804870605,
          -9.653735160827637,
          14.747873306274414,
          -18.247594833374023,
          -16.20065689086914,
          -8.452571868896484,
          -3.6805624961853027,
          -9.482210159301758,
          -8.520869255065918,
          5.405763149261475,
          -14.325159072875977,
          -12.13325309753418,
          -14.914009094238281,
          20.676450729370117,
          9.364128112792969,
          10.137970924377441,
          -19.960220336914062,
          20.344572067260742,
          -11.272757530212402,
          12.515827178955078,
          -16.89254379272461,
          -0.771539032459259,
          1.2311040163040161,
          -21.09369468688965,
          3.7930893898010254,
          7.203047752380371,
          7.62613582611084,
          7.694048881530762,
          -4.888936996459961,
          -6.969376087188721,
          2.0497515201568604,
          4.009160041809082,
          2.8356997966766357,
          14.537176132202148,
          -6.3910651206970215,
          17.504638671875,
          1.2722567319869995,
          14.285321235656738,
          10.872773170471191,
          -0.5145412087440491,
          17.10489273071289,
          18.133317947387695,
          1.4524472951889038,
          -16.933698654174805,
          -9.370046615600586,
          14.74388599395752,
          -5.073517799377441,
          6.423625946044922,
          4.51478385925293,
          4.161221027374268,
          9.876931190490723,
          -1.012904167175293,
          14.970484733581543,
          22.20921516418457,
          4.867120265960693,
          7.628067970275879,
          -18.99259376525879,
          -12.733770370483398,
          -0.7160138487815857,
          -0.7295300960540771,
          7.333623886108398,
          5.282710552215576,
          -26.96155548095703,
          9.783876419067383,
          4.9675750732421875,
          5.592581748962402,
          18.29496955871582,
          -13.777287483215332,
          9.901951789855957,
          4.024525165557861,
          -0.5329278707504272,
          -5.716890811920166,
          -9.507972717285156,
          -3.2042596340179443,
          15.025087356567383,
          11.410082817077637,
          7.8094258308410645,
          5.401150703430176,
          -22.862295150756836,
          -12.726752281188965,
          -7.519016742706299,
          -14.48078441619873,
          20.038557052612305,
          7.803940773010254,
          2.419482707977295,
          15.07900619506836,
          -10.564927101135254,
          2.6213760375976562,
          4.738776206970215,
          -3.320063591003418,
          -10.987630844116211,
          19.7816104888916,
          12.06131649017334,
          -17.277786254882812,
          0.9956843256950378,
          -7.930385112762451,
          -2.8094675540924072,
          -16.353412628173828,
          -5.920899391174316,
          -5.650853157043457,
          -8.935518264770508,
          5.937982082366943,
          -4.627964973449707,
          -6.102072715759277,
          -8.928667068481445,
          17.047094345092773,
          10.480432510375977,
          16.545116424560547,
          -0.3423368036746979,
          19.07871437072754,
          17.870786666870117,
          -7.427547454833984,
          -7.857330322265625,
          13.027868270874023,
          -7.09928035736084,
          -13.452210426330566,
          15.868896484375,
          -7.035356521606445,
          7.029934406280518,
          14.611320495605469,
          0.15818315744400024,
          -8.102301597595215,
          -6.961443901062012,
          -6.004942893981934,
          -15.426152229309082,
          -9.333548545837402,
          -0.6250258684158325,
          4.01352071762085,
          1.2458077669143677,
          -1.3097106218338013,
          -22.03526496887207,
          -17.20722198486328,
          -18.227109909057617,
          3.637174129486084,
          11.1212797164917,
          5.823466777801514,
          11.598472595214844,
          6.1477837562561035,
          -17.084102630615234,
          -9.965943336486816,
          3.7849740982055664,
          -4.445794105529785,
          -10.578022956848145,
          -7.014437198638916,
          -2.886565923690796,
          -11.174424171447754,
          -16.579853057861328,
          -12.251167297363281,
          -13.477054595947266,
          -11.300647735595703,
          -1.0161274671554565,
          11.775214195251465,
          -5.926112174987793,
          10.731281280517578,
          6.2066168785095215,
          -4.918544769287109,
          18.047475814819336,
          1.4026551246643066,
          -11.005812644958496,
          9.478596687316895,
          -2.4973654747009277,
          14.717560768127441,
          -8.381721496582031,
          -6.199845790863037,
          4.1433424949646,
          5.09737491607666,
          -25.311975479125977,
          17.11744499206543,
          -5.714160919189453,
          -2.310305118560791,
          -21.114585876464844,
          -13.314298629760742,
          -18.543601989746094,
          -15.34911060333252,
          -8.882646560668945,
          -8.96800422668457,
          -13.307522773742676,
          5.717512607574463,
          -9.53674030303955,
          -4.059481620788574,
          12.117177963256836,
          -14.20047378540039,
          6.69336462020874,
          -5.452805519104004,
          -8.883759498596191,
          14.757468223571777,
          -4.866522789001465,
          -11.697342872619629,
          -23.025455474853516,
          -16.87201690673828,
          -13.662077903747559,
          -2.970085620880127,
          1.475525140762329,
          14.366800308227539,
          11.163803100585938,
          -1.8574248552322388,
          -10.987946510314941,
          -9.74071216583252,
          12.41433048248291,
          -5.939222812652588,
          -3.1288716793060303,
          9.162656784057617,
          15.100860595703125,
          -19.799272537231445,
          -3.034311532974243,
          -5.696972846984863,
          -5.484058380126953,
          -13.865381240844727,
          -19.700807571411133,
          10.477133750915527,
          9.379010200500488,
          -7.267211437225342,
          0.3150928020477295,
          4.10854959487915,
          9.201022148132324,
          3.965467691421509,
          -8.877410888671875,
          12.462810516357422,
          14.66633415222168,
          -9.38999080657959,
          -6.914412021636963,
          -7.720489501953125,
          5.841684341430664,
          -16.97947883605957,
          -25.472923278808594,
          -7.4231276512146,
          -0.07932158559560776,
          -12.837117195129395,
          3.8600525856018066,
          -7.7269134521484375,
          -4.352447986602783,
          12.85037899017334,
          1.202284574508667,
          -18.663930892944336,
          -14.364823341369629,
          -20.101266860961914,
          -19.139198303222656,
          -3.606306791305542,
          -9.37390422821045,
          5.721186637878418,
          -13.013335227966309,
          -19.16695785522461,
          0.9899820685386658,
          -17.635852813720703,
          8.119866371154785,
          -4.44272518157959,
          -4.920619964599609,
          12.66081714630127,
          -13.418516159057617,
          1.9525997638702393,
          -19.23688507080078,
          -11.605951309204102,
          -12.20728588104248,
          -3.2912936210632324,
          -8.45383071899414,
          -19.142425537109375,
          -19.411405563354492,
          -18.95719337463379,
          11.633591651916504,
          -19.492420196533203,
          13.95162582397461,
          -6.1588287353515625,
          7.625421524047852,
          -13.357473373413086,
          -18.988082885742188,
          -6.391185283660889,
          -19.09362030029297,
          -10.694899559020996,
          -19.819717407226562,
          -1.0960793495178223,
          -18.432424545288086,
          1.0841647386550903,
          -10.589496612548828,
          -18.772430419921875,
          13.848379135131836,
          -18.247411727905273,
          -14.530316352844238,
          2.858214855194092,
          -19.463075637817383,
          -19.28775978088379,
          -4.659641265869141,
          -13.51897144317627,
          -19.274131774902344,
          17.36577606201172,
          -0.12589503824710846,
          -6.769601821899414,
          12.513604164123535,
          -14.129667282104492,
          6.092751502990723,
          -19.83493423461914,
          -18.905805587768555,
          15.024621963500977,
          -18.300411224365234,
          6.352653980255127,
          -10.060981750488281,
          7.847696781158447,
          -11.87347412109375,
          16.845958709716797,
          3.910614252090454,
          -14.836860656738281,
          -25.478153228759766,
          6.598479270935059,
          -27.215818405151367,
          -15.377588272094727,
          16.423343658447266,
          -15.616670608520508,
          -14.612342834472656,
          -15.415851593017578,
          -5.357573986053467,
          -1.9364774227142334,
          19.90847396850586,
          2.9989988803863525,
          15.650456428527832,
          -2.972048759460449,
          -4.877875804901123,
          -12.537184715270996,
          13.628255844116211,
          12.682186126708984,
          -11.77145767211914,
          -13.313257217407227,
          7.894697666168213,
          12.109322547912598,
          8.66662311553955,
          -8.542826652526855,
          -20.9652042388916,
          4.06264066696167,
          -1.539198398590088,
          1.1395372152328491,
          -18.111711502075195,
          -5.3862481117248535,
          -15.147283554077148,
          -8.562055587768555,
          -16.577760696411133,
          -9.354229927062988,
          2.0309560298919678,
          -8.051202774047852,
          -19.93967628479004,
          8.922554016113281,
          -2.293508529663086,
          -14.88339900970459,
          -4.694596290588379,
          -10.227412223815918,
          1.2931369543075562,
          -14.044367790222168,
          5.950129508972168,
          7.155366897583008,
          2.9044928550720215,
          18.111791610717773,
          -21.67023277282715,
          -5.534473896026611,
          6.126707553863525,
          -4.459763050079346,
          -18.200428009033203,
          -8.553078651428223,
          2.245673656463623,
          8.28300952911377,
          10.014884948730469,
          1.8980517387390137,
          -8.606643676757812,
          9.056626319885254,
          -6.9999680519104,
          -2.258810520172119,
          9.252420425415039,
          -13.662585258483887,
          -5.948838233947754,
          -0.19814108312129974,
          -13.754889488220215,
          10.752099990844727,
          -3.0926504135131836,
          -6.707327842712402,
          -8.882933616638184,
          -2.611065149307251,
          -5.0449347496032715,
          -13.554354667663574,
          -3.173563003540039,
          12.530264854431152,
          -6.522970676422119,
          -18.12532615661621,
          8.471867561340332,
          -18.001737594604492,
          2.6604745388031006,
          -9.402430534362793,
          15.948148727416992,
          17.136966705322266,
          9.871037483215332,
          3.358438730239868,
          -9.85546875,
          -2.3595430850982666,
          -5.3761186599731445,
          -2.8533763885498047,
          6.685690879821777,
          -7.707804203033447,
          -7.396387100219727,
          -15.199308395385742,
          2.1762731075286865,
          -1.688573956489563,
          3.757934331893921,
          -8.473724365234375,
          -6.151100158691406,
          9.386706352233887,
          4.889878749847412,
          -2.5560390949249268,
          -22.267587661743164,
          -18.821197509765625,
          11.714180946350098,
          0.5480385422706604,
          -7.703886032104492,
          -4.42255163192749,
          -3.7061355113983154,
          -4.051049709320068,
          -22.421661376953125,
          -2.273822546005249,
          -22.218889236450195,
          -16.022510528564453,
          -3.5872063636779785,
          14.596409797668457,
          17.039554595947266,
          -13.361612319946289,
          -20.998708724975586,
          -8.818229675292969,
          9.630890846252441,
          -7.639571189880371,
          12.076898574829102,
          -8.90487289428711,
          -4.807429313659668,
          -16.121082305908203,
          -17.594011306762695,
          4.65033483505249,
          -0.23088940978050232,
          -13.962164878845215,
          -2.5227315425872803,
          -6.275920867919922,
          16.631441116333008,
          9.646736145019531,
          8.136693954467773,
          6.988531112670898,
          -9.920483589172363,
          -8.76435375213623,
          -4.885625839233398,
          -18.452411651611328,
          15.089341163635254,
          9.198928833007812,
          -5.503929138183594,
          -19.80400848388672,
          -11.54086971282959,
          -10.115065574645996,
          -15.385022163391113,
          9.4863920211792,
          -19.555622100830078,
          5.232327461242676,
          -14.474494934082031,
          9.291346549987793,
          7.536952972412109,
          10.925889015197754,
          7.392930507659912,
          -15.298293113708496,
          9.186006546020508,
          5.586062431335449,
          15.189870834350586,
          -4.8279266357421875,
          2.201199531555176,
          2.737229108810425,
          -24.14084243774414,
          -3.8024356365203857,
          -24.751752853393555,
          -24.56675910949707,
          -4.18939733505249,
          -6.627068519592285,
          6.78273868560791,
          -0.9625688791275024,
          -4.414963245391846,
          5.751148700714111,
          -4.214569091796875,
          -26.180463790893555,
          9.219427108764648,
          -25.255512237548828,
          17.245468139648438,
          -25.346071243286133,
          -24.62020492553711,
          -23.927688598632812,
          -5.252892971038818,
          -25.06673812866211,
          -5.507314205169678,
          -7.282286643981934,
          -25.595964431762695,
          -24.865346908569336,
          -4.437538146972656,
          -25.390602111816406,
          -25.61372947692871,
          -24.642139434814453,
          -25.965290069580078,
          -25.980224609375,
          -24.631879806518555,
          -24.88223648071289,
          -11.813149452209473,
          -25.212997436523438,
          -24.713651657104492,
          -5.0120744705200195,
          -24.166250228881836,
          -6.599293231964111,
          -4.449398040771484,
          -11.612442016601562,
          -26.068666458129883,
          -25.732133865356445,
          -14.72128963470459,
          10.853543281555176,
          -14.59015941619873,
          11.043386459350586,
          5.966861724853516,
          -6.409983158111572,
          11.931385040283203,
          -5.9536213874816895,
          -14.977334976196289,
          -13.306696891784668,
          -9.89869499206543,
          5.3351521492004395,
          9.213662147521973,
          -22.834020614624023,
          7.865046977996826,
          -4.800146102905273,
          9.235899925231934,
          -0.1659623384475708,
          -15.909470558166504,
          16.801244735717773,
          -19.74968719482422,
          -20.619604110717773,
          -11.746720314025879,
          -4.516045093536377,
          17.650880813598633,
          -4.852015972137451,
          -5.48834228515625,
          0.5670332908630371,
          -7.24778938293457,
          -8.646462440490723,
          -5.266778469085693,
          -9.322504043579102,
          4.840508460998535,
          -21.24687385559082,
          -11.254984855651855,
          4.999475955963135,
          -15.550015449523926,
          -0.37744736671447754,
          -21.369590759277344,
          -0.8710697293281555,
          -2.92875599861145,
          11.604216575622559,
          -11.62716007232666,
          -9.60468578338623,
          -11.5693998336792,
          -11.689538955688477,
          -18.17498207092285,
          -11.777979850769043,
          -4.873905658721924,
          -11.871788024902344,
          -6.307989120483398,
          -11.435261726379395,
          -11.937015533447266,
          -6.577178955078125,
          12.997907638549805,
          7.069182872772217,
          -5.200246334075928,
          -6.404927730560303,
          12.304553985595703,
          -11.7728853225708,
          -3.810307025909424,
          -11.821427345275879,
          -3.9051473140716553,
          -5.282786846160889,
          -11.836678504943848,
          -4.40626859664917,
          -5.880849361419678,
          -4.972255706787109,
          -13.326017379760742,
          7.006739139556885,
          2.73016357421875,
          -21.534774780273438,
          -18.721769332885742,
          -20.869049072265625,
          -19.719852447509766,
          -15.077869415283203,
          10.473790168762207,
          -3.77592396736145,
          -15.267824172973633,
          -14.449559211730957,
          -14.613232612609863,
          -15.717305183410645,
          -14.477107048034668,
          -20.264257431030273,
          -14.910850524902344,
          -3.790745496749878,
          8.151617050170898,
          -3.7810964584350586,
          -14.484498977661133,
          -10.322783470153809,
          -20.102218627929688,
          -7.286296367645264,
          -18.950742721557617,
          -17.704992294311523,
          -8.93756103515625
         ],
         "yaxis": "y"
        }
       ],
       "layout": {
        "coloraxis": {
         "colorbar": {
          "title": {
           "text": "popularity"
          }
         },
         "colorscale": [
          [
           0,
           "#0d0887"
          ],
          [
           0.1111111111111111,
           "#46039f"
          ],
          [
           0.2222222222222222,
           "#7201a8"
          ],
          [
           0.3333333333333333,
           "#9c179e"
          ],
          [
           0.4444444444444444,
           "#bd3786"
          ],
          [
           0.5555555555555556,
           "#d8576b"
          ],
          [
           0.6666666666666666,
           "#ed7953"
          ],
          [
           0.7777777777777778,
           "#fb9f3a"
          ],
          [
           0.8888888888888888,
           "#fdca26"
          ],
          [
           1,
           "#f0f921"
          ]
         ]
        },
        "legend": {
         "tracegroupgap": 0
        },
        "margin": {
         "t": 60
        },
        "template": {
         "data": {
          "bar": [
           {
            "error_x": {
             "color": "#2a3f5f"
            },
            "error_y": {
             "color": "#2a3f5f"
            },
            "marker": {
             "line": {
              "color": "#E5ECF6",
              "width": 0.5
             },
             "pattern": {
              "fillmode": "overlay",
              "size": 10,
              "solidity": 0.2
             }
            },
            "type": "bar"
           }
          ],
          "barpolar": [
           {
            "marker": {
             "line": {
              "color": "#E5ECF6",
              "width": 0.5
             },
             "pattern": {
              "fillmode": "overlay",
              "size": 10,
              "solidity": 0.2
             }
            },
            "type": "barpolar"
           }
          ],
          "carpet": [
           {
            "aaxis": {
             "endlinecolor": "#2a3f5f",
             "gridcolor": "white",
             "linecolor": "white",
             "minorgridcolor": "white",
             "startlinecolor": "#2a3f5f"
            },
            "baxis": {
             "endlinecolor": "#2a3f5f",
             "gridcolor": "white",
             "linecolor": "white",
             "minorgridcolor": "white",
             "startlinecolor": "#2a3f5f"
            },
            "type": "carpet"
           }
          ],
          "choropleth": [
           {
            "colorbar": {
             "outlinewidth": 0,
             "ticks": ""
            },
            "type": "choropleth"
           }
          ],
          "contour": [
           {
            "colorbar": {
             "outlinewidth": 0,
             "ticks": ""
            },
            "colorscale": [
             [
              0,
              "#0d0887"
             ],
             [
              0.1111111111111111,
              "#46039f"
             ],
             [
              0.2222222222222222,
              "#7201a8"
             ],
             [
              0.3333333333333333,
              "#9c179e"
             ],
             [
              0.4444444444444444,
              "#bd3786"
             ],
             [
              0.5555555555555556,
              "#d8576b"
             ],
             [
              0.6666666666666666,
              "#ed7953"
             ],
             [
              0.7777777777777778,
              "#fb9f3a"
             ],
             [
              0.8888888888888888,
              "#fdca26"
             ],
             [
              1,
              "#f0f921"
             ]
            ],
            "type": "contour"
           }
          ],
          "contourcarpet": [
           {
            "colorbar": {
             "outlinewidth": 0,
             "ticks": ""
            },
            "type": "contourcarpet"
           }
          ],
          "heatmap": [
           {
            "colorbar": {
             "outlinewidth": 0,
             "ticks": ""
            },
            "colorscale": [
             [
              0,
              "#0d0887"
             ],
             [
              0.1111111111111111,
              "#46039f"
             ],
             [
              0.2222222222222222,
              "#7201a8"
             ],
             [
              0.3333333333333333,
              "#9c179e"
             ],
             [
              0.4444444444444444,
              "#bd3786"
             ],
             [
              0.5555555555555556,
              "#d8576b"
             ],
             [
              0.6666666666666666,
              "#ed7953"
             ],
             [
              0.7777777777777778,
              "#fb9f3a"
             ],
             [
              0.8888888888888888,
              "#fdca26"
             ],
             [
              1,
              "#f0f921"
             ]
            ],
            "type": "heatmap"
           }
          ],
          "heatmapgl": [
           {
            "colorbar": {
             "outlinewidth": 0,
             "ticks": ""
            },
            "colorscale": [
             [
              0,
              "#0d0887"
             ],
             [
              0.1111111111111111,
              "#46039f"
             ],
             [
              0.2222222222222222,
              "#7201a8"
             ],
             [
              0.3333333333333333,
              "#9c179e"
             ],
             [
              0.4444444444444444,
              "#bd3786"
             ],
             [
              0.5555555555555556,
              "#d8576b"
             ],
             [
              0.6666666666666666,
              "#ed7953"
             ],
             [
              0.7777777777777778,
              "#fb9f3a"
             ],
             [
              0.8888888888888888,
              "#fdca26"
             ],
             [
              1,
              "#f0f921"
             ]
            ],
            "type": "heatmapgl"
           }
          ],
          "histogram": [
           {
            "marker": {
             "pattern": {
              "fillmode": "overlay",
              "size": 10,
              "solidity": 0.2
             }
            },
            "type": "histogram"
           }
          ],
          "histogram2d": [
           {
            "colorbar": {
             "outlinewidth": 0,
             "ticks": ""
            },
            "colorscale": [
             [
              0,
              "#0d0887"
             ],
             [
              0.1111111111111111,
              "#46039f"
             ],
             [
              0.2222222222222222,
              "#7201a8"
             ],
             [
              0.3333333333333333,
              "#9c179e"
             ],
             [
              0.4444444444444444,
              "#bd3786"
             ],
             [
              0.5555555555555556,
              "#d8576b"
             ],
             [
              0.6666666666666666,
              "#ed7953"
             ],
             [
              0.7777777777777778,
              "#fb9f3a"
             ],
             [
              0.8888888888888888,
              "#fdca26"
             ],
             [
              1,
              "#f0f921"
             ]
            ],
            "type": "histogram2d"
           }
          ],
          "histogram2dcontour": [
           {
            "colorbar": {
             "outlinewidth": 0,
             "ticks": ""
            },
            "colorscale": [
             [
              0,
              "#0d0887"
             ],
             [
              0.1111111111111111,
              "#46039f"
             ],
             [
              0.2222222222222222,
              "#7201a8"
             ],
             [
              0.3333333333333333,
              "#9c179e"
             ],
             [
              0.4444444444444444,
              "#bd3786"
             ],
             [
              0.5555555555555556,
              "#d8576b"
             ],
             [
              0.6666666666666666,
              "#ed7953"
             ],
             [
              0.7777777777777778,
              "#fb9f3a"
             ],
             [
              0.8888888888888888,
              "#fdca26"
             ],
             [
              1,
              "#f0f921"
             ]
            ],
            "type": "histogram2dcontour"
           }
          ],
          "mesh3d": [
           {
            "colorbar": {
             "outlinewidth": 0,
             "ticks": ""
            },
            "type": "mesh3d"
           }
          ],
          "parcoords": [
           {
            "line": {
             "colorbar": {
              "outlinewidth": 0,
              "ticks": ""
             }
            },
            "type": "parcoords"
           }
          ],
          "pie": [
           {
            "automargin": true,
            "type": "pie"
           }
          ],
          "scatter": [
           {
            "fillpattern": {
             "fillmode": "overlay",
             "size": 10,
             "solidity": 0.2
            },
            "type": "scatter"
           }
          ],
          "scatter3d": [
           {
            "line": {
             "colorbar": {
              "outlinewidth": 0,
              "ticks": ""
             }
            },
            "marker": {
             "colorbar": {
              "outlinewidth": 0,
              "ticks": ""
             }
            },
            "type": "scatter3d"
           }
          ],
          "scattercarpet": [
           {
            "marker": {
             "colorbar": {
              "outlinewidth": 0,
              "ticks": ""
             }
            },
            "type": "scattercarpet"
           }
          ],
          "scattergeo": [
           {
            "marker": {
             "colorbar": {
              "outlinewidth": 0,
              "ticks": ""
             }
            },
            "type": "scattergeo"
           }
          ],
          "scattergl": [
           {
            "marker": {
             "colorbar": {
              "outlinewidth": 0,
              "ticks": ""
             }
            },
            "type": "scattergl"
           }
          ],
          "scattermapbox": [
           {
            "marker": {
             "colorbar": {
              "outlinewidth": 0,
              "ticks": ""
             }
            },
            "type": "scattermapbox"
           }
          ],
          "scatterpolar": [
           {
            "marker": {
             "colorbar": {
              "outlinewidth": 0,
              "ticks": ""
             }
            },
            "type": "scatterpolar"
           }
          ],
          "scatterpolargl": [
           {
            "marker": {
             "colorbar": {
              "outlinewidth": 0,
              "ticks": ""
             }
            },
            "type": "scatterpolargl"
           }
          ],
          "scatterternary": [
           {
            "marker": {
             "colorbar": {
              "outlinewidth": 0,
              "ticks": ""
             }
            },
            "type": "scatterternary"
           }
          ],
          "surface": [
           {
            "colorbar": {
             "outlinewidth": 0,
             "ticks": ""
            },
            "colorscale": [
             [
              0,
              "#0d0887"
             ],
             [
              0.1111111111111111,
              "#46039f"
             ],
             [
              0.2222222222222222,
              "#7201a8"
             ],
             [
              0.3333333333333333,
              "#9c179e"
             ],
             [
              0.4444444444444444,
              "#bd3786"
             ],
             [
              0.5555555555555556,
              "#d8576b"
             ],
             [
              0.6666666666666666,
              "#ed7953"
             ],
             [
              0.7777777777777778,
              "#fb9f3a"
             ],
             [
              0.8888888888888888,
              "#fdca26"
             ],
             [
              1,
              "#f0f921"
             ]
            ],
            "type": "surface"
           }
          ],
          "table": [
           {
            "cells": {
             "fill": {
              "color": "#EBF0F8"
             },
             "line": {
              "color": "white"
             }
            },
            "header": {
             "fill": {
              "color": "#C8D4E3"
             },
             "line": {
              "color": "white"
             }
            },
            "type": "table"
           }
          ]
         },
         "layout": {
          "annotationdefaults": {
           "arrowcolor": "#2a3f5f",
           "arrowhead": 0,
           "arrowwidth": 1
          },
          "autotypenumbers": "strict",
          "coloraxis": {
           "colorbar": {
            "outlinewidth": 0,
            "ticks": ""
           }
          },
          "colorscale": {
           "diverging": [
            [
             0,
             "#8e0152"
            ],
            [
             0.1,
             "#c51b7d"
            ],
            [
             0.2,
             "#de77ae"
            ],
            [
             0.3,
             "#f1b6da"
            ],
            [
             0.4,
             "#fde0ef"
            ],
            [
             0.5,
             "#f7f7f7"
            ],
            [
             0.6,
             "#e6f5d0"
            ],
            [
             0.7,
             "#b8e186"
            ],
            [
             0.8,
             "#7fbc41"
            ],
            [
             0.9,
             "#4d9221"
            ],
            [
             1,
             "#276419"
            ]
           ],
           "sequential": [
            [
             0,
             "#0d0887"
            ],
            [
             0.1111111111111111,
             "#46039f"
            ],
            [
             0.2222222222222222,
             "#7201a8"
            ],
            [
             0.3333333333333333,
             "#9c179e"
            ],
            [
             0.4444444444444444,
             "#bd3786"
            ],
            [
             0.5555555555555556,
             "#d8576b"
            ],
            [
             0.6666666666666666,
             "#ed7953"
            ],
            [
             0.7777777777777778,
             "#fb9f3a"
            ],
            [
             0.8888888888888888,
             "#fdca26"
            ],
            [
             1,
             "#f0f921"
            ]
           ],
           "sequentialminus": [
            [
             0,
             "#0d0887"
            ],
            [
             0.1111111111111111,
             "#46039f"
            ],
            [
             0.2222222222222222,
             "#7201a8"
            ],
            [
             0.3333333333333333,
             "#9c179e"
            ],
            [
             0.4444444444444444,
             "#bd3786"
            ],
            [
             0.5555555555555556,
             "#d8576b"
            ],
            [
             0.6666666666666666,
             "#ed7953"
            ],
            [
             0.7777777777777778,
             "#fb9f3a"
            ],
            [
             0.8888888888888888,
             "#fdca26"
            ],
            [
             1,
             "#f0f921"
            ]
           ]
          },
          "colorway": [
           "#636efa",
           "#EF553B",
           "#00cc96",
           "#ab63fa",
           "#FFA15A",
           "#19d3f3",
           "#FF6692",
           "#B6E880",
           "#FF97FF",
           "#FECB52"
          ],
          "font": {
           "color": "#2a3f5f"
          },
          "geo": {
           "bgcolor": "white",
           "lakecolor": "white",
           "landcolor": "#E5ECF6",
           "showlakes": true,
           "showland": true,
           "subunitcolor": "white"
          },
          "hoverlabel": {
           "align": "left"
          },
          "hovermode": "closest",
          "mapbox": {
           "style": "light"
          },
          "paper_bgcolor": "white",
          "plot_bgcolor": "#E5ECF6",
          "polar": {
           "angularaxis": {
            "gridcolor": "white",
            "linecolor": "white",
            "ticks": ""
           },
           "bgcolor": "#E5ECF6",
           "radialaxis": {
            "gridcolor": "white",
            "linecolor": "white",
            "ticks": ""
           }
          },
          "scene": {
           "xaxis": {
            "backgroundcolor": "#E5ECF6",
            "gridcolor": "white",
            "gridwidth": 2,
            "linecolor": "white",
            "showbackground": true,
            "ticks": "",
            "zerolinecolor": "white"
           },
           "yaxis": {
            "backgroundcolor": "#E5ECF6",
            "gridcolor": "white",
            "gridwidth": 2,
            "linecolor": "white",
            "showbackground": true,
            "ticks": "",
            "zerolinecolor": "white"
           },
           "zaxis": {
            "backgroundcolor": "#E5ECF6",
            "gridcolor": "white",
            "gridwidth": 2,
            "linecolor": "white",
            "showbackground": true,
            "ticks": "",
            "zerolinecolor": "white"
           }
          },
          "shapedefaults": {
           "line": {
            "color": "#2a3f5f"
           }
          },
          "ternary": {
           "aaxis": {
            "gridcolor": "white",
            "linecolor": "white",
            "ticks": ""
           },
           "baxis": {
            "gridcolor": "white",
            "linecolor": "white",
            "ticks": ""
           },
           "bgcolor": "#E5ECF6",
           "caxis": {
            "gridcolor": "white",
            "linecolor": "white",
            "ticks": ""
           }
          },
          "title": {
           "x": 0.05
          },
          "xaxis": {
           "automargin": true,
           "gridcolor": "white",
           "linecolor": "white",
           "ticks": "",
           "title": {
            "standoff": 15
           },
           "zerolinecolor": "white",
           "zerolinewidth": 2
          },
          "yaxis": {
           "automargin": true,
           "gridcolor": "white",
           "linecolor": "white",
           "ticks": "",
           "title": {
            "standoff": 15
           },
           "zerolinecolor": "white",
           "zerolinewidth": 2
          }
         }
        },
        "xaxis": {
         "anchor": "y",
         "domain": [
          0,
          1
         ],
         "title": {
          "text": "tsne_1"
         }
        },
        "yaxis": {
         "anchor": "x",
         "domain": [
          0,
          1
         ],
         "title": {
          "text": "tsne_2"
         }
        }
       }
      }
     },
     "metadata": {},
     "output_type": "display_data"
    }
   ],
   "source": [
    "import plotly.express as px\n",
    "\n",
    "tsne_df = pd.DataFrame(item_tsne, columns=[\"tsne_1\", \"tsne_2\"])\n",
    "tsne_df[\"item_id\"] = np.arange(item_tsne.shape[0])\n",
    "tsne_df = tsne_df.merge(items.reset_index())\n",
    "\n",
    "px.scatter(tsne_df, x=\"tsne_1\", y=\"tsne_2\",\n",
    "           color=\"popularity\",\n",
    "           hover_data=[\"item_id\", \"title\", \"popularity\"])"
   ]
  },
  {
   "cell_type": "markdown",
   "metadata": {},
   "source": [
    "### Exercises\n",
    "\n",
    " - Add another layer to the neural network and retrain, compare train/test error.\n",
    " - Try adding more dropout and change layer sizes.\n"
   ]
  },
  {
   "cell_type": "code",
   "execution_count": 38,
   "metadata": {},
   "outputs": [],
   "source": [
    "# Enhance model by adding another dense layer and dropout\n",
    "\n",
    "from tensorflow.keras.layers import Dense, Dropout\n",
    "\n",
    "class EnhancedRegressionModel(Model):\n",
    "    def __init__(self, embedding_size, max_user_id, max_item_id, dropout_rate=0.5):\n",
    "        super().__init__()\n",
    "        \n",
    "        # Embedding layers\n",
    "        self.user_embedding = Embedding(output_dim=embedding_size,\n",
    "                                        input_dim=max_user_id + 1,\n",
    "                                        input_length=1,\n",
    "                                        name='user_embedding')\n",
    "        self.item_embedding = Embedding(output_dim=embedding_size,\n",
    "                                        input_dim=max_item_id + 1,\n",
    "                                        input_length=1,\n",
    "                                        name='item_embedding')\n",
    "        \n",
    "        # Non-trainable layers\n",
    "        self.flatten = Flatten()\n",
    "        self.dot = Dot(axes=1)\n",
    "        \n",
    "        # Extra dense layer and dropout\n",
    "        self.dense = Dense(units=embedding_size, activation='relu', name='dense_layer')\n",
    "        self.dropout = Dropout(rate=dropout_rate)\n",
    "\n",
    "    def call(self, inputs):\n",
    "        user_inputs = inputs[0]\n",
    "        item_inputs = inputs[1]\n",
    "        \n",
    "        # Embedding and flatten\n",
    "        user_vecs = self.flatten(self.user_embedding(user_inputs))\n",
    "        item_vecs = self.flatten(self.item_embedding(item_inputs))\n",
    "        \n",
    "        # Apply dense layer and dropout\n",
    "        user_vecs = self.dropout(self.dense(user_vecs))\n",
    "        item_vecs = self.dropout(self.dense(item_vecs))\n",
    "        \n",
    "        # Dot product for prediction\n",
    "        y = self.dot([user_vecs, item_vecs])\n",
    "        return y\n",
    "\n",
    "# Instantiate the enhanced model\n",
    "enhanced_model = EnhancedRegressionModel(\n",
    "    embedding_size=64, \n",
    "    max_user_id=all_ratings['user_id'].max(), \n",
    "    max_item_id=all_ratings['item_id'].max(),\n",
    "    dropout_rate=0.5\n",
    ")\n",
    "\n",
    "enhanced_model.compile(optimizer=\"adam\", loss='mae')\n"
   ]
  },
  {
   "cell_type": "code",
   "execution_count": 41,
   "metadata": {},
   "outputs": [
    {
     "name": "stdout",
     "output_type": "stream",
     "text": [
      "Epoch 1/10\n",
      "1125/1125 [==============================] - 5s 4ms/step - loss: 1.2093 - val_loss: 0.8038\n",
      "Epoch 2/10\n",
      "1125/1125 [==============================] - 5s 4ms/step - loss: 0.9916 - val_loss: 0.7795\n",
      "Epoch 3/10\n",
      "1125/1125 [==============================] - 5s 4ms/step - loss: 0.9892 - val_loss: 0.7848\n",
      "Epoch 4/10\n",
      "1125/1125 [==============================] - 5s 4ms/step - loss: 0.9866 - val_loss: 0.7817\n",
      "Epoch 5/10\n",
      "1125/1125 [==============================] - 5s 4ms/step - loss: 0.9829 - val_loss: 0.7860\n",
      "Epoch 6/10\n",
      "1125/1125 [==============================] - 5s 4ms/step - loss: 0.9791 - val_loss: 0.7868\n",
      "Epoch 7/10\n",
      "1125/1125 [==============================] - 5s 4ms/step - loss: 0.9780 - val_loss: 0.7818\n",
      "Epoch 8/10\n",
      "1125/1125 [==============================] - 5s 4ms/step - loss: 0.9729 - val_loss: 0.7731\n",
      "Epoch 9/10\n",
      "1125/1125 [==============================] - 5s 4ms/step - loss: 0.9713 - val_loss: 0.7728\n",
      "Epoch 10/10\n",
      "1125/1125 [==============================] - 5s 4ms/step - loss: 0.9738 - val_loss: 0.7860\n"
     ]
    }
   ],
   "source": [
    "# train enhanced model\n",
    "\n",
    "history_enhanced = enhanced_model.fit(\n",
    "    [user_id_train, item_id_train], \n",
    "    rating_train,\n",
    "    batch_size=64, \n",
    "    epochs=10, \n",
    "    validation_split=0.1, \n",
    "    shuffle=True\n",
    ")\n",
    "\n"
   ]
  },
  {
   "cell_type": "code",
   "execution_count": 42,
   "metadata": {},
   "outputs": [
    {
     "name": "stdout",
     "output_type": "stream",
     "text": [
      "625/625 [==============================] - 1s 2ms/step - loss: 0.7649\n",
      "625/625 [==============================] - 1s 2ms/step - loss: 0.7810\n",
      "Test Loss - Original Model: 0.7649\n",
      "Test Loss - Enhanced Model: 0.7810\n"
     ]
    },
    {
     "data": {
      "image/png": "[encoded data removed]",
      "text/plain": [
       "<Figure size 640x480 with 1 Axes>"
      ]
     },
     "metadata": {},
     "output_type": "display_data"
    }
   ],
   "source": [
    "# Compare train/test errors and plot validation loss\n",
    "\n",
    "test_loss_original = model.evaluate([user_id_test, item_id_test], rating_test)\n",
    "test_loss_enhanced = enhanced_model.evaluate([user_id_test, item_id_test], rating_test)\n",
    "\n",
    "print(f\"Test Loss - Original Model: {test_loss_original:.4f}\")\n",
    "print(f\"Test Loss - Enhanced Model: {test_loss_enhanced:.4f}\")\n",
    "\n",
    "plt.plot(history.history['val_loss'], label='Original Model')\n",
    "plt.plot(history_enhanced.history['val_loss'], label='Enhanced Model')\n",
    "plt.xlabel('Epochs')\n",
    "plt.ylabel('Validation Loss')\n",
    "plt.legend()\n",
    "plt.title('Validation Loss Comparison')\n",
    "plt.show()\n"
   ]
  },
  {
   "cell_type": "markdown",
   "metadata": {},
   "source": [
    "ANSWER: According to the test and validation loss comparison, the original model performed slightly better than the enhanced model. It is likely that with the introduction of an extra dense layer and a more aggressive dropout rate, the enhanced model was overfitting. "
   ]
  },
  {
   "cell_type": "markdown",
   "metadata": {},
   "source": [
    "### A recommendation function for a given user\n",
    "\n",
    "Once the model is trained, the system can be used to recommend a few items for a user that they haven't seen before. The following code does that.\n",
    "\n",
    "- we use the `model.predict` to compute the ratings a user would have given to all items\n",
    "- we build a function that sorts these items and excludes those the user has already seen."
   ]
  },
  {
   "cell_type": "code",
   "execution_count": 43,
   "metadata": {
    "scrolled": true
   },
   "outputs": [],
   "source": [
    "def recommend(user_id, top_n=10):\n",
    "    item_ids = range(1, items['item_id'].max())\n",
    "    seen_mask = all_ratings[\"user_id\"] == user_id\n",
    "    seen_movies = set(all_ratings[seen_mask][\"item_id\"])\n",
    "    item_ids = list(filter(lambda x: x not in seen_movies, item_ids))\n",
    "\n",
    "    user = np.zeros_like(item_ids)\n",
    "    user[:len(item_ids)] = user_id\n",
    "    items_ = np.array(item_ids)\n",
    "    ratings = model.predict([user, items_]).flatten()\n",
    "    top_items = ratings.argsort()[-top_n:][::-1]\n",
    "    return [(indexed_items.loc[item_id][\"title\"], ratings[item_id]) for item_id in top_items]"
   ]
  },
  {
   "cell_type": "code",
   "execution_count": 44,
   "metadata": {},
   "outputs": [
    {
     "name": "stdout",
     "output_type": "stream",
     "text": [
      "48/48 [==============================] - 0s 2ms/step\n",
      "    5.7: Hoodlum (1997)\n",
      "    5.3: Dead Man Walking (1995)\n",
      "    5.1: Terminator, The (1984)\n",
      "    5.0: Long Kiss Goodnight, The (1996)\n",
      "    5.0: Affair to Remember, An (1957)\n",
      "    4.9: Boxing Helena (1993)\n",
      "    4.9: Breaking the Waves (1996)\n",
      "    4.7: Young Guns (1988)\n",
      "    4.7: Supercop (1992)\n",
      "    4.6: Manhattan (1979)\n"
     ]
    }
   ],
   "source": [
    "for title, pred_rating in recommend(5):\n",
    "    print(\"    %0.1f: %s\" % (pred_rating, title))"
   ]
  },
  {
   "cell_type": "markdown",
   "metadata": {
    "collapsed": false
   },
   "source": [
    "### Exercises\n",
    "\n",
    "- Try modifying our neural network to improve recommendation. You could try adding more layers, or using a different loss function. \n",
    "- Your goal is to improve the Mean Absolute Error on the test set. Show the results of your best model."
   ]
  },
  {
   "cell_type": "code",
   "execution_count": 45,
   "metadata": {
    "collapsed": false
   },
   "outputs": [],
   "source": [
    "# Extend and improve the model below\n",
    "\n",
    "from tensorflow.keras.layers import Dense, Dropout\n",
    "\n",
    "class ExtendedRegressionModel(Model):\n",
    "    def __init__(self, embedding_size, max_user_id, max_item_id, dense_units=128, dropout_rate=0.3):\n",
    "        super().__init__()\n",
    "\n",
    "        # Embedding layers\n",
    "        self.user_embedding = Embedding(output_dim=embedding_size,\n",
    "                                        input_dim=max_user_id + 1,\n",
    "                                        input_length=1,\n",
    "                                        name='user_embedding')\n",
    "        self.item_embedding = Embedding(output_dim=embedding_size,\n",
    "                                        input_dim=max_item_id + 1,\n",
    "                                        input_length=1,\n",
    "                                        name='item_embedding')\n",
    "\n",
    "        # Intermediate dense layers with dropout\n",
    "        self.flatten = Flatten()\n",
    "        self.dense1 = Dense(units=dense_units, activation='relu', name='dense_layer_1')\n",
    "        self.dropout1 = Dropout(rate=dropout_rate)\n",
    "        self.dense2 = Dense(units=dense_units // 2, activation='relu', name='dense_layer_2')\n",
    "        self.dropout2 = Dropout(rate=dropout_rate)\n",
    "        \n",
    "        # Dot layer for predictions\n",
    "        self.dot = Dot(axes=1)\n",
    "\n",
    "    def call(self, inputs):\n",
    "        user_inputs = inputs[0]\n",
    "        item_inputs = inputs[1]\n",
    "\n",
    "        # Embed and flatten\n",
    "        user_vecs = self.flatten(self.user_embedding(user_inputs))\n",
    "        item_vecs = self.flatten(self.item_embedding(item_inputs))\n",
    "\n",
    "        # Pass through dense layers\n",
    "        user_vecs = self.dropout1(self.dense1(user_vecs))\n",
    "        item_vecs = self.dropout1(self.dense1(item_vecs))\n",
    "        \n",
    "        user_vecs = self.dropout2(self.dense2(user_vecs))\n",
    "        item_vecs = self.dropout2(self.dense2(item_vecs))\n",
    "\n",
    "        # Dot product for final prediction\n",
    "        y = self.dot([user_vecs, item_vecs])\n",
    "        return y\n",
    "\n",
    "\n",
    "# Instantiate the extended model\n",
    "extended_model = ExtendedRegressionModel(\n",
    "    embedding_size=64, \n",
    "    max_user_id=all_ratings['user_id'].max(), \n",
    "    max_item_id=all_ratings['item_id'].max(),\n",
    "    dense_units=128,\n",
    "    dropout_rate=0.3\n",
    ")\n",
    "\n",
    "# Compile the model with Mean Squared Error loss\n",
    "extended_model.compile(optimizer=\"adam\", loss='mse')\n"
   ]
  },
  {
   "cell_type": "code",
   "execution_count": 46,
   "metadata": {
    "collapsed": false
   },
   "outputs": [
    {
     "name": "stdout",
     "output_type": "stream",
     "text": [
      "Epoch 1/10\n",
      "1125/1125 [==============================] - 7s 5ms/step - loss: 1.5911 - val_loss: 0.9601\n",
      "Epoch 2/10\n",
      "1125/1125 [==============================] - 6s 5ms/step - loss: 1.1875 - val_loss: 0.9220\n",
      "Epoch 3/10\n",
      "1125/1125 [==============================] - 6s 5ms/step - loss: 1.1506 - val_loss: 0.9202\n",
      "Epoch 4/10\n",
      "1125/1125 [==============================] - 5s 5ms/step - loss: 1.1295 - val_loss: 0.9217\n",
      "Epoch 5/10\n",
      "1125/1125 [==============================] - 6s 5ms/step - loss: 1.1217 - val_loss: 0.9254\n",
      "Epoch 6/10\n",
      "1125/1125 [==============================] - 6s 6ms/step - loss: 1.1127 - val_loss: 0.9145\n",
      "Epoch 7/10\n",
      "1125/1125 [==============================] - 6s 6ms/step - loss: 1.1118 - val_loss: 0.9130\n",
      "Epoch 8/10\n",
      "1125/1125 [==============================] - 6s 6ms/step - loss: 1.1078 - val_loss: 0.9319\n",
      "Epoch 9/10\n",
      "1125/1125 [==============================] - 6s 5ms/step - loss: 1.1049 - val_loss: 0.9208\n",
      "Epoch 10/10\n",
      "1125/1125 [==============================] - 6s 5ms/step - loss: 1.1015 - val_loss: 0.9244\n"
     ]
    }
   ],
   "source": [
    "# Train the extended model\n",
    "history_extended = extended_model.fit(\n",
    "    [user_id_train, item_id_train],\n",
    "    rating_train,\n",
    "    batch_size=64,\n",
    "    epochs=10,\n",
    "    validation_split=0.1,\n",
    "    shuffle=True\n",
    ")\n"
   ]
  },
  {
   "cell_type": "code",
   "execution_count": 47,
   "metadata": {},
   "outputs": [
    {
     "name": "stdout",
     "output_type": "stream",
     "text": [
      "625/625 [==============================] - 1s 2ms/step - loss: 0.7649\n",
      "625/625 [==============================] - 2s 3ms/step - loss: 0.9086\n",
      "Test Loss (Original Model - MAE): 0.7649\n",
      "Test Loss (Extended Model - MAE): 0.9086\n"
     ]
    }
   ],
   "source": [
    "# Evaluate the original model\n",
    "test_loss_original = model.evaluate([user_id_test, item_id_test], rating_test)\n",
    "\n",
    "# Evaluate the extended model\n",
    "test_loss_extended = extended_model.evaluate([user_id_test, item_id_test], rating_test)\n",
    "\n",
    "print(f\"Test Loss (Original Model - MAE): {test_loss_original:.4f}\")\n",
    "print(f\"Test Loss (Extended Model - MAE): {test_loss_extended:.4f}\")\n"
   ]
  },
  {
   "cell_type": "markdown",
   "metadata": {},
   "source": [
    "ANSWER: The extended model performed significantly worse, the MAE scores are higher. I believe the extended model is overfitting. "
   ]
  }
 ],
 "metadata": {
  "kernelspec": {
   "display_name": "dsi_participant",
   "language": "python",
   "name": "python3"
  },
  "language_info": {
   "codemirror_mode": {
    "name": "ipython",
    "version": 3
   },
   "file_extension": ".py",
   "mimetype": "text/x-python",
   "name": "python",
   "nbconvert_exporter": "python",
   "pygments_lexer": "ipython3",
   "version": "3.9.15"
  }
 },
 "nbformat": 4,
 "nbformat_minor": 4
}
