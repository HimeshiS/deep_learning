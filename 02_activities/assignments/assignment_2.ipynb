{
  "cells": [
    {
      "cell_type": "markdown",
      "id": "7c6788aef474ca12",
      "metadata": {
        "collapsed": false,
        "id": "7c6788aef474ca12"
      },
      "source": [
        "# Text Generation with Recurrent Neural Networks (RNNs)\n",
        "\n",
        "In this assignment, you'll build upon your understanding of RNNs and Keras to develop a word-level text generation model.  Your goal is to train a model that learns the stylistic nuances of a chosen corpus and generates new, original text segments that echo the source material's essence.\n",
        "\n",
        "**Datasets**\n",
        "\n",
        "We've provided several intriguing text corpora to get you started:\n",
        "\n",
        "*   Mark Twain\n",
        "*   Charles Dickens\n",
        "*   William Shakespeare\n",
        "\n",
        "**Feel free to explore!**  If you have a particular passion for another author, genre, or a specific text, you're encouraged to use your own dataset of raw text."
      ]
    },
    {
      "cell_type": "code",
      "execution_count": 1,
      "id": "2d0bfedcfe52aedc",
      "metadata": {
        "colab": {
          "base_uri": "https://localhost:8080/"
        },
        "id": "2d0bfedcfe52aedc",
        "outputId": "e76de6f3-dba6-441a-8087-68d556ef0983"
      },
      "outputs": [
        {
          "output_type": "stream",
          "name": "stdout",
          "text": [
            "Default GPU Device: /device:GPU:0\n"
          ]
        }
      ],
      "source": [
        "# Check if we have a GPU available\n",
        "import tensorflow as tf\n",
        "if tf.test.gpu_device_name():\n",
        "    print('Default GPU Device: {}'.format(tf.test.gpu_device_name()))\n",
        "else:\n",
        "    print(\"No GPU available. If you're on Colab, go to Runtime > Change runtime and select a GPU hardware accelerator.\")"
      ]
    },
    {
      "cell_type": "code",
      "execution_count": 29,
      "id": "9c28c497f620b775",
      "metadata": {
        "ExecuteTime": {
          "end_time": "2024-02-08T21:30:44.959803Z",
          "start_time": "2024-02-08T21:30:44.701343Z"
        },
        "id": "9c28c497f620b775"
      },
      "outputs": [],
      "source": [
        "def download_file(url, file_path):\n",
        "    import requests\n",
        "    r = requests.get(url)\n",
        "    with open(file_path, 'wb') as f:\n",
        "        f.write(r.content)\n",
        "\n",
        "def load_dataset(file_path, fraction=1.0):\n",
        "    with open(file_path, 'r', encoding='utf-8') as f:\n",
        "        raw_text = f.read()\n",
        "    return raw_text[:int(fraction * len(raw_text))]\n",
        "\n",
        "dataset = 'shakespeare.txt' # Other options are mark_twain.txt, charles_dickens.txt\n",
        "\n",
        "download_file(f'https://raw.githubusercontent.com/UofT-DSI/deep_learning/refs/heads/main/02_activities/assignments/downloaded_books/' + dataset, dataset)\n",
        "\n",
        "# Load chosen dataset. NOTE: If Colab is running out of memory, change the `fraction` parameter to a value between 0 and 1 to load less data.\n",
        "text = load_dataset(dataset, fraction=0.1)"
      ]
    },
    {
      "cell_type": "markdown",
      "id": "dab51c764031e606",
      "metadata": {
        "collapsed": false,
        "id": "dab51c764031e606"
      },
      "source": [
        "# 1. Data Preparation (Complete or Incomplete)\n",
        "\n",
        "Before we can begin training an RNN model, we need to prepare the dataset. This involves cleaning the text, tokenizing words, and creating sequences the model can be trained on.\n",
        "\n",
        "## 1.1 Data Exploration\n",
        "\n",
        "Print the first 1000 characters of the dataset. Report the dataset's size and the number of unique characters it contains."
      ]
    },
    {
      "cell_type": "code",
      "execution_count": 30,
      "id": "BunkZmdkl0Wn",
      "metadata": {
        "colab": {
          "base_uri": "https://localhost:8080/"
        },
        "id": "BunkZmdkl0Wn",
        "outputId": "c47ba6bc-ba5c-4d51-b3c0-4558314b18ab"
      },
      "outputs": [
        {
          "output_type": "stream",
          "name": "stdout",
          "text": [
            "First 1000 characters:\n",
            "The Project Gutenberg EBook of Hamlet, by William Shakespeare\n",
            "\n",
            "This eBook is for the use of anyone anywhere at no cost and with\n",
            "almost no restrictions whatsoever.  You may copy it, give it away or\n",
            "re-use it under the terms of the Project Gutenberg License included\n",
            "with this eBook or online at www.gutenberg.org\n",
            "\n",
            "\n",
            "Title: Hamlet\n",
            "\n",
            "Author: William Shakespeare\n",
            "\n",
            "Editor: Charles Kean\n",
            "\n",
            "Release Date: January 10, 2009 [EBook #27761]\n",
            "\n",
            "Language: English\n",
            "\n",
            "Character set encoding: UTF-8\n",
            "\n",
            "*** START OF THIS PROJECT GUTENBERG EBOOK HAMLET ***\n",
            "\n",
            "\n",
            "\n",
            "\n",
            "Produced by David Starner, Curtis Weyant and the Online\n",
            "Distributed Proofreading Team at https://www.pgdp.net\n",
            "\n",
            "\n",
            "\n",
            "\n",
            "\n",
            "\n",
            "\n",
            "\n",
            "\n",
            "    Transcriber's Note:\n",
            "    This is a heavily edited version of _Hamlet_. It was used\n",
            "    for Charles Kean's 1859 stage production. Phrases printed\n",
            "    in italics in the book are indicated in this electronic\n",
            "    version by _ (underscore). Footnotes originally appeared\n",
            "    at the bottom of each page. For this electronic version\n",
            "    the footnotes \n",
            "\n",
            "Dataset size: 935886 characters\n",
            "Number of unique characters: 131\n"
          ]
        }
      ],
      "source": [
        "# Print the first 1000 characters\n",
        "print(f\"First 1000 characters:\\n{text[:1000]}\")\n",
        "\n",
        "# Dataset size\n",
        "dataset_size = len(text)\n",
        "unique_chars = len(set(text))\n",
        "\n",
        "print(f\"\\nDataset size: {dataset_size} characters\")\n",
        "print(f\"Number of unique characters: {unique_chars}\")\n"
      ]
    },
    {
      "cell_type": "code",
      "source": [
        "# the text contains metadata about the play before the actual start of the text. These parts need to be removed.\n",
        "\n",
        "def clean_text(text):\n",
        "    \"\"\"\n",
        "    Clean the text by removing metadata and unwanted lines.\n",
        "    \"\"\"\n",
        "    # Locate the start of the actual text\n",
        "    start_marker = \"*** START OF THIS PROJECT GUTENBERG EBOOK HAMLET ***\"\n",
        "    end_marker = \"*** END OF THIS PROJECT GUTENBERG EBOOK HAMLET ***\"\n",
        "\n",
        "    start_index = text.find(start_marker)\n",
        "    if start_index != -1:\n",
        "        text = text[start_index + len(start_marker):]  # Start after the marker\n",
        "\n",
        "    # Locate the end of the actual text\n",
        "    end_index = text.find(end_marker)\n",
        "    if end_index != -1:\n",
        "        text = text[:end_index]  # End before the marker\n",
        "\n",
        "    # Remove excessive whitespace and newlines\n",
        "    text = text.strip()\n",
        "\n",
        "    return text\n",
        "\n"
      ],
      "metadata": {
        "id": "53T_PXDsOrm1"
      },
      "id": "53T_PXDsOrm1",
      "execution_count": 31,
      "outputs": []
    },
    {
      "cell_type": "code",
      "source": [
        "# Clean the dataset\n",
        "text = clean_text(text)\n",
        "\n",
        "# Print the first 1000 characters of the cleaned text\n",
        "print(f\"First 1000 characters of cleaned text:\\n{text[:1000]}\")\n",
        "\n",
        "# Update dataset size and unique characters\n",
        "dataset_size = len(text)\n",
        "unique_chars = len(set(text))\n",
        "\n",
        "print(f\"\\nCleaned Dataset size: {dataset_size} characters\")\n",
        "print(f\"Number of unique characters: {unique_chars}\")\n"
      ],
      "metadata": {
        "colab": {
          "base_uri": "https://localhost:8080/"
        },
        "id": "u6i0z_2vPd23",
        "outputId": "b164e339-1efc-4bde-dfd3-76380604ea81"
      },
      "id": "u6i0z_2vPd23",
      "execution_count": 32,
      "outputs": [
        {
          "output_type": "stream",
          "name": "stdout",
          "text": [
            "First 1000 characters of cleaned text:\n",
            "Produced by David Starner, Curtis Weyant and the Online\n",
            "Distributed Proofreading Team at https://www.pgdp.net\n",
            "\n",
            "\n",
            "\n",
            "\n",
            "\n",
            "\n",
            "\n",
            "\n",
            "\n",
            "    Transcriber's Note:\n",
            "    This is a heavily edited version of _Hamlet_. It was used\n",
            "    for Charles Kean's 1859 stage production. Phrases printed\n",
            "    in italics in the book are indicated in this electronic\n",
            "    version by _ (underscore). Footnotes originally appeared\n",
            "    at the bottom of each page. For this electronic version\n",
            "    the footnotes are collected at the end of each act. In\n",
            "    Act I, Scene 5, the word Uumix'd has been changed to\n",
            "    Unmix'd. A closing bracket ] was added to Act IV footnote\n",
            "    37 after _Naked on your kingdom_,. A closing bracket ]\n",
            "    was added to Act IV footnote 50 after _Venom'd stuck_,.\n",
            "    The word o'er-crows appears in Act V, Scene 3; in\n",
            "    footnote V.81, o'ercrows appears without a hyphen. Both\n",
            "    are as they appear in the book.\n",
            "\n",
            "\n",
            "\n",
            "\n",
            "            SHAKESPEARE'S TRAGEDY\n",
            "\n",
            "                     OF\n",
            "\n",
            "                   HAMLET,\n",
            "             P\n",
            "\n",
            "Cleaned Dataset size: 202450 characters\n",
            "Number of unique characters: 94\n"
          ]
        }
      ]
    },
    {
      "cell_type": "markdown",
      "id": "3ae1639f5ecfe587",
      "metadata": {
        "collapsed": false,
        "id": "3ae1639f5ecfe587"
      },
      "source": [
        "## 1.2 Text Pre-Processing\n",
        "\n",
        "To prepare the dataset for training, we need to clean the text and create a numerical representation the model can interpret. Perform the following pre-processing steps:\n",
        "\n",
        "*   Convert the entire text to lowercase.\n",
        "*   Use the `Tokenizer` class from the `keras.preprocessing.text` module to tokenize the text. You should fit the tokenizer on the text and then convert the text to a sequence of numbers. You can use the `texts_to_sequences` method to do this.\n",
        "\n",
        "**Note**:\n",
        "* You'll need to specify an appropriate size for the vocabulary. The number of words in the list of most common words can serve as a guide - does it seem like a reasonable vocabulary size?\n",
        "* Some of the words will be excluded from the vocabulary, as they don't appear often enough. It's important to provide a value for `oov_token` when creating the Tokenizer instance, so that these words can be represented as \"unknown\"."
      ]
    },
    {
      "cell_type": "code",
      "execution_count": 34,
      "id": "4d0d30cd98ea453c",
      "metadata": {
        "id": "4d0d30cd98ea453c",
        "colab": {
          "base_uri": "https://localhost:8080/"
        },
        "outputId": "ba91c91b-10ed-4084-c73b-e1e7d9d83efa"
      },
      "outputs": [
        {
          "output_type": "stream",
          "name": "stdout",
          "text": [
            "First 10 words in the vocabulary: [('<OOV>', 1), ('the', 2), ('to', 3), ('and', 4), ('of', 5), ('i', 6), ('a', 7), ('footnote', 8), ('in', 9), ('you', 10)]\n"
          ]
        }
      ],
      "source": [
        "from tensorflow.keras.preprocessing.text import Tokenizer\n",
        "\n",
        "# Convert text to lowercase\n",
        "text = text.lower()\n",
        "\n",
        "VOCAB_SIZE = 5000\n",
        "OOV_TOKEN = \"<OOV>\"\n",
        "\n",
        "tokenizer = Tokenizer(num_words=VOCAB_SIZE, oov_token=OOV_TOKEN)\n",
        "\n",
        "\n",
        "tokenizer.fit_on_texts([text])\n",
        "\n",
        "sequences = tokenizer.texts_to_sequences([text])[0]\n",
        "\n"
      ]
    },
    {
      "cell_type": "markdown",
      "id": "89d32bb9356f711",
      "metadata": {
        "collapsed": false,
        "id": "89d32bb9356f711"
      },
      "source": [
        "If everything worked, the following line should show you the first 10 words in the vocabulary:"
      ]
    },
    {
      "cell_type": "code",
      "execution_count": 35,
      "id": "6a7cd547a19feece",
      "metadata": {
        "colab": {
          "base_uri": "https://localhost:8080/"
        },
        "id": "6a7cd547a19feece",
        "outputId": "ffd5435c-c6aa-4bd6-9e03-ede23a00893a"
      },
      "outputs": [
        {
          "output_type": "stream",
          "name": "stdout",
          "text": [
            "[('<OOV>', 1), ('the', 2), ('to', 3), ('and', 4), ('of', 5), ('i', 6), ('a', 7), ('footnote', 8), ('in', 9), ('you', 10)]\n"
          ]
        }
      ],
      "source": [
        "try:\n",
        "    print(list(tokenizer.word_index.items())[:10])\n",
        "except AttributeError:\n",
        "    print(\"Tokenizer has not been initialized. Possible issue: Complete the relevant section of the assignment to initialize it.\"\n",
        ")\n"
      ]
    },
    {
      "cell_type": "markdown",
      "id": "da504e4bc6617613",
      "metadata": {
        "collapsed": false,
        "id": "da504e4bc6617613"
      },
      "source": [
        "## 1.3 Sequence Generation\n",
        "\n",
        "Now that the text has been tokenized, we need to create sequences the model can be trained on. There are two parts to this:\n",
        "\n",
        "*   Use the `texts_to_sequences` method from the tokenizer to convert the text to a list of sequences of numbers.\n",
        "*   Generate the training sequences. Each training sequence should contain `SEQ_LENGTH` token IDs from the text. The target token for each sequence should be the word that follows the sequence in the text."
      ]
    },
    {
      "cell_type": "code",
      "execution_count": 38,
      "id": "4ff5fc8d0273709c",
      "metadata": {
        "id": "4ff5fc8d0273709c"
      },
      "outputs": [],
      "source": [
        "SEQ_LENGTH = 50\n",
        "\n",
        "# Convert the text to a list of sequences of numbers\n",
        "sequences = tokenizer.texts_to_sequences([text])[0]\n",
        "\n",
        "# Generate the training sequences\n",
        "X = []\n",
        "y = []\n",
        "for i in range(len(sequences) - SEQ_LENGTH):\n",
        "    X.append(sequences[i:i + SEQ_LENGTH])\n",
        "    y.append(sequences[i + SEQ_LENGTH])\n",
        "\n"
      ]
    },
    {
      "cell_type": "markdown",
      "id": "3b6bdc0deb930df1",
      "metadata": {
        "collapsed": false,
        "id": "3b6bdc0deb930df1"
      },
      "source": [
        "Assuming your sequences are stored in `X` and the corresponding targets in `y`, the following line should print the first training sequence and its target:"
      ]
    },
    {
      "cell_type": "code",
      "execution_count": 39,
      "id": "a495cab04001ce92",
      "metadata": {
        "colab": {
          "base_uri": "https://localhost:8080/"
        },
        "id": "a495cab04001ce92",
        "outputId": "a1ecb4d8-69b1-4fd1-e1f5-421f340dda90"
      },
      "outputs": [
        {
          "output_type": "stream",
          "name": "stdout",
          "text": [
            "Sequence: [1547, 35, 1548, 2441, 2442, 2443, 4, 2, 2444, 2445, 2446, 1549, 53, 2447, 2448, 2449, 1550, 2450, 636, 18, 12, 7, 1124, 2451, 1125, 5, 46, 13, 39, 164, 21, 637, 2452, 1126, 267, 2453, 2454, 1551, 9, 2455, 9, 2, 567, 42, 1552, 9, 18, 1553, 1125, 35]\n",
            "Target: 2456\n",
            "Translated back to words: ['produced', 'by', 'david', 'starner', 'curtis', 'weyant', 'and', 'the', 'online', 'distributed', 'proofreading', 'team', 'at', 'https', 'www', 'pgdp', 'net', \"transcriber's\", 'note', 'this', 'is', 'a', 'heavily', 'edited', 'version', 'of', 'hamlet', 'it', 'was', 'used', 'for', 'charles', \"kean's\", '1859', 'stage', 'production', 'phrases', 'printed', 'in', 'italics', 'in', 'the', 'book', 'are', 'indicated', 'in', 'this', 'electronic', 'version', 'by'] -> underscore\n"
          ]
        }
      ],
      "source": [
        "if len(X) > 0 and len(y) > 0:\n",
        "    print(f'Sequence: {X[0]}\\nTarget: {y[0]}')\n",
        "    print(f'Translated back to words: {[tokenizer.index_word[i] for i in X[0]]} -> {tokenizer.index_word[y[0]]}')\n",
        "else:\n",
        "    print(\"Training sequences have not been generated. Possible issue: Complete the relevant section of the assignment to initialize it.\")\n"
      ]
    },
    {
      "cell_type": "markdown",
      "id": "d5bb2c55da17aaa0",
      "metadata": {
        "collapsed": false,
        "id": "d5bb2c55da17aaa0"
      },
      "source": [
        "And the following code will transform y into a one-hot encoded matrix, and split everything into training and validation sets:"
      ]
    },
    {
      "cell_type": "code",
      "execution_count": 40,
      "id": "3a929b2e6c2cc921",
      "metadata": {
        "colab": {
          "base_uri": "https://localhost:8080/"
        },
        "id": "3a929b2e6c2cc921",
        "outputId": "d41d1760-c909-478d-b518-5d46f04d650d"
      },
      "outputs": [
        {
          "output_type": "stream",
          "name": "stdout",
          "text": [
            "X_train shape: (26696, 50)\n",
            "y_train shape: (26696, 5000)\n"
          ]
        }
      ],
      "source": [
        "from sklearn.model_selection import train_test_split\n",
        "from keras.utils import to_categorical\n",
        "import numpy as np\n",
        "\n",
        "# Ensure that tokenizer has been initialized\n",
        "if tokenizer is not None:\n",
        "    # Convert X and y to numpy arrays\n",
        "    X = np.array(X)\n",
        "    y = np.array(y)\n",
        "\n",
        "    # One last thing: let's drop any examples where the target is the OOV token - we don't want our model to predict that (boring!)\n",
        "    if OOV_TOKEN in tokenizer.word_index:\n",
        "        mask = y != tokenizer.word_index[OOV_TOKEN]\n",
        "        X = X[mask]\n",
        "        y = y[mask]\n",
        "\n",
        "    # One-hot encode the target token\n",
        "    y = to_categorical(y, num_classes=VOCAB_SIZE)\n",
        "\n",
        "    # Split the data into training and validation sets\n",
        "    X_train, X_val, y_train, y_val = train_test_split(X, y, test_size=0.2, random_state=42)\n",
        "\n",
        "    print(f'X_train shape: {X_train.shape}')\n",
        "    print(f'y_train shape: {y_train.shape}')\n",
        "else:\n",
        "    print(\"Tokenizer has not been initialized. Please initialize it and load the vocabulary before continuing.\")\n"
      ]
    },
    {
      "cell_type": "markdown",
      "id": "b6e4161897210434",
      "metadata": {
        "collapsed": false,
        "id": "b6e4161897210434"
      },
      "source": [
        "# 2. Model Development (Complete or Incomplete)\n",
        "\n",
        "With the dataset prepared, it's time to develop the RNN model. You'll need to define the architecture of the model, compile it, and prepare it for training.\n",
        "\n",
        "## 2.1 Model Architecture\n",
        "\n",
        "Define the architecture of your RNN model. You can design it however you like, but there are a few features that it's important to include:\n",
        "\n",
        "*   An embedding layer that learns a dense representation of the input tokens. You'll need to specify the input dimension (the size of the vocabulary) and the output dimension (the size of the dense representation). Remember, you can look at the documentation [here](https://keras.io/api/layers/core_layers/embedding/).\n",
        "*   At least one recurrent layer. We have learned how to use LSTM layers in class, but you can use other types of recurrent layers if you prefer. You can find the documentation [here](https://keras.io/api/layers/recurrent_layers/lstm/).\n",
        "*   A dense layer with a softmax activation function. This layer will output a probability distribution over the vocabulary, so that the model can make predictions about the next token."
      ]
    },
    {
      "cell_type": "code",
      "execution_count": 41,
      "id": "9fdfaad93818fc8d",
      "metadata": {
        "colab": {
          "base_uri": "https://localhost:8080/",
          "height": 273
        },
        "id": "9fdfaad93818fc8d",
        "outputId": "d7dddaea-5c29-4276-fa60-ec92f725703b"
      },
      "outputs": [
        {
          "output_type": "stream",
          "name": "stderr",
          "text": [
            "/usr/local/lib/python3.10/dist-packages/keras/src/layers/core/embedding.py:90: UserWarning: Argument `input_length` is deprecated. Just remove it.\n",
            "  warnings.warn(\n"
          ]
        },
        {
          "output_type": "display_data",
          "data": {
            "text/plain": [
              "\u001b[1mModel: \"sequential\"\u001b[0m\n"
            ],
            "text/html": [
              "<pre style=\"white-space:pre;overflow-x:auto;line-height:normal;font-family:Menlo,'DejaVu Sans Mono',consolas,'Courier New',monospace\"><span style=\"font-weight: bold\">Model: \"sequential\"</span>\n",
              "</pre>\n"
            ]
          },
          "metadata": {}
        },
        {
          "output_type": "display_data",
          "data": {
            "text/plain": [
              "┏━━━━━━━━━━━━━━━━━━━━━━━━━━━━━━━━━━━━━━┳━━━━━━━━━━━━━━━━━━━━━━━━━━━━━┳━━━━━━━━━━━━━━━━━┓\n",
              "┃\u001b[1m \u001b[0m\u001b[1mLayer (type)                        \u001b[0m\u001b[1m \u001b[0m┃\u001b[1m \u001b[0m\u001b[1mOutput Shape               \u001b[0m\u001b[1m \u001b[0m┃\u001b[1m \u001b[0m\u001b[1m        Param #\u001b[0m\u001b[1m \u001b[0m┃\n",
              "┡━━━━━━━━━━━━━━━━━━━━━━━━━━━━━━━━━━━━━━╇━━━━━━━━━━━━━━━━━━━━━━━━━━━━━╇━━━━━━━━━━━━━━━━━┩\n",
              "│ embedding (\u001b[38;5;33mEmbedding\u001b[0m)                │ ?                           │     \u001b[38;5;34m0\u001b[0m (unbuilt) │\n",
              "├──────────────────────────────────────┼─────────────────────────────┼─────────────────┤\n",
              "│ lstm (\u001b[38;5;33mLSTM\u001b[0m)                          │ ?                           │     \u001b[38;5;34m0\u001b[0m (unbuilt) │\n",
              "├──────────────────────────────────────┼─────────────────────────────┼─────────────────┤\n",
              "│ dense (\u001b[38;5;33mDense\u001b[0m)                        │ ?                           │     \u001b[38;5;34m0\u001b[0m (unbuilt) │\n",
              "└──────────────────────────────────────┴─────────────────────────────┴─────────────────┘\n"
            ],
            "text/html": [
              "<pre style=\"white-space:pre;overflow-x:auto;line-height:normal;font-family:Menlo,'DejaVu Sans Mono',consolas,'Courier New',monospace\">┏━━━━━━━━━━━━━━━━━━━━━━━━━━━━━━━━━━━━━━┳━━━━━━━━━━━━━━━━━━━━━━━━━━━━━┳━━━━━━━━━━━━━━━━━┓\n",
              "┃<span style=\"font-weight: bold\"> Layer (type)                         </span>┃<span style=\"font-weight: bold\"> Output Shape                </span>┃<span style=\"font-weight: bold\">         Param # </span>┃\n",
              "┡━━━━━━━━━━━━━━━━━━━━━━━━━━━━━━━━━━━━━━╇━━━━━━━━━━━━━━━━━━━━━━━━━━━━━╇━━━━━━━━━━━━━━━━━┩\n",
              "│ embedding (<span style=\"color: #0087ff; text-decoration-color: #0087ff\">Embedding</span>)                │ ?                           │     <span style=\"color: #00af00; text-decoration-color: #00af00\">0</span> (unbuilt) │\n",
              "├──────────────────────────────────────┼─────────────────────────────┼─────────────────┤\n",
              "│ lstm (<span style=\"color: #0087ff; text-decoration-color: #0087ff\">LSTM</span>)                          │ ?                           │     <span style=\"color: #00af00; text-decoration-color: #00af00\">0</span> (unbuilt) │\n",
              "├──────────────────────────────────────┼─────────────────────────────┼─────────────────┤\n",
              "│ dense (<span style=\"color: #0087ff; text-decoration-color: #0087ff\">Dense</span>)                        │ ?                           │     <span style=\"color: #00af00; text-decoration-color: #00af00\">0</span> (unbuilt) │\n",
              "└──────────────────────────────────────┴─────────────────────────────┴─────────────────┘\n",
              "</pre>\n"
            ]
          },
          "metadata": {}
        },
        {
          "output_type": "display_data",
          "data": {
            "text/plain": [
              "\u001b[1m Total params: \u001b[0m\u001b[38;5;34m0\u001b[0m (0.00 B)\n"
            ],
            "text/html": [
              "<pre style=\"white-space:pre;overflow-x:auto;line-height:normal;font-family:Menlo,'DejaVu Sans Mono',consolas,'Courier New',monospace\"><span style=\"font-weight: bold\"> Total params: </span><span style=\"color: #00af00; text-decoration-color: #00af00\">0</span> (0.00 B)\n",
              "</pre>\n"
            ]
          },
          "metadata": {}
        },
        {
          "output_type": "display_data",
          "data": {
            "text/plain": [
              "\u001b[1m Trainable params: \u001b[0m\u001b[38;5;34m0\u001b[0m (0.00 B)\n"
            ],
            "text/html": [
              "<pre style=\"white-space:pre;overflow-x:auto;line-height:normal;font-family:Menlo,'DejaVu Sans Mono',consolas,'Courier New',monospace\"><span style=\"font-weight: bold\"> Trainable params: </span><span style=\"color: #00af00; text-decoration-color: #00af00\">0</span> (0.00 B)\n",
              "</pre>\n"
            ]
          },
          "metadata": {}
        },
        {
          "output_type": "display_data",
          "data": {
            "text/plain": [
              "\u001b[1m Non-trainable params: \u001b[0m\u001b[38;5;34m0\u001b[0m (0.00 B)\n"
            ],
            "text/html": [
              "<pre style=\"white-space:pre;overflow-x:auto;line-height:normal;font-family:Menlo,'DejaVu Sans Mono',consolas,'Courier New',monospace\"><span style=\"font-weight: bold\"> Non-trainable params: </span><span style=\"color: #00af00; text-decoration-color: #00af00\">0</span> (0.00 B)\n",
              "</pre>\n"
            ]
          },
          "metadata": {}
        }
      ],
      "source": [
        "from keras.models import Sequential\n",
        "from keras.layers import Embedding, LSTM, Dense\n",
        "\n",
        "model = Sequential([\n",
        "    Embedding(input_dim=VOCAB_SIZE, output_dim=100, input_length=SEQ_LENGTH),  # Embedding size = 100\n",
        "    LSTM(150, return_sequences=False),  # 150 units in LSTM\n",
        "    Dense(VOCAB_SIZE, activation=\"softmax\")\n",
        "])\n",
        "\n",
        "# Check if the model has layers before trying to print the summary\n",
        "if len(model.layers) > 0:\n",
        "    model.summary()\n",
        "else:\n",
        "    print(\"No layers have been added to the model. Please complete the assignment by adding the required layers.\")"
      ]
    },
    {
      "cell_type": "markdown",
      "id": "2fafd2dbb0d589fc",
      "metadata": {
        "collapsed": false,
        "id": "2fafd2dbb0d589fc"
      },
      "source": [
        "## 2.2 Model Compilation\n",
        "\n",
        "Compile the model with an appropriate loss function and optimizer. You might also want to track additional metrics, such as accuracy.\n",
        "\n",
        "Give a short explanation of your choice of loss function and optimizer:\n",
        "\n",
        "For loss function, I chose categorical crossentropy. As this is a multi-class problem, categorical crossentropy measures the distance between the predicted probability distribution (output of the softmax layer) and the true target, encouring the model to assign a higher probability to the correct class.\n",
        "\n",
        "I chose Adam for the optimizer because it is an adaptive optimizer that adjusts the learning rate during training and is known to be appropriate for\n",
        " RNNs like LSTMs."
      ]
    },
    {
      "cell_type": "code",
      "execution_count": 42,
      "id": "ae4ca7a12051b1fd",
      "metadata": {
        "id": "ae4ca7a12051b1fd"
      },
      "outputs": [],
      "source": [
        "# Compile the model\n",
        "model.compile(\n",
        "    loss=\"categorical_crossentropy\",  # Loss function\n",
        "    optimizer=\"adam\",                # Optimizer\n",
        "    metrics=[\"accuracy\"]             # Metric to track\n",
        ")\n"
      ]
    },
    {
      "cell_type": "markdown",
      "id": "c2f0b90a448c4f4b",
      "metadata": {
        "collapsed": false,
        "id": "c2f0b90a448c4f4b"
      },
      "source": [
        "## 2.3 Model Training\n",
        "\n",
        "Train the model on the training data you've prepared.\n",
        "\n",
        "* Train your model for 5 epochs with a batch size of 128. Use the validation data for validation.\n",
        "* Store the training history in a variable called `history`."
      ]
    },
    {
      "cell_type": "code",
      "execution_count": 43,
      "id": "256b1ea138c67ef7",
      "metadata": {
        "colab": {
          "base_uri": "https://localhost:8080/"
        },
        "id": "256b1ea138c67ef7",
        "outputId": "1364077d-4419-43e3-f760-9ef0ddfdb1d4"
      },
      "outputs": [
        {
          "output_type": "stream",
          "name": "stdout",
          "text": [
            "Epoch 1/5\n",
            "\u001b[1m209/209\u001b[0m \u001b[32m━━━━━━━━━━━━━━━━━━━━\u001b[0m\u001b[37m\u001b[0m \u001b[1m8s\u001b[0m 14ms/step - accuracy: 0.0337 - loss: 7.3879 - val_accuracy: 0.0384 - val_loss: 6.7530\n",
            "Epoch 2/5\n",
            "\u001b[1m209/209\u001b[0m \u001b[32m━━━━━━━━━━━━━━━━━━━━\u001b[0m\u001b[37m\u001b[0m \u001b[1m2s\u001b[0m 11ms/step - accuracy: 0.0468 - loss: 6.5032 - val_accuracy: 0.0500 - val_loss: 6.7798\n",
            "Epoch 3/5\n",
            "\u001b[1m209/209\u001b[0m \u001b[32m━━━━━━━━━━━━━━━━━━━━\u001b[0m\u001b[37m\u001b[0m \u001b[1m3s\u001b[0m 11ms/step - accuracy: 0.0544 - loss: 6.3702 - val_accuracy: 0.0529 - val_loss: 6.7616\n",
            "Epoch 4/5\n",
            "\u001b[1m209/209\u001b[0m \u001b[32m━━━━━━━━━━━━━━━━━━━━\u001b[0m\u001b[37m\u001b[0m \u001b[1m3s\u001b[0m 13ms/step - accuracy: 0.0613 - loss: 6.2171 - val_accuracy: 0.0595 - val_loss: 6.7080\n",
            "Epoch 5/5\n",
            "\u001b[1m209/209\u001b[0m \u001b[32m━━━━━━━━━━━━━━━━━━━━\u001b[0m\u001b[37m\u001b[0m \u001b[1m5s\u001b[0m 11ms/step - accuracy: 0.0759 - loss: 6.0868 - val_accuracy: 0.0694 - val_loss: 6.6982\n"
          ]
        }
      ],
      "source": [
        "# Train the model\n",
        "history = model.fit(\n",
        "    X_train, y_train,\n",
        "    epochs=5,\n",
        "    batch_size=128,\n",
        "    validation_data=(X_val, y_val)\n",
        ")\n"
      ]
    },
    {
      "cell_type": "markdown",
      "id": "195c59bf80d2a2c4",
      "metadata": {
        "collapsed": false,
        "id": "195c59bf80d2a2c4"
      },
      "source": [
        "Plot the training history to visualize the model's learning progress. Your plot should include the training and validation loss."
      ]
    },
    {
      "cell_type": "code",
      "execution_count": 44,
      "id": "9e8cacec70d8f313",
      "metadata": {
        "id": "9e8cacec70d8f313",
        "colab": {
          "base_uri": "https://localhost:8080/",
          "height": 564
        },
        "outputId": "ccab37f3-e087-46bd-b542-17bef3da207c"
      },
      "outputs": [
        {
          "output_type": "display_data",
          "data": {
            "text/plain": [
              "<Figure size 800x600 with 1 Axes>"
            ],
            "image/png": "[encoded data removed]"
          },
          "metadata": {}
        }
      ],
      "source": [
        "import matplotlib.pyplot as plt\n",
        "\n",
        "plt.figure(figsize=(8, 6))\n",
        "plt.plot(history.history['loss'], label='Training Loss')\n",
        "plt.plot(history.history['val_loss'], label='Validation Loss')\n",
        "plt.xlabel('Epochs')\n",
        "plt.ylabel('Loss')\n",
        "plt.title('Training vs Validation Loss')\n",
        "plt.legend()\n",
        "plt.grid(True)\n",
        "plt.show()\n"
      ]
    },
    {
      "cell_type": "markdown",
      "id": "3d9ed71305787aed",
      "metadata": {
        "collapsed": false,
        "id": "3d9ed71305787aed"
      },
      "source": [
        "# 3. Text Generation (Complete or Incomplete)\n",
        "\n",
        "Write a method called `generate_text` that uses the trained model to generate new text. The method should take the following parameters:\n",
        "\n",
        "*   `model`: The trained RNN model.\n",
        "*   `tokenizer`: The tokenizer used to pre-process the text data.\n",
        "*   `seed_text`: The seed text the model will use to generate new text.\n",
        "*   `max_sequence_len`: The maximum length of the sequence used to generate new text.\n",
        "\n",
        "The method should return the generated text.\n",
        "\n",
        "An overview of the text generation process you should follow:\n",
        "\n",
        "1. Tokenize the seed text using the tokenizer we built before.\n",
        "2. Pad the sequences to the same length as the training sequences - you can use the `pad_sequences` method from the `keras.preprocessing.sequence` module, which is documented [here](https://www.tensorflow.org/api_docs/python/tf/keras/preprocessing/sequence/pad_sequences).\n",
        "3. Use the model to predict the next token in the sequence. Remember that the model will output a probability distribution over the vocabulary, so you'll need to use `np.argmax` to find the token with the highest probability.\n",
        "4. Add the predicted token to the sequence and remove the first token.\n",
        "5. Repeat steps 3-4 until you have generated the desired number of tokens.\n",
        "6. Convert the generated token IDs back to words and return the combined result as a single string.\n",
        "\n",
        "This is a challenging task, so don't hesitate to ask for help if you need it. It's okay if the generated text doesn't make much sense yet - we'll work on improving the model next.\n",
        "As a bonus, you can make your method generate \"gpt-style\" by having it print out each word as it's generated, so you can see the text being generated in real time."
      ]
    },
    {
      "cell_type": "code",
      "execution_count": 52,
      "id": "d73dbf278a1265ef",
      "metadata": {
        "id": "d73dbf278a1265ef"
      },
      "outputs": [],
      "source": [
        "from keras.preprocessing.sequence import pad_sequences\n",
        "import numpy as np\n",
        "\n",
        "def get_predicted_word(model, sequence):\n",
        "    \"\"\"\n",
        "    Get the predicted word from the model.\n",
        "    This helper function uses a concept we haven't covered in class yet: temperature.\n",
        "    In essence, a little bit of randomness in what word we predict can make the text more interesting.\n",
        "    \"\"\"\n",
        "\n",
        "    # Use the model to predict the next token in the sequence\n",
        "    yhat = model.predict(sequence, verbose=0)\n",
        "\n",
        "    # Get the index of the predicted word, according to the probabilities\n",
        "    yhat = np.random.choice(range(VOCAB_SIZE), p=yhat.ravel())\n",
        "\n",
        "    return yhat\n",
        "\n",
        "def generate_text(model, tokenizer, seed_text, max_sequence_len):\n",
        "    \"\"\"\n",
        "    Generate new text using the trained model.\n",
        "    You can use the `get_predicted_word` helper function to help you with this.\n",
        "    \"\"\"\n",
        "\n",
        "    input_text = seed_text\n",
        "    result = []\n",
        "\n",
        "    for _ in range(50):\n",
        "\n",
        "        tokenized_sequence = tokenizer.texts_to_sequences([input_text])[0]\n",
        "\n",
        "\n",
        "        padded_sequence = pad_sequences([tokenized_sequence], maxlen=max_sequence_len, truncating='pre')\n",
        "\n",
        "\n",
        "        predicted_index = get_predicted_word(model, padded_sequence)\n",
        "\n",
        "\n",
        "        predicted_word = tokenizer.index_word.get(predicted_index, \"<OOV>\")\n",
        "\n",
        "\n",
        "        result.append(predicted_word)\n",
        "\n",
        "        input_text += \" \" + predicted_word\n",
        "\n",
        "\n",
        "    generated_text = \" \".join(result)\n",
        "    return generated_text\n"
      ]
    },
    {
      "cell_type": "code",
      "execution_count": 53,
      "id": "f463b0c3df49e2c",
      "metadata": {
        "colab": {
          "base_uri": "https://localhost:8080/",
          "height": 53
        },
        "id": "f463b0c3df49e2c",
        "outputId": "8099d25d-2100-481d-bd9b-0823eb773b97"
      },
      "outputs": [
        {
          "output_type": "execute_result",
          "data": {
            "text/plain": [
              "\"every avouch whose messengers mercy of 34 or tinct that them when look let she offence this said of an secrecy brief consequences out pol exeunt new expend him sent thou r footnote i admiration i affliction thus upon the can 29 the dislike o them till you 'twere footnote\""
            ],
            "application/vnd.google.colaboratory.intrinsic+json": {
              "type": "string"
            }
          },
          "metadata": {},
          "execution_count": 53
        }
      ],
      "source": [
        "# Test the text generation function\n",
        "generate_text(model, tokenizer, 'hamlet', SEQ_LENGTH)"
      ]
    },
    {
      "cell_type": "markdown",
      "id": "5871d836a0135c41",
      "metadata": {
        "collapsed": false,
        "id": "5871d836a0135c41"
      },
      "source": [
        "It's likely that the text generated by your model doesn't make much sense yet. This is because the model hasn't been trained for very long, and the training dataset is relatively small.\n",
        "\n",
        "# 4. Model Refinement (Complete or Incomplete)\n",
        "\n",
        "In this last section, you'll work on improving your model. There are many ways to do this, but here are a few ideas to get you started:\n",
        "\n",
        "* Use pre-trained embeddings: the code below will help you to load pre-trained embeddings through Keras.\n",
        "* Experiment with different model architectures, including the number of layers, the number of units in each layer, and the use of dropout layers.\n",
        "* Train your model for longer. You can also experiment with different batch sizes.\n",
        "\n",
        "Implement and test out at least one of these ideas. If you have other ideas for improving the model, feel free to try them out as well."
      ]
    },
    {
      "cell_type": "code",
      "execution_count": 54,
      "id": "dda8b0f845c20862",
      "metadata": {
        "colab": {
          "base_uri": "https://localhost:8080/"
        },
        "id": "dda8b0f845c20862",
        "outputId": "f7e7dd91-41d5-4491-80e7-50ad0a465fa3"
      },
      "outputs": [
        {
          "output_type": "stream",
          "name": "stdout",
          "text": [
            "--2024-12-03 02:45:03--  https://downloads.cs.stanford.edu/nlp/data/glove.6B.zip\n",
            "Resolving downloads.cs.stanford.edu (downloads.cs.stanford.edu)... 171.64.64.22\n",
            "Connecting to downloads.cs.stanford.edu (downloads.cs.stanford.edu)|171.64.64.22|:443... connected.\n",
            "HTTP request sent, awaiting response... 200 OK\n",
            "Length: 862182613 (822M) [application/zip]\n",
            "Saving to: ‘glove.6B.zip’\n",
            "\n",
            "glove.6B.zip        100%[===================>] 822.24M  5.00MB/s    in 2m 39s  \n",
            "\n",
            "2024-12-03 02:47:42 (5.18 MB/s) - ‘glove.6B.zip’ saved [862182613/862182613]\n",
            "\n",
            "Archive:  glove.6B.zip\n",
            "  inflating: glove.6B.50d.txt        \n",
            "  inflating: glove.6B.100d.txt       \n",
            "  inflating: glove.6B.200d.txt       \n",
            "  inflating: glove.6B.300d.txt       \n"
          ]
        }
      ],
      "source": [
        "!wget https://downloads.cs.stanford.edu/nlp/data/glove.6B.zip\n",
        "!unzip glove.6B.zip"
      ]
    },
    {
      "cell_type": "code",
      "execution_count": 55,
      "id": "e8b777220505635",
      "metadata": {
        "colab": {
          "base_uri": "https://localhost:8080/"
        },
        "id": "e8b777220505635",
        "outputId": "4dff82d1-586a-4e5d-b1d8-7816184c4f01"
      },
      "outputs": [
        {
          "output_type": "stream",
          "name": "stdout",
          "text": [
            "Found 400000 word vectors.\n"
          ]
        }
      ],
      "source": [
        "# Load the pre-trained embeddings\n",
        "embeddings_index = {}\n",
        "try:\n",
        "    with open('glove.6B.100d.txt', encoding='utf-8') as f:\n",
        "        for line in f:\n",
        "            values = line.split()\n",
        "            word = values[0]\n",
        "            coefs = np.asarray(values[1:], dtype='float32')\n",
        "            embeddings_index[word] = coefs\n",
        "    print(f'Found {len(embeddings_index)} word vectors.')\n",
        "except FileNotFoundError:\n",
        "    print(\"'glove.6B.100d.txt' File not found. Please make sure you have ran the previous cell.\")"
      ]
    },
    {
      "cell_type": "code",
      "execution_count": 57,
      "id": "d3e48ff004757cf2",
      "metadata": {
        "id": "d3e48ff004757cf2"
      },
      "outputs": [],
      "source": [
        "# Check if VOCAB_SIZE is set\n",
        "if VOCAB_SIZE is None:\n",
        "    print(\"You need to complete the previous parts of your assignment in order for this to work.\")\n",
        "else:\n",
        "    # Create an embedding matrix\n",
        "    embedding_matrix = np.zeros((VOCAB_SIZE, 100))\n",
        "    for word, i in tokenizer.word_index.items():\n",
        "        if i < VOCAB_SIZE:\n",
        "            embedding_vector = embeddings_index.get(word)\n",
        "            if embedding_vector is not None:\n",
        "                embedding_matrix[i] = embedding_vector"
      ]
    },
    {
      "cell_type": "code",
      "execution_count": 58,
      "id": "e3d21d5dbbbcf9f9",
      "metadata": {
        "colab": {
          "base_uri": "https://localhost:8080/"
        },
        "id": "e3d21d5dbbbcf9f9",
        "outputId": "e43a34d9-9494-4245-cffa-aa33957fa3fd"
      },
      "outputs": [
        {
          "output_type": "stream",
          "name": "stderr",
          "text": [
            "/usr/local/lib/python3.10/dist-packages/keras/src/layers/core/embedding.py:90: UserWarning: Argument `input_length` is deprecated. Just remove it.\n",
            "  warnings.warn(\n"
          ]
        }
      ],
      "source": [
        "# Check if VOCAB_SIZE is set\n",
        "if VOCAB_SIZE is None:\n",
        "    print(\"You need to complete the previous parts of your assignment in order for this to work.\")\n",
        "else:\n",
        "    embedding_layer = Embedding(\n",
        "        VOCAB_SIZE, 100, weights=[embedding_matrix], input_length=SEQ_LENGTH, trainable=False\n",
        "    )"
      ]
    },
    {
      "cell_type": "code",
      "execution_count": 59,
      "id": "236cb723e4e5b3fc",
      "metadata": {
        "colab": {
          "base_uri": "https://localhost:8080/",
          "height": 272
        },
        "id": "236cb723e4e5b3fc",
        "outputId": "1467c5b2-fe58-438e-fcfc-7d5d66890f1b"
      },
      "outputs": [
        {
          "output_type": "display_data",
          "data": {
            "text/plain": [
              "\u001b[1mModel: \"sequential_1\"\u001b[0m\n"
            ],
            "text/html": [
              "<pre style=\"white-space:pre;overflow-x:auto;line-height:normal;font-family:Menlo,'DejaVu Sans Mono',consolas,'Courier New',monospace\"><span style=\"font-weight: bold\">Model: \"sequential_1\"</span>\n",
              "</pre>\n"
            ]
          },
          "metadata": {}
        },
        {
          "output_type": "display_data",
          "data": {
            "text/plain": [
              "┏━━━━━━━━━━━━━━━━━━━━━━━━━━━━━━━━━━━━━━┳━━━━━━━━━━━━━━━━━━━━━━━━━━━━━┳━━━━━━━━━━━━━━━━━┓\n",
              "┃\u001b[1m \u001b[0m\u001b[1mLayer (type)                        \u001b[0m\u001b[1m \u001b[0m┃\u001b[1m \u001b[0m\u001b[1mOutput Shape               \u001b[0m\u001b[1m \u001b[0m┃\u001b[1m \u001b[0m\u001b[1m        Param #\u001b[0m\u001b[1m \u001b[0m┃\n",
              "┡━━━━━━━━━━━━━━━━━━━━━━━━━━━━━━━━━━━━━━╇━━━━━━━━━━━━━━━━━━━━━━━━━━━━━╇━━━━━━━━━━━━━━━━━┩\n",
              "│ embedding_2 (\u001b[38;5;33mEmbedding\u001b[0m)              │ ?                           │         \u001b[38;5;34m500,000\u001b[0m │\n",
              "├──────────────────────────────────────┼─────────────────────────────┼─────────────────┤\n",
              "│ lstm_1 (\u001b[38;5;33mLSTM\u001b[0m)                        │ ?                           │     \u001b[38;5;34m0\u001b[0m (unbuilt) │\n",
              "├──────────────────────────────────────┼─────────────────────────────┼─────────────────┤\n",
              "│ dropout (\u001b[38;5;33mDropout\u001b[0m)                    │ ?                           │     \u001b[38;5;34m0\u001b[0m (unbuilt) │\n",
              "├──────────────────────────────────────┼─────────────────────────────┼─────────────────┤\n",
              "│ dense_1 (\u001b[38;5;33mDense\u001b[0m)                      │ ?                           │     \u001b[38;5;34m0\u001b[0m (unbuilt) │\n",
              "└──────────────────────────────────────┴─────────────────────────────┴─────────────────┘\n"
            ],
            "text/html": [
              "<pre style=\"white-space:pre;overflow-x:auto;line-height:normal;font-family:Menlo,'DejaVu Sans Mono',consolas,'Courier New',monospace\">┏━━━━━━━━━━━━━━━━━━━━━━━━━━━━━━━━━━━━━━┳━━━━━━━━━━━━━━━━━━━━━━━━━━━━━┳━━━━━━━━━━━━━━━━━┓\n",
              "┃<span style=\"font-weight: bold\"> Layer (type)                         </span>┃<span style=\"font-weight: bold\"> Output Shape                </span>┃<span style=\"font-weight: bold\">         Param # </span>┃\n",
              "┡━━━━━━━━━━━━━━━━━━━━━━━━━━━━━━━━━━━━━━╇━━━━━━━━━━━━━━━━━━━━━━━━━━━━━╇━━━━━━━━━━━━━━━━━┩\n",
              "│ embedding_2 (<span style=\"color: #0087ff; text-decoration-color: #0087ff\">Embedding</span>)              │ ?                           │         <span style=\"color: #00af00; text-decoration-color: #00af00\">500,000</span> │\n",
              "├──────────────────────────────────────┼─────────────────────────────┼─────────────────┤\n",
              "│ lstm_1 (<span style=\"color: #0087ff; text-decoration-color: #0087ff\">LSTM</span>)                        │ ?                           │     <span style=\"color: #00af00; text-decoration-color: #00af00\">0</span> (unbuilt) │\n",
              "├──────────────────────────────────────┼─────────────────────────────┼─────────────────┤\n",
              "│ dropout (<span style=\"color: #0087ff; text-decoration-color: #0087ff\">Dropout</span>)                    │ ?                           │     <span style=\"color: #00af00; text-decoration-color: #00af00\">0</span> (unbuilt) │\n",
              "├──────────────────────────────────────┼─────────────────────────────┼─────────────────┤\n",
              "│ dense_1 (<span style=\"color: #0087ff; text-decoration-color: #0087ff\">Dense</span>)                      │ ?                           │     <span style=\"color: #00af00; text-decoration-color: #00af00\">0</span> (unbuilt) │\n",
              "└──────────────────────────────────────┴─────────────────────────────┴─────────────────┘\n",
              "</pre>\n"
            ]
          },
          "metadata": {}
        },
        {
          "output_type": "display_data",
          "data": {
            "text/plain": [
              "\u001b[1m Total params: \u001b[0m\u001b[38;5;34m500,000\u001b[0m (1.91 MB)\n"
            ],
            "text/html": [
              "<pre style=\"white-space:pre;overflow-x:auto;line-height:normal;font-family:Menlo,'DejaVu Sans Mono',consolas,'Courier New',monospace\"><span style=\"font-weight: bold\"> Total params: </span><span style=\"color: #00af00; text-decoration-color: #00af00\">500,000</span> (1.91 MB)\n",
              "</pre>\n"
            ]
          },
          "metadata": {}
        },
        {
          "output_type": "display_data",
          "data": {
            "text/plain": [
              "\u001b[1m Trainable params: \u001b[0m\u001b[38;5;34m0\u001b[0m (0.00 B)\n"
            ],
            "text/html": [
              "<pre style=\"white-space:pre;overflow-x:auto;line-height:normal;font-family:Menlo,'DejaVu Sans Mono',consolas,'Courier New',monospace\"><span style=\"font-weight: bold\"> Trainable params: </span><span style=\"color: #00af00; text-decoration-color: #00af00\">0</span> (0.00 B)\n",
              "</pre>\n"
            ]
          },
          "metadata": {}
        },
        {
          "output_type": "display_data",
          "data": {
            "text/plain": [
              "\u001b[1m Non-trainable params: \u001b[0m\u001b[38;5;34m500,000\u001b[0m (1.91 MB)\n"
            ],
            "text/html": [
              "<pre style=\"white-space:pre;overflow-x:auto;line-height:normal;font-family:Menlo,'DejaVu Sans Mono',consolas,'Courier New',monospace\"><span style=\"font-weight: bold\"> Non-trainable params: </span><span style=\"color: #00af00; text-decoration-color: #00af00\">500,000</span> (1.91 MB)\n",
              "</pre>\n"
            ]
          },
          "metadata": {}
        }
      ],
      "source": [
        "# Define a new model and train it\n",
        "\n",
        "from keras.models import Sequential\n",
        "from keras.layers import Embedding, LSTM, Dense, Dropout\n",
        "\n",
        "if VOCAB_SIZE is not None:\n",
        "    refined_model = Sequential([\n",
        "        # Pre-trained embedding layer\n",
        "        Embedding(input_dim=VOCAB_SIZE, output_dim=100, weights=[embedding_matrix],\n",
        "                  input_length=SEQ_LENGTH, trainable=False),\n",
        "\n",
        "        # LSTM layer\n",
        "        LSTM(150, return_sequences=False),\n",
        "\n",
        "        # Dropout for regularization\n",
        "        Dropout(0.2),\n",
        "\n",
        "        # Dense layer with softmax activation\n",
        "        Dense(VOCAB_SIZE, activation='softmax')\n",
        "    ])\n",
        "\n",
        "    # Compile the model\n",
        "    refined_model.compile(\n",
        "        loss=\"categorical_crossentropy\",\n",
        "        optimizer=\"adam\",\n",
        "        metrics=[\"accuracy\"]\n",
        "    )\n",
        "\n",
        "    # Print model summary\n",
        "    refined_model.summary()\n",
        "else:\n",
        "    print(\"You need to complete the embedding matrix and VOCAB_SIZE before proceeding.\")\n"
      ]
    },
    {
      "cell_type": "code",
      "source": [
        "if VOCAB_SIZE is not None:\n",
        "    # Train the model\n",
        "    history_refined = refined_model.fit(\n",
        "        X_train, y_train,\n",
        "        epochs=5,  # You can increase this number to improve results\n",
        "        batch_size=128,\n",
        "        validation_data=(X_val, y_val)\n",
        "    )\n",
        "\n",
        "    # Plot training progress\n",
        "    import matplotlib.pyplot as plt\n",
        "\n",
        "    plt.figure(figsize=(8, 6))\n",
        "    plt.plot(history_refined.history['loss'], label='Training Loss')\n",
        "    plt.plot(history_refined.history['val_loss'], label='Validation Loss')\n",
        "    plt.xlabel('Epochs')\n",
        "    plt.ylabel('Loss')\n",
        "    plt.title('Training vs Validation Loss (Refined Model)')\n",
        "    plt.legend()\n",
        "    plt.grid(True)\n",
        "    plt.show()\n",
        "else:\n",
        "    print(\"You need to complete the embedding matrix and VOCAB_SIZE before proceeding.\")\n"
      ],
      "metadata": {
        "colab": {
          "base_uri": "https://localhost:8080/",
          "height": 738
        },
        "id": "jcyo5pJfeRs0",
        "outputId": "0c12e4ca-64c9-4551-a378-db5af72d6f63"
      },
      "id": "jcyo5pJfeRs0",
      "execution_count": 60,
      "outputs": [
        {
          "output_type": "stream",
          "name": "stdout",
          "text": [
            "Epoch 1/5\n",
            "\u001b[1m209/209\u001b[0m \u001b[32m━━━━━━━━━━━━━━━━━━━━\u001b[0m\u001b[37m\u001b[0m \u001b[1m7s\u001b[0m 15ms/step - accuracy: 0.0341 - loss: 7.2590 - val_accuracy: 0.0385 - val_loss: 6.7357\n",
            "Epoch 2/5\n",
            "\u001b[1m209/209\u001b[0m \u001b[32m━━━━━━━━━━━━━━━━━━━━\u001b[0m\u001b[37m\u001b[0m \u001b[1m3s\u001b[0m 11ms/step - accuracy: 0.0451 - loss: 6.5174 - val_accuracy: 0.0514 - val_loss: 6.7015\n",
            "Epoch 3/5\n",
            "\u001b[1m209/209\u001b[0m \u001b[32m━━━━━━━━━━━━━━━━━━━━\u001b[0m\u001b[37m\u001b[0m \u001b[1m2s\u001b[0m 11ms/step - accuracy: 0.0605 - loss: 6.3726 - val_accuracy: 0.0682 - val_loss: 6.6514\n",
            "Epoch 4/5\n",
            "\u001b[1m209/209\u001b[0m \u001b[32m━━━━━━━━━━━━━━━━━━━━\u001b[0m\u001b[37m\u001b[0m \u001b[1m3s\u001b[0m 11ms/step - accuracy: 0.0728 - loss: 6.2332 - val_accuracy: 0.0706 - val_loss: 6.5874\n",
            "Epoch 5/5\n",
            "\u001b[1m209/209\u001b[0m \u001b[32m━━━━━━━━━━━━━━━━━━━━\u001b[0m\u001b[37m\u001b[0m \u001b[1m3s\u001b[0m 13ms/step - accuracy: 0.0766 - loss: 6.1059 - val_accuracy: 0.0749 - val_loss: 6.5457\n"
          ]
        },
        {
          "output_type": "display_data",
          "data": {
            "text/plain": [
              "<Figure size 800x600 with 1 Axes>"
            ],
            "image/png": "[encoded data removed]"
          },
          "metadata": {}
        }
      ]
    },
    {
      "cell_type": "markdown",
      "id": "742095fb",
      "metadata": {
        "id": "742095fb"
      },
      "source": [
        "## Criteria\n",
        "\n",
        "|Criteria|Complete|Incomplete|\n",
        "|----|----|----|\n",
        "|Task 1|The task has been completed successfully and there are no errors.|The task is still incomplete and there is at least one error.|\n",
        "|Task 2|The task has been completed successfully and there are no errors.|The task is still incomplete and there is at least one error.|\n",
        "|Task 3|The task has been completed successfully and there are no errors.|The task is still incomplete and there is at least one error.|\n",
        "|Task 4|The task has been completed successfully and there are no errors.|The task is still incomplete and there is at least one error.|"
      ]
    },
    {
      "cell_type": "markdown",
      "id": "1990e2d2",
      "metadata": {
        "id": "1990e2d2"
      },
      "source": [
        "## Submission Information\n",
        "\n",
        "🚨**Please review our [Assignment Submission Guide](https://github.com/UofT-DSI/onboarding/blob/main/onboarding_documents/submissions.md)**🚨 for detailed instructions on how to format, branch, and submit your work. Following these guidelines is crucial for your submissions to be evaluated correctly.\n",
        "\n",
        "### Submission Parameters:\n",
        "* Submission Due Date: `HH:MM AM/PM - DD/MM/YYYY`\n",
        "* The branch name for your repo should be: `assignment-2`\n",
        "* What to submit for this assignment:\n",
        "    * This Jupyter Notebook (assignment_2.ipynb) should be populated and should be the only change in your pull request.\n",
        "* What the pull request link should look like for this assignment: `https://github.com/<your_github_username>/deep_learning/pull/<pr_id>`\n",
        "    * Open a private window in your browser. Copy and paste the link to your pull request into the address bar. Make sure you can see your pull request properly. This helps the technical facilitator and learning support staff review your submission easily.\n",
        "\n",
        "Checklist:\n",
        "- [ ] Created a branch with the correct naming convention.\n",
        "- [ ] Ensured that the repository is public.\n",
        "- [ ] Reviewed the PR description guidelines and adhered to them.\n",
        "- [ ] Verify that the link is accessible in a private browser window.\n",
        "\n",
        "If you encounter any difficulties or have questions, please don't hesitate to reach out to our team via our Slack at `#cohort-3-help`. Our Technical Facilitators and Learning Support staff are here to help you navigate any challenges."
      ]
    }
  ],
  "metadata": {
    "accelerator": "GPU",
    "colab": {
      "gpuType": "T4",
      "provenance": []
    },
    "kernelspec": {
      "display_name": "Python 3 (ipykernel)",
      "language": "python",
      "name": "python3"
    },
    "language_info": {
      "codemirror_mode": {
        "name": "ipython",
        "version": 3
      },
      "file_extension": ".py",
      "mimetype": "text/x-python",
      "name": "python",
      "nbconvert_exporter": "python",
      "pygments_lexer": "ipython3",
      "version": "3.9.19"
    }
  },
  "nbformat": 4,
  "nbformat_minor": 5
}