{
 "cells": [
  {
   "cell_type": "markdown",
   "id": "ba8ab56f",
   "metadata": {
    "id": "ba8ab56f"
   },
   "source": [
    "# Advanced Image Classification with ImageNet"
   ]
  },
  {
   "cell_type": "markdown",
   "id": "7c630244b8fe2847",
   "metadata": {
    "collapsed": false,
    "id": "7c630244b8fe2847"
   },
   "source": [
    "In this assignment, you will be asked to develop a convolutional neural network (CNN) to classify images from the CIFAR-100 dataset. At each step, you'll be guided through the process of developing a model architecture to solve a problem. Your goal is to create a CNN that attains at least 55% accuracy on the validation set.\n",
    "\n",
    "### The CIFAR-100 Dataset\n",
    "\n",
    "The [CIFAR-100 dataset](https://www.cs.toronto.edu/~kriz/cifar.html) consists of 60000 32x32 colour images in 100 classes, with 600 images per class. There are 50000 training images and 10000 test images. The dataset is divided into five training batches and one test batch, each with 10000 images. The test batch contains exactly 1000 randomly-selected images from each class. The training batches contain the remaining images in random order, but some training batches may contain more images from one class than another. Between them, the training batches contain exactly 500 images from each class.\n",
    "\n",
    "### Tools\n",
    "\n",
    "You will use Keras with TensorFlow to develop your CNN. For this assignment, it's strongly recommended that you use a GPU to accelerate your training, or else you might find it difficult to train your network in a reasonable amount of time. If you have a computer with a GPU that you wish to use, you can follow the [TensorFlow instructions](https://www.tensorflow.org/install/) for installing TensorFlow with GPU support. Otherwise, you can use [Google Colab](https://colab.research.google.com/) to complete this assignment. Colab provides free access to GPU-enabled machines. If you run into any issues, please contact us as soon as possible so that we can help you resolve them."
   ]
  },
  {
   "cell_type": "markdown",
   "id": "fab62988ece1528d",
   "metadata": {
    "collapsed": false,
    "id": "fab62988ece1528d"
   },
   "source": [
    "## Task 1: Data Exploration and Preprocessing (Complete or Incomplete)\n",
    "### 1a: Load and Explore the Dataset\n",
    "- Use the code below to download the dataset.\n",
    "- Explore the dataset: examine the shape of the training and test sets, the dimensions of the images, and the number of classes. Show a few examples from the training set."
   ]
  },
  {
   "cell_type": "code",
   "execution_count": 1,
   "id": "8820fcdc5ae52ae2",
   "metadata": {
    "ExecuteTime": {
     "start_time": "2024-01-26T17:04:08.432758Z"
    },
    "colab": {
     "base_uri": "https://localhost:8080/"
    },
    "id": "8820fcdc5ae52ae2",
    "is_executing": true,
    "outputId": "1acd4733-8dca-4351-b602-7f7cad01df1b"
   },
   "outputs": [
    {
     "name": "stdout",
     "output_type": "stream",
     "text": [
      "Downloading data from https://www.cs.toronto.edu/~kriz/cifar-100-python.tar.gz\n",
      "\u001b[1m169001437/169001437\u001b[0m \u001b[32m━━━━━━━━━━━━━━━━━━━━\u001b[0m\u001b[37m\u001b[0m \u001b[1m12s\u001b[0m 0us/step\n"
     ]
    }
   ],
   "source": [
    "from keras.datasets import cifar100\n",
    "\n",
    "# Load the CIFAR-100 dataset\n",
    "(x_train, y_train), (x_test, y_test) = cifar100.load_data(label_mode='fine')"
   ]
  },
  {
   "cell_type": "code",
   "execution_count": 2,
   "id": "a386b4072078138f",
   "metadata": {
    "colab": {
     "base_uri": "https://localhost:8080/",
     "height": 261
    },
    "id": "a386b4072078138f",
    "outputId": "e8ca96b3-6b7e-442b-a31d-0b4833f9a263"
   },
   "outputs": [
    {
     "name": "stdout",
     "output_type": "stream",
     "text": [
      "Training data shape: (50000, 32, 32, 3)\n",
      "Training labels shape: (50000, 1)\n",
      "Test data shape: (10000, 32, 32, 3)\n",
      "Test labels shape: (10000, 1)\n"
     ]
    },
    {
     "data": {
      "image/png": "[encoded data removed]",
      "text/plain": [
       "<Figure size 1000x200 with 5 Axes>"
      ]
     },
     "metadata": {},
     "output_type": "display_data"
    }
   ],
   "source": [
    "# Explore the datasets and show a few examples\n",
    "\n",
    "import matplotlib.pyplot as plt\n",
    "\n",
    "print(f\"Training data shape: {x_train.shape}\")\n",
    "print(f\"Training labels shape: {y_train.shape}\")\n",
    "print(f\"Test data shape: {x_test.shape}\")\n",
    "print(f\"Test labels shape: {y_test.shape}\")\n",
    "\n",
    "# Display a few example images with their labels\n",
    "fig, axes = plt.subplots(1, 5, figsize=(10, 2))\n",
    "for i, ax in enumerate(axes):\n",
    "    ax.imshow(x_train[i])\n",
    "    ax.set_title(f\"Label: {y_train[i][0]}\")\n",
    "    ax.axis('off')\n",
    "plt.show()"
   ]
  },
  {
   "cell_type": "markdown",
   "id": "ad49291da3a819ea",
   "metadata": {
    "collapsed": false,
    "id": "ad49291da3a819ea"
   },
   "source": [
    "### 1b: Data Preprocessing (4 Marks)\n",
    "- With the data downloaded, it's time to preprocess it. Start by normalizing the images so that they all have pixel values in the range [0, 1].\n",
    "- Next, convert the labels to one-hot encoded vectors.\n",
    "- Finally, split the training set into training and validation sets. Use 80% of the training set for training and the remaining 20% for validation."
   ]
  },
  {
   "cell_type": "code",
   "execution_count": 3,
   "id": "b18c10172fa72d0c",
   "metadata": {
    "colab": {
     "base_uri": "https://localhost:8080/"
    },
    "id": "b18c10172fa72d0c",
    "outputId": "eff14099-c209-4176-9b3d-30961d4c4662"
   },
   "outputs": [
    {
     "name": "stdout",
     "output_type": "stream",
     "text": [
      "Training set size: 40000\n",
      "Validation set size: 10000\n"
     ]
    }
   ],
   "source": [
    "from keras.utils import to_categorical\n",
    "from sklearn.model_selection import train_test_split\n",
    "\n",
    "# Normalize the images\n",
    "x_train = x_train.astype('float32') / 255.0\n",
    "x_test = x_test.astype('float32') / 255.0\n",
    "\n",
    "# One-hot encode labels\n",
    "y_train = to_categorical(y_train, 100)\n",
    "y_test = to_categorical(y_test, 100)\n",
    "\n",
    "# Split the training set into training and validation sets\n",
    "x_train, x_val, y_train, y_val = train_test_split(x_train, y_train, test_size=0.2, random_state=42)\n",
    "\n",
    "print(f\"Training set size: {x_train.shape[0]}\")\n",
    "print(f\"Validation set size: {x_val.shape[0]}\")\n"
   ]
  },
  {
   "cell_type": "markdown",
   "id": "5993757f08c89db7",
   "metadata": {
    "collapsed": false,
    "id": "5993757f08c89db7"
   },
   "source": [
    "## Task 2: Model Development (Complete or Incomplete)\n",
    "### Task 2a: Create a Baseline CNN Model\n",
    "- Design a CNN architecture. Your architecture should use convolutional layers, max pooling layers, and dense layers. You can use any number of layers, and you can experiment with different numbers of filters, filter sizes, strides, padding, etc. The design doesn't need to be perfect, but it should be unique to you.\n",
    "- Print out the model summary."
   ]
  },
  {
   "cell_type": "code",
   "execution_count": 4,
   "id": "c9edafdaf887b8d5",
   "metadata": {
    "colab": {
     "base_uri": "https://localhost:8080/",
     "height": 440
    },
    "id": "c9edafdaf887b8d5",
    "outputId": "f86b2619-dfc4-44be-ff17-ff17af121451"
   },
   "outputs": [
    {
     "name": "stderr",
     "output_type": "stream",
     "text": [
      "/usr/local/lib/python3.10/dist-packages/keras/src/layers/convolutional/base_conv.py:107: UserWarning: Do not pass an `input_shape`/`input_dim` argument to a layer. When using Sequential models, prefer using an `Input(shape)` object as the first layer in the model instead.\n",
      "  super().__init__(activity_regularizer=activity_regularizer, **kwargs)\n"
     ]
    },
    {
     "data": {
      "text/html": [
       "<pre style=\"white-space:pre;overflow-x:auto;line-height:normal;font-family:Menlo,'DejaVu Sans Mono',consolas,'Courier New',monospace\"><span style=\"font-weight: bold\">Model: \"sequential\"</span>\n",
       "</pre>\n"
      ],
      "text/plain": [
       "\u001b[1mModel: \"sequential\"\u001b[0m\n"
      ]
     },
     "metadata": {},
     "output_type": "display_data"
    },
    {
     "data": {
      "text/html": [
       "<pre style=\"white-space:pre;overflow-x:auto;line-height:normal;font-family:Menlo,'DejaVu Sans Mono',consolas,'Courier New',monospace\">┏━━━━━━━━━━━━━━━━━━━━━━━━━━━━━━━━━━━━━━┳━━━━━━━━━━━━━━━━━━━━━━━━━━━━━┳━━━━━━━━━━━━━━━━━┓\n",
       "┃<span style=\"font-weight: bold\"> Layer (type)                         </span>┃<span style=\"font-weight: bold\"> Output Shape                </span>┃<span style=\"font-weight: bold\">         Param # </span>┃\n",
       "┡━━━━━━━━━━━━━━━━━━━━━━━━━━━━━━━━━━━━━━╇━━━━━━━━━━━━━━━━━━━━━━━━━━━━━╇━━━━━━━━━━━━━━━━━┩\n",
       "│ conv2d (<span style=\"color: #0087ff; text-decoration-color: #0087ff\">Conv2D</span>)                      │ (<span style=\"color: #00d7ff; text-decoration-color: #00d7ff\">None</span>, <span style=\"color: #00af00; text-decoration-color: #00af00\">30</span>, <span style=\"color: #00af00; text-decoration-color: #00af00\">30</span>, <span style=\"color: #00af00; text-decoration-color: #00af00\">32</span>)          │             <span style=\"color: #00af00; text-decoration-color: #00af00\">896</span> │\n",
       "├──────────────────────────────────────┼─────────────────────────────┼─────────────────┤\n",
       "│ max_pooling2d (<span style=\"color: #0087ff; text-decoration-color: #0087ff\">MaxPooling2D</span>)         │ (<span style=\"color: #00d7ff; text-decoration-color: #00d7ff\">None</span>, <span style=\"color: #00af00; text-decoration-color: #00af00\">15</span>, <span style=\"color: #00af00; text-decoration-color: #00af00\">15</span>, <span style=\"color: #00af00; text-decoration-color: #00af00\">32</span>)          │               <span style=\"color: #00af00; text-decoration-color: #00af00\">0</span> │\n",
       "├──────────────────────────────────────┼─────────────────────────────┼─────────────────┤\n",
       "│ conv2d_1 (<span style=\"color: #0087ff; text-decoration-color: #0087ff\">Conv2D</span>)                    │ (<span style=\"color: #00d7ff; text-decoration-color: #00d7ff\">None</span>, <span style=\"color: #00af00; text-decoration-color: #00af00\">13</span>, <span style=\"color: #00af00; text-decoration-color: #00af00\">13</span>, <span style=\"color: #00af00; text-decoration-color: #00af00\">64</span>)          │          <span style=\"color: #00af00; text-decoration-color: #00af00\">18,496</span> │\n",
       "├──────────────────────────────────────┼─────────────────────────────┼─────────────────┤\n",
       "│ max_pooling2d_1 (<span style=\"color: #0087ff; text-decoration-color: #0087ff\">MaxPooling2D</span>)       │ (<span style=\"color: #00d7ff; text-decoration-color: #00d7ff\">None</span>, <span style=\"color: #00af00; text-decoration-color: #00af00\">6</span>, <span style=\"color: #00af00; text-decoration-color: #00af00\">6</span>, <span style=\"color: #00af00; text-decoration-color: #00af00\">64</span>)            │               <span style=\"color: #00af00; text-decoration-color: #00af00\">0</span> │\n",
       "├──────────────────────────────────────┼─────────────────────────────┼─────────────────┤\n",
       "│ conv2d_2 (<span style=\"color: #0087ff; text-decoration-color: #0087ff\">Conv2D</span>)                    │ (<span style=\"color: #00d7ff; text-decoration-color: #00d7ff\">None</span>, <span style=\"color: #00af00; text-decoration-color: #00af00\">4</span>, <span style=\"color: #00af00; text-decoration-color: #00af00\">4</span>, <span style=\"color: #00af00; text-decoration-color: #00af00\">128</span>)           │          <span style=\"color: #00af00; text-decoration-color: #00af00\">73,856</span> │\n",
       "├──────────────────────────────────────┼─────────────────────────────┼─────────────────┤\n",
       "│ flatten (<span style=\"color: #0087ff; text-decoration-color: #0087ff\">Flatten</span>)                    │ (<span style=\"color: #00d7ff; text-decoration-color: #00d7ff\">None</span>, <span style=\"color: #00af00; text-decoration-color: #00af00\">2048</span>)                │               <span style=\"color: #00af00; text-decoration-color: #00af00\">0</span> │\n",
       "├──────────────────────────────────────┼─────────────────────────────┼─────────────────┤\n",
       "│ dense (<span style=\"color: #0087ff; text-decoration-color: #0087ff\">Dense</span>)                        │ (<span style=\"color: #00d7ff; text-decoration-color: #00d7ff\">None</span>, <span style=\"color: #00af00; text-decoration-color: #00af00\">128</span>)                 │         <span style=\"color: #00af00; text-decoration-color: #00af00\">262,272</span> │\n",
       "├──────────────────────────────────────┼─────────────────────────────┼─────────────────┤\n",
       "│ dense_1 (<span style=\"color: #0087ff; text-decoration-color: #0087ff\">Dense</span>)                      │ (<span style=\"color: #00d7ff; text-decoration-color: #00d7ff\">None</span>, <span style=\"color: #00af00; text-decoration-color: #00af00\">100</span>)                 │          <span style=\"color: #00af00; text-decoration-color: #00af00\">12,900</span> │\n",
       "└──────────────────────────────────────┴─────────────────────────────┴─────────────────┘\n",
       "</pre>\n"
      ],
      "text/plain": [
       "┏━━━━━━━━━━━━━━━━━━━━━━━━━━━━━━━━━━━━━━┳━━━━━━━━━━━━━━━━━━━━━━━━━━━━━┳━━━━━━━━━━━━━━━━━┓\n",
       "┃\u001b[1m \u001b[0m\u001b[1mLayer (type)                        \u001b[0m\u001b[1m \u001b[0m┃\u001b[1m \u001b[0m\u001b[1mOutput Shape               \u001b[0m\u001b[1m \u001b[0m┃\u001b[1m \u001b[0m\u001b[1m        Param #\u001b[0m\u001b[1m \u001b[0m┃\n",
       "┡━━━━━━━━━━━━━━━━━━━━━━━━━━━━━━━━━━━━━━╇━━━━━━━━━━━━━━━━━━━━━━━━━━━━━╇━━━━━━━━━━━━━━━━━┩\n",
       "│ conv2d (\u001b[38;5;33mConv2D\u001b[0m)                      │ (\u001b[38;5;45mNone\u001b[0m, \u001b[38;5;34m30\u001b[0m, \u001b[38;5;34m30\u001b[0m, \u001b[38;5;34m32\u001b[0m)          │             \u001b[38;5;34m896\u001b[0m │\n",
       "├──────────────────────────────────────┼─────────────────────────────┼─────────────────┤\n",
       "│ max_pooling2d (\u001b[38;5;33mMaxPooling2D\u001b[0m)         │ (\u001b[38;5;45mNone\u001b[0m, \u001b[38;5;34m15\u001b[0m, \u001b[38;5;34m15\u001b[0m, \u001b[38;5;34m32\u001b[0m)          │               \u001b[38;5;34m0\u001b[0m │\n",
       "├──────────────────────────────────────┼─────────────────────────────┼─────────────────┤\n",
       "│ conv2d_1 (\u001b[38;5;33mConv2D\u001b[0m)                    │ (\u001b[38;5;45mNone\u001b[0m, \u001b[38;5;34m13\u001b[0m, \u001b[38;5;34m13\u001b[0m, \u001b[38;5;34m64\u001b[0m)          │          \u001b[38;5;34m18,496\u001b[0m │\n",
       "├──────────────────────────────────────┼─────────────────────────────┼─────────────────┤\n",
       "│ max_pooling2d_1 (\u001b[38;5;33mMaxPooling2D\u001b[0m)       │ (\u001b[38;5;45mNone\u001b[0m, \u001b[38;5;34m6\u001b[0m, \u001b[38;5;34m6\u001b[0m, \u001b[38;5;34m64\u001b[0m)            │               \u001b[38;5;34m0\u001b[0m │\n",
       "├──────────────────────────────────────┼─────────────────────────────┼─────────────────┤\n",
       "│ conv2d_2 (\u001b[38;5;33mConv2D\u001b[0m)                    │ (\u001b[38;5;45mNone\u001b[0m, \u001b[38;5;34m4\u001b[0m, \u001b[38;5;34m4\u001b[0m, \u001b[38;5;34m128\u001b[0m)           │          \u001b[38;5;34m73,856\u001b[0m │\n",
       "├──────────────────────────────────────┼─────────────────────────────┼─────────────────┤\n",
       "│ flatten (\u001b[38;5;33mFlatten\u001b[0m)                    │ (\u001b[38;5;45mNone\u001b[0m, \u001b[38;5;34m2048\u001b[0m)                │               \u001b[38;5;34m0\u001b[0m │\n",
       "├──────────────────────────────────────┼─────────────────────────────┼─────────────────┤\n",
       "│ dense (\u001b[38;5;33mDense\u001b[0m)                        │ (\u001b[38;5;45mNone\u001b[0m, \u001b[38;5;34m128\u001b[0m)                 │         \u001b[38;5;34m262,272\u001b[0m │\n",
       "├──────────────────────────────────────┼─────────────────────────────┼─────────────────┤\n",
       "│ dense_1 (\u001b[38;5;33mDense\u001b[0m)                      │ (\u001b[38;5;45mNone\u001b[0m, \u001b[38;5;34m100\u001b[0m)                 │          \u001b[38;5;34m12,900\u001b[0m │\n",
       "└──────────────────────────────────────┴─────────────────────────────┴─────────────────┘\n"
      ]
     },
     "metadata": {},
     "output_type": "display_data"
    },
    {
     "data": {
      "text/html": [
       "<pre style=\"white-space:pre;overflow-x:auto;line-height:normal;font-family:Menlo,'DejaVu Sans Mono',consolas,'Courier New',monospace\"><span style=\"font-weight: bold\"> Total params: </span><span style=\"color: #00af00; text-decoration-color: #00af00\">368,420</span> (1.41 MB)\n",
       "</pre>\n"
      ],
      "text/plain": [
       "\u001b[1m Total params: \u001b[0m\u001b[38;5;34m368,420\u001b[0m (1.41 MB)\n"
      ]
     },
     "metadata": {},
     "output_type": "display_data"
    },
    {
     "data": {
      "text/html": [
       "<pre style=\"white-space:pre;overflow-x:auto;line-height:normal;font-family:Menlo,'DejaVu Sans Mono',consolas,'Courier New',monospace\"><span style=\"font-weight: bold\"> Trainable params: </span><span style=\"color: #00af00; text-decoration-color: #00af00\">368,420</span> (1.41 MB)\n",
       "</pre>\n"
      ],
      "text/plain": [
       "\u001b[1m Trainable params: \u001b[0m\u001b[38;5;34m368,420\u001b[0m (1.41 MB)\n"
      ]
     },
     "metadata": {},
     "output_type": "display_data"
    },
    {
     "data": {
      "text/html": [
       "<pre style=\"white-space:pre;overflow-x:auto;line-height:normal;font-family:Menlo,'DejaVu Sans Mono',consolas,'Courier New',monospace\"><span style=\"font-weight: bold\"> Non-trainable params: </span><span style=\"color: #00af00; text-decoration-color: #00af00\">0</span> (0.00 B)\n",
       "</pre>\n"
      ],
      "text/plain": [
       "\u001b[1m Non-trainable params: \u001b[0m\u001b[38;5;34m0\u001b[0m (0.00 B)\n"
      ]
     },
     "metadata": {},
     "output_type": "display_data"
    }
   ],
   "source": [
    "from keras.models import Sequential\n",
    "from keras.layers import Conv2D, MaxPooling2D, Flatten, Dense\n",
    "\n",
    "from keras.models import Sequential\n",
    "from keras.layers import Conv2D, MaxPooling2D, Flatten, Dense\n",
    "\n",
    "# Define the model\n",
    "model = Sequential([\n",
    "    Conv2D(32, (3, 3), activation='relu', input_shape=(32, 32, 3)),\n",
    "    MaxPooling2D((2, 2)),\n",
    "    Conv2D(64, (3, 3), activation='relu'),\n",
    "    MaxPooling2D((2, 2)),\n",
    "    Conv2D(128, (3, 3), activation='relu'),\n",
    "    Flatten(),\n",
    "    Dense(128, activation='relu'),\n",
    "    Dense(100, activation='softmax')  # 100 classes\n",
    "])\n",
    "\n",
    "# Print the model summary\n",
    "model.summary()\n"
   ]
  },
  {
   "cell_type": "markdown",
   "id": "546324c007c73db5",
   "metadata": {
    "collapsed": false,
    "id": "546324c007c73db5"
   },
   "source": [
    "### Task 2b: Compile the model\n",
    "\n",
    "- Select an appropriate loss function and optimizer for your model. These can be ones we have looked at already, or they can be different.\n",
    "- Briefly explain your choices (one or two sentences each).\n",
    "- <b>Loss function:</b> I chose categorical_crossentropy as the loss function since it is used for multi-class classification problems.\n",
    "- <b>Optimizer:</b> Adam is chosen as the optimizer for its efficiency in handling large datasets and adaptive learning rate."
   ]
  },
  {
   "cell_type": "code",
   "execution_count": 5,
   "id": "ab39f4ba69d684e9",
   "metadata": {
    "id": "ab39f4ba69d684e9"
   },
   "outputs": [],
   "source": [
    "from keras import optimizers\n",
    "\n",
    "from keras.optimizers import Adam\n",
    "\n",
    "# Compile the model\n",
    "model.compile(optimizer=Adam(),\n",
    "              loss='categorical_crossentropy',\n",
    "              metrics=['accuracy'])\n"
   ]
  },
  {
   "cell_type": "markdown",
   "id": "653fba928413b9f6",
   "metadata": {
    "collapsed": false,
    "id": "653fba928413b9f6"
   },
   "source": [
    "## Task 3: Model Training and Evaluation (Complete or Incomplete)\n",
    "### Task 3a: Train the Model\n",
    "\n",
    "- Train your model for an appropriate number of epochs. Explain your choice of the number of epochs used - you can change this number before submitting your assignment.\n",
    "- Use a batch size of 32.\n",
    "- Use the validation set for validation."
   ]
  },
  {
   "cell_type": "code",
   "execution_count": null,
   "id": "9de74f274ad08546",
   "metadata": {
    "colab": {
     "base_uri": "https://localhost:8080/"
    },
    "id": "9de74f274ad08546",
    "outputId": "5825009f-ffd3-4c86-b777-d30c9c8a5924"
   },
   "outputs": [
    {
     "ename": "NameError",
     "evalue": "name 'model' is not defined",
     "output_type": "error",
     "traceback": [
      "\u001b[1;31m---------------------------------------------------------------------------\u001b[0m",
      "\u001b[1;31mNameError\u001b[0m                                 Traceback (most recent call last)",
      "Cell \u001b[1;32mIn[1], line 1\u001b[0m\n\u001b[1;32m----> 1\u001b[0m history \u001b[38;5;241m=\u001b[39m \u001b[43mmodel\u001b[49m\u001b[38;5;241m.\u001b[39mfit(\n\u001b[0;32m      2\u001b[0m     x_train, y_train,\n\u001b[0;32m      3\u001b[0m     epochs\u001b[38;5;241m=\u001b[39m\u001b[38;5;241m15\u001b[39m,\n\u001b[0;32m      4\u001b[0m     batch_size\u001b[38;5;241m=\u001b[39m\u001b[38;5;241m32\u001b[39m,\n\u001b[0;32m      5\u001b[0m     validation_data\u001b[38;5;241m=\u001b[39m(x_val, y_val)\n\u001b[0;32m      6\u001b[0m )\n\u001b[0;32m      8\u001b[0m \u001b[38;5;66;03m# I chose 15 epochs as I believe this is a good number and strikes a balance between over and underfitting.\u001b[39;00m\n",
      "\u001b[1;31mNameError\u001b[0m: name 'model' is not defined"
     ]
    }
   ],
   "source": [
    "history = model.fit(\n",
    "    x_train, y_train,\n",
    "    epochs=15,\n",
    "    batch_size=32,\n",
    "    validation_data=(x_val, y_val)\n",
    ")\n",
    "\n",
    "# I chose 15 epochs as I believe this is a good number and strikes a balance between over and underfitting.\n"
   ]
  },
  {
   "cell_type": "markdown",
   "id": "b48615c26b99d2e9",
   "metadata": {
    "collapsed": false,
    "id": "b48615c26b99d2e9"
   },
   "source": [
    "### Task 3b: Accuracy and other relevant metrics on the test set\n",
    "\n",
    "- Report the accuracy of your model on the test set.\n",
    "- While accuracy is a good metric, there are many other ways to numerically evaluate a model. Report at least one other metric, and explain what it measures and how it is calculated.\n",
    "\n",
    "- <b>Accuracy:</b> 33.56%\n",
    "- <b>Other metric:</b> F1 score\n",
    "- <b>Reason for selection:</b> F1 score takes into account both precision (how many predicted classes are correct) and recall (how many identified classes are correct) which provides a clearer understanding of how well the model performs on both identifying true instances and minimizing false positives.\n",
    "- <b>Value of metric:</b> 0.334 (33.4%)\n",
    "- <b>Interpretation of metric value:</b> F1 score of 0.334 is a low score, meaning only about 1/3 of the instances are correctly classified. The model needs significant enhancement."
   ]
  },
  {
   "cell_type": "code",
   "execution_count": 7,
   "id": "f670665fda92fb0e",
   "metadata": {
    "ExecuteTime": {
     "end_time": "2024-01-26T17:49:39.016880Z",
     "start_time": "2024-01-26T17:49:39.012100Z"
    },
    "colab": {
     "base_uri": "https://localhost:8080/"
    },
    "id": "f670665fda92fb0e",
    "outputId": "3a6ca6bb-5b69-4744-a01c-df2c4b82ff9a"
   },
   "outputs": [
    {
     "name": "stdout",
     "output_type": "stream",
     "text": [
      "\u001b[1m313/313\u001b[0m \u001b[32m━━━━━━━━━━━━━━━━━━━━\u001b[0m\u001b[37m\u001b[0m \u001b[1m5s\u001b[0m 14ms/step\n",
      "Accuracy: 0.33559998869895935\n",
      "Precision, Recall, F1-Score (Macro): {'precision': 0.3509315043785078, 'recall': 0.3356, 'f1-score': 0.333960384242618, 'support': 10000.0}\n"
     ]
    }
   ],
   "source": [
    "from sklearn.metrics import classification_report\n",
    "import numpy as np\n",
    "\n",
    "# Evaluate on test data\n",
    "test_loss, test_acc = model.evaluate(x_test, y_test, verbose=0)\n",
    "y_pred = model.predict(x_test)\n",
    "y_pred_classes = np.argmax(y_pred, axis=1)\n",
    "y_true = np.argmax(y_test, axis=1)\n",
    "\n",
    "# Generate a classification report\n",
    "report = classification_report(y_true, y_pred_classes, output_dict=True)\n",
    "print(f\"Accuracy: {test_acc}\")\n",
    "print(f\"Precision, Recall, F1-Score (Macro): {report['macro avg']}\")\n"
   ]
  },
  {
   "cell_type": "markdown",
   "id": "58d2d836d4e8ce99",
   "metadata": {
    "collapsed": false,
    "id": "58d2d836d4e8ce99"
   },
   "source": [
    "### Task 3c: Visualize the model's learning\n",
    "\n",
    "- Plot the training accuracy and validation accuracy with respect to epochs.\n",
    "- Select an image that the model correctly classified in the test set, and an image that the model incorrectly classified in the test set. Plot the images and report the model's classification probabilities for each.\n",
    "- Briefly discuss the results. What do the plots show? Do the results make sense? What do the classification probabilities indicate?"
   ]
  },
  {
   "cell_type": "code",
   "execution_count": 8,
   "id": "c5b214475a496ca5",
   "metadata": {
    "ExecuteTime": {
     "end_time": "2024-01-26T17:50:59.733968Z",
     "start_time": "2024-01-26T17:50:59.730635Z"
    },
    "colab": {
     "base_uri": "https://localhost:8080/",
     "height": 564
    },
    "id": "c5b214475a496ca5",
    "outputId": "9d872168-abbb-4dce-efac-9ecba2fa33f7"
   },
   "outputs": [
    {
     "data": {
      "image/png": "[encoded data removed]",
      "text/plain": [
       "<Figure size 800x600 with 1 Axes>"
      ]
     },
     "metadata": {},
     "output_type": "display_data"
    }
   ],
   "source": [
    "# Plot training and validation accuracy\n",
    "plt.figure(figsize=(8, 6))\n",
    "plt.plot(history.history['accuracy'], label='Training Accuracy')\n",
    "plt.plot(history.history['val_accuracy'], label='Validation Accuracy')\n",
    "plt.xlabel('Epochs')\n",
    "plt.ylabel('Accuracy')\n",
    "plt.title('Training vs Validation Accuracy')\n",
    "plt.legend()\n",
    "plt.show()\n"
   ]
  },
  {
   "cell_type": "code",
   "execution_count": 14,
   "id": "muf_RPfhDJal",
   "metadata": {
    "colab": {
     "base_uri": "https://localhost:8080/",
     "height": 1000
    },
    "id": "muf_RPfhDJal",
    "outputId": "288a7c5c-92b6-493c-e09c-b5d005aa53c1"
   },
   "outputs": [
    {
     "data": {
      "image/png": "[encoded data removed]",
      "text/plain": [
       "<Figure size 600x300 with 2 Axes>"
      ]
     },
     "metadata": {},
     "output_type": "display_data"
    },
    {
     "name": "stdout",
     "output_type": "stream",
     "text": [
      "\n",
      "Correctly Classified - Prediction Probabilities:\n",
      "Class 0: 0.0000\n",
      "Class 1: 0.0004\n",
      "Class 2: 0.0001\n",
      "Class 3: 0.0030\n",
      "Class 4: 0.0001\n",
      "Class 5: 0.0000\n",
      "Class 6: 0.0012\n",
      "Class 7: 0.0001\n",
      "Class 8: 0.0013\n",
      "Class 9: 0.0001\n",
      "Class 10: 0.0000\n",
      "Class 11: 0.0001\n",
      "Class 12: 0.0003\n",
      "Class 13: 0.0000\n",
      "Class 14: 0.0004\n",
      "Class 15: 0.0002\n",
      "Class 16: 0.0000\n",
      "Class 17: 0.0000\n",
      "Class 18: 0.0119\n",
      "Class 19: 0.0009\n",
      "Class 20: 0.0000\n",
      "Class 21: 0.0001\n",
      "Class 22: 0.0000\n",
      "Class 23: 0.0000\n",
      "Class 24: 0.0000\n",
      "Class 25: 0.0000\n",
      "Class 26: 0.0000\n",
      "Class 27: 0.0008\n",
      "Class 28: 0.0000\n",
      "Class 29: 0.0013\n",
      "Class 30: 0.0000\n",
      "Class 31: 0.0092\n",
      "Class 32: 0.0011\n",
      "Class 33: 0.3833\n",
      "Class 34: 0.0069\n",
      "Class 35: 0.0000\n",
      "Class 36: 0.0000\n",
      "Class 37: 0.0002\n",
      "Class 38: 0.0141\n",
      "Class 39: 0.0000\n",
      "Class 40: 0.0000\n",
      "Class 41: 0.0000\n",
      "Class 42: 0.1688\n",
      "Class 43: 0.0006\n",
      "Class 44: 0.0012\n",
      "Class 45: 0.0049\n",
      "Class 46: 0.0004\n",
      "Class 47: 0.0004\n",
      "Class 48: 0.0000\n",
      "Class 49: 0.0000\n",
      "Class 50: 0.0045\n",
      "Class 51: 0.0035\n",
      "Class 52: 0.0000\n",
      "Class 53: 0.0000\n",
      "Class 54: 0.0000\n",
      "Class 55: 0.0034\n",
      "Class 56: 0.0209\n",
      "Class 57: 0.0001\n",
      "Class 58: 0.0000\n",
      "Class 59: 0.0025\n",
      "Class 60: 0.0000\n",
      "Class 61: 0.0000\n",
      "Class 62: 0.0000\n",
      "Class 63: 0.0025\n",
      "Class 64: 0.0001\n",
      "Class 65: 0.0151\n",
      "Class 66: 0.0199\n",
      "Class 67: 0.0001\n",
      "Class 68: 0.0044\n",
      "Class 69: 0.0000\n",
      "Class 70: 0.0000\n",
      "Class 71: 0.0000\n",
      "Class 72: 0.0002\n",
      "Class 73: 0.0000\n",
      "Class 74: 0.0037\n",
      "Class 75: 0.0000\n",
      "Class 76: 0.0000\n",
      "Class 77: 0.0004\n",
      "Class 78: 0.0001\n",
      "Class 79: 0.0059\n",
      "Class 80: 0.1758\n",
      "Class 81: 0.0000\n",
      "Class 82: 0.0000\n",
      "Class 83: 0.0000\n",
      "Class 84: 0.0000\n",
      "Class 85: 0.0000\n",
      "Class 86: 0.0000\n",
      "Class 87: 0.0000\n",
      "Class 88: 0.0418\n",
      "Class 89: 0.0002\n",
      "Class 90: 0.0001\n",
      "Class 91: 0.0001\n",
      "Class 92: 0.0000\n",
      "Class 93: 0.0001\n",
      "Class 94: 0.0000\n",
      "Class 95: 0.0000\n",
      "Class 96: 0.0348\n",
      "Class 97: 0.0460\n",
      "Class 98: 0.0000\n",
      "Class 99: 0.0000\n",
      "\n",
      "Incorrectly Classified - Prediction Probabilities:\n",
      "Class 0: 0.0000\n",
      "Class 1: 0.0000\n",
      "Class 2: 0.0016\n",
      "Class 3: 0.0003\n",
      "Class 4: 0.0010\n",
      "Class 5: 0.0002\n",
      "Class 6: 0.0000\n",
      "Class 7: 0.0020\n",
      "Class 8: 0.0003\n",
      "Class 9: 0.0001\n",
      "Class 10: 0.0001\n",
      "Class 11: 0.0009\n",
      "Class 12: 0.0001\n",
      "Class 13: 0.0000\n",
      "Class 14: 0.0001\n",
      "Class 15: 0.0000\n",
      "Class 16: 0.0000\n",
      "Class 17: 0.0000\n",
      "Class 18: 0.0000\n",
      "Class 19: 0.0002\n",
      "Class 20: 0.0000\n",
      "Class 21: 0.0000\n",
      "Class 22: 0.0001\n",
      "Class 23: 0.0004\n",
      "Class 24: 0.0002\n",
      "Class 25: 0.0000\n",
      "Class 26: 0.0000\n",
      "Class 27: 0.0000\n",
      "Class 28: 0.0000\n",
      "Class 29: 0.0001\n",
      "Class 30: 0.7317\n",
      "Class 31: 0.0000\n",
      "Class 32: 0.0021\n",
      "Class 33: 0.0002\n",
      "Class 34: 0.0041\n",
      "Class 35: 0.0007\n",
      "Class 36: 0.0000\n",
      "Class 37: 0.0000\n",
      "Class 38: 0.0013\n",
      "Class 39: 0.0001\n",
      "Class 40: 0.0007\n",
      "Class 41: 0.0007\n",
      "Class 42: 0.0001\n",
      "Class 43: 0.0001\n",
      "Class 44: 0.0035\n",
      "Class 45: 0.0000\n",
      "Class 46: 0.0033\n",
      "Class 47: 0.0000\n",
      "Class 48: 0.0000\n",
      "Class 49: 0.0108\n",
      "Class 50: 0.0001\n",
      "Class 51: 0.0000\n",
      "Class 52: 0.0000\n",
      "Class 53: 0.0000\n",
      "Class 54: 0.0000\n",
      "Class 55: 0.0258\n",
      "Class 56: 0.0071\n",
      "Class 57: 0.0000\n",
      "Class 58: 0.0000\n",
      "Class 59: 0.0002\n",
      "Class 60: 0.0000\n",
      "Class 61: 0.0000\n",
      "Class 62: 0.0000\n",
      "Class 63: 0.0000\n",
      "Class 64: 0.0000\n",
      "Class 65: 0.0051\n",
      "Class 66: 0.0001\n",
      "Class 67: 0.0011\n",
      "Class 68: 0.0000\n",
      "Class 69: 0.0017\n",
      "Class 70: 0.0000\n",
      "Class 71: 0.0065\n",
      "Class 72: 0.1062\n",
      "Class 73: 0.0562\n",
      "Class 74: 0.0001\n",
      "Class 75: 0.0031\n",
      "Class 76: 0.0018\n",
      "Class 77: 0.0010\n",
      "Class 78: 0.0003\n",
      "Class 79: 0.0044\n",
      "Class 80: 0.0003\n",
      "Class 81: 0.0000\n",
      "Class 82: 0.0002\n",
      "Class 83: 0.0000\n",
      "Class 84: 0.0002\n",
      "Class 85: 0.0000\n",
      "Class 86: 0.0000\n",
      "Class 87: 0.0001\n",
      "Class 88: 0.0000\n",
      "Class 89: 0.0001\n",
      "Class 90: 0.0007\n",
      "Class 91: 0.0016\n",
      "Class 92: 0.0000\n",
      "Class 93: 0.0004\n",
      "Class 94: 0.0000\n",
      "Class 95: 0.0056\n",
      "Class 96: 0.0000\n",
      "Class 97: 0.0020\n",
      "Class 98: 0.0002\n",
      "Class 99: 0.0003\n"
     ]
    }
   ],
   "source": [
    "# Find correctly classified image\n",
    "correct_idx = np.where(y_pred_classes == y_true)[0][0]  # First correct prediction\n",
    "incorrect_idx = np.where(y_pred_classes != y_true)[0][0]  # First incorrect prediction\n",
    "\n",
    "# Plot the correctly classified image\n",
    "plt.figure(figsize=(6, 3))\n",
    "plt.subplot(1, 2, 1)\n",
    "plt.imshow(x_test[correct_idx])\n",
    "plt.title(f\"Correctly Classified\\nTrue Label: {y_true[correct_idx]}\\nPredicted Label: {y_pred_classes[correct_idx]}\")\n",
    "\n",
    "# Plot the incorrectly classified image\n",
    "plt.subplot(1, 2, 2)\n",
    "plt.imshow(x_test[incorrect_idx])\n",
    "plt.title(f\"Incorrectly Classified\\nTrue Label: {y_true[incorrect_idx]}\\nPredicted Label: {y_pred_classes[incorrect_idx]}\")\n",
    "plt.show()\n",
    "\n",
    "# Report probabilities for the correctly classified image\n",
    "correct_probs = y_pred[correct_idx]\n",
    "print(\"\\nCorrectly Classified - Prediction Probabilities:\")\n",
    "for i, prob in enumerate(correct_probs):\n",
    "    print(f\"Class {i}: {prob:.4f}\")\n",
    "\n",
    "# Report probabilities for the incorrectly classified image\n",
    "incorrect_probs = y_pred[incorrect_idx]\n",
    "print(\"\\nIncorrectly Classified - Prediction Probabilities:\")\n",
    "for i, prob in enumerate(incorrect_probs):\n",
    "    print(f\"Class {i}: {prob:.4f}\")\n"
   ]
  },
  {
   "cell_type": "markdown",
   "id": "qfmNmKk2HoAw",
   "metadata": {
    "id": "qfmNmKk2HoAw"
   },
   "source": [
    "ANSWER: The plot above shows that while validation accuracy plateaued, the training accuracy continued to increase gradually. This shows that the model was learning from the data with each epoch. However, the upwards trajectory of the training accuracy curve shows that the model can continue to improve given more epochs. Given this plot, the relatively low accuracy and F1 scores make sense. If the model was trained over more epochs, the performance could improve. For the incorrectly classified image, the model predicted the wrong class with high confidence (73%) while the correct class was assigned a low probability (1%) indicating that the model can be significantly enhanced."
   ]
  },
  {
   "cell_type": "markdown",
   "id": "a648758ebea0561d",
   "metadata": {
    "collapsed": false,
    "id": "a648758ebea0561d"
   },
   "source": [
    "## Task 4: Model Enhancement (Complete or Incomplete)\n",
    "### Task 4a: Implementation of at least one advanced technique\n",
    "\n",
    "- Now it's time to improve your model. Implement at least one technique to improve your model's performance. You can use any of the techniques we have covered in class, or you can use a technique that we haven't covered. If you need inspiration, you can refer to the [Keras documentation](https://keras.io/).\n",
    "- Explain the technique you used and why you chose it.\n",
    "- If you used a technique that requires tuning, explain how you selected the values for the hyperparameters."
   ]
  },
  {
   "cell_type": "code",
   "execution_count": 16,
   "id": "f3659ac83122567f",
   "metadata": {
    "colab": {
     "base_uri": "https://localhost:8080/"
    },
    "id": "f3659ac83122567f",
    "outputId": "028da996-89cf-45b8-8ef5-060eaafc3973"
   },
   "outputs": [
    {
     "name": "stderr",
     "output_type": "stream",
     "text": [
      "/usr/local/lib/python3.10/dist-packages/keras/src/layers/convolutional/base_conv.py:107: UserWarning: Do not pass an `input_shape`/`input_dim` argument to a layer. When using Sequential models, prefer using an `Input(shape)` object as the first layer in the model instead.\n",
      "  super().__init__(activity_regularizer=activity_regularizer, **kwargs)\n"
     ]
    }
   ],
   "source": [
    "from keras.layers import Dropout\n",
    "from tensorflow.keras.preprocessing.image import ImageDataGenerator\n",
    "\n",
    "# Add data augmentation\n",
    "datagen = ImageDataGenerator(\n",
    "    rotation_range=15,\n",
    "    width_shift_range=0.1,\n",
    "    height_shift_range=0.1,\n",
    "    horizontal_flip=True\n",
    ")\n",
    "datagen.fit(x_train)\n",
    "\n",
    "# Enhance model with dropout\n",
    "enhanced_model = Sequential([\n",
    "    Conv2D(32, (3, 3), activation='relu', input_shape=(32, 32, 3)),\n",
    "    MaxPooling2D((2, 2)),\n",
    "    Dropout(0.2),\n",
    "    Conv2D(64, (3, 3), activation='relu'),\n",
    "    MaxPooling2D((2, 2)),\n",
    "    Dropout(0.3),\n",
    "    Conv2D(128, (3, 3), activation='relu'),\n",
    "    Flatten(),\n",
    "    Dense(128, activation='relu'),\n",
    "    Dropout(0.4),\n",
    "    Dense(100, activation='softmax')\n",
    "])\n",
    "\n",
    "enhanced_model.compile(optimizer=Adam(),\n",
    "              loss='categorical_crossentropy',\n",
    "              metrics=['accuracy'])\n"
   ]
  },
  {
   "cell_type": "markdown",
   "id": "d9467a483a1dd5d3",
   "metadata": {
    "collapsed": false,
    "id": "d9467a483a1dd5d3"
   },
   "source": [
    "### Task 4b: Evaluation of the enhanced model\n",
    "\n",
    "- Re-train your model using the same number of epochs as before.\n",
    "- Compare the accuracy and other selected metric on the test set to the results you obtained before.\n",
    "- As before, plot the training accuracy and validation accuracy with respect to epochs, and select an image that the model correctly classified in the test set, and an image that the model incorrectly classified in the test set. Plot the images and report the model's classification probabilities for each."
   ]
  },
  {
   "cell_type": "code",
   "execution_count": 17,
   "id": "7c4701b36dc8fc55",
   "metadata": {
    "colab": {
     "base_uri": "https://localhost:8080/"
    },
    "id": "7c4701b36dc8fc55",
    "outputId": "5e609368-d61c-4587-93ba-2cad4d74b389"
   },
   "outputs": [
    {
     "name": "stdout",
     "output_type": "stream",
     "text": [
      "Epoch 1/15\n"
     ]
    },
    {
     "name": "stderr",
     "output_type": "stream",
     "text": [
      "/usr/local/lib/python3.10/dist-packages/keras/src/trainers/data_adapters/py_dataset_adapter.py:122: UserWarning: Your `PyDataset` class should call `super().__init__(**kwargs)` in its constructor. `**kwargs` can include `workers`, `use_multiprocessing`, `max_queue_size`. Do not pass these arguments to `fit()`, as they will be ignored.\n",
      "  self._warn_if_super_not_called()\n"
     ]
    },
    {
     "name": "stdout",
     "output_type": "stream",
     "text": [
      "\u001b[1m1250/1250\u001b[0m \u001b[32m━━━━━━━━━━━━━━━━━━━━\u001b[0m\u001b[37m\u001b[0m \u001b[1m92s\u001b[0m 72ms/step - accuracy: 0.0283 - loss: 4.4280 - val_accuracy: 0.0822 - val_loss: 3.9766\n",
      "Epoch 2/15\n",
      "\u001b[1m1250/1250\u001b[0m \u001b[32m━━━━━━━━━━━━━━━━━━━━\u001b[0m\u001b[37m\u001b[0m \u001b[1m143s\u001b[0m 72ms/step - accuracy: 0.0871 - loss: 3.9577 - val_accuracy: 0.1429 - val_loss: 3.6164\n",
      "Epoch 3/15\n",
      "\u001b[1m1250/1250\u001b[0m \u001b[32m━━━━━━━━━━━━━━━━━━━━\u001b[0m\u001b[37m\u001b[0m \u001b[1m143s\u001b[0m 73ms/step - accuracy: 0.1215 - loss: 3.7254 - val_accuracy: 0.1722 - val_loss: 3.4878\n",
      "Epoch 4/15\n",
      "\u001b[1m1250/1250\u001b[0m \u001b[32m━━━━━━━━━━━━━━━━━━━━\u001b[0m\u001b[37m\u001b[0m \u001b[1m140s\u001b[0m 72ms/step - accuracy: 0.1451 - loss: 3.5920 - val_accuracy: 0.2032 - val_loss: 3.2807\n",
      "Epoch 5/15\n",
      "\u001b[1m1250/1250\u001b[0m \u001b[32m━━━━━━━━━━━━━━━━━━━━\u001b[0m\u001b[37m\u001b[0m \u001b[1m92s\u001b[0m 73ms/step - accuracy: 0.1610 - loss: 3.4942 - val_accuracy: 0.2151 - val_loss: 3.2191\n",
      "Epoch 6/15\n",
      "\u001b[1m1250/1250\u001b[0m \u001b[32m━━━━━━━━━━━━━━━━━━━━\u001b[0m\u001b[37m\u001b[0m \u001b[1m90s\u001b[0m 72ms/step - accuracy: 0.1737 - loss: 3.4447 - val_accuracy: 0.2309 - val_loss: 3.1365\n",
      "Epoch 7/15\n",
      "\u001b[1m1250/1250\u001b[0m \u001b[32m━━━━━━━━━━━━━━━━━━━━\u001b[0m\u001b[37m\u001b[0m \u001b[1m91s\u001b[0m 72ms/step - accuracy: 0.1834 - loss: 3.3766 - val_accuracy: 0.2463 - val_loss: 3.0642\n",
      "Epoch 8/15\n",
      "\u001b[1m1250/1250\u001b[0m \u001b[32m━━━━━━━━━━━━━━━━━━━━\u001b[0m\u001b[37m\u001b[0m \u001b[1m92s\u001b[0m 74ms/step - accuracy: 0.1966 - loss: 3.3123 - val_accuracy: 0.2623 - val_loss: 2.9873\n",
      "Epoch 9/15\n",
      "\u001b[1m1250/1250\u001b[0m \u001b[32m━━━━━━━━━━━━━━━━━━━━\u001b[0m\u001b[37m\u001b[0m \u001b[1m93s\u001b[0m 74ms/step - accuracy: 0.2032 - loss: 3.2822 - val_accuracy: 0.2738 - val_loss: 2.9479\n",
      "Epoch 10/15\n",
      "\u001b[1m1250/1250\u001b[0m \u001b[32m━━━━━━━━━━━━━━━━━━━━\u001b[0m\u001b[37m\u001b[0m \u001b[1m141s\u001b[0m 73ms/step - accuracy: 0.2136 - loss: 3.2349 - val_accuracy: 0.2702 - val_loss: 2.9108\n",
      "Epoch 11/15\n",
      "\u001b[1m1250/1250\u001b[0m \u001b[32m━━━━━━━━━━━━━━━━━━━━\u001b[0m\u001b[37m\u001b[0m \u001b[1m141s\u001b[0m 72ms/step - accuracy: 0.2232 - loss: 3.1855 - val_accuracy: 0.2807 - val_loss: 2.8959\n",
      "Epoch 12/15\n",
      "\u001b[1m1250/1250\u001b[0m \u001b[32m━━━━━━━━━━━━━━━━━━━━\u001b[0m\u001b[37m\u001b[0m \u001b[1m92s\u001b[0m 74ms/step - accuracy: 0.2297 - loss: 3.1579 - val_accuracy: 0.2801 - val_loss: 2.8603\n",
      "Epoch 13/15\n",
      "\u001b[1m1250/1250\u001b[0m \u001b[32m━━━━━━━━━━━━━━━━━━━━\u001b[0m\u001b[37m\u001b[0m \u001b[1m91s\u001b[0m 72ms/step - accuracy: 0.2319 - loss: 3.1240 - val_accuracy: 0.3023 - val_loss: 2.7933\n",
      "Epoch 14/15\n",
      "\u001b[1m1250/1250\u001b[0m \u001b[32m━━━━━━━━━━━━━━━━━━━━\u001b[0m\u001b[37m\u001b[0m \u001b[1m144s\u001b[0m 74ms/step - accuracy: 0.2347 - loss: 3.1081 - val_accuracy: 0.2962 - val_loss: 2.8022\n",
      "Epoch 15/15\n",
      "\u001b[1m1250/1250\u001b[0m \u001b[32m━━━━━━━━━━━━━━━━━━━━\u001b[0m\u001b[37m\u001b[0m \u001b[1m139s\u001b[0m 72ms/step - accuracy: 0.2375 - loss: 3.0927 - val_accuracy: 0.3017 - val_loss: 2.7936\n"
     ]
    }
   ],
   "source": [
    "# Re-train the enhanced model using the same number of epochs\n",
    "history_enhanced = enhanced_model.fit(\n",
    "    datagen.flow(x_train, y_train, batch_size=32),  # Data augmentation applied\n",
    "    epochs=15,  # Same as before\n",
    "    validation_data=(x_val, y_val)\n",
    ")"
   ]
  },
  {
   "cell_type": "code",
   "execution_count": 18,
   "id": "8mFQ4k8eKUoT",
   "metadata": {
    "colab": {
     "base_uri": "https://localhost:8080/"
    },
    "id": "8mFQ4k8eKUoT",
    "outputId": "4e8534fc-812a-46ff-de7e-5d563553fe31"
   },
   "outputs": [
    {
     "name": "stdout",
     "output_type": "stream",
     "text": [
      "Enhanced Model Test Accuracy: 0.2995\n",
      "\u001b[1m313/313\u001b[0m \u001b[32m━━━━━━━━━━━━━━━━━━━━\u001b[0m\u001b[37m\u001b[0m \u001b[1m13s\u001b[0m 40ms/step\n",
      "Enhanced Model Macro F1-Score: 0.2815\n"
     ]
    }
   ],
   "source": [
    "# Evaluate on the test set\n",
    "test_loss_enhanced, test_acc_enhanced = enhanced_model.evaluate(x_test, y_test, verbose=0)\n",
    "print(f\"Enhanced Model Test Accuracy: {test_acc_enhanced:.4f}\")\n",
    "\n",
    "# Calculate other metrics, e.g., F1-score\n",
    "from sklearn.metrics import classification_report\n",
    "\n",
    "y_pred_enhanced = enhanced_model.predict(x_test)\n",
    "y_pred_classes_enhanced = np.argmax(y_pred_enhanced, axis=1)\n",
    "y_true_classes = np.argmax(y_test, axis=1)\n",
    "\n",
    "# Generate classification report\n",
    "report_enhanced = classification_report(y_true_classes, y_pred_classes_enhanced, output_dict=True)\n",
    "f1_score_enhanced = report_enhanced['macro avg']['f1-score']\n",
    "\n",
    "print(f\"Enhanced Model Macro F1-Score: {f1_score_enhanced:.4f}\")\n"
   ]
  },
  {
   "cell_type": "code",
   "execution_count": 19,
   "id": "LPBWuKbyKW_l",
   "metadata": {
    "colab": {
     "base_uri": "https://localhost:8080/",
     "height": 564
    },
    "id": "LPBWuKbyKW_l",
    "outputId": "5ddc3cd0-d9dd-42da-8eac-7e2b3a5eccea"
   },
   "outputs": [
    {
     "data": {
      "image/png": "[encoded data removed]",
      "text/plain": [
       "<Figure size 800x600 with 1 Axes>"
      ]
     },
     "metadata": {},
     "output_type": "display_data"
    }
   ],
   "source": [
    "# Plot training and validation accuracy\n",
    "plt.figure(figsize=(8, 6))\n",
    "plt.plot(history_enhanced.history['accuracy'], label='Training Accuracy (Enhanced)')\n",
    "plt.plot(history_enhanced.history['val_accuracy'], label='Validation Accuracy (Enhanced)')\n",
    "plt.xlabel('Epochs')\n",
    "plt.ylabel('Accuracy')\n",
    "plt.title('Training vs Validation Accuracy (Enhanced Model)')\n",
    "plt.legend()\n",
    "plt.show()\n"
   ]
  },
  {
   "cell_type": "code",
   "execution_count": 20,
   "id": "dMMu8as4KZpu",
   "metadata": {
    "colab": {
     "base_uri": "https://localhost:8080/",
     "height": 1000
    },
    "id": "dMMu8as4KZpu",
    "outputId": "2f34285e-cb84-48b2-8126-a7a1c7662673"
   },
   "outputs": [
    {
     "data": {
      "image/png": "[encoded data removed]",
      "text/plain": [
       "<Figure size 600x300 with 2 Axes>"
      ]
     },
     "metadata": {},
     "output_type": "display_data"
    },
    {
     "name": "stdout",
     "output_type": "stream",
     "text": [
      "\n",
      "Correctly Classified - Prediction Probabilities:\n",
      "Class 0: 0.0000\n",
      "Class 1: 0.0008\n",
      "Class 2: 0.0006\n",
      "Class 3: 0.0014\n",
      "Class 4: 0.0037\n",
      "Class 5: 0.0007\n",
      "Class 6: 0.0002\n",
      "Class 7: 0.0002\n",
      "Class 8: 0.0234\n",
      "Class 9: 0.0004\n",
      "Class 10: 0.0005\n",
      "Class 11: 0.0005\n",
      "Class 12: 0.0046\n",
      "Class 13: 0.0003\n",
      "Class 14: 0.0002\n",
      "Class 15: 0.0011\n",
      "Class 16: 0.0001\n",
      "Class 17: 0.0003\n",
      "Class 18: 0.0037\n",
      "Class 19: 0.0020\n",
      "Class 20: 0.0000\n",
      "Class 21: 0.0008\n",
      "Class 22: 0.0006\n",
      "Class 23: 0.0001\n",
      "Class 24: 0.0000\n",
      "Class 25: 0.0013\n",
      "Class 26: 0.0008\n",
      "Class 27: 0.0199\n",
      "Class 28: 0.0007\n",
      "Class 29: 0.0069\n",
      "Class 30: 0.0008\n",
      "Class 31: 0.0050\n",
      "Class 32: 0.0035\n",
      "Class 33: 0.2784\n",
      "Class 34: 0.0061\n",
      "Class 35: 0.0008\n",
      "Class 36: 0.0005\n",
      "Class 37: 0.0037\n",
      "Class 38: 0.0095\n",
      "Class 39: 0.0057\n",
      "Class 40: 0.0003\n",
      "Class 41: 0.0003\n",
      "Class 42: 0.0589\n",
      "Class 43: 0.0007\n",
      "Class 44: 0.0070\n",
      "Class 45: 0.0053\n",
      "Class 46: 0.0007\n",
      "Class 47: 0.0097\n",
      "Class 48: 0.0003\n",
      "Class 49: 0.0001\n",
      "Class 50: 0.0068\n",
      "Class 51: 0.0055\n",
      "Class 52: 0.0023\n",
      "Class 53: 0.0000\n",
      "Class 54: 0.0001\n",
      "Class 55: 0.0060\n",
      "Class 56: 0.0355\n",
      "Class 57: 0.0001\n",
      "Class 58: 0.0001\n",
      "Class 59: 0.0704\n",
      "Class 60: 0.0000\n",
      "Class 61: 0.0004\n",
      "Class 62: 0.0000\n",
      "Class 63: 0.0208\n",
      "Class 64: 0.0036\n",
      "Class 65: 0.0083\n",
      "Class 66: 0.0069\n",
      "Class 67: 0.0034\n",
      "Class 68: 0.0223\n",
      "Class 69: 0.0001\n",
      "Class 70: 0.0000\n",
      "Class 71: 0.0000\n",
      "Class 72: 0.0024\n",
      "Class 73: 0.0002\n",
      "Class 74: 0.0423\n",
      "Class 75: 0.0001\n",
      "Class 76: 0.0002\n",
      "Class 77: 0.0027\n",
      "Class 78: 0.0060\n",
      "Class 79: 0.0222\n",
      "Class 80: 0.0501\n",
      "Class 81: 0.0024\n",
      "Class 82: 0.0004\n",
      "Class 83: 0.0000\n",
      "Class 84: 0.0017\n",
      "Class 85: 0.0008\n",
      "Class 86: 0.0003\n",
      "Class 87: 0.0001\n",
      "Class 88: 0.0113\n",
      "Class 89: 0.0034\n",
      "Class 90: 0.0028\n",
      "Class 91: 0.0013\n",
      "Class 92: 0.0000\n",
      "Class 93: 0.0057\n",
      "Class 94: 0.0001\n",
      "Class 95: 0.0000\n",
      "Class 96: 0.1538\n",
      "Class 97: 0.0189\n",
      "Class 98: 0.0006\n",
      "Class 99: 0.0044\n",
      "\n",
      "Incorrectly Classified - Prediction Probabilities:\n",
      "Class 0: 0.0000\n",
      "Class 1: 0.0008\n",
      "Class 2: 0.0008\n",
      "Class 3: 0.0015\n",
      "Class 4: 0.0031\n",
      "Class 5: 0.0044\n",
      "Class 6: 0.0000\n",
      "Class 7: 0.0010\n",
      "Class 8: 0.0716\n",
      "Class 9: 0.0030\n",
      "Class 10: 0.0026\n",
      "Class 11: 0.0004\n",
      "Class 12: 0.1775\n",
      "Class 13: 0.0045\n",
      "Class 14: 0.0000\n",
      "Class 15: 0.0008\n",
      "Class 16: 0.0012\n",
      "Class 17: 0.0017\n",
      "Class 18: 0.0018\n",
      "Class 19: 0.0005\n",
      "Class 20: 0.0019\n",
      "Class 21: 0.0009\n",
      "Class 22: 0.0016\n",
      "Class 23: 0.0077\n",
      "Class 24: 0.0002\n",
      "Class 25: 0.0042\n",
      "Class 26: 0.0022\n",
      "Class 27: 0.0173\n",
      "Class 28: 0.0014\n",
      "Class 29: 0.0060\n",
      "Class 30: 0.0955\n",
      "Class 31: 0.0005\n",
      "Class 32: 0.0041\n",
      "Class 33: 0.0023\n",
      "Class 34: 0.0002\n",
      "Class 35: 0.0001\n",
      "Class 36: 0.0000\n",
      "Class 37: 0.0096\n",
      "Class 38: 0.0009\n",
      "Class 39: 0.0286\n",
      "Class 40: 0.0058\n",
      "Class 41: 0.0010\n",
      "Class 42: 0.0003\n",
      "Class 43: 0.0000\n",
      "Class 44: 0.0111\n",
      "Class 45: 0.0030\n",
      "Class 46: 0.0018\n",
      "Class 47: 0.0006\n",
      "Class 48: 0.0336\n",
      "Class 49: 0.0539\n",
      "Class 50: 0.0004\n",
      "Class 51: 0.0001\n",
      "Class 52: 0.0001\n",
      "Class 53: 0.0000\n",
      "Class 54: 0.0001\n",
      "Class 55: 0.0211\n",
      "Class 56: 0.0052\n",
      "Class 57: 0.0000\n",
      "Class 58: 0.0076\n",
      "Class 59: 0.0062\n",
      "Class 60: 0.0002\n",
      "Class 61: 0.0009\n",
      "Class 62: 0.0000\n",
      "Class 63: 0.0000\n",
      "Class 64: 0.0008\n",
      "Class 65: 0.0006\n",
      "Class 66: 0.0009\n",
      "Class 67: 0.0038\n",
      "Class 68: 0.0024\n",
      "Class 69: 0.0236\n",
      "Class 70: 0.0000\n",
      "Class 71: 0.0134\n",
      "Class 72: 0.0211\n",
      "Class 73: 0.0221\n",
      "Class 74: 0.0016\n",
      "Class 75: 0.0010\n",
      "Class 76: 0.0055\n",
      "Class 77: 0.0006\n",
      "Class 78: 0.0042\n",
      "Class 79: 0.0102\n",
      "Class 80: 0.0009\n",
      "Class 81: 0.0088\n",
      "Class 82: 0.0002\n",
      "Class 83: 0.0000\n",
      "Class 84: 0.0029\n",
      "Class 85: 0.0183\n",
      "Class 86: 0.0053\n",
      "Class 87: 0.0014\n",
      "Class 88: 0.0000\n",
      "Class 89: 0.0015\n",
      "Class 90: 0.0137\n",
      "Class 91: 0.0052\n",
      "Class 92: 0.0000\n",
      "Class 93: 0.0087\n",
      "Class 94: 0.0000\n",
      "Class 95: 0.1941\n",
      "Class 96: 0.0007\n",
      "Class 97: 0.0007\n",
      "Class 98: 0.0002\n",
      "Class 99: 0.0098\n"
     ]
    }
   ],
   "source": [
    "# Find indices of correctly and incorrectly classified test images\n",
    "correct_idx_enhanced = np.where(y_pred_classes_enhanced == y_true_classes)[0][0]\n",
    "incorrect_idx_enhanced = np.where(y_pred_classes_enhanced != y_true_classes)[0][0]\n",
    "\n",
    "# Plot the images\n",
    "plt.figure(figsize=(6, 3))\n",
    "# Correctly classified image\n",
    "plt.subplot(1, 2, 1)\n",
    "plt.imshow(x_test[correct_idx_enhanced])\n",
    "plt.title(f\"Correctly Classified\\nTrue Label: {y_true_classes[correct_idx_enhanced]}\\nPredicted Label: {y_pred_classes_enhanced[correct_idx_enhanced]}\")\n",
    "\n",
    "# Incorrectly classified image\n",
    "plt.subplot(1, 2, 2)\n",
    "plt.imshow(x_test[incorrect_idx_enhanced])\n",
    "plt.title(f\"Incorrectly Classified\\nTrue Label: {y_true_classes[incorrect_idx_enhanced]}\\nPredicted Label: {y_pred_classes_enhanced[incorrect_idx_enhanced]}\")\n",
    "plt.show()\n",
    "\n",
    "# Correctly classified image probabilities\n",
    "correct_probs_enhanced = y_pred_enhanced[correct_idx_enhanced]\n",
    "print(\"\\nCorrectly Classified - Prediction Probabilities:\")\n",
    "for i, prob in enumerate(correct_probs_enhanced):\n",
    "    print(f\"Class {i}: {prob:.4f}\")\n",
    "\n",
    "# Incorrectly classified image probabilities\n",
    "incorrect_probs_enhanced = y_pred_enhanced[incorrect_idx_enhanced]\n",
    "print(\"\\nIncorrectly Classified - Prediction Probabilities:\")\n",
    "for i, prob in enumerate(incorrect_probs_enhanced):\n",
    "    print(f\"Class {i}: {prob:.4f}\")\n"
   ]
  },
  {
   "cell_type": "markdown",
   "id": "eadfc848700215e8",
   "metadata": {
    "collapsed": false,
    "id": "eadfc848700215e8"
   },
   "source": [
    "### Task 4c: Discussion of the results\n",
    "\n",
    "- Briefly discuss the results.\n",
    "- Did the model's performance improve?\n",
    "- Why do you think this is?\n",
    "- Do you think there is room for further improvement? Why or why not?\n",
    "- What other techniques might you try in the future?\n",
    "- Your answer should be no more than 200 words.\n",
    "\n",
    "# Your answer here\n",
    "The model’s performance decreased, with accuracy and F1-score dropping to around 28%, compared to the baseline’s 33.56% accuracy and 33.39% F1-score. This decline is likely due to excessive regularization (e.g., too much dropout) and overly aggressive data augmentation. While regularization and augmentation are intended to prevent overfitting, they can lead to underfitting, as seen in the low training and validation accuracy. Data augmentation might have distorted critical features in the small CIFAR-100 images (32x32 pixels), making it harder for the model to learn meaningful patterns.\n",
    "\n",
    "There is room for improvement. Refining augmentation techniques, such as using subtle transformations (e.g., minor shifts or flips), could help preserve image details. Reducing dropout rates or selectively applying them to specific layers may improve the model's learning capacity. Tuning hyperparameters like the learning rate and increasing the number of filters in convolutional layers could also enhance performance.\n",
    "\n",
    "In the future, I would explore pretrained models like ResNet or VGG, which leverage prior knowledge and are well-suited for complex datasets. Fine-tuning these models or using transfer learning could improve feature extraction and overall performance on CIFAR-100."
   ]
  },
  {
   "cell_type": "markdown",
   "id": "7415f68f",
   "metadata": {
    "id": "7415f68f"
   },
   "source": [
    "## Criteria\n",
    "\n",
    "|Criteria|Complete|Incomplete|\n",
    "|----|----|----|\n",
    "|Task 1|The task has been completed successfully and there are no errors.|The task is still incomplete and there is at least one error.|\n",
    "|Task 2|The task has been completed successfully and there are no errors.|The task is still incomplete and there is at least one error.|\n",
    "|Task 3|The task has been completed successfully and there are no errors.|The task is still incomplete and there is at least one error.|\n",
    "|Task 4|The task has been completed successfully and there are no errors.|The task is still incomplete and there is at least one error.|"
   ]
  },
  {
   "cell_type": "markdown",
   "id": "ad0c10bc",
   "metadata": {
    "id": "ad0c10bc"
   },
   "source": [
    "## Submission Information\n",
    "\n",
    "🚨 **Please review our [Assignment Submission Guide](https://github.com/UofT-DSI/onboarding/blob/main/onboarding_documents/submissions.md)** 🚨 for detailed instructions on how to format, branch, and submit your work. Following these guidelines is crucial for your submissions to be evaluated correctly.\n",
    "\n",
    "### Submission Parameters:\n",
    "* Submission Due Date: `HH:MM AM/PM - DD/MM/YYYY`\n",
    "* The branch name for your repo should be: `assignment-1`\n",
    "* What to submit for this assignment:\n",
    "    * This Jupyter Notebook (assignment_1.ipynb) should be populated and should be the only change in your pull request.\n",
    "* What the pull request link should look like for this assignment: `https://github.com/<your_github_username>/deep_learning/pull/<pr_id>`\n",
    "    * Open a private window in your browser. Copy and paste the link to your pull request into the address bar. Make sure you can see your pull request properly. This helps the technical facilitator and learning support staff review your submission easily.\n",
    "\n",
    "Checklist:\n",
    "- [ ] Created a branch with the correct naming convention.\n",
    "- [ ] Ensured that the repository is public.\n",
    "- [ ] Reviewed the PR description guidelines and adhered to them.\n",
    "- [ ] Verify that the link is accessible in a private browser window.\n",
    "\n",
    "If you encounter any difficulties or have questions, please don't hesitate to reach out to our team via our Slack at `#cohort-3-help`. Our Technical Facilitators and Learning Support staff are here to help you navigate any challenges."
   ]
  }
 ],
 "metadata": {
  "colab": {
   "provenance": []
  },
  "kernelspec": {
   "display_name": "dsi_participant",
   "language": "python",
   "name": "python3"
  },
  "language_info": {
   "codemirror_mode": {
    "name": "ipython",
    "version": 3
   },
   "file_extension": ".py",
   "mimetype": "text/x-python",
   "name": "python",
   "nbconvert_exporter": "python",
   "pygments_lexer": "ipython3",
   "version": "3.9.15"
  }
 },
 "nbformat": 4,
 "nbformat_minor": 5
}
